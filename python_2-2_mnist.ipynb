{
  "cells": [
    {
      "cell_type": "markdown",
      "metadata": {
        "id": "view-in-github",
        "colab_type": "text"
      },
      "source": [
        "<a href=\"https://colab.research.google.com/github/kytk/AI-MAILs-2022/blob/main/python_2-2_mnist.ipynb\" target=\"_parent\"><img src=\"https://colab.research.google.com/assets/colab-badge.svg\" alt=\"Open In Colab\"/></a>"
      ]
    },
    {
      "cell_type": "markdown",
      "metadata": {
        "id": "wq1rctd9cTZl"
      },
      "source": [
        "# AI-MAILs\n",
        "## 深層学習入門: 手書き数字の分類\n",
        "\n",
        "Ver. 20220807"
      ]
    },
    {
      "cell_type": "markdown",
      "metadata": {
        "id": "FA01hVoUcTZo"
      },
      "source": [
        "## 本セクションの目標\n",
        "- MNISTデータセットを用いて手書き数字の分類を行うことで、どのように深層学習を実装するかを学ぶ"
      ]
    },
    {
      "cell_type": "markdown",
      "metadata": {
        "id": "YoYcyBiBcTZp"
      },
      "source": [
        "## 目次\n",
        "- A. MNISTデータセット\n",
        "- B. Tensorflow/Keras を用いた深層学習の実装 (全結合層)\n",
        "- C. 学習の可視化 \n",
        "- D. ハイパーパラメータ\n",
        "- E. 畳み込みニューラルネットワーク"
      ]
    },
    {
      "cell_type": "markdown",
      "metadata": {
        "id": "pCtPaGjTcTZp"
      },
      "source": [
        "## A. MNISTデータセット\n",
        "- NIST (National Institute of Standards and Technology) が保有していたデータセットを再構成したデータベース\n",
        "- 60,000枚の訓練用画像と10,000枚の評価用画像が含まれている\n",
        "\n",
        "| <img src=\"https://www.nemotos.net/nb/img/MnistExamples.png\" width=\"500\"> |\n",
        "| --: |\n",
        "| Wikipediaより引用 |"
      ]
    },
    {
      "cell_type": "markdown",
      "metadata": {
        "id": "SwiyJfcAcTZq"
      },
      "source": [
        "## B. Tensorflow/Keras を用いた深層学習の実装 (全結合層)\n",
        "- 深層学習を実装する手順は以下となる\n",
        "\n",
        "| <img src=\"https://www.nemotos.net/nb/img/dl_flow.png\" width=\"500\"> |\n",
        "| --: |\n",
        "| 動かしながら学ぶPyTorchプログラミング入門より引用 |\n",
        "\n",
        "- この流れに従っていく\n",
        "\n",
        "- まずは、基本である「全結合層」のみを用いた識別を行い、その後、「畳みこみニューラルネットワーク」を用いた識別を行う"
      ]
    },
    {
      "cell_type": "markdown",
      "metadata": {
        "id": "f3V7m5YWcTZq"
      },
      "source": [
        "### 1. 必要なパッケージのインポート\n",
        "- 今回必要なパッケージは以下\n",
        "    - numpy\n",
        "    - matplotlib\n",
        "    - tensorflow\n",
        "        - keras は tensorflow 2.0 から tensorflow の中に取り込まれた"
      ]
    },
    {
      "cell_type": "code",
      "execution_count": 1,
      "metadata": {
        "id": "lj68M5PUcTZr"
      },
      "outputs": [],
      "source": [
        "# 必要なパッケージ、モジュールのインポート\n",
        "\n",
        "# NumPy\n",
        "import numpy as np\n",
        "\n",
        "# Matplotlib\n",
        "import matplotlib.pyplot as plt\n",
        "\n",
        "# keras (Tensorflowのフロントエンド)\n",
        "from tensorflow import keras\n",
        "\n",
        "# layers と Sequential (層を定義し、層をつなげるために使用)\n",
        "from tensorflow.keras import layers\n",
        "from tensorflow.keras.models import Sequential\n",
        "\n",
        "# ラベルを one-hotベクトルに変換する関数 to_categorical()\n",
        "from tensorflow.keras.utils import to_categorical"
      ]
    },
    {
      "cell_type": "markdown",
      "metadata": {
        "id": "G0BWLynrcTZs"
      },
      "source": [
        "### 2. データの前処理\n",
        "- MNISTの画像データはひとつひとつのピクセルの値が0-255の値をとる\n",
        "- これを0-1の値をとるように変換する\n",
        "\n",
        "#### 2.1. データの読み込みと確認"
      ]
    },
    {
      "cell_type": "code",
      "execution_count": 2,
      "metadata": {
        "id": "tbpCnqKscTZt"
      },
      "outputs": [],
      "source": [
        "# tensorflow の中に mnist データセットが既に入っている\n",
        "from tensorflow.keras.datasets import mnist"
      ]
    },
    {
      "cell_type": "code",
      "execution_count": 3,
      "metadata": {
        "id": "JIb5aBq0cTZt",
        "colab": {
          "base_uri": "https://localhost:8080/"
        },
        "outputId": "94a20492-5de7-4b7c-d39e-182cab556c98"
      },
      "outputs": [
        {
          "output_type": "stream",
          "name": "stdout",
          "text": [
            "Downloading data from https://storage.googleapis.com/tensorflow/tf-keras-datasets/mnist.npz\n",
            "11493376/11490434 [==============================] - 0s 0us/step\n",
            "11501568/11490434 [==============================] - 0s 0us/step\n"
          ]
        }
      ],
      "source": [
        "# mnist.load_data() で訓練データとテストデータにわけて格納する\n",
        "# mnistは、訓練データとテストデータがそれぞれタプルにわかれて入っている\n",
        "# 訓練データの画像を train_images, 正解ラベルを train_labels に格納する\n",
        "# テストデータも同じ\n",
        "(train_images, train_labels), (test_images, test_labels) = mnist.load_data()"
      ]
    },
    {
      "cell_type": "code",
      "execution_count": 4,
      "metadata": {
        "id": "6niJKGkScTZu",
        "colab": {
          "base_uri": "https://localhost:8080/"
        },
        "outputId": "9621c925-f765-46c5-de40-a3adaf91b60a"
      },
      "outputs": [
        {
          "output_type": "execute_result",
          "data": {
            "text/plain": [
              "numpy.ndarray"
            ]
          },
          "metadata": {},
          "execution_count": 4
        }
      ],
      "source": [
        "# train_images について確認する\n",
        "# まず、型から確認\n",
        "# numpy.ndarray型\n",
        "type(train_images)"
      ]
    },
    {
      "cell_type": "code",
      "execution_count": 5,
      "metadata": {
        "id": "FuwhQihBcTZu",
        "colab": {
          "base_uri": "https://localhost:8080/"
        },
        "outputId": "3e537e97-e46d-49ea-d83c-10a96683fe18"
      },
      "outputs": [
        {
          "output_type": "execute_result",
          "data": {
            "text/plain": [
              "(60000, 28, 28)"
            ]
          },
          "metadata": {},
          "execution_count": 5
        }
      ],
      "source": [
        "# shape\n",
        "# 60000枚の画像、1枚の画像は 28 x 28 で構成\n",
        "train_images.shape"
      ]
    },
    {
      "cell_type": "code",
      "execution_count": 6,
      "metadata": {
        "id": "cNBe6385cTZu",
        "colab": {
          "base_uri": "https://localhost:8080/",
          "height": 281
        },
        "outputId": "577af641-03c5-41cb-d045-4ccb9ad2a86d"
      },
      "outputs": [
        {
          "output_type": "display_data",
          "data": {
            "text/plain": [
              "<Figure size 72x72 with 1 Axes>"
            ],
            "image/png": "[encoded data removed]"
          },
          "metadata": {
            "needs_background": "light"
          }
        },
        {
          "output_type": "display_data",
          "data": {
            "text/plain": [
              "<Figure size 72x72 with 1 Axes>"
            ],
            "image/png": "[encoded data removed]"
          },
          "metadata": {
            "needs_background": "light"
          }
        },
        {
          "output_type": "display_data",
          "data": {
            "text/plain": [
              "<Figure size 72x72 with 1 Axes>"
            ],
            "image/png": "[encoded data removed]"
          },
          "metadata": {
            "needs_background": "light"
          }
        }
      ],
      "source": [
        "# plt.imshow() を使って実際の画像を確認\n",
        "# for を使って、最初の3人分のデータを見る\n",
        "for i in range(3):\n",
        "    plt.figure(figsize=(1,1))\n",
        "    plt.imshow(train_images[i], cmap='gray')\n",
        "    plt.show()\n",
        "    "
      ]
    },
    {
      "cell_type": "code",
      "execution_count": 7,
      "metadata": {
        "id": "OtJ5I-DwcTZv",
        "colab": {
          "base_uri": "https://localhost:8080/"
        },
        "outputId": "94900b2e-af44-4925-ba4c-2f23e5f1977f"
      },
      "outputs": [
        {
          "output_type": "execute_result",
          "data": {
            "text/plain": [
              "array([5, 0, 4], dtype=uint8)"
            ]
          },
          "metadata": {},
          "execution_count": 7
        }
      ],
      "source": [
        "# train_labels の内容を確認\n",
        "# スライシングで train_labels の最初の3つのラベルを取り出す\n",
        "# 画像とラベルが一致していることを確認\n",
        "train_labels[0:3]"
      ]
    },
    {
      "cell_type": "code",
      "execution_count": 8,
      "metadata": {
        "id": "ahoD72qOcTZv",
        "colab": {
          "base_uri": "https://localhost:8080/"
        },
        "outputId": "cccd2d83-da03-45e8-94a4-43d0515b5079"
      },
      "outputs": [
        {
          "output_type": "execute_result",
          "data": {
            "text/plain": [
              "(60000,)"
            ]
          },
          "metadata": {},
          "execution_count": 8
        }
      ],
      "source": [
        "# train_labels の shape を確認\n",
        "# 60000 のデータがある1次元のデータ\n",
        "train_labels.shape"
      ]
    },
    {
      "cell_type": "code",
      "execution_count": 9,
      "metadata": {
        "id": "sGZs2lzxcTZv",
        "colab": {
          "base_uri": "https://localhost:8080/"
        },
        "outputId": "434695d2-1c14-4a7b-c673-3665f4c20532"
      },
      "outputs": [
        {
          "output_type": "execute_result",
          "data": {
            "text/plain": [
              "(10000, 28, 28)"
            ]
          },
          "metadata": {},
          "execution_count": 9
        }
      ],
      "source": [
        "# 同様にテストデータも確認\n",
        "# shape\n",
        "# 10,000枚の画像、1枚の画像は 28 x 28 で構成\n",
        "test_images.shape"
      ]
    },
    {
      "cell_type": "code",
      "execution_count": 10,
      "metadata": {
        "scrolled": true,
        "id": "D1QeVihlcTZw",
        "colab": {
          "base_uri": "https://localhost:8080/",
          "height": 281
        },
        "outputId": "58083702-d765-4769-bfc0-0ac4571f0f10"
      },
      "outputs": [
        {
          "output_type": "display_data",
          "data": {
            "text/plain": [
              "<Figure size 72x72 with 1 Axes>"
            ],
            "image/png": "[encoded data removed]"
          },
          "metadata": {
            "needs_background": "light"
          }
        },
        {
          "output_type": "display_data",
          "data": {
            "text/plain": [
              "<Figure size 72x72 with 1 Axes>"
            ],
            "image/png": "[encoded data removed]"
          },
          "metadata": {
            "needs_background": "light"
          }
        },
        {
          "output_type": "display_data",
          "data": {
            "text/plain": [
              "<Figure size 72x72 with 1 Axes>"
            ],
            "image/png": "[encoded data removed]"
          },
          "metadata": {
            "needs_background": "light"
          }
        }
      ],
      "source": [
        "# plt.imshow() を使って実際の画像を確認\n",
        "# for を使って、最初の3人分のデータを見る\n",
        "for i in range(3):\n",
        "    plt.figure(figsize=(1,1))\n",
        "    plt.imshow(test_images[i], cmap='gray')\n",
        "    plt.show()\n",
        "    "
      ]
    },
    {
      "cell_type": "code",
      "execution_count": 11,
      "metadata": {
        "id": "u_e2FUqtcTZw",
        "colab": {
          "base_uri": "https://localhost:8080/"
        },
        "outputId": "7f87c3b3-79cb-41b6-8206-7c548cff0b77"
      },
      "outputs": [
        {
          "output_type": "execute_result",
          "data": {
            "text/plain": [
              "array([7, 2, 1], dtype=uint8)"
            ]
          },
          "metadata": {},
          "execution_count": 11
        }
      ],
      "source": [
        "# test_labels の内容を確認\n",
        "# スライシングで test_labels の最初の3つのラベルを取り出す\n",
        "test_labels[0:3]"
      ]
    },
    {
      "cell_type": "markdown",
      "metadata": {
        "id": "05kNQ_F7cTZw"
      },
      "source": [
        "#### 2.2 正解ラベルの one-hotベクトル化\n",
        "- 正解ラベルを one-hotベクトルに変換する\n",
        "- `to_categorical()` 関数を使うことで変換できる"
      ]
    },
    {
      "cell_type": "code",
      "execution_count": 12,
      "metadata": {
        "id": "hh54HJtxcTZx"
      },
      "outputs": [],
      "source": [
        "# train_labels を one-hotベクトルに変換\n",
        "train_labels = to_categorical(train_labels)\n",
        "\n",
        "# test_labels も同様に one-hotベクトルに変換\n",
        "test_labels = to_categorical(test_labels)"
      ]
    },
    {
      "cell_type": "code",
      "execution_count": 13,
      "metadata": {
        "id": "tO9pRIMwcTZx",
        "colab": {
          "base_uri": "https://localhost:8080/"
        },
        "outputId": "d52f69e5-779f-4538-aa2a-fe8f5f2682d7"
      },
      "outputs": [
        {
          "output_type": "execute_result",
          "data": {
            "text/plain": [
              "(60000, 10)"
            ]
          },
          "metadata": {},
          "execution_count": 13
        }
      ],
      "source": [
        "# 新しい train_labels の shape を確認\n",
        "# 60000行10列の行列になっている\n",
        "train_labels.shape"
      ]
    },
    {
      "cell_type": "code",
      "execution_count": 14,
      "metadata": {
        "id": "ZQJ_v00hcTZx",
        "colab": {
          "base_uri": "https://localhost:8080/"
        },
        "outputId": "a12f80d0-ed8f-406e-d92c-8b3848529690"
      },
      "outputs": [
        {
          "output_type": "execute_result",
          "data": {
            "text/plain": [
              "array([[0., 0., 0., 0., 0., 1., 0., 0., 0., 0.],\n",
              "       [1., 0., 0., 0., 0., 0., 0., 0., 0., 0.],\n",
              "       [0., 0., 0., 0., 1., 0., 0., 0., 0., 0.]], dtype=float32)"
            ]
          },
          "metadata": {},
          "execution_count": 14
        }
      ],
      "source": [
        "# train_labels の 最初の3つを見てみる\n",
        "# 正解 5, 0, 4 に相当するところが 1 になっていることに着目\n",
        "train_labels[0:3]"
      ]
    },
    {
      "cell_type": "code",
      "execution_count": 15,
      "metadata": {
        "id": "fSUppKDNcTZx",
        "colab": {
          "base_uri": "https://localhost:8080/"
        },
        "outputId": "35d5dd56-cade-46c3-a3a1-8d3778aa9092"
      },
      "outputs": [
        {
          "output_type": "execute_result",
          "data": {
            "text/plain": [
              "array([[0., 0., 0., 0., 0., 0., 0., 1., 0., 0.],\n",
              "       [0., 0., 1., 0., 0., 0., 0., 0., 0., 0.],\n",
              "       [0., 1., 0., 0., 0., 0., 0., 0., 0., 0.]], dtype=float32)"
            ]
          },
          "metadata": {},
          "execution_count": 15
        }
      ],
      "source": [
        "# test_labels の 最初の3つも確認する\n",
        "# 正解 7, 2, 1 に相当するところが 1 になっていることに着目\n",
        "test_labels[0:3]"
      ]
    },
    {
      "cell_type": "markdown",
      "metadata": {
        "id": "uTfsnHAdcTZy"
      },
      "source": [
        "#### 2.3 データの正規化\n",
        "- 深層学習に限らず、データ解析においてデータの範囲をある決まった範囲に変換することを正規化という\n",
        "- 正規化を行うことで、異なる変数がモデルに与える影響を均等にできる\n",
        "    - 例: 年齢 (20-80) と 身長 (140-200)\n",
        "- 今、画像は 0-255 の整数をとるので、これを 0-1 になるように変換する"
      ]
    },
    {
      "cell_type": "code",
      "execution_count": 16,
      "metadata": {
        "id": "x9_IsX8lcTZy",
        "colab": {
          "base_uri": "https://localhost:8080/"
        },
        "outputId": "02131fc2-df1e-4ff5-cd20-e9171ad9af76"
      },
      "outputs": [
        {
          "output_type": "execute_result",
          "data": {
            "text/plain": [
              "dtype('uint8')"
            ]
          },
          "metadata": {},
          "execution_count": 16
        }
      ],
      "source": [
        "# dtype 属性で numpy配列内の数字のデータ型がわかる\n",
        "# uint8 は unsigned integer 8bit 符号なし 8bit 整数 (0-255)\n",
        "train_images.dtype"
      ]
    },
    {
      "cell_type": "code",
      "execution_count": 17,
      "metadata": {
        "id": "ErcycXascTZy",
        "colab": {
          "base_uri": "https://localhost:8080/"
        },
        "outputId": "2786e189-3143-4da7-889d-9af71e28674f"
      },
      "outputs": [
        {
          "output_type": "execute_result",
          "data": {
            "text/plain": [
              "0"
            ]
          },
          "metadata": {},
          "execution_count": 17
        }
      ],
      "source": [
        "# train_images の最小値\n",
        "# min() メソッドを使えばよい\n",
        "train_images.min()"
      ]
    },
    {
      "cell_type": "code",
      "execution_count": 18,
      "metadata": {
        "id": "uEnaMyPTcTZy",
        "colab": {
          "base_uri": "https://localhost:8080/"
        },
        "outputId": "80eb7038-0b8d-4d88-c2c5-55eba7d5898a"
      },
      "outputs": [
        {
          "output_type": "execute_result",
          "data": {
            "text/plain": [
              "255"
            ]
          },
          "metadata": {},
          "execution_count": 18
        }
      ],
      "source": [
        "# train_images の最大値\n",
        "# max() メソッドを使えばよい\n",
        "train_images.max()"
      ]
    },
    {
      "cell_type": "code",
      "execution_count": 19,
      "metadata": {
        "id": "xETMaTPkcTZy"
      },
      "outputs": [],
      "source": [
        "# 0-255で構成されるので、255で割れば、値は 0-1 の間となる\n",
        "# 255.0 と小数点をつけて割ることで、Pythonは出力を必ず float型としてくれる\n",
        "# 計算結果を同じ変数名にいれることで、変数を増やすことなく、\n",
        "train_images = train_images / 255.0\n",
        "test_images = test_images / 255.0"
      ]
    },
    {
      "cell_type": "code",
      "execution_count": 20,
      "metadata": {
        "id": "abjPEhHjcTZz",
        "colab": {
          "base_uri": "https://localhost:8080/"
        },
        "outputId": "b959b7e2-edfc-4bd4-b2b0-7b0138bef4b4"
      },
      "outputs": [
        {
          "output_type": "execute_result",
          "data": {
            "text/plain": [
              "0.0"
            ]
          },
          "metadata": {},
          "execution_count": 20
        }
      ],
      "source": [
        "# train_images の値が本当に0-1になったか確認\n",
        "# min() と max() を使えばよい\n",
        "# 最小値\n",
        "train_images.min()"
      ]
    },
    {
      "cell_type": "code",
      "execution_count": 21,
      "metadata": {
        "id": "yzlvU5kwcTZz",
        "colab": {
          "base_uri": "https://localhost:8080/"
        },
        "outputId": "af0e3217-cd73-4d29-db70-44b55e26488d"
      },
      "outputs": [
        {
          "output_type": "execute_result",
          "data": {
            "text/plain": [
              "1.0"
            ]
          },
          "metadata": {},
          "execution_count": 21
        }
      ],
      "source": [
        "# 最大値\n",
        "train_images.max()"
      ]
    },
    {
      "cell_type": "code",
      "execution_count": 22,
      "metadata": {
        "id": "RlPJlTofcTZz",
        "colab": {
          "base_uri": "https://localhost:8080/"
        },
        "outputId": "63cc2f3a-12e7-46bf-aa13-4005f9006736"
      },
      "outputs": [
        {
          "output_type": "execute_result",
          "data": {
            "text/plain": [
              "dtype('float64')"
            ]
          },
          "metadata": {},
          "execution_count": 22
        }
      ],
      "source": [
        "# dtypeも確認する\n",
        "# 今回は float64 倍精度浮動小数点数\n",
        "train_images.dtype"
      ]
    },
    {
      "cell_type": "markdown",
      "metadata": {
        "id": "rSEAzdjLcTZz"
      },
      "source": [
        "### 3. 訓練データとテストデータの作成\n",
        "- MNISTデータセットは手書き数字6万枚の訓練データセットと手書き数字1万枚のテストデータセットから構成されている\n",
        "- 「**訓練データ**」「**検証データ**」「**テストデータ**」の3つを準備する\n",
        "    - 訓練データ: ニューラルネットワークのパラメータを決めるためのデータ\n",
        "    - 検証データ: 訓練データで得られたパラメータがどの程度の精度があるかを検証するためのデータ\n",
        "    - テストデータ: ニューラルネットワークの汎用性を評価するためのデータ\n",
        "        - 訓練で使ったものと別のセットを使わないといけない\n",
        "- Tensorflow には、`model.fit()` メソッドに、`validation_split` という引数が準備されており、ここで訓練データの何割を検証データとして使用するかを設定できる\n",
        "    - 今回は訓練データの2割を検証データとして使用することとする (`validation_split=0.2`)"
      ]
    },
    {
      "cell_type": "markdown",
      "metadata": {
        "id": "z3Db_WEzcTZz"
      },
      "source": [
        "### 4. ニューラルネットワークの定義\n",
        "\n",
        "- ここで、自分がイメージするニューラルネットワークモデルを定義する\n",
        "- 下図の赤線の部分, すなわち **順伝播 forwad propagation** のモデルを構築\n",
        "\n",
        "<img src=\"https://www.nemotos.net/nb/img/dl_overview_4.png\" width=\"500\">"
      ]
    },
    {
      "cell_type": "markdown",
      "metadata": {
        "id": "gDdi5MPNcTZ0"
      },
      "source": [
        "- 今は以下のように定義する\n",
        "    - 層と層の結合は全結合とする\n",
        "    - 第1層は画像が 28 x 28 で構成されているので、そのピクセル数(784)がユニット数\n",
        "    - 第2層のユニット数は 128 とする\n",
        "    - 第2層の活性化関数は **ReLU**関数 とする\n",
        "    - 過学習を防ぐため、全結合層の2割は drop とする (Dropout=0.2)\n",
        "    - このモデルとしては、最終の出力は 0-9 の10のクラスを分類したい\n",
        "    - そのため、第3層は 出力層に渡す準備として、ユニット数は 10 とする\n",
        "    - 第3層の出力はそのまま出力層の入力とする (Tensorflow ではそのように構築することが勧められている)\n",
        "    - 出力層の活性化関数は多クラス分類に適した **Softmax**関数 とする"
      ]
    },
    {
      "cell_type": "markdown",
      "metadata": {
        "id": "4gIeUFwscTZ0"
      },
      "source": [
        "- 活性化関数の特徴\n",
        "\n",
        "| 関数名 | 特徴 | \n",
        "| :-- | :-- |\n",
        "| ReLU | 隠れ層に使うことで、非線形問題を解くことができるようになる <br> Sigmoid関数は0-1の値しかとらないので層が厚くなるほど誤差が小さくなっていき、<br>入力層まで誤差が伝搬する前に誤差が消失するという勾配消失問題が発生する |\n",
        "| Sigmoid | 0-1の間の確率で表現可能なため2クラス分類の出力層に用いる |\n",
        "| Softmax | 各クラスの確率の総和が1となるように正規化された関数であるため多クラス分類の出力層に用いる |"
      ]
    },
    {
      "cell_type": "markdown",
      "metadata": {
        "id": "GK-C6vBccTZ0"
      },
      "source": [
        "<img src=\"https://www.nemotos.net/nb/img/nn_model.png\" width=\"500\"> "
      ]
    },
    {
      "cell_type": "markdown",
      "metadata": {
        "id": "N-3-9B5_cTZ0"
      },
      "source": [
        "- これらはTensorflow/Kerasでは以下のように定義できる\n",
        "    - プリセットで準備されている **Sequential**モデル を選択する(Sequential: 連続する)\n",
        "    - 入力画像は **layers.Flatten** を使うことでベクトルにできる\n",
        "    - 全結合層は **layers.Dense** で規定できる"
      ]
    },
    {
      "cell_type": "code",
      "execution_count": 23,
      "metadata": {
        "id": "KWdEybUUcTZ0"
      },
      "outputs": [],
      "source": [
        "# モデルを定義\n",
        "# Sequentialモデルを使用すると、model.addとすればどんどん付け加えられる\n",
        "# ここはあくまでもモデルを作っているだけなので、データはまだ入力していない。（計算式を作るイメージ。データの代入はこれから）\n",
        "\n",
        "model = Sequential()                \n",
        "model.add(layers.Flatten(input_shape=(28, 28)))     # 入力画像の dimension を指定 今の場合は(28,28)\n",
        "model.add(layers.Dense(128, activation='relu'))     # 第2層のユニット数を 128 にし、 活性化関数は ReLU とする\n",
        "model.add(layers.Dropout(0.2))                      # 過学習防止のため、結合層の20%を dropout\n",
        "model.add(layers.Dense(10))                         # 第3層のユニット数を 10 にする\n",
        "model.add(layers.Softmax())                         # 出力層でSoftmax関数 で処理して結果を出力する\n"
      ]
    },
    {
      "cell_type": "code",
      "execution_count": 24,
      "metadata": {
        "id": "yUrJLJF2cTZ2",
        "colab": {
          "base_uri": "https://localhost:8080/"
        },
        "outputId": "8844f40e-752c-4f80-d23d-4e6c4a0765d8"
      },
      "outputs": [
        {
          "output_type": "stream",
          "name": "stdout",
          "text": [
            "Model: \"sequential\"\n",
            "_________________________________________________________________\n",
            " Layer (type)                Output Shape              Param #   \n",
            "=================================================================\n",
            " flatten (Flatten)           (None, 784)               0         \n",
            "                                                                 \n",
            " dense (Dense)               (None, 128)               100480    \n",
            "                                                                 \n",
            " dropout (Dropout)           (None, 128)               0         \n",
            "                                                                 \n",
            " dense_1 (Dense)             (None, 10)                1290      \n",
            "                                                                 \n",
            " softmax (Softmax)           (None, 10)                0         \n",
            "                                                                 \n",
            "=================================================================\n",
            "Total params: 101,770\n",
            "Trainable params: 101,770\n",
            "Non-trainable params: 0\n",
            "_________________________________________________________________\n"
          ]
        }
      ],
      "source": [
        "# どのようなモデルになったかを model.summary() で知ることができる\n",
        "model.summary()\n",
        "# パラメータ数\n",
        "#   Flatten: 入力層なのでなし\n",
        "#   Dense 100480 ← 入力層 784 * 第2層 128 + 第2層のそれぞれのユニットに対する定数項 128\n",
        "#   Dense 1290 ← 第2層 128 * 第3層 10 + 第3層のそれぞれのユニットに対する定数項 10\n",
        "# 合計 101,770 ものパラメータをこれから学習させることになる\n",
        "# パラメータが多いため、パラメータ推定のために必要なデータ数が膨大となる"
      ]
    },
    {
      "cell_type": "code",
      "execution_count": 25,
      "metadata": {
        "id": "3ggIVpUlcTZ1"
      },
      "outputs": [],
      "source": [
        "# 訓練データを今作ったモデルに代入して予測値を計算 (forward propagation)\n",
        "# model() の後に .numpy() をつけることで、NumPy配列に変換する\n",
        "predictions = model(train_images).numpy()"
      ]
    },
    {
      "cell_type": "code",
      "execution_count": 26,
      "metadata": {
        "scrolled": true,
        "id": "mRNEmNvucTZ1",
        "colab": {
          "base_uri": "https://localhost:8080/"
        },
        "outputId": "82103ae0-1893-4a56-9199-b4c5707f7d11"
      },
      "outputs": [
        {
          "output_type": "execute_result",
          "data": {
            "text/plain": [
              "array([[0.06471205, 0.10286956, 0.11541005, ..., 0.06831832, 0.05827938,\n",
              "        0.09630585],\n",
              "       [0.06473604, 0.12180885, 0.13471016, ..., 0.05807921, 0.03624715,\n",
              "        0.10056355],\n",
              "       [0.12268464, 0.06978691, 0.14503816, ..., 0.11545829, 0.06939755,\n",
              "        0.05252387],\n",
              "       ...,\n",
              "       [0.09305625, 0.10252103, 0.12676688, ..., 0.09257276, 0.09829233,\n",
              "        0.08599012],\n",
              "       [0.07921147, 0.17395349, 0.08184095, ..., 0.07807615, 0.05453013,\n",
              "        0.14835764],\n",
              "       [0.09926322, 0.10127142, 0.14023137, ..., 0.11610666, 0.0924319 ,\n",
              "        0.06399535]], dtype=float32)"
            ]
          },
          "metadata": {},
          "execution_count": 26
        }
      ],
      "source": [
        "# predictions を表示\n",
        "# この時点では、モデルを決めただけで、重みはランダムに割り当てられている\n",
        "# そのため、各クラスの確率はおおよそ 1/10 あたりになるはず\n",
        "# ひとつの数字の画像が1行、列が 0 - 9 の数字である確率\n",
        "# 一切学習はしていないことに注意！train_labelsはまだ使われていない\n",
        "predictions"
      ]
    },
    {
      "cell_type": "markdown",
      "metadata": {
        "id": "8iu2aV1qcTZ1"
      },
      "source": [
        "### 5. 損失関数と最適化関数の定義\n",
        "- 次に損失関数と最適化関数(オプティマイザ)を決定する\n",
        "- その後、model.compile() で損失関数と最適化関数をモデルに組み込む\n",
        "- 下図の赤線の部分、すなわち **逆伝播 back propagation** のモデルを構築\n",
        "\n",
        "<img src=\"https://www.nemotos.net/nb/img/dl_overview_5.png\" width=\"500\">"
      ]
    },
    {
      "cell_type": "markdown",
      "metadata": {
        "id": "aIbpugr9cTZ1"
      },
      "source": [
        "- よく用いられる損失関数\n",
        "\n",
        "| 目的 | 関数名 | Function Name | 損失関数名<br>(Tensorflow) | 損失関数名(PyTorch) |\n",
        "| :-- | :-- | :-- | :-- | :-- |\n",
        "| 回帰 | 平均二乗誤差 | Mean Squared Error | mean_squared_error | nn.MSELoss |\n",
        "| 2クラス分類 | バイナリ交差エントロピー | Binary Cross Entropy | binary_crossentropy | nn.BCELoss |\n",
        "| 多クラス分類 | ソフトマックス交差エントロピー | Softmax Cross Entropy | categorical_crossentropy (one-hot vector用)<br> sparse_categorical_crossentropy | nn.CrossEntropyLoss |"
      ]
    },
    {
      "cell_type": "code",
      "execution_count": 27,
      "metadata": {
        "id": "Nxq_oYV7cTZ1"
      },
      "outputs": [],
      "source": [
        "# 損失関数には、ソフトマックス交差エントロピー誤差を使用\n",
        "# 今回は正解ラベルは one-hotベクトル として準備していることから、\n",
        "# keras.losses.CategoricalCrossentropy() を使用する\n",
        "# one-hotベクトルでない場合は、\n",
        "# keras.losses.SparseCategoricalCrossentropy() を使用する\n",
        "loss_fn = keras.losses.CategoricalCrossentropy()"
      ]
    },
    {
      "cell_type": "code",
      "execution_count": 31,
      "metadata": {
        "id": "SunEXnNDcTZ2",
        "colab": {
          "base_uri": "https://localhost:8080/"
        },
        "outputId": "715e8f37-fc83-486b-fa40-fdbeacc91376"
      },
      "outputs": [
        {
          "output_type": "execute_result",
          "data": {
            "text/plain": [
              "2.4454427"
            ]
          },
          "metadata": {},
          "execution_count": 31
        }
      ],
      "source": [
        "# 今の場合、予測値はいずれも 0.1 程度\n",
        "# 損失は、-log(0.1) ≒ 2.3 程度になるはず\n",
        "loss_fn(train_labels, predictions).numpy()"
      ]
    },
    {
      "cell_type": "code",
      "execution_count": 32,
      "metadata": {
        "id": "im6ATAZIcTZ2",
        "colab": {
          "base_uri": "https://localhost:8080/"
        },
        "outputId": "7effb349-16c9-4560-fca9-1ce029296ad2"
      },
      "outputs": [
        {
          "output_type": "execute_result",
          "data": {
            "text/plain": [
              "2.3025850929940455"
            ]
          },
          "metadata": {},
          "execution_count": 32
        }
      ],
      "source": [
        "# 参考\n",
        "# -log(0.1) を計算\n",
        "-np.log(0.1)"
      ]
    },
    {
      "cell_type": "code",
      "execution_count": 33,
      "metadata": {
        "id": "DzYUW_xUcTZ2"
      },
      "outputs": [],
      "source": [
        "# 最適化関数(オプティマイザ)として、Adam, RMSpropなどがある。ここでは、RMSprop を選択する\n",
        "# 損失関数は先程定義した交差エントロピー誤差を使用する\n",
        "# モデルの評価は 後ほど、accuracy で行う\n",
        "model.compile(optimizer='rmsprop',\n",
        "             loss = loss_fn,\n",
        "             metrics = ['accuracy'])"
      ]
    },
    {
      "cell_type": "markdown",
      "metadata": {
        "id": "ItiEo7N0cTZ2"
      },
      "source": [
        "### 6. 学習・評価\n",
        "- `model.fit()` で学習させる\n",
        "- この時、訓練データと訓練データの正解ラベルをモデルに与える\n",
        "- `validation_split` で訓練データのうち検証に使う割合を指定する\n",
        "- `batch_size` でバッチサイズを指定する\n",
        "- `epochs` で何回学習するかを指定する\n",
        "- 学習の結果を変数 history に代入してあとで可視化する"
      ]
    },
    {
      "cell_type": "code",
      "execution_count": 34,
      "metadata": {
        "id": "AVx6U6CScTZ2",
        "colab": {
          "base_uri": "https://localhost:8080/"
        },
        "outputId": "8199bac9-e509-45de-cc77-48701f25f78d"
      },
      "outputs": [
        {
          "output_type": "stream",
          "name": "stdout",
          "text": [
            "Epoch 1/10\n",
            "375/375 [==============================] - 3s 6ms/step - loss: 0.4173 - accuracy: 0.8822 - val_loss: 0.2099 - val_accuracy: 0.9403\n",
            "Epoch 2/10\n",
            "375/375 [==============================] - 2s 5ms/step - loss: 0.2070 - accuracy: 0.9395 - val_loss: 0.1536 - val_accuracy: 0.9577\n",
            "Epoch 3/10\n",
            "375/375 [==============================] - 2s 6ms/step - loss: 0.1579 - accuracy: 0.9537 - val_loss: 0.1272 - val_accuracy: 0.9638\n",
            "Epoch 4/10\n",
            "375/375 [==============================] - 2s 6ms/step - loss: 0.1299 - accuracy: 0.9619 - val_loss: 0.1169 - val_accuracy: 0.9653\n",
            "Epoch 5/10\n",
            "375/375 [==============================] - 2s 6ms/step - loss: 0.1130 - accuracy: 0.9665 - val_loss: 0.1050 - val_accuracy: 0.9699\n",
            "Epoch 6/10\n",
            "375/375 [==============================] - 2s 5ms/step - loss: 0.0998 - accuracy: 0.9709 - val_loss: 0.0987 - val_accuracy: 0.9722\n",
            "Epoch 7/10\n",
            "375/375 [==============================] - 2s 6ms/step - loss: 0.0876 - accuracy: 0.9738 - val_loss: 0.0967 - val_accuracy: 0.9720\n",
            "Epoch 8/10\n",
            "375/375 [==============================] - 2s 6ms/step - loss: 0.0796 - accuracy: 0.9765 - val_loss: 0.0964 - val_accuracy: 0.9738\n",
            "Epoch 9/10\n",
            "375/375 [==============================] - 2s 6ms/step - loss: 0.0758 - accuracy: 0.9774 - val_loss: 0.0934 - val_accuracy: 0.9756\n",
            "Epoch 10/10\n",
            "375/375 [==============================] - 2s 6ms/step - loss: 0.0673 - accuracy: 0.9797 - val_loss: 0.0911 - val_accuracy: 0.9744\n"
          ]
        }
      ],
      "source": [
        "# loss: 損失\n",
        "# accuracy: 正答率\n",
        "# 10回の繰り返しで、loss が少しずつ減少、accuracy は増加\n",
        "#\n",
        "# 訓練データ,訓練データの正解ラベルをまず入力 (train_images, train_labels)\n",
        "# 訓練データの2割を検証データとして使用 (validation_split=0.2)\n",
        "# ミニバッチ学習として、バッチサイズは128に設定 (batch_size=128)\n",
        "# 繰り返し回数は10回 (epochs=10)                            \n",
        "history = model.fit(train_images,train_labels,\n",
        "                    validation_split=0.2,\n",
        "                    batch_size=128,\n",
        "                    epochs=10)"
      ]
    },
    {
      "cell_type": "markdown",
      "metadata": {
        "id": "YGm_RSAUcTZ3"
      },
      "source": [
        "- `model.evaluate(テストデータ,テストラベル)`を使うことで、modelの性能を表示できる"
      ]
    },
    {
      "cell_type": "code",
      "execution_count": 35,
      "metadata": {
        "id": "3UKfzmTRcTZ3",
        "colab": {
          "base_uri": "https://localhost:8080/"
        },
        "outputId": "5463272f-75c9-4c0e-bfc2-b882f5ff0f57"
      },
      "outputs": [
        {
          "output_type": "stream",
          "name": "stdout",
          "text": [
            "313/313 [==============================] - 1s 2ms/step - loss: 0.0812 - accuracy: 0.9771\n"
          ]
        },
        {
          "output_type": "execute_result",
          "data": {
            "text/plain": [
              "[0.08123777061700821, 0.9771000146865845]"
            ]
          },
          "metadata": {},
          "execution_count": 35
        }
      ],
      "source": [
        "# model.evaluateの引数に test_images, test_labels を指定\n",
        "# verbose =1 とすると、学習のときと同じような結果表示になる\n",
        "model.evaluate(test_images,test_labels, verbose=1)"
      ]
    },
    {
      "cell_type": "markdown",
      "metadata": {
        "id": "ypRJJo5JcTZ3"
      },
      "source": [
        "## C. 学習の視覚化\n",
        "- matplotlib を用いて学習の様子を視覚化する\n",
        "- 変数 history.history の中に loss と accuracy の10回の値が格納されている"
      ]
    },
    {
      "cell_type": "code",
      "execution_count": 36,
      "metadata": {
        "id": "rfzM00sWcTZ3",
        "colab": {
          "base_uri": "https://localhost:8080/"
        },
        "outputId": "7069a79b-3bec-4dfc-c837-fca94f51caca"
      },
      "outputs": [
        {
          "output_type": "execute_result",
          "data": {
            "text/plain": [
              "{'accuracy': [0.8821666836738586,\n",
              "  0.9395416378974915,\n",
              "  0.9537291526794434,\n",
              "  0.9618750214576721,\n",
              "  0.9664791822433472,\n",
              "  0.9709374904632568,\n",
              "  0.9737708568572998,\n",
              "  0.976520836353302,\n",
              "  0.9773958325386047,\n",
              "  0.979687511920929],\n",
              " 'loss': [0.4172958433628082,\n",
              "  0.2070380598306656,\n",
              "  0.15785957872867584,\n",
              "  0.12992164492607117,\n",
              "  0.11303789168596268,\n",
              "  0.09984830021858215,\n",
              "  0.08760830760002136,\n",
              "  0.079587422311306,\n",
              "  0.07579147070646286,\n",
              "  0.06734310835599899],\n",
              " 'val_accuracy': [0.9403333067893982,\n",
              "  0.9576666951179504,\n",
              "  0.9637500047683716,\n",
              "  0.9653333425521851,\n",
              "  0.9699166417121887,\n",
              "  0.9721666574478149,\n",
              "  0.972000002861023,\n",
              "  0.9738333225250244,\n",
              "  0.9755833148956299,\n",
              "  0.9744166731834412],\n",
              " 'val_loss': [0.20988240838050842,\n",
              "  0.15364770591259003,\n",
              "  0.1271950751543045,\n",
              "  0.11690972000360489,\n",
              "  0.10499134659767151,\n",
              "  0.09871707856655121,\n",
              "  0.09669915586709976,\n",
              "  0.09635485708713531,\n",
              "  0.09342494606971741,\n",
              "  0.09114311635494232]}"
            ]
          },
          "metadata": {},
          "execution_count": 36
        }
      ],
      "source": [
        "# history.historyの中を見てみる\n",
        "# ディクショナリ型\n",
        "# キーが 'loss', 'accuracy', 'val_loss', 'val_accuracy'\n",
        "# val_ は 検証データでの結果\n",
        "# 値が 損失値と正答率の推移\n",
        "history.history"
      ]
    },
    {
      "cell_type": "code",
      "execution_count": 38,
      "metadata": {
        "id": "nra-OFFtcTZ3",
        "colab": {
          "base_uri": "https://localhost:8080/",
          "height": 295
        },
        "outputId": "40b50cfd-64ed-4a2f-d7c2-f61588ad69b3"
      },
      "outputs": [
        {
          "output_type": "display_data",
          "data": {
            "text/plain": [
              "<Figure size 432x288 with 1 Axes>"
            ],
            "image/png": "[encoded data removed]"
          },
          "metadata": {
            "needs_background": "light"
          }
        }
      ],
      "source": [
        "# 訓練データの損失値 loss と検証データの損失値 val_loss をグラフとして表示\n",
        "# 訓練データの loss の値を取り出して train_loss に代入\n",
        "# ディクショナリ型の値は 変数名['キー名']　で取り出せる\n",
        "train_loss = history.history['loss']\n",
        "# 同様に検証データの loss の値を取り出して val_loss に代入\n",
        "val_loss = history.history['val_loss']\n",
        "\n",
        "# train_loss と val_loss をプロットする\n",
        "plt.plot(train_loss, label='training')\n",
        "plt.plot(val_loss, label='validation')\n",
        "# グラフのタイトル\n",
        "plt.title('loss over epochs')\n",
        "# x軸の名前\n",
        "plt.xlabel('epochs')\n",
        "# y軸の名前\n",
        "plt.ylabel('loss')\n",
        "# 凡例\n",
        "plt.legend()\n",
        "# これらをすべてまとめて表示\n",
        "plt.show()"
      ]
    },
    {
      "cell_type": "code",
      "execution_count": 39,
      "metadata": {
        "id": "4uCX1MWKcTZ4",
        "colab": {
          "base_uri": "https://localhost:8080/",
          "height": 295
        },
        "outputId": "bc782092-018b-47c6-eeb9-42d8cbf83dd0"
      },
      "outputs": [
        {
          "output_type": "display_data",
          "data": {
            "text/plain": [
              "<Figure size 432x288 with 1 Axes>"
            ],
            "image/png": "[encoded data removed]"
          },
          "metadata": {
            "needs_background": "light"
          }
        }
      ],
      "source": [
        "# 訓練データの正答率 accuracy と検証データの正答率 val_accuracy をグラフとして表示\n",
        "# 訓練データの accuracy を取り出して train_accuracy に代入\n",
        "train_accuracy = history.history['accuracy']\n",
        "# 同様に検証データの accuracy を取り出して val_accuracy に代入\n",
        "val_accuracy = history.history['val_accuracy']\n",
        "\n",
        "# train_accuracy と val_accuracy をプロットする\n",
        "plt.plot(train_accuracy, label='training')\n",
        "plt.plot(val_accuracy, label='validation')\n",
        "# グラフのタイトル\n",
        "plt.title('accuracy over epochs')\n",
        "# x軸の名前\n",
        "plt.xlabel('epochs')\n",
        "# y軸の名前\n",
        "plt.ylabel('accuracy')\n",
        "# 凡例\n",
        "plt.legend()\n",
        "# これらをすべてまとめて表示\n",
        "plt.show()"
      ]
    },
    {
      "cell_type": "markdown",
      "metadata": {
        "id": "fExC0TU-cTZ4"
      },
      "source": [
        "## D. ハイパーパラメータ\n",
        "- 深層学習の実装の例を示したが、自身のデータで解析する際、人間が設定しなければならないパラメータがいくつかある\n",
        "- これらを**ハイパーパラメータ**という\n",
        "- 具体的には以下のようなものが挙げられる\n",
        "    - 中間層のユニット数\n",
        "    - Dropout率\n",
        "    - 中間層の活性化関数\n",
        "    - 損失関数\n",
        "    - 最適化関数\n",
        "    - バッチサイズ\n",
        "    - エポック数\n",
        "- より精度の高いモデルを構築するために、これらを吟味していくことが必要となる"
      ]
    },
    {
      "cell_type": "markdown",
      "metadata": {
        "id": "jBAqxaLXcTZ5"
      },
      "source": [
        "## 練習問題\n",
        "\n",
        "- 以下のパラメータでモデルを構築し、学習させた時、テストデータの正答率がどう変わるかを見てみてください\n",
        "\n",
        "- 中間層のユニット数: 16\n",
        "- 中間層の活性化関数: 'relu' ではなく 'sigmoid'\n",
        "- エポック数: 3"
      ]
    },
    {
      "cell_type": "code",
      "execution_count": null,
      "metadata": {
        "id": "sgg-X5RwcTZ5"
      },
      "outputs": [],
      "source": [
        "# 必要なパッケージのインポート\n",
        "import numpy as np\n",
        "import matplotlib.pyplot as plt\n",
        "from tensorflow import keras\n",
        "from tensorflow.keras import layers\n",
        "from tensorflow.keras.models import Sequential\n",
        "\n",
        "# データの準備\n",
        "from tensorflow.keras.datasets import mnist\n",
        "(train_images, train_labels), (test_images, test_labels) = mnist.load_data()\n",
        "\n",
        "# データの正規化\n",
        "train_images = train_images / 255.0\n",
        "test_images = test_images / 255.0\n",
        "\n",
        "# 変数 model を初期化\n",
        "model = []\n",
        "\n",
        "# モデルの構築\n",
        "model = Sequential()\n",
        "model.add(layers.Flatten(input_shape=(28, 28)))\n",
        "model.add(layers.Dense(ここに代入, activation=ここに代入)) #中間層のユニット数と活性化関数\n",
        "model.add(layers.Dropout(0.2))\n",
        "model.add(layers.Dense(10))\n",
        "model.add(layers.Softmax())\n",
        "\n",
        "# 損失関数には、交差エントロピー誤差を使用\n",
        "# 正解ラベルを one-hot ベクトルに変換していないため、\n",
        "# SparseCategoricalCrossentropy()を使う\n",
        "loss_fn = keras.losses.SparseCategoricalCrossentropy()\n",
        "\n",
        "# モデルの最適化\n",
        "# 最適化関数には、RMSprop を使用\n",
        "model.compile(optimizer='rmsprop',\n",
        "             loss = loss_fn,\n",
        "             metrics = ['accuracy'])\n",
        "\n",
        "# モデルの要約\n",
        "model.summary()"
      ]
    },
    {
      "cell_type": "code",
      "execution_count": null,
      "metadata": {
        "id": "-999bDGlcTZ5"
      },
      "outputs": [],
      "source": [
        "# モデルの学習\n",
        "history = model.fit(train_images,train_labels,\n",
        "                    validation_split=0.2,\n",
        "                    batch_size=128,\n",
        "                    epochs=ここに代入) #エポック数\n",
        "\n",
        "# loss の推移\n",
        "train_loss = history.history['loss']\n",
        "val_loss = history.history['val_loss']\n",
        "plt.plot(train_loss, label='training')\n",
        "plt.plot(val_loss, label='validation')\n",
        "plt.title('loss over epochs')\n",
        "plt.xlabel('epochs')\n",
        "plt.ylabel('loss')\n",
        "plt.legend()\n",
        "plt.show()\n",
        "\n",
        "# accuracy の推移\n",
        "train_accuracy = history.history['accuracy']\n",
        "val_accuracy = history.history['val_accuracy']\n",
        "plt.plot(train_accuracy, label='training')\n",
        "plt.plot(val_accuracy, label='validation')\n",
        "plt.title('accuracy over epochs')\n",
        "plt.xlabel('epochs')\n",
        "plt.ylabel('accuracy')\n",
        "plt.legend()\n",
        "plt.show()\n",
        "\n",
        "# テストデータでの評価\n",
        "model.evaluate(test_images,test_labels, verbose=1)\n"
      ]
    },
    {
      "cell_type": "markdown",
      "source": [
        "## E. 畳み込みニューラルネットワーク Convolutional Neural Network (CNN)\n",
        "\n",
        "- 全結合層のニューラルネットワークよりも精度が向上\n",
        "- 畳み込みとプーリングを複数回施行していく\n",
        "    - イメージ: 1回目の畳み込みで「斜め」「横」「縦」などの形状を学習、プーリングで特徴量マップをダウンサンプリング、2回めの畳み込みで、「斜め」と「横」の組み合わせなど、もう少し大きな形状を学習、プーリングで特徴量マップをさらにダウンサンプリング、3回目の畳み込みで、全体の空間的な位置関係を学習\n",
        "- CNNの入力は(画像の縦のピクセル数, 画像の横のピクセル数, 画像のチャンネル数) で指定する\n",
        "    - MNISTの手書き数字の画像は、縦28, 横28, 白黒(チャンネルの次元数は1) なので、(28,28,1)となる\n",
        "- 畳み込みに使うフィルタの種類を filters で設定する。filters=32は、32種類のフィルタを使用するということである。kernel_size=3 は、フィルタの大きさが3x3の行列ということを示す\n",
        "    - 32種類のフィルタを使うということは、特徴量マップは32種類できるということである。\n",
        "- 最大プーリングに使う pool_size は特徴量マップを小さく分割する量を指定する。pool_size=2 は、特徴量マップを2x2ごとに分割し、各領域の最大値から新たな出力特徴量マップを生成する\n",
        "- 以下を実行し、出力されるモデルの要約と上の説明を比較すると理解が進む"
      ],
      "metadata": {
        "id": "7MH9vHgFnkZH"
      }
    },
    {
      "cell_type": "code",
      "source": [
        "# 必要なモジュールは全結合層の時と同じ\n",
        "from tensorflow import keras\n",
        "from tensorflow.keras import layers\n",
        "from tensorflow.keras.models import Sequential\n",
        "\n",
        "# モデルを初期化する\n",
        "model = []\n",
        "\n",
        "# Sequential関数を使って、モデルに層を設定していく\n",
        "model = Sequential()\n",
        "\n",
        "# 32種類の 3x3 のフィルタを使って畳み込みを行う\n",
        "model.add(layers.Conv2D(filters=32, kernel_size=3, activation='relu',\n",
        "                        input_shape=(28, 28, 1)))\n",
        "# 2x2 で分割し最大値プーリング演算を行う\n",
        "# これにより、出力される特徴量マップは 13x13x32 になる\n",
        "model.add(layers.MaxPooling2D(pool_size=2))\n",
        "\n",
        "# 64種類の 3x3 のフィルタを使って畳み込みを行う\n",
        "model.add(layers.Conv2D(filters=64, kernel_size=3, activation='relu'))\n",
        "# 2x2 で分割し最大値プーリング演算を行う\n",
        "# これにより、出力される特徴量マップは 5x5x64 になる\n",
        "model.add(layers.MaxPooling2D(pool_size=2))\n",
        "\n",
        "# 128種類の 3x3 のフィルタを使って畳み込みを行う\n",
        "# 特徴量マップは 3x3x128 となり、縦と横は十分小さいので、プーリングは必要ない\n",
        "model.add(layers.Conv2D(filters=128, kernel_size=3, activation='relu'))\n",
        "\n",
        "# 全結合層に投入するために、3次元のデータを1次元に変換する\n",
        "model.add(layers.Flatten())\n",
        "\n",
        "# ソフトマックス関数を使って、10クラス分類を行う\n",
        "model.add(layers.Dense(10, activation='softmax'))\n",
        "\n",
        "model.summary()\n",
        "\n"
      ],
      "metadata": {
        "colab": {
          "base_uri": "https://localhost:8080/"
        },
        "id": "HSl3Q1sqnuPW",
        "outputId": "ad8df855-5633-48be-bc99-f11c64431118"
      },
      "execution_count": 1,
      "outputs": [
        {
          "output_type": "stream",
          "name": "stdout",
          "text": [
            "Model: \"sequential\"\n",
            "_________________________________________________________________\n",
            " Layer (type)                Output Shape              Param #   \n",
            "=================================================================\n",
            " conv2d (Conv2D)             (None, 26, 26, 32)        320       \n",
            "                                                                 \n",
            " max_pooling2d (MaxPooling2D  (None, 13, 13, 32)       0         \n",
            " )                                                               \n",
            "                                                                 \n",
            " conv2d_1 (Conv2D)           (None, 11, 11, 64)        18496     \n",
            "                                                                 \n",
            " max_pooling2d_1 (MaxPooling  (None, 5, 5, 64)         0         \n",
            " 2D)                                                             \n",
            "                                                                 \n",
            " conv2d_2 (Conv2D)           (None, 3, 3, 128)         73856     \n",
            "                                                                 \n",
            " flatten (Flatten)           (None, 1152)              0         \n",
            "                                                                 \n",
            " dense (Dense)               (None, 10)                11530     \n",
            "                                                                 \n",
            "=================================================================\n",
            "Total params: 104,202\n",
            "Trainable params: 104,202\n",
            "Non-trainable params: 0\n",
            "_________________________________________________________________\n"
          ]
        }
      ]
    },
    {
      "cell_type": "markdown",
      "source": [
        "- CNNの計算は時間がかかる\n",
        "- Google Colabでは、GPUを使用することができる\n",
        "    - メニューの「ランタイム」→「ランタイムのタイプを変更」\n",
        "    - ハードウェアアクセラレータを\"GPU\"に変更\n",
        "\n",
        "<img src=\"https://www.nemotos.net/nb/img/colab_gpu.png\" width=\"300\">"
      ],
      "metadata": {
        "id": "_Zj2btt224r3"
      }
    },
    {
      "cell_type": "code",
      "source": [
        "# データの準備\n",
        "# mnistデータセットを入手\n",
        "from tensorflow.keras.datasets import mnist\n",
        "(train_images, train_labels), (test_images, test_labels) = mnist.load_data()\n",
        "\n",
        "# データの正規化\n",
        "# 訓練データを、3次元のテンソルが60000枚スタックしているという形状に変更する\n",
        "train_images = train_images.reshape((60000, 28, 28, 1))\n",
        "# 画素値を 0-255 から、 0-1 に正規化する\n",
        "train_images = train_images / 255.0\n",
        "\n",
        "# テストデータも同様\n",
        "test_images = test_images.reshape((10000, 28, 28, 1))\n",
        "test_images = test_images / 255.0\n",
        "\n",
        "# モデルの最適化\n",
        "# オプティマイザはRMSpropを使用する\n",
        "# 損失関数は sparse_categorical_crossentropy を使用する\n",
        "# モデルの評価には accuracy を使用する\n",
        "model.compile(optimizer='rmsprop',\n",
        "              loss='sparse_categorical_crossentropy',\n",
        "              metrics=['accuracy'])\n",
        "\n",
        "# モデルの学習\n",
        "# 学習の際に訓練データの2割を検証データに使用する\n",
        "# ミニバッチ学習を行う。バッチサイズは128\n",
        "# エポック数は5とし、5回学習させる\n",
        "history = model.fit(train_images,train_labels,\n",
        "                    validation_split=0.2,\n",
        "                    batch_size=128,\n",
        "                    epochs=5)\n",
        "\n"
      ],
      "metadata": {
        "colab": {
          "base_uri": "https://localhost:8080/"
        },
        "id": "hmIuyV7HpMBd",
        "outputId": "27ea81ef-5f20-47c1-f78e-eb4ee239ad7f"
      },
      "execution_count": 3,
      "outputs": [
        {
          "output_type": "stream",
          "name": "stdout",
          "text": [
            "Downloading data from https://storage.googleapis.com/tensorflow/tf-keras-datasets/mnist.npz\n",
            "11493376/11490434 [==============================] - 0s 0us/step\n",
            "11501568/11490434 [==============================] - 0s 0us/step\n",
            "Epoch 1/5\n",
            "375/375 [==============================] - 3s 6ms/step - loss: 0.2972 - accuracy: 0.9200 - val_loss: 0.0759 - val_accuracy: 0.9783\n",
            "Epoch 2/5\n",
            "375/375 [==============================] - 2s 6ms/step - loss: 0.0598 - accuracy: 0.9824 - val_loss: 0.0503 - val_accuracy: 0.9840\n",
            "Epoch 3/5\n",
            "375/375 [==============================] - 2s 6ms/step - loss: 0.0382 - accuracy: 0.9886 - val_loss: 0.0485 - val_accuracy: 0.9868\n",
            "Epoch 4/5\n",
            "375/375 [==============================] - 2s 6ms/step - loss: 0.0287 - accuracy: 0.9910 - val_loss: 0.0338 - val_accuracy: 0.9914\n",
            "Epoch 5/5\n",
            "375/375 [==============================] - 2s 6ms/step - loss: 0.0209 - accuracy: 0.9939 - val_loss: 0.0395 - val_accuracy: 0.9902\n"
          ]
        }
      ]
    },
    {
      "cell_type": "code",
      "source": [
        "# テストデータでの評価\n",
        "# 全結合層のときよりも、結果が改善していることに着目\n",
        "model.evaluate(test_images,test_labels, verbose=1)"
      ],
      "metadata": {
        "colab": {
          "base_uri": "https://localhost:8080/"
        },
        "id": "6Bl3mX8Npt0E",
        "outputId": "f0aeeb30-fc6f-4f81-f77a-8ccaa3f9987a"
      },
      "execution_count": 4,
      "outputs": [
        {
          "output_type": "stream",
          "name": "stdout",
          "text": [
            "313/313 [==============================] - 1s 3ms/step - loss: 0.0357 - accuracy: 0.9893\n"
          ]
        },
        {
          "output_type": "execute_result",
          "data": {
            "text/plain": [
              "[0.03569681569933891, 0.989300012588501]"
            ]
          },
          "metadata": {},
          "execution_count": 4
        }
      ]
    },
    {
      "cell_type": "markdown",
      "source": [
        "## 復習\n",
        "\n",
        "- 授業では手書き文字の識別を行いました\n",
        "- fashion-mnist といって、洋服や小物などを集めた画像のデータベースがあります\n",
        "\n",
        "| <img src=\"https://www.nemotos.net/nb/img/fashion-mnist-sprite.png\" width=400> |\n",
        "| --: |\n",
        "| [https://github.com/zalandoresearch/fashion-mnist](https://github.com/zalandoresearch/fashion-mnist)より引用 |\n",
        "\n",
        "- MNISTの手書き文字と同じサイズで、訓練データとテストデータの数も同じです\n",
        "- 種類も10クラスです\n",
        "    0. T-シャツ/トップ (T-shirt/top)\n",
        "    1. ズボン (Trouser)\n",
        "    2. プルオーバー (Pullover)\n",
        "    3. ドレス (Dress)\n",
        "    4. コート (Coat)\n",
        "    5. サンダル (Sandal)\n",
        "    6. シャツ (Shirt)\n",
        "    7. スニーカー (Sneaker)\n",
        "    8. バッグ (Bag)\n",
        "    9. アンクルブーツ (Ankle boot)\n",
        "- 全結合層とCNNでどれだけ結果が違うか検証してみましょう\n",
        "\n"
      ],
      "metadata": {
        "id": "qLKthKZ43eeQ"
      }
    },
    {
      "cell_type": "code",
      "source": [
        "# 全結合層\n",
        "\n",
        "##### 必要なモジュールのインポート\n",
        "import numpy as np\n",
        "import matplotlib.pyplot as plt\n",
        "from tensorflow import keras\n",
        "from tensorflow.keras import layers\n",
        "from tensorflow.keras.models import Sequential\n",
        "\n",
        "\n",
        "##### データの準備\n",
        "# fashion-mnistデータセットを入手\n",
        "from tensorflow.keras.datasets import fashion_mnist\n",
        "(train_images, train_labels), (test_images, test_labels) = fashion_mnist.load_data()\n",
        "\n",
        "# データの正規化\n",
        "# 訓練データを、3次元のテンソルが60000枚スタックしているという形状に変更する\n",
        "train_images = train_images.reshape((60000, 28, 28, 1))\n",
        "# 画素値を 0-255 から、 0-1 に正規化する\n",
        "train_images = train_images / 255.0\n",
        "\n",
        "# テストデータも同様\n",
        "test_images = test_images.reshape((10000, 28, 28, 1))\n",
        "test_images = test_images / 255.0\n",
        "\n",
        "\n",
        "##### モデルの構築 (全結合層とCNNの違いはここだけ！)\n",
        "# モデルを初期化する\n",
        "model = []\n",
        "\n",
        "# Sequential関数を使って、モデルに層を設定していく\n",
        "model = Sequential()\n",
        "\n",
        "# 28x28の画像を1次元に変換する\n",
        "model.add(layers.Flatten(input_shape=(28, 28)))\n",
        "\n",
        "# 隠れ層のユニット数は128ユニット、活性化関数はReLU\n",
        "model.add(layers.Dense(128, activation='relu')) \n",
        "\n",
        "# Dropout率を0.2で設定\n",
        "model.add(layers.Dropout(0.2))\n",
        "\n",
        "# 出力層は10クラス分類なので10、ソフトマックス関数で分類\n",
        "model.add(layers.Dense(10))\n",
        "model.add(layers.Softmax())\n",
        "\n",
        "# モデルのサマリを表示\n",
        "print('Model Summary')\n",
        "print(model.summary())\n",
        "\n",
        "\n",
        "#### モデルの最適化\n",
        "# オプティマイザはRMSpropを使用する\n",
        "# 損失関数は sparse_categorical_crossentropy を使用する\n",
        "# モデルの評価には accuracy を使用する\n",
        "model.compile(optimizer='rmsprop',\n",
        "              loss='sparse_categorical_crossentropy',\n",
        "              metrics=['accuracy'])\n",
        "\n",
        "\n",
        "#### モデルの学習\n",
        "\n",
        "# history の初期化\n",
        "history = []\n",
        "\n",
        "# 学習の際に訓練データの2割を検証データに使用する\n",
        "# ミニバッチ学習を行う。バッチサイズは128\n",
        "# エポック数は10とし、10回学習させる\n",
        "history = model.fit(train_images,train_labels,\n",
        "                    validation_split=0.2,\n",
        "                    batch_size=128,\n",
        "                    epochs=10)\n",
        "\n",
        "\n",
        "##### 損失値のグラフ表示\n",
        "# 訓練データの損失値 loss と検証データの損失値 val_loss をグラフとして表示\n",
        "# 訓練データの loss の値を取り出して train_loss に代入\n",
        "# ディクショナリ型の値は 変数名['キー名']　で取り出せる\n",
        "train_loss = history.history['loss']\n",
        "# 同様に検証データの loss の値を取り出して val_loss に代入\n",
        "val_loss = history.history['val_loss']\n",
        "\n",
        "# train_loss と val_loss をプロットする\n",
        "plt.plot(train_loss, label='training')\n",
        "plt.plot(val_loss, label='validation')\n",
        "# グラフのタイトル\n",
        "plt.title('loss over epochs')\n",
        "# x軸の名前\n",
        "plt.xlabel('epochs')\n",
        "# y軸の名前\n",
        "plt.ylabel('loss')\n",
        "# 凡例\n",
        "plt.legend()\n",
        "# これらをすべてまとめて表示\n",
        "plt.show()\n",
        "\n",
        "\n",
        "##### 正答率 のグラフ表示\n",
        "# 訓練データの accuracy を取り出して train_accuracy に代入\n",
        "train_accuracy = history.history['accuracy']\n",
        "# 同様に検証データの accuracy を取り出して val_accuracy に代入\n",
        "val_accuracy = history.history['val_accuracy']\n",
        "\n",
        "# train_accuracy と val_accuracy をプロットする\n",
        "plt.plot(train_accuracy, label='training')\n",
        "plt.plot(val_accuracy, label='validation')\n",
        "# グラフのタイトル\n",
        "plt.title('accuracy over epochs')\n",
        "# x軸の名前\n",
        "plt.xlabel('epochs')\n",
        "# y軸の名前\n",
        "plt.ylabel('accuracy')\n",
        "# 凡例\n",
        "plt.legend()\n",
        "# これらをすべてまとめて表示\n",
        "plt.show()\n",
        "\n",
        "#### テストデータでの評価\n",
        "print('Evaluate with test data')\n",
        "model.evaluate(test_images,test_labels, verbose=1)\n"
      ],
      "metadata": {
        "colab": {
          "base_uri": "https://localhost:8080/",
          "height": 1000
        },
        "outputId": "30d4a844-7546-49c0-f7a6-4d8e41ba976f",
        "id": "ews38G8Q837d"
      },
      "execution_count": 5,
      "outputs": [
        {
          "output_type": "stream",
          "name": "stdout",
          "text": [
            "Model Summary\n",
            "Model: \"sequential_2\"\n",
            "_________________________________________________________________\n",
            " Layer (type)                Output Shape              Param #   \n",
            "=================================================================\n",
            " flatten_2 (Flatten)         (None, 784)               0         \n",
            "                                                                 \n",
            " dense_4 (Dense)             (None, 128)               100480    \n",
            "                                                                 \n",
            " dropout_2 (Dropout)         (None, 128)               0         \n",
            "                                                                 \n",
            " dense_5 (Dense)             (None, 10)                1290      \n",
            "                                                                 \n",
            " softmax (Softmax)           (None, 10)                0         \n",
            "                                                                 \n",
            "=================================================================\n",
            "Total params: 101,770\n",
            "Trainable params: 101,770\n",
            "Non-trainable params: 0\n",
            "_________________________________________________________________\n",
            "None\n",
            "Epoch 1/10\n",
            "375/375 [==============================] - 2s 4ms/step - loss: 0.6304 - accuracy: 0.7792 - val_loss: 0.4482 - val_accuracy: 0.8402\n",
            "Epoch 2/10\n",
            "375/375 [==============================] - 1s 4ms/step - loss: 0.4383 - accuracy: 0.8427 - val_loss: 0.3870 - val_accuracy: 0.8651\n",
            "Epoch 3/10\n",
            "375/375 [==============================] - 1s 3ms/step - loss: 0.3901 - accuracy: 0.8603 - val_loss: 0.3819 - val_accuracy: 0.8635\n",
            "Epoch 4/10\n",
            "375/375 [==============================] - 1s 3ms/step - loss: 0.3668 - accuracy: 0.8673 - val_loss: 0.3654 - val_accuracy: 0.8716\n",
            "Epoch 5/10\n",
            "375/375 [==============================] - 1s 3ms/step - loss: 0.3473 - accuracy: 0.8722 - val_loss: 0.3470 - val_accuracy: 0.8767\n",
            "Epoch 6/10\n",
            "375/375 [==============================] - 1s 3ms/step - loss: 0.3321 - accuracy: 0.8791 - val_loss: 0.3363 - val_accuracy: 0.8777\n",
            "Epoch 7/10\n",
            "375/375 [==============================] - 1s 3ms/step - loss: 0.3221 - accuracy: 0.8820 - val_loss: 0.3354 - val_accuracy: 0.8801\n",
            "Epoch 8/10\n",
            "375/375 [==============================] - 1s 3ms/step - loss: 0.3119 - accuracy: 0.8842 - val_loss: 0.3290 - val_accuracy: 0.8818\n",
            "Epoch 9/10\n",
            "375/375 [==============================] - 1s 3ms/step - loss: 0.3035 - accuracy: 0.8888 - val_loss: 0.3419 - val_accuracy: 0.8772\n",
            "Epoch 10/10\n",
            "375/375 [==============================] - 1s 3ms/step - loss: 0.2948 - accuracy: 0.8905 - val_loss: 0.3574 - val_accuracy: 0.8783\n"
          ]
        },
        {
          "output_type": "display_data",
          "data": {
            "text/plain": [
              "<Figure size 432x288 with 1 Axes>"
            ],
            "image/png": "[encoded data removed]"
          },
          "metadata": {
            "needs_background": "light"
          }
        },
        {
          "output_type": "display_data",
          "data": {
            "text/plain": [
              "<Figure size 432x288 with 1 Axes>"
            ],
            "image/png": "[encoded data removed]"
          },
          "metadata": {
            "needs_background": "light"
          }
        },
        {
          "output_type": "stream",
          "name": "stdout",
          "text": [
            "Evaluate with test data\n",
            "313/313 [==============================] - 1s 2ms/step - loss: 0.3811 - accuracy: 0.8725\n"
          ]
        },
        {
          "output_type": "execute_result",
          "data": {
            "text/plain": [
              "[0.3811051547527313, 0.8725000023841858]"
            ]
          },
          "metadata": {},
          "execution_count": 5
        }
      ]
    },
    {
      "cell_type": "code",
      "source": [
        "# CNN\n",
        "\n",
        "##### 必要なモジュールのインポート\n",
        "import numpy as np\n",
        "import matplotlib.pyplot as plt\n",
        "from tensorflow import keras\n",
        "from tensorflow.keras import layers\n",
        "from tensorflow.keras.models import Sequential\n",
        "\n",
        "\n",
        "##### データの準備\n",
        "# fashion-mnistデータセットを入手\n",
        "from tensorflow.keras.datasets import fashion_mnist\n",
        "(train_images, train_labels), (test_images, test_labels) = fashion_mnist.load_data()\n",
        "\n",
        "# データの正規化\n",
        "# 訓練データを、3次元のテンソルが60000枚スタックしているという形状に変更する\n",
        "train_images = train_images.reshape((60000, 28, 28, 1))\n",
        "# 画素値を 0-255 から、 0-1 に正規化する\n",
        "train_images = train_images / 255.0\n",
        "\n",
        "# テストデータも同様\n",
        "test_images = test_images.reshape((10000, 28, 28, 1))\n",
        "test_images = test_images / 255.0\n",
        "\n",
        "\n",
        "##### モデルの構築 (全結合層とCNNの違いはここだけ！)\n",
        "# モデルを初期化する\n",
        "model = []\n",
        "\n",
        "# Sequential関数を使って、モデルに層を設定していく\n",
        "model = Sequential()\n",
        "\n",
        "# 32種類の 3x3 のフィルタを使って畳み込みを行う\n",
        "model.add(layers.Conv2D(filters=32, kernel_size=3, activation='relu',\n",
        "                        input_shape=(28, 28, 1)))\n",
        "# 2x2 で分割し最大値プーリング演算を行う\n",
        "# これにより、出力される特徴量マップは 13x13x32 になる\n",
        "model.add(layers.MaxPooling2D(pool_size=2))\n",
        "\n",
        "# 64種類の 3x3 のフィルタを使って畳み込みを行う\n",
        "model.add(layers.Conv2D(filters=64, kernel_size=3, activation='relu'))\n",
        "# 2x2 で分割し最大値プーリング演算を行う\n",
        "# これにより、出力される特徴量マップは 5x5x64 になる\n",
        "model.add(layers.MaxPooling2D(pool_size=2))\n",
        "\n",
        "# 128種類の 3x3 のフィルタを使って畳み込みを行う\n",
        "# 特徴量マップは 3x3x128 となり、縦と横は十分小さいので、プーリングは必要ない\n",
        "model.add(layers.Conv2D(filters=128, kernel_size=3, activation='relu'))\n",
        "\n",
        "# 全結合層に投入するために、3次元のデータを1次元に変換する\n",
        "model.add(layers.Flatten())\n",
        "\n",
        "# ユニット数128の隠れ層を使用する。活性化関数は ReLU\n",
        "model.add(layers.Dense(128,activation='relu'))\n",
        "\n",
        "# Dropout率を0.2で設定\n",
        "model.add(layers.Dropout(0.2))\n",
        "\n",
        "# ソフトマックス関数を使って、10クラス分類を行う\n",
        "model.add(layers.Dense(10, activation='softmax'))\n",
        "\n",
        "# モデルのサマリを表示\n",
        "print('Model Summary')\n",
        "print(model.summary())\n",
        "\n",
        "\n",
        "#### モデルの最適化\n",
        "# オプティマイザはRMSpropを使用する\n",
        "# 損失関数は sparse_categorical_crossentropy を使用する\n",
        "# モデルの評価には accuracy を使用する\n",
        "model.compile(optimizer='rmsprop',\n",
        "              loss='sparse_categorical_crossentropy',\n",
        "              metrics=['accuracy'])\n",
        "\n",
        "\n",
        "#### モデルの学習\n",
        "# history.history の初期化\n",
        "# hisotry.historyは dict型\n",
        "history=[]\n",
        "\n",
        "# 学習の際に訓練データの2割を検証データに使用する\n",
        "# ミニバッチ学習を行う。バッチサイズは128\n",
        "# エポック数は10とし、10回学習させる\n",
        "history = model.fit(train_images,train_labels,\n",
        "                    validation_split=0.2,\n",
        "                    batch_size=128,\n",
        "                    epochs=10)\n",
        "\n",
        "\n",
        "##### 損失値のグラフ表示\n",
        "# 訓練データの損失値 loss と検証データの損失値 val_loss をグラフとして表示\n",
        "# 訓練データの loss の値を取り出して train_loss に代入\n",
        "# ディクショナリ型の値は 変数名['キー名']　で取り出せる\n",
        "train_loss = history.history['loss']\n",
        "# 同様に検証データの loss の値を取り出して val_loss に代入\n",
        "val_loss = history.history['val_loss']\n",
        "\n",
        "# train_loss と val_loss をプロットする\n",
        "plt.plot(train_loss, label='training')\n",
        "plt.plot(val_loss, label='validation')\n",
        "# グラフのタイトル\n",
        "plt.title('loss over epochs')\n",
        "# x軸の名前\n",
        "plt.xlabel('epochs')\n",
        "# y軸の名前\n",
        "plt.ylabel('loss')\n",
        "# 凡例\n",
        "plt.legend()\n",
        "# これらをすべてまとめて表示\n",
        "plt.show()\n",
        "\n",
        "\n",
        "##### 正答率 のグラフ表示\n",
        "# 訓練データの accuracy を取り出して train_accuracy に代入\n",
        "train_accuracy = history.history['accuracy']\n",
        "# 同様に検証データの accuracy を取り出して val_accuracy に代入\n",
        "val_accuracy = history.history['val_accuracy']\n",
        "\n",
        "# train_accuracy と val_accuracy をプロットする\n",
        "plt.plot(train_accuracy, label='training')\n",
        "plt.plot(val_accuracy, label='validation')\n",
        "# グラフのタイトル\n",
        "plt.title('accuracy over epochs')\n",
        "# x軸の名前\n",
        "plt.xlabel('epochs')\n",
        "# y軸の名前\n",
        "plt.ylabel('accuracy')\n",
        "# 凡例\n",
        "plt.legend()\n",
        "# これらをすべてまとめて表示\n",
        "plt.show()\n",
        "\n",
        "#### テストデータでの評価\n",
        "print('Evaluate with test data')\n",
        "model.evaluate(test_images,test_labels, verbose=1)\n"
      ],
      "metadata": {
        "colab": {
          "base_uri": "https://localhost:8080/",
          "height": 1000
        },
        "outputId": "6b6580f2-1477-4879-f51f-99b185ac07b9",
        "id": "kwrY_w596Axu"
      },
      "execution_count": 6,
      "outputs": [
        {
          "output_type": "stream",
          "name": "stdout",
          "text": [
            "Model Summary\n",
            "Model: \"sequential_3\"\n",
            "_________________________________________________________________\n",
            " Layer (type)                Output Shape              Param #   \n",
            "=================================================================\n",
            " conv2d_6 (Conv2D)           (None, 26, 26, 32)        320       \n",
            "                                                                 \n",
            " max_pooling2d_4 (MaxPooling  (None, 13, 13, 32)       0         \n",
            " 2D)                                                             \n",
            "                                                                 \n",
            " conv2d_7 (Conv2D)           (None, 11, 11, 64)        18496     \n",
            "                                                                 \n",
            " max_pooling2d_5 (MaxPooling  (None, 5, 5, 64)         0         \n",
            " 2D)                                                             \n",
            "                                                                 \n",
            " conv2d_8 (Conv2D)           (None, 3, 3, 128)         73856     \n",
            "                                                                 \n",
            " flatten_3 (Flatten)         (None, 1152)              0         \n",
            "                                                                 \n",
            " dense_6 (Dense)             (None, 128)               147584    \n",
            "                                                                 \n",
            " dropout_3 (Dropout)         (None, 128)               0         \n",
            "                                                                 \n",
            " dense_7 (Dense)             (None, 10)                1290      \n",
            "                                                                 \n",
            "=================================================================\n",
            "Total params: 241,546\n",
            "Trainable params: 241,546\n",
            "Non-trainable params: 0\n",
            "_________________________________________________________________\n",
            "None\n",
            "Epoch 1/10\n",
            "375/375 [==============================] - 3s 6ms/step - loss: 0.6502 - accuracy: 0.7586 - val_loss: 0.3968 - val_accuracy: 0.8576\n",
            "Epoch 2/10\n",
            "375/375 [==============================] - 2s 6ms/step - loss: 0.3788 - accuracy: 0.8621 - val_loss: 0.3464 - val_accuracy: 0.8702\n",
            "Epoch 3/10\n",
            "375/375 [==============================] - 2s 6ms/step - loss: 0.3178 - accuracy: 0.8837 - val_loss: 0.3222 - val_accuracy: 0.8806\n",
            "Epoch 4/10\n",
            "375/375 [==============================] - 2s 5ms/step - loss: 0.2785 - accuracy: 0.8974 - val_loss: 0.2878 - val_accuracy: 0.8947\n",
            "Epoch 5/10\n",
            "375/375 [==============================] - 2s 6ms/step - loss: 0.2518 - accuracy: 0.9064 - val_loss: 0.2667 - val_accuracy: 0.9010\n",
            "Epoch 6/10\n",
            "375/375 [==============================] - 2s 6ms/step - loss: 0.2289 - accuracy: 0.9164 - val_loss: 0.2735 - val_accuracy: 0.9032\n",
            "Epoch 7/10\n",
            "375/375 [==============================] - 2s 6ms/step - loss: 0.2095 - accuracy: 0.9236 - val_loss: 0.2610 - val_accuracy: 0.9024\n",
            "Epoch 8/10\n",
            "375/375 [==============================] - 2s 6ms/step - loss: 0.1926 - accuracy: 0.9291 - val_loss: 0.2525 - val_accuracy: 0.9083\n",
            "Epoch 9/10\n",
            "375/375 [==============================] - 2s 6ms/step - loss: 0.1748 - accuracy: 0.9357 - val_loss: 0.2522 - val_accuracy: 0.9125\n",
            "Epoch 10/10\n",
            "375/375 [==============================] - 2s 7ms/step - loss: 0.1628 - accuracy: 0.9398 - val_loss: 0.2640 - val_accuracy: 0.9100\n"
          ]
        },
        {
          "output_type": "display_data",
          "data": {
            "text/plain": [
              "<Figure size 432x288 with 1 Axes>"
            ],
            "image/png": "[encoded data removed]"
          },
          "metadata": {
            "needs_background": "light"
          }
        },
        {
          "output_type": "display_data",
          "data": {
            "text/plain": [
              "<Figure size 432x288 with 1 Axes>"
            ],
            "image/png": "[encoded data removed]"
          },
          "metadata": {
            "needs_background": "light"
          }
        },
        {
          "output_type": "stream",
          "name": "stdout",
          "text": [
            "Evaluate with test data\n",
            "313/313 [==============================] - 1s 3ms/step - loss: 0.2736 - accuracy: 0.9085\n"
          ]
        },
        {
          "output_type": "execute_result",
          "data": {
            "text/plain": [
              "[0.27361565828323364, 0.9085000157356262]"
            ]
          },
          "metadata": {},
          "execution_count": 6
        }
      ]
    },
    {
      "cell_type": "code",
      "source": [
        ""
      ],
      "metadata": {
        "id": "2ALU4_64AY7_"
      },
      "execution_count": null,
      "outputs": []
    }
  ],
  "metadata": {
    "kernelspec": {
      "display_name": "Python 3",
      "language": "python",
      "name": "python3"
    },
    "language_info": {
      "codemirror_mode": {
        "name": "ipython",
        "version": 3
      },
      "file_extension": ".py",
      "mimetype": "text/x-python",
      "name": "python",
      "nbconvert_exporter": "python",
      "pygments_lexer": "ipython3",
      "version": "3.6.9"
    },
    "colab": {
      "name": "python_2-2_mnist.ipynb",
      "provenance": [],
      "collapsed_sections": [],
      "include_colab_link": true
    },
    "accelerator": "GPU",
    "gpuClass": "standard"
  },
  "nbformat": 4,
  "nbformat_minor": 0
}