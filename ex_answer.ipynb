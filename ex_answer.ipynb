{
 "cells": [
  {
   "attachments": {},
   "cell_type": "markdown",
   "metadata": {},
   "source": [
    "# AI-MAILs\n",
    "## 練習問題の解答\n",
    "Ver.20220802"
   ]
  },
  {
   "cell_type": "code",
   "execution_count": null,
   "metadata": {},
   "outputs": [],
   "source": [
    "import numpy as np"
   ]
  },
  {
   "attachments": {},
   "cell_type": "markdown",
   "metadata": {},
   "source": [
    "### 1-1: 練習問題\n",
    "- あなたは摂食障害の患者さんの受け持ちになりました。毎週、BMIを計算して指導医に報告する必要があります。\n",
    "\n",
    "- 以下を行ってください。\n",
    "    - def を使って、身長 ht (m) と 体重 bw (kg) が与えられた時に、BMIを算出する関数 calc_bmi を定義してください。\n",
    "        - return に bmi を指定してください\n",
    "        - BMI は 体重 / (身長の2乗) で求められます\n",
    "\n",
    "- input 関数を使って、身長を cm で入力させ、プログラムで m に変換させてください\n",
    "- 同様に input 関数を使って、体重を kg で入力させてください\n",
    "- 「BMIは ○○ です」と表示させてください"
   ]
  },
  {
   "cell_type": "code",
   "execution_count": null,
   "metadata": {},
   "outputs": [],
   "source": [
    "# 正解例\n",
    "\n",
    "def calc_bmi(ht, bw):\n",
    "    bmi = bw / (ht ** 2)\n",
    "    return bmi\n",
    "\n",
    "ht = input('身長(cm)を入力してください: ')\n",
    "bw = input('体重(kg)を入力してください: ')\n",
    "\n",
    "ht = float(ht) / 100\n",
    "bw = float(bw)\n",
    "\n",
    "bmi = calc_bmi(ht, bw)\n",
    "print('BMIは {} です'.format(bmi))"
   ]
  },
  {
   "attachments": {},
   "cell_type": "markdown",
   "metadata": {},
   "source": [
    "### 1-2: 練習問題\n",
    "- 効果量としてよく用いられる Cohen's d を求める関数 cohen_d() を作成しましょう\n",
    "- Cohen's d は以下で規定されます\n",
    "    - $n_1$: Group 1 のサンプルサイズ\n",
    "    - $m_1$: Group 1 の平均\n",
    "    - $s_1$: Group 1 の標準偏差\n",
    "    - $n_2$: Group 2 のサンプルサイズ\n",
    "    - $m_2$: Group 2 の平均\n",
    "    - $s_2$: Group 2 の標準偏差\n",
    "\n",
    "$$\n",
    "   Cohen's \\ d = \\frac{| m_1 - m_2 |}{s_c}\n",
    "$$\n",
    "\n",
    "$$\n",
    "s_c = \\sqrt{\\frac{(n_1 - 1)s_1^2 + (n_2 - 1)s_2^2}{n_1 + n_2 - 2}}\n",
    "$$\n",
    "\n",
    "- 以下を意識しながら関数を作成してみてください\n",
    "    - 入力されるリストをまずNumPy形式に変換します\n",
    "    - その後、サンプルサイズ、平均、標準偏差をNumPyの様々な関数、メソッドを用いて求めます\n",
    "    - return で効果量を返します\n",
    "\n",
    "- 以下のリストを引数に使ってCohen's dを求めてください。\n",
    "\n",
    "```\n",
    "class1 = [95, 45, 60, 75, 80, 74, 98, 40, 67, 85]\n",
    "class2 = [75, 55, 40, 85, 50, 64, 68, 50, 47, 65, 50]\n",
    "```\n"
   ]
  },
  {
   "cell_type": "code",
   "execution_count": null,
   "metadata": {},
   "outputs": [],
   "source": [
    "# 正解例\n",
    "\n",
    "def cohen_d(a,b):\n",
    "    # a とbにはそれぞれリストが入ってくる\n",
    "    # まずは NumPy形式に変換\n",
    "    g1 = np.array(a)\n",
    "    g2 = np.array(b)\n",
    "    # 要素数は size属性で求められる\n",
    "    n1 = g1.size\n",
    "    n2 = g2.size\n",
    "    # 平均は メソッド mean() で求められる\n",
    "    m1 = g1.mean()\n",
    "    m2 = g2.mean()\n",
    "    # 標準偏差は メソッド std() で求められる\n",
    "    s1 = g1.std()\n",
    "    s2 = g2.std()\n",
    "    # scを定義に基づいて計算。平方根は np.sqrt()\n",
    "    sc = np.sqrt(((n1 -1) * s1 ** 2 + (n2 -1) * s2 ** 2)/(n1 + n2 -2))\n",
    "    # d を定義に基づいて計算。絶対値は np.abs()\n",
    "    d = np.abs(m1 - m2) / sc\n",
    "    # d を戻す\n",
    "    return d\n",
    "\n",
    "class1 = [95, 45, 60, 75, 80, 74, 98, 40, 67, 85]\n",
    "class2 = [75, 55, 40, 85, 50, 64, 68, 50, 47, 65, 50]\n",
    "\n",
    "d = cohen_d(class1,class2)\n",
    "print(\"Cohen's d: {}\".format(d))"
   ]
  }
 ],
 "metadata": {
  "kernelspec": {
   "display_name": "Python 3",
   "language": "python",
   "name": "python3"
  },
  "language_info": {
   "codemirror_mode": {
    "name": "ipython",
    "version": 3
   },
   "file_extension": ".py",
   "mimetype": "text/x-python",
   "name": "python",
   "nbconvert_exporter": "python",
   "pygments_lexer": "ipython3",
   "version": "3.6.9"
  }
 },
 "nbformat": 4,
 "nbformat_minor": 4
}
