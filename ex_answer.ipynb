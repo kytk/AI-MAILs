{
 "cells": [
  {
   "cell_type": "markdown",
   "metadata": {},
   "source": [
    "# AI-MAILs-2022\n",
    "## 練習問題の解答\n",
    "Ver.20220802"
   ]
  },
  {
   "cell_type": "code",
   "execution_count": null,
   "metadata": {},
   "outputs": [],
   "source": [
    "import numpy as np"
   ]
  },
  {
   "cell_type": "markdown",
   "metadata": {},
   "source": [
    "### 1-1: 練習問題\n",
    "- あなたは小学生の太郎くんの家庭教師をすることになりました。\n",
    "- 太郎くんに円の面積を教えることになりました。\n",
    "- ドリルを作成することになり、自分としては、簡単に答えを準備しておきたいと思います。\n",
    "\n",
    "- 以下を行ってください。\n",
    "    - def を使って、半径が与えられた時に円の面積を求める関数 circle_area を定義してください。\n",
    "        - return に 半径 r の円の面積 を指定してください\n",
    "    - 円周率は、3.14としてください\n",
    "    - forループとrange()関数を使って、半径 0cm - 10cm までの面積を求めてください\n",
    "        - 「半径 r の円の面積: area」のように表示してください"
   ]
  },
  {
   "cell_type": "code",
   "execution_count": null,
   "metadata": {},
   "outputs": [],
   "source": [
    "# 正解例\n",
    "\n",
    "def circle_area(r):\n",
    "    area = 3.14 * r ** 2\n",
    "    return area\n",
    "\n",
    "for r in range(11):\n",
    "    print('半径 {} の円の面積: {}'.format(r,circle_area(r)))"
   ]
  },
  {
   "cell_type": "markdown",
   "metadata": {},
   "source": [
    "### 1-2: 練習問題\n",
    "- 効果量としてよく用いられる Cohen's d を求める関数 cohen_d() を作成しましょう\n",
    "- Cohen's d は以下で規定されます\n",
    "    - $n_1$: Group 1 のサンプルサイズ\n",
    "    - $m_1$: Group 1 の平均\n",
    "    - $s_1$: Group 1 の標準偏差\n",
    "    - $n_2$: Group 2 のサンプルサイズ\n",
    "    - $m_2$: Group 2 の平均\n",
    "    - $s_2$: Group 2 の標準偏差\n",
    "\n",
    "$$\n",
    "   Cohen's \\ d = \\frac{| m_1 - m_2 |}{s_c}\n",
    "$$\n",
    "\n",
    "$$\n",
    "s_c = \\sqrt{\\frac{(n_1 - 1)s_1^2 + (n_2 - 1)s_2^2}{n_1 + n_2 - 2}}\n",
    "$$\n",
    "\n",
    "- 以下を意識しながら関数を作成してみてください\n",
    "    - 入力されるリストをまずNumPy形式に変換します\n",
    "    - その後、サンプルサイズ、平均、標準偏差をNumPyの様々な関数、メソッドを用いて求めます\n",
    "    - return で効果量を返します\n",
    "\n",
    "- 以下のリストを引数に使ってCohen's dを求めてください。\n",
    "\n",
    "```\n",
    "class1 = [95, 45, 60, 75, 80, 74, 98, 40, 67, 85]\n",
    "class2 = [75, 55, 40, 85, 50, 64, 68, 50, 47, 65, 50]\n",
    "```\n"
   ]
  },
  {
   "cell_type": "code",
   "execution_count": null,
   "metadata": {},
   "outputs": [],
   "source": [
    "# 正解例\n",
    "\n",
    "def cohen_d(a,b):\n",
    "    # a とbにはそれぞれリストが入ってくる\n",
    "    # まずは NumPy形式に変換\n",
    "    g1 = np.array(a)\n",
    "    g2 = np.array(b)\n",
    "    # 要素数は size属性で求められる\n",
    "    n1 = g1.size\n",
    "    n2 = g2.size\n",
    "    # 平均は メソッド mean() で求められる\n",
    "    m1 = g1.mean()\n",
    "    m2 = g2.mean()\n",
    "    # 標準偏差は メソッド std() で求められる\n",
    "    s1 = g1.std()\n",
    "    s2 = g2.std()\n",
    "    # scを定義に基づいて計算。平方根は np.sqrt()\n",
    "    sc = np.sqrt(((n1 -1) * s1 ** 2 + (n2 -1) * s2 ** 2)/(n1 + n2 -2))\n",
    "    # d を定義に基づいて計算。絶対値は np.abs()\n",
    "    d = np.abs(m1 - m2) / sc\n",
    "    # d を戻す\n",
    "    return d\n",
    "\n",
    "class1 = [95, 45, 60, 75, 80, 74, 98, 40, 67, 85]\n",
    "class2 = [75, 55, 40, 85, 50, 64, 68, 50, 47, 65, 50]\n",
    "\n",
    "d = cohen_d(class1,class2)\n",
    "print(\"Cohen's d: {}\".format(d))"
   ]
  }
 ],
 "metadata": {
  "kernelspec": {
   "display_name": "Python 3",
   "language": "python",
   "name": "python3"
  },
  "language_info": {
   "codemirror_mode": {
    "name": "ipython",
    "version": 3
   },
   "file_extension": ".py",
   "mimetype": "text/x-python",
   "name": "python",
   "nbconvert_exporter": "python",
   "pygments_lexer": "ipython3",
   "version": "3.6.9"
  }
 },
 "nbformat": 4,
 "nbformat_minor": 4
}
