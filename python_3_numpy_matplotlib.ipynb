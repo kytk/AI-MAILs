{
 "cells": [
  {
   "attachments": {},
   "cell_type": "markdown",
   "metadata": {},
   "source": [
    "<a href=\"https://colab.research.google.com/github/kytk/AI-MAILs/blob/main/python_3_numpy.ipynb?hl=ja\" target=\"_blank\"><img src=\"https://colab.research.google.com/assets/colab-badge.svg\" alt=\"Open In Colab\"/></a>"
   ]
  },
  {
   "attachments": {},
   "cell_type": "markdown",
   "metadata": {},
   "source": [
    "## 医療従事者のためのPython: NumPy と Matplotlib\n",
    "Ver.20240704"
   ]
  },
  {
   "attachments": {},
   "cell_type": "markdown",
   "metadata": {},
   "source": [
    "## 本セクションの目標\n",
    "- NumPyの配列に慣れる\n",
    "- 一般的な画像のNumPyへの取り込み方について理解する\n",
    "- Matplotlibでの図示の基本を理解する"
   ]
  },
  {
   "attachments": {},
   "cell_type": "markdown",
   "metadata": {},
   "source": [
    "## 目次\n",
    "1. Numpyとは\n",
    "2. なぜNumpy?\n",
    "3. Numpyのインポート\n",
    "4. NumPy配列の生成\n",
    "5. リスト と Numpy配列 の違い\n",
    "6. NumPyの算術計算\n",
    "7. 絶対値、平方根、最大値、最小値の計算\n",
    "8. ブロードキャスト\n",
    "9. NumPyの2次元配列（行列）\n",
    "10. テンソル\n",
    "11. NumPy配列の要素へのアクセス\n",
    "12. 最大、最小、平均、標準偏差\n",
    "13. 行列の結合\n",
    "14. Matplotlib\n",
    "15. 画像の NumPy配列 への読み込み\n",
    "16. 画像を1次元の配列に変換する\n",
    "17. 行列の内積\n",
    "18. 練習問題"
   ]
  },
  {
   "attachments": {},
   "cell_type": "markdown",
   "metadata": {},
   "source": [
    "### 1. Numpyとは\n",
    "- NumPy is the fundamental package for scientific computing in Python. (https://numpy.org/doc/stable/user/whatisnumpy.html)\n",
    "- 行列演算などを行うことのできる、Pythonにおける科学計算には必須のパッケージ\n",
    "- NumPy を使うことで、PythonがMatlabのように行列演算ができるようになる"
   ]
  },
  {
   "attachments": {},
   "cell_type": "markdown",
   "metadata": {},
   "source": [
    "### 2. なぜNumpy？\n",
    "- 3 x 3 の行列が2つあると考える\n",
    "\n",
    "$$\n",
    "A = \n",
    "\\begin{bmatrix}\n",
    "1 & 3 & 5 \\\\ \n",
    "2 & 4 & 6 \\\\\n",
    "5 & 7 & 11\n",
    "\\end{bmatrix}\n",
    "$$\n",
    "\n",
    "$$\n",
    "B = \n",
    "\\begin{bmatrix}\n",
    "3 & 4 & 5 \\\\ \n",
    "9 & 8 & 7 \\\\\n",
    "1 & 6 & 2\n",
    "\\end{bmatrix}\n",
    "$$\n",
    "\n",
    "- A と B のそれぞれの要素を足し算するとしたらどうする？\n",
    "\n",
    "- Numpyがなかったら…\n",
    "    - for文を使って、m行n列の要素をAとBからそれぞれ取り出す\n",
    "    - AとBの同じ要素にあるものを足し算したものを、新たなリストのm行n列に入れる\n",
    "    - できなくはないが、大変\n",
    "\n",
    "- Numpyがあったら…\n",
    "    - A + B\n",
    "    - おしまい\n",
    "\n",
    "- 画像の計算などをさせる場合に、行列 / テンソル（後述）で表示し、それをそのまま計算できる numpy は非常に便利\n"
   ]
  },
  {
   "cell_type": "code",
   "execution_count": null,
   "metadata": {},
   "outputs": [],
   "source": [
    "# Numpyを使わない場合\n",
    "\n",
    "A = [[1,3,5],\n",
    "     [2,4,6],\n",
    "     [5,7,11]]  \n",
    "\n",
    "B = [[3,4,5],\n",
    "     [9,8,7],\n",
    "     [1,6,2]]\n",
    "\n",
    "print('A:')\n",
    "print(A)\n",
    "\n",
    "print('B:')\n",
    "print(B)\n",
    "\n",
    "# 新しい行列Cを準備\n",
    " # AとBのm行n列をそれぞれ足してCのm行n列に代入\n",
    "C = [[0,0,0],\n",
    "     [0,0,0],\n",
    "     [0,0,0]]\n",
    "\n",
    "for i in range(3):\n",
    "  for j in range(3):\n",
    "    C[i][j] = A[i][j] + B[i][j]\n",
    "\n",
    "print('C:')\n",
    "print(C)\n"
   ]
  },
  {
   "cell_type": "code",
   "execution_count": null,
   "metadata": {},
   "outputs": [],
   "source": [
    "# Numpy を使う場合\n",
    "\n",
    "import numpy as np\n",
    "A = np.array([[1,3,5],\n",
    "              [2,4,6],\n",
    "              [5,7,11]])\n",
    "\n",
    "B = np.array([[3,4,5],\n",
    "              [9,8,7],\n",
    "              [1,6,2]])\n",
    "\n",
    "print('A:')\n",
    "print(A)\n",
    "\n",
    "print('B:')\n",
    "print(B)\n",
    "\n",
    "# C は AとBを足すだけ\n",
    "C = A + B\n",
    "\n",
    "print('C:')\n",
    "print(C)"
   ]
  },
  {
   "attachments": {},
   "cell_type": "markdown",
   "metadata": {},
   "source": [
    "### 3. Numpyのインポート\n",
    "\n",
    "- numpyは np という別名でインポートされることが多い\n",
    "\n",
    "    ```\n",
    "    import numpy as np\n",
    "    ```\n",
    "\n",
    "- その後は、numpyのメソッドは、すべて np.メソッド として利用する"
   ]
  },
  {
   "cell_type": "code",
   "execution_count": null,
   "metadata": {},
   "outputs": [],
   "source": [
    "# numpy を np としてインポート\n",
    "import numpy as np"
   ]
  },
  {
   "attachments": {},
   "cell_type": "markdown",
   "metadata": {},
   "source": [
    "### 4. NumPy配列の生成\n",
    "\n",
    "- 配列を作成するためには、np.array() メソッドを使用する\n",
    "- 入力にはリストを使う\n",
    "- 型は numpy.ndarray 型となる\n",
    "    - nd とは N-dimensional (N次元)の意味\n",
    "    - ndarray は \"N次元の配列\" という意味"
   ]
  },
  {
   "cell_type": "code",
   "execution_count": null,
   "metadata": {},
   "outputs": [],
   "source": [
    "# NumPy配列として、[1, 2, 3] を x に代入\n",
    "x = np.array([1, 2, 3])\n",
    "\n",
    "# xの内容を表示\n",
    "x"
   ]
  },
  {
   "cell_type": "code",
   "execution_count": null,
   "metadata": {},
   "outputs": [],
   "source": [
    "# NumPyの配列は numpy.ndarray型となる\n",
    "type(x)"
   ]
  },
  {
   "attachments": {},
   "cell_type": "markdown",
   "metadata": {},
   "source": [
    "### 5. リスト と Numpy配列 の違い\n",
    "- リスト と 1次元の Numpy配列は見た目は似ているが、使えるメソッドが異なる\n",
    "- NumPy配列の方が様々なことができる"
   ]
  },
  {
   "cell_type": "code",
   "execution_count": null,
   "metadata": {},
   "outputs": [],
   "source": [
    "# x_list に [1, 2, 3] を代入\n",
    "x_list = [1, 2, 3]\n",
    "\n",
    "# x_list の内容を表示\n",
    "x_list"
   ]
  },
  {
   "cell_type": "code",
   "execution_count": null,
   "metadata": {},
   "outputs": [],
   "source": [
    "# これはリスト型\n",
    "type(x_list)"
   ]
  },
  {
   "cell_type": "code",
   "execution_count": null,
   "metadata": {},
   "outputs": [],
   "source": [
    "# x_numpy に [1, 2, 3] を代入\n",
    "x_numpy = np.array([1, 2, 3])\n",
    "\n",
    "# x_numpy の内容を表示\n",
    "x_numpy"
   ]
  },
  {
   "cell_type": "code",
   "execution_count": null,
   "metadata": {},
   "outputs": [],
   "source": [
    "# これは numpy.ndarray型\n",
    "type(x_numpy)"
   ]
  },
  {
   "cell_type": "code",
   "execution_count": null,
   "metadata": {},
   "outputs": [],
   "source": [
    "# データ(オブジェクト)が持つ通常メソッドを出力する関数\n",
    "def get_normal_methods(obj):\n",
    "    \"\"\"\n",
    "    指定されたオブジェクトの通常メソッドのリストを返す関数\n",
    "    :param obj: 通常メソッドを取得する対象のオブジェクト\n",
    "    :return: 通常メソッドの名前のリスト\n",
    "    \"\"\"\n",
    "    all_methods = dir(obj)\n",
    "    normal_methods = [method for method in all_methods if not method.startswith('__')]\n",
    "    return normal_methods\n",
    "\n",
    "def print_normal_methods(obj):\n",
    "    \"\"\"\n",
    "    指定されたオブジェクトの通常メソッドの数と一覧を出力する関数\n",
    "    :param obj: 通常メソッドを出力する対象のオブジェクト\n",
    "    \"\"\"\n",
    "    typename = type(obj)\n",
    "    normal_methods = get_normal_methods(obj)\n",
    "    num_normal_methods = len(normal_methods)\n",
    "    print(f'{typename} has {num_normal_methods} methods:')\n",
    "    for method in normal_methods:\n",
    "        print(method)"
   ]
  },
  {
   "cell_type": "code",
   "execution_count": null,
   "metadata": {
    "scrolled": true
   },
   "outputs": [],
   "source": [
    "# x_list で利用できるメソッドを確認する\n",
    "# dir() 関数を使うと利用可能なメソッドが表示できる\n",
    "# remove, sort などはあるが数値計算はできない\n",
    "print_normal_methods(x_list)"
   ]
  },
  {
   "cell_type": "code",
   "execution_count": null,
   "metadata": {},
   "outputs": [],
   "source": [
    "# x_numpy で利用できるメソッドを確認する\n",
    "# リスト型よりやれることがたくさんある\n",
    "# mean, min, max などちょっとした計算がすぐにできる\n",
    "print_normal_methods(x_numpy)"
   ]
  },
  {
   "attachments": {},
   "cell_type": "markdown",
   "metadata": {},
   "source": [
    "### 6. NumPyの算術計算\n",
    "- NumPyの計算は基本的に「要素毎」の計算となる\n"
   ]
  },
  {
   "cell_type": "code",
   "execution_count": null,
   "metadata": {},
   "outputs": [],
   "source": [
    "#改めて x を表示\n",
    "x"
   ]
  },
  {
   "cell_type": "code",
   "execution_count": null,
   "metadata": {},
   "outputs": [],
   "source": [
    "# y に [4, 8, 10] を代入\n",
    "y = np.array([4, 8, 10])\n",
    "\n",
    "# y を表示\n",
    "y"
   ]
  },
  {
   "cell_type": "code",
   "execution_count": null,
   "metadata": {},
   "outputs": [],
   "source": [
    "# 要素毎に足し算される\n",
    "x + y"
   ]
  },
  {
   "cell_type": "code",
   "execution_count": null,
   "metadata": {
    "scrolled": true
   },
   "outputs": [],
   "source": [
    "# 引き算も同様\n",
    "x - y"
   ]
  },
  {
   "attachments": {},
   "cell_type": "markdown",
   "metadata": {},
   "source": [
    "### 7. 絶対値、平方根の計算\n",
    "- np.abs() で要素毎の絶対値が求められる\n",
    "- np.sqrt() で要素毎の平方根が求められる\n"
   ]
  },
  {
   "cell_type": "code",
   "execution_count": null,
   "metadata": {
    "scrolled": true
   },
   "outputs": [],
   "source": [
    "#絶対値\n",
    "G1 = np.array([-3, -6, -7])\n",
    "np.abs(G1)"
   ]
  },
  {
   "cell_type": "code",
   "execution_count": null,
   "metadata": {},
   "outputs": [],
   "source": [
    "# 平方根\n",
    "G2 = np.array([1, 2, 3, 4, 5])\n",
    "np.sqrt(G2)"
   ]
  },
  {
   "attachments": {},
   "cell_type": "markdown",
   "metadata": {},
   "source": [
    "### 8. ブロードキャスト\n",
    "- NumPy では、配列にひとつの数字を足したり掛けたりすると、すべての要素に対して同じ計算がなされる\n",
    "- これを「**ブロードキャスト**」という"
   ]
  },
  {
   "cell_type": "code",
   "execution_count": null,
   "metadata": {},
   "outputs": [],
   "source": [
    "# すでに上で準備した x = np.array([1, 2, 3]) に 10をかける\n",
    "x * 10"
   ]
  },
  {
   "attachments": {},
   "cell_type": "markdown",
   "metadata": {},
   "source": [
    "### 9. NumPyの2次元配列（行列）\n",
    "- 2次元配列は、np.array() において、リストの中にリストを入れることで作成する"
   ]
  },
  {
   "cell_type": "code",
   "execution_count": null,
   "metadata": {},
   "outputs": [],
   "source": [
    "# 3行2列の行列を A に代入\n",
    "A = np.array([[1,2],\n",
    "              [3,4],\n",
    "              [5,6]])\n",
    "\n",
    "# A を表示\n",
    "A"
   ]
  },
  {
   "attachments": {},
   "cell_type": "markdown",
   "metadata": {},
   "source": [
    "- Aの行列の大きさは shape 属性でわかる\n",
    "- 「属性」はメソッドと異なり、()は不要\n",
    "- 変数の持つ属性(アトリビュート、プロバティ)を表示する"
   ]
  },
  {
   "cell_type": "code",
   "execution_count": null,
   "metadata": {},
   "outputs": [],
   "source": [
    "# A は3行2列\n",
    "A.shape"
   ]
  },
  {
   "attachments": {},
   "cell_type": "markdown",
   "metadata": {},
   "source": [
    "- Aの次元は ndim 属性でわかる"
   ]
  },
  {
   "cell_type": "code",
   "execution_count": null,
   "metadata": {},
   "outputs": [],
   "source": [
    "# A は2次元（ここでいう2次元は行列という意味であり、2行1列の時も ndim は 2 となる)\n",
    "A.ndim"
   ]
  },
  {
   "attachments": {},
   "cell_type": "markdown",
   "metadata": {},
   "source": [
    "- Aの要素数は size 属性でわかる"
   ]
  },
  {
   "cell_type": "code",
   "execution_count": null,
   "metadata": {},
   "outputs": [],
   "source": [
    "# A の要素数は 6\n",
    "A.size"
   ]
  },
  {
   "cell_type": "code",
   "execution_count": null,
   "metadata": {},
   "outputs": [],
   "source": [
    "# 2次元配列だと、len(A) は行列の行数しか返さない\n",
    "# 今は3行2列なので len(A) は 3 となる\n",
    "len(A)"
   ]
  },
  {
   "attachments": {},
   "cell_type": "markdown",
   "metadata": {},
   "source": [
    "- A と B の四則演算はすべて要素ごとの演算であり、行列の掛け算とはならない"
   ]
  },
  {
   "cell_type": "code",
   "execution_count": null,
   "metadata": {},
   "outputs": [],
   "source": [
    "# 改めてAを表示\n",
    "A"
   ]
  },
  {
   "cell_type": "code",
   "execution_count": null,
   "metadata": {},
   "outputs": [],
   "source": [
    "# B に3行2列の行列を代入\n",
    "B = np.array([[3,5],\n",
    "              [7,9],\n",
    "              [11,13]])\n",
    "\n",
    "# B を表示\n",
    "B"
   ]
  },
  {
   "cell_type": "code",
   "execution_count": null,
   "metadata": {},
   "outputs": [],
   "source": [
    "# A + B は要素毎の足し算\n",
    "A + B"
   ]
  },
  {
   "cell_type": "code",
   "execution_count": null,
   "metadata": {},
   "outputs": [],
   "source": [
    "# A * B も要素間の掛け算\n",
    "# 行列の積でないことに注意\n",
    "A * B"
   ]
  },
  {
   "attachments": {},
   "cell_type": "markdown",
   "metadata": {},
   "source": [
    "- 配列の形は reshape() メソッドを使って簡単に変えられる\n",
    "- 現在は3行2列だが、2行3列に変換してみる"
   ]
  },
  {
   "cell_type": "code",
   "execution_count": null,
   "metadata": {},
   "outputs": [],
   "source": [
    "# A を 2行3列に変換し、改めて A に代入\n",
    "A = A.reshape(2,3)\n",
    "\n",
    "# A を表示\n",
    "A"
   ]
  },
  {
   "attachments": {},
   "cell_type": "markdown",
   "metadata": {},
   "source": [
    "- reshape は行列の転置ではないことに注意\n",
    "- 3行2列の際には、6つの要素を2つずつ3つに区切っていたものが reshape(3,2) で3つずつ2つに区切ったというようなイメージ\n",
    "\n",
    "- reshape の引数に -1 をいれると、もう一方の数字から自動で推測してくる"
   ]
  },
  {
   "cell_type": "code",
   "execution_count": null,
   "metadata": {},
   "outputs": [],
   "source": [
    "# A の行を1行にして、列はそれにあわせて適当に決めてもらいたい\n",
    "A = A.reshape(1,-1)\n",
    "\n",
    "# A を表示\n",
    "A"
   ]
  },
  {
   "cell_type": "code",
   "execution_count": null,
   "metadata": {},
   "outputs": [],
   "source": [
    "# A は 1行6列 になった\n",
    "A.shape"
   ]
  },
  {
   "attachments": {},
   "cell_type": "markdown",
   "metadata": {},
   "source": [
    "- 行列を転置させたい場合は、 T属性 または transpose属性 を使う"
   ]
  },
  {
   "cell_type": "code",
   "execution_count": null,
   "metadata": {
    "scrolled": true
   },
   "outputs": [],
   "source": [
    "# A.T もしくは A.transpose で転置\n",
    "A.T"
   ]
  },
  {
   "cell_type": "code",
   "execution_count": null,
   "metadata": {},
   "outputs": [],
   "source": [
    "# 1次元 → n次元 変換は reshape() メソッド\n",
    "# n次元 → 1次元 変換は flatten() メソッド\n",
    "A_1d = np.array([1, 2, 3, 4, 5, 6, 7, 8, 9, 10, 11, 12])"
   ]
  },
  {
   "cell_type": "code",
   "execution_count": null,
   "metadata": {},
   "outputs": [],
   "source": [
    "# A_1d は 1次元\n",
    "A_1d.ndim"
   ]
  },
  {
   "cell_type": "code",
   "execution_count": null,
   "metadata": {},
   "outputs": [],
   "source": [
    "# (2, 3, 2) に reshape してみる\n",
    "A_3d = A_1d.reshape(2,3,2)\n",
    "\n",
    "# A_3d を表示 最初の [ が3つ続いていることに着目\n",
    "A_3d"
   ]
  },
  {
   "cell_type": "code",
   "execution_count": null,
   "metadata": {},
   "outputs": [],
   "source": [
    "# A_3d は 3次元になっている\n",
    "A_3d.ndim"
   ]
  },
  {
   "cell_type": "code",
   "execution_count": null,
   "metadata": {},
   "outputs": [],
   "source": [
    "# n次元を1次元に戻す際は、flatten() メソッドを使用する\n",
    "A_1d_again = A_3d.flatten()\n",
    "\n",
    "# A_1d_again を表示 最初の [ がひとつしかないことに着目\n",
    "A_1d_again"
   ]
  },
  {
   "cell_type": "code",
   "execution_count": null,
   "metadata": {},
   "outputs": [],
   "source": [
    "# 1次元\n",
    "A_1d_again.ndim"
   ]
  },
  {
   "attachments": {},
   "cell_type": "markdown",
   "metadata": {},
   "source": [
    "### 10. テンソル\n",
    "- 一般に、1次元配列を「ベクトル」、2次元配列を「行列」といい、n次元配列を「テンソル」という\n",
    "- 脳MRIの3次元構造画像(例: T1強調画像)を NumPy で読み込んだ場合、3次元配列になるため、テンソルとなる"
   ]
  },
  {
   "cell_type": "code",
   "execution_count": null,
   "metadata": {},
   "outputs": [],
   "source": [
    "C = np.array([ [[11,12,13],\n",
    "               [14,15,16]],\n",
    "             \n",
    "              [[17,18,19],\n",
    "               [20,21,22]],\n",
    "              \n",
    "              [[23,24,25],\n",
    "               [26,27,28]],\n",
    "              \n",
    "              [[29,30,31],\n",
    "               [32,33,34]] ])\n",
    "\n",
    "# C を表示\n",
    "# MRIをイメージして、1つの行列を1枚の画像と考え、その画像が4枚重なっているイメージ\n",
    "C"
   ]
  },
  {
   "attachments": {},
   "cell_type": "markdown",
   "metadata": {},
   "source": [
    "<img src=\"https://www.nemotos.net/nb/img/tensor.png\" width=\"150\">"
   ]
  },
  {
   "cell_type": "code",
   "execution_count": null,
   "metadata": {},
   "outputs": [],
   "source": [
    "# shapeでは、2次元配列の数が最初に来て、その後、行列のサイズが表示される\n",
    "# MRIのスライス枚数が最初に来て、あとはそれぞれのスライスの次元という\n",
    "# イメージで考えるととらえやすいかもしれない\n",
    "C.shape"
   ]
  },
  {
   "attachments": {},
   "cell_type": "markdown",
   "metadata": {},
   "source": [
    "### 11. NumPy配列の要素へのアクセス\n",
    "- 配列もインデックスで要素を指定できる\n",
    "- 2次元配列では、A[行インデックス, 列インデックス] でアクセスできる"
   ]
  },
  {
   "cell_type": "code",
   "execution_count": null,
   "metadata": {
    "scrolled": true
   },
   "outputs": [],
   "source": [
    "# D は4行3列の行列\n",
    "D = np.array([[51,52,53],[54,55,56],[57,58,59],[60,61,62]])\n",
    "\n",
    "# D を表示\n",
    "D"
   ]
  },
  {
   "cell_type": "code",
   "execution_count": null,
   "metadata": {},
   "outputs": [],
   "source": [
    "# D の 3行2列目を取り出す\n",
    "# Pythonはインデックスは0からはじまるので、3行目のインデックスは2、2列目のインデックスは1となる\n",
    "D[2,1]"
   ]
  },
  {
   "cell_type": "code",
   "execution_count": null,
   "metadata": {},
   "outputs": [],
   "source": [
    "# D の 3列目を取り出す\n",
    "# 考え方は、「すべての行の列インデックス2を取り出す」\n",
    "# 「すべての」は : で示すことができる\n",
    "# 次元は1次元になっている\n",
    "D[:,2]"
   ]
  },
  {
   "cell_type": "code",
   "execution_count": null,
   "metadata": {},
   "outputs": [],
   "source": [
    "# 取り出したものは1次元になるため、「行」や「列」とした概念はなくなり、\n",
    "# ベクトルとなる\n",
    "D[:,2].ndim"
   ]
  },
  {
   "cell_type": "code",
   "execution_count": null,
   "metadata": {},
   "outputs": [],
   "source": [
    "# D の3行目を取り出す\n",
    "# インデックス2の行と全列を取り出すという考え方\n",
    "# 本来は D[2,:] だが、後ろの : は省略できるので、D[2] でよい\n",
    "# 次元は1次元になっている\n",
    "D[2]"
   ]
  },
  {
   "cell_type": "code",
   "execution_count": null,
   "metadata": {
    "scrolled": true
   },
   "outputs": [],
   "source": [
    "# ここでもスライシングが使える\n",
    "# Dの2-4行目、1−2列目を取り出す\n",
    "# インデックスで言えば Dの1-3, 0-1\n",
    "# 取り出す内容が2次元の時は、2次元のまま\n",
    "D[1:4,0:2]"
   ]
  },
  {
   "attachments": {},
   "cell_type": "markdown",
   "metadata": {},
   "source": [
    "### 12. 最大、最小、平均、標準偏差\n",
    "- 最大、最小、平均、標準偏差に関しては NumPy は 関数とメソッドが準備されている\n",
    "\n",
    "    | | 関数 | メソッド | \n",
    "    | :-- | :-- | :-- |\n",
    "    | 最大 | np.max() | max() |\n",
    "    | 最小 | np.min() | min() |\n",
    "    | 平均 | np.mean() | mean() |\n",
    "    | 標準偏差 | np.std() | std() |\n"
   ]
  },
  {
   "cell_type": "code",
   "execution_count": null,
   "metadata": {},
   "outputs": [],
   "source": [
    "# ある組の英語の成績\n",
    "E = np.array([95, 45, 60, 75, 80, 74, 98, 40, 67, 85])"
   ]
  },
  {
   "cell_type": "code",
   "execution_count": null,
   "metadata": {},
   "outputs": [],
   "source": [
    "# 関数を使って 最大、最小、平均、標準偏差 を表示\n",
    "[np.max(E), np.min(E), np.mean(E), np.std(E)]"
   ]
  },
  {
   "cell_type": "code",
   "execution_count": null,
   "metadata": {},
   "outputs": [],
   "source": [
    "# メソッドを使って 変数Eの最大、最小、平均、標準偏差 を表示\n",
    "[E.max(), E.min(), E.mean(), E.std()]"
   ]
  },
  {
   "cell_type": "code",
   "execution_count": null,
   "metadata": {
    "scrolled": true
   },
   "outputs": [],
   "source": [
    "# 偏差値\n",
    "# 偏差値は　50 + 10 * (各自の得点 - 平均点) / 標準偏差　で求められる\n",
    "# ブロードキャスト機能を使うことで一瞬で計算できる\n",
    "E_hensachi = 50 + 10 * (E - E.mean()) / E.std()\n",
    "\n",
    "# 偏差値を表示\n",
    "print(E_hensachi)"
   ]
  },
  {
   "attachments": {},
   "cell_type": "markdown",
   "metadata": {},
   "source": [
    "### 13. 行列の結合\n",
    "- np.concatenate() を使うと、行列を結合できる\n",
    "- 今、点数と偏差値をひとつの行列におさめたい"
   ]
  },
  {
   "cell_type": "code",
   "execution_count": null,
   "metadata": {},
   "outputs": [],
   "source": [
    "# 行列を結合するので、結合するものはともに行列(=2次元配列)でないといけない\n",
    "# 現時点では、E, E_hensachi ともに1次元の配列のため、2次元とする\n",
    "# reshapeを使うことで簡単に2次元に変更できる\n",
    "E = E.reshape(1,-1)\n",
    "E_hensachi = E_hensachi.reshape(1,-1)\n",
    "\n",
    "# E および E_hensachi を表示\n",
    "# 2つ続けて表示したいので print() を使う\n",
    "print('E:', E)\n",
    "print('E_hensachi: ',E_hensachi)"
   ]
  },
  {
   "cell_type": "code",
   "execution_count": null,
   "metadata": {},
   "outputs": [],
   "source": [
    "# E および E_hensachi の shapeを確認する\n",
    "# ともに 1行 10列\n",
    "E.shape, E_hensachi.shape"
   ]
  },
  {
   "cell_type": "code",
   "execution_count": null,
   "metadata": {},
   "outputs": [],
   "source": [
    "# np.concatenate() は、デフォルトは行方向 (axis=0) に結合される\n",
    "# すなわち、行が増える方向に結合する\n",
    "# E は 1行10列、E_hensachi も 1行10列\n",
    "# np.concatenate([E, E_hensachi]) は 2行10列になる\n",
    "scores = np.concatenate([E,E_hensachi])\n",
    "\n",
    "# scores を表示\n",
    "scores"
   ]
  },
  {
   "cell_type": "code",
   "execution_count": null,
   "metadata": {},
   "outputs": [],
   "source": [
    "# 2行10列になっていることを確認する\n",
    "scores.shape"
   ]
  },
  {
   "cell_type": "code",
   "execution_count": null,
   "metadata": {},
   "outputs": [],
   "source": [
    "# オプションで axis=1 とすると、列方向に結合する、すなわち列が増える\n",
    "# E は 1行10列、E_hensachi も 1行10列\n",
    "# np.concatenate([E, E_hensachi], axis=1) は 1行20列になる\n",
    "scores2 = np.concatenate([E, E_hensachi], axis=1)\n",
    "\n",
    "# scores2 を表示\n",
    "scores2"
   ]
  },
  {
   "cell_type": "code",
   "execution_count": null,
   "metadata": {},
   "outputs": [],
   "source": [
    "# 1行20列になっていることを確認する\n",
    "scores2.shape"
   ]
  },
  {
   "cell_type": "code",
   "execution_count": null,
   "metadata": {},
   "outputs": [],
   "source": [
    "# scoresを使って粗点と偏差値を表示する\n",
    "# 今、2行10列なので、まず、10行2列に転置する\n",
    "# 転置は Tメソッドでできる\n",
    "scores = scores.T\n",
    "print(scores)"
   ]
  },
  {
   "cell_type": "code",
   "execution_count": null,
   "metadata": {},
   "outputs": [],
   "source": [
    "# 最初に print()関数 でヘッダを表示する\n",
    "# 次に for ループを回す\n",
    "# 今、scores には、粗点、偏差値が順に入っている\n",
    "# Python では複数の変数を同時に代入できる性質を活用し、\n",
    "# リストの最初の値を 変数 raw に、次の値を hensachi に代入する\n",
    "# そして、それぞれ print() 関数で表示する\n",
    "# np.round()を使うと小数点の丸めを行うことができる\n",
    "# decimals=1 は四捨五入して小数点1桁まで表示という意味\n",
    "print('得点','偏差値')\n",
    "for raw, hensachi in scores:\n",
    "    print(raw, np.round(hensachi,decimals=1))"
   ]
  },
  {
   "attachments": {},
   "cell_type": "markdown",
   "metadata": {},
   "source": [
    "### 14. Matplotlib\n",
    "- グラフ描画のためのパッケージ"
   ]
  },
  {
   "cell_type": "code",
   "execution_count": null,
   "metadata": {},
   "outputs": [],
   "source": [
    "import matplotlib.pyplot as plt\n",
    "# Jupyter notebook では下記を記載することにより、Notebook内にグラフを表示できる\n",
    "%matplotlib inline"
   ]
  },
  {
   "cell_type": "code",
   "execution_count": null,
   "metadata": {},
   "outputs": [],
   "source": [
    "# データの作成\n",
    "# np.arangeを使うことで、簡単に等差数列を作成できる\n",
    "x = np.arange(0, 6, 0.1)  # 0から6まで0.1刻み\n",
    "y = np.sin(x)"
   ]
  },
  {
   "cell_type": "code",
   "execution_count": null,
   "metadata": {},
   "outputs": [],
   "source": [
    "# y = sin(x) のグラフを描画する\n",
    "plt.plot(x,y)\n",
    "plt.show()"
   ]
  },
  {
   "attachments": {},
   "cell_type": "markdown",
   "metadata": {},
   "source": [
    "### 複数のグラフの描画\n",
    "- 複数のグラフも簡単に描画できる\n",
    "- sinだけでなくcosも描画する"
   ]
  },
  {
   "cell_type": "code",
   "execution_count": null,
   "metadata": {},
   "outputs": [],
   "source": [
    "# データの作成\n",
    "x = np.arange(0, 6, 0.1) # 0から6まで0.1刻みで生成\n",
    "# sin(x) と cos(x) を それぞれ y1, y2 に代入する\n",
    "y1 = np.sin(x)\n",
    "y2 = np.cos(x)"
   ]
  },
  {
   "cell_type": "code",
   "execution_count": null,
   "metadata": {},
   "outputs": [],
   "source": [
    "# グラフの描画\n",
    "plt.plot(x, y1, label=\"sin\")\n",
    "plt.plot(x, y2, linestyle = \"--\", label=\"cos\") # 破線で描画\n",
    "\n",
    "# x軸の軸ラベル\n",
    "plt.xlabel(\"x\") \n",
    "# y軸の軸ラベル\n",
    "plt.ylabel(\"y\") \n",
    "# タイトル\n",
    "plt.title('sin and cos function') \n",
    "# 凡例\n",
    "plt.legend()\n",
    "# 上記をまとめてグラフに表示\n",
    "plt.show()\n"
   ]
  },
  {
   "attachments": {},
   "cell_type": "markdown",
   "metadata": {},
   "source": [
    "### 15. 画像の NumPy配列 への読み込み\n",
    "- 画像処理ライブラリ Pillow を使うと、画像を読み込むことができる\n",
    "- Pillowはその開発経緯からパッケージ名はPILとなっている\n",
    "- PILパッケージから、Imageモジュールを読み込む"
   ]
  },
  {
   "cell_type": "code",
   "execution_count": null,
   "metadata": {},
   "outputs": [],
   "source": [
    "from PIL import Image"
   ]
  },
  {
   "attachments": {},
   "cell_type": "markdown",
   "metadata": {},
   "source": [
    "- Image.open('画像のパス') で、画像を読み込むことができる\n",
    "- 今、brain.png をダウンロードし、表示した後で、変数 im に代入する"
   ]
  },
  {
   "cell_type": "code",
   "execution_count": null,
   "metadata": {},
   "outputs": [],
   "source": [
    "# 画像をダウンロードする\n",
    "!wget 'https://www.nemotos.net/nb/img/brain.png' "
   ]
  },
  {
   "cell_type": "code",
   "execution_count": null,
   "metadata": {},
   "outputs": [],
   "source": [
    "# 代入先を指定しなければ画像が表示される\n",
    "Image.open('brain.png')"
   ]
  },
  {
   "cell_type": "code",
   "execution_count": null,
   "metadata": {},
   "outputs": [],
   "source": [
    "# 変数 im に画像を読み込む\n",
    "im = Image.open('brain.png')"
   ]
  },
  {
   "cell_type": "code",
   "execution_count": null,
   "metadata": {},
   "outputs": [],
   "source": [
    "# 変数 im の型はPngImageFileのため、そのままでは演算できない\n",
    "type(im)"
   ]
  },
  {
   "attachments": {},
   "cell_type": "markdown",
   "metadata": {},
   "source": [
    "- np.array() を使うことで、画像をNumPy配列に読み込むことができる\n",
    "- np.array() を使って、変数 im を NumPy配列に変換する"
   ]
  },
  {
   "cell_type": "code",
   "execution_count": null,
   "metadata": {},
   "outputs": [],
   "source": [
    "brain = np.array(im)"
   ]
  },
  {
   "attachments": {},
   "cell_type": "markdown",
   "metadata": {},
   "source": [
    "- type() 関数でデータ型を確認する\n",
    "- shape属性 を使って、配列のサイズを確認する"
   ]
  },
  {
   "cell_type": "code",
   "execution_count": null,
   "metadata": {},
   "outputs": [],
   "source": [
    "# データ型は numpy.ndarray型になる\n",
    "type(brain)"
   ]
  },
  {
   "cell_type": "code",
   "execution_count": null,
   "metadata": {},
   "outputs": [],
   "source": [
    "# 2次元の画像のはずだが、画像は読み込む際に色のチャンネルが3番目の要素に入る\n",
    "# 縦400pixel, 横339pixel, 色は4チャンネル(Red, Green, Blue, alpha)\n",
    "brain.shape"
   ]
  },
  {
   "cell_type": "code",
   "execution_count": null,
   "metadata": {},
   "outputs": [],
   "source": [
    "# 色のチャンネルのため、次元は3となる\n",
    "brain.ndim"
   ]
  },
  {
   "cell_type": "code",
   "execution_count": null,
   "metadata": {},
   "outputs": [],
   "source": [
    "# 色のチャンネルのために要素数は 400 * 338 * 4 = 540800 となる\n",
    "brain.size"
   ]
  },
  {
   "attachments": {},
   "cell_type": "markdown",
   "metadata": {},
   "source": [
    "### カラー画像とグレースケール画像の違い\n",
    "- カラー画像: ひとつのピクセルをRed, Green, Blueの3つの値と透明度Alphaで表示する\n",
    "- グレースケール画像: ひとつのピクセルを(8ビットならば) 0-255 で表示する"
   ]
  },
  {
   "cell_type": "code",
   "execution_count": null,
   "metadata": {},
   "outputs": [],
   "source": [
    "# R 150, G 24, B 200, 透明度255(透過度0) の情報をもつNumPy配列と\n",
    "# R 100, G 20, B 180, 透明度255　の情報をもつNumPy配列を作成\n",
    "\n",
    "# 1つのピクセルの色情報が配列1つにおさめられているイメージ\n",
    "color = np.array([[[150,24,200,255],[100,20,180,255]]])\n",
    "\n",
    "# color は 1x2x4 の3次元の行列\n",
    "print('shape:', color.shape)\n",
    "print('dimension:', color.ndim)"
   ]
  },
  {
   "cell_type": "code",
   "execution_count": null,
   "metadata": {
    "scrolled": true
   },
   "outputs": [],
   "source": [
    "# plt.imshow() を使って color を表示\n",
    "plt.imshow(color)"
   ]
  },
  {
   "cell_type": "code",
   "execution_count": null,
   "metadata": {},
   "outputs": [],
   "source": [
    "# グレースケール画像は ひとつの値で色合いが決める\n",
    "# 256階調ならば、 0 が黒、255が白\n",
    "a = np.array([[0,50,100,150,200,255]])\n",
    "\n",
    "# a は1行6列の2次元の行列\n",
    "print('shape:', a.shape)\n",
    "print('dimension:', a.ndim)"
   ]
  },
  {
   "cell_type": "code",
   "execution_count": null,
   "metadata": {},
   "outputs": [],
   "source": [
    "# この行列を表示してみる\n",
    "# Matplotlib のデフォルトのカラーマップは色がつくため、cmap='gray'を指定\n",
    "plt.imshow(a,cmap='gray')"
   ]
  },
  {
   "attachments": {},
   "cell_type": "markdown",
   "metadata": {},
   "source": [
    "- グレースケールにしたほうが扱いやすくなるのでグレースケールとして読み込む\n",
    "- Image.openのあとに、convert('L') メソッドを使うとグレースケールに変換できる"
   ]
  },
  {
   "cell_type": "code",
   "execution_count": null,
   "metadata": {},
   "outputs": [],
   "source": [
    "Image.open('brain.png').convert('L')\n",
    "# 見た目は先程のものと何も変わらない"
   ]
  },
  {
   "cell_type": "code",
   "execution_count": null,
   "metadata": {},
   "outputs": [],
   "source": [
    "im2 = Image.open('brain.png').convert('L')\n",
    "brain_bw = np.array(im2)"
   ]
  },
  {
   "cell_type": "code",
   "execution_count": null,
   "metadata": {},
   "outputs": [],
   "source": [
    "# dtype=uint8 は 符号なし8ビット整数という意味\n",
    "# つまり、信号値は0-255で表現される\n",
    "brain_bw"
   ]
  },
  {
   "cell_type": "code",
   "execution_count": null,
   "metadata": {},
   "outputs": [],
   "source": [
    "# 400 x 338 の行列\n",
    "brain_bw.shape"
   ]
  },
  {
   "cell_type": "code",
   "execution_count": null,
   "metadata": {},
   "outputs": [],
   "source": [
    "# 2次元配列\n",
    "brain_bw.ndim"
   ]
  },
  {
   "cell_type": "code",
   "execution_count": null,
   "metadata": {},
   "outputs": [],
   "source": [
    "# 行列の要素数は、400 * 338 = 135200\n",
    "brain_bw.size"
   ]
  },
  {
   "cell_type": "code",
   "execution_count": null,
   "metadata": {},
   "outputs": [],
   "source": [
    "# 最大値\n",
    "brain_bw.max()"
   ]
  },
  {
   "cell_type": "code",
   "execution_count": null,
   "metadata": {},
   "outputs": [],
   "source": [
    "# 最小値\n",
    "brain_bw.min()"
   ]
  },
  {
   "attachments": {},
   "cell_type": "markdown",
   "metadata": {},
   "source": [
    "- NumPy配列に読み込むことで、画像操作が簡単になる\n",
    "- たとえば、白黒反転させてみる\n",
    "- 値の範囲が 0-255 であるから、255から引けば、反転する\n"
   ]
  },
  {
   "cell_type": "code",
   "execution_count": null,
   "metadata": {},
   "outputs": [],
   "source": [
    "brain_inverted = 255 - brain_bw"
   ]
  },
  {
   "cell_type": "code",
   "execution_count": null,
   "metadata": {},
   "outputs": [],
   "source": [
    "brain_inverted\n",
    "# さきほどは0ばっかりだったものが255ばっかりになっていることに注意"
   ]
  },
  {
   "attachments": {},
   "cell_type": "markdown",
   "metadata": {},
   "source": [
    "- Image.fromarray()メソッドを使うと、配列を画像として表示できる"
   ]
  },
  {
   "cell_type": "code",
   "execution_count": null,
   "metadata": {},
   "outputs": [],
   "source": [
    "Image.fromarray(brain_inverted)"
   ]
  },
  {
   "attachments": {},
   "cell_type": "markdown",
   "metadata": {},
   "source": [
    "- さらに save()メソッドを使うと、保存もできる"
   ]
  },
  {
   "cell_type": "code",
   "execution_count": null,
   "metadata": {},
   "outputs": [],
   "source": [
    "Image.fromarray(brain_inverted).save('brain_inverted.png')"
   ]
  },
  {
   "attachments": {},
   "cell_type": "markdown",
   "metadata": {},
   "source": [
    "- Matplotlibでも **plt.imshow()** メソッドを使うことで行列を可視化できる\n",
    "- カラーマップ を cmap で指定する　グレースケールは 'gray' "
   ]
  },
  {
   "cell_type": "code",
   "execution_count": null,
   "metadata": {},
   "outputs": [],
   "source": [
    "# カラーマップを指定しないとサイケデリックな色合いになる\n",
    "plt.imshow(brain_inverted)\n",
    "plt.show()"
   ]
  },
  {
   "cell_type": "code",
   "execution_count": null,
   "metadata": {},
   "outputs": [],
   "source": [
    "# cmap=\"gray\" でグレースケールのカラーマップを指定\n",
    "plt.imshow(brain_inverted, cmap='gray')\n",
    "plt.show()"
   ]
  },
  {
   "attachments": {},
   "cell_type": "markdown",
   "metadata": {},
   "source": [
    "### 16. 画像を1次元の配列に変換する\n",
    "- 深層学習などでは、ビッグデータを扱うために、ひとつのデータを1次元/1行/1列に変換して扱うことが多い\n",
    "- 1次元に変換する際は、NumPyの flatten() メソッドで変換できる"
   ]
  },
  {
   "cell_type": "code",
   "execution_count": null,
   "metadata": {},
   "outputs": [],
   "source": [
    "# flattenメソッドで1次元に変換\n",
    "brain_flatten = brain_bw.flatten()"
   ]
  },
  {
   "cell_type": "code",
   "execution_count": null,
   "metadata": {},
   "outputs": [],
   "source": [
    "# shape は 1次元のため、(135200, ) となる。\n",
    "# カンマが入る理由は、それがないと普通の数字と区別できないため\n",
    "brain_flatten.shape"
   ]
  },
  {
   "cell_type": "code",
   "execution_count": null,
   "metadata": {},
   "outputs": [],
   "source": [
    "# 1次元になっている\n",
    "brain_flatten.ndim"
   ]
  },
  {
   "cell_type": "code",
   "execution_count": null,
   "metadata": {},
   "outputs": [],
   "source": [
    "# brain_flatten を表示\n",
    "# [] と かっこが1つになっていることに注意\n",
    "brain_flatten"
   ]
  },
  {
   "attachments": {},
   "cell_type": "markdown",
   "metadata": {},
   "source": [
    "- 行列として1行/1列に変換する際は reshape() メソッドを使う\n",
    "- 引数に -1 を使うのが便利"
   ]
  },
  {
   "cell_type": "code",
   "execution_count": null,
   "metadata": {},
   "outputs": [],
   "source": [
    "# 1列に変換\n",
    "# 行数は size と列数から推測させるため、-1 とする\n",
    "brain_one_column = brain_bw.reshape(-1,1)"
   ]
  },
  {
   "cell_type": "code",
   "execution_count": null,
   "metadata": {},
   "outputs": [],
   "source": [
    "# shape から 135200行 1列 に変換されたことがわかる\n",
    "brain_one_column.shape"
   ]
  },
  {
   "cell_type": "code",
   "execution_count": null,
   "metadata": {},
   "outputs": [],
   "source": [
    "# 次元は2次元のまま\n",
    "brain_one_column.ndim"
   ]
  },
  {
   "attachments": {},
   "cell_type": "markdown",
   "metadata": {},
   "source": [
    "### 17. 行列の内積\n",
    "- NumPyは普通にかけると要素ごとの掛け算になる\n",
    "- 行列の内積を求めたい場合は、np.dot() を使う\n",
    "- 行列の掛け算の際は、$AB$と$BA$は異なることに注意\n",
    "- ディープラーニングでは順伝播 forward propagation の際に行列の積を使用している"
   ]
  },
  {
   "attachments": {},
   "cell_type": "markdown",
   "metadata": {},
   "source": [
    "$$\n",
    "A = \n",
    "\\begin{bmatrix}\n",
    "a & b\\\\ \n",
    "c & d\n",
    "\\end{bmatrix}\n",
    "$$\n",
    "\n",
    "$$\n",
    "B = \n",
    "\\begin{bmatrix}\n",
    "e & f\\\\ \n",
    "g & h\n",
    "\\end{bmatrix}\n",
    "$$\n",
    "\n",
    "$$\n",
    "C = AB =\n",
    "\\begin{bmatrix}\n",
    "ae + bg & af + bh\\\\ \n",
    "ce + dg & cf + dh\n",
    "\\end{bmatrix}\n",
    "$$\n",
    "\n",
    "$$\n",
    "D = BA =\n",
    "\\begin{bmatrix}\n",
    "ae + cf & be + df\\\\ \n",
    "ag + ch & bg + dh\n",
    "\\end{bmatrix}\n",
    "$$\n"
   ]
  },
  {
   "cell_type": "code",
   "execution_count": null,
   "metadata": {},
   "outputs": [],
   "source": [
    "A = np.array([[1,2],[3,4]])"
   ]
  },
  {
   "cell_type": "code",
   "execution_count": null,
   "metadata": {},
   "outputs": [],
   "source": [
    "A"
   ]
  },
  {
   "cell_type": "code",
   "execution_count": null,
   "metadata": {},
   "outputs": [],
   "source": [
    "B = np.array([[5,6],[7,8]])"
   ]
  },
  {
   "cell_type": "code",
   "execution_count": null,
   "metadata": {},
   "outputs": [],
   "source": [
    "B"
   ]
  },
  {
   "cell_type": "code",
   "execution_count": null,
   "metadata": {},
   "outputs": [],
   "source": [
    "# A と B の行列の積\n",
    "C = np.dot(A,B)"
   ]
  },
  {
   "cell_type": "code",
   "execution_count": null,
   "metadata": {
    "scrolled": false
   },
   "outputs": [],
   "source": [
    "C"
   ]
  },
  {
   "cell_type": "code",
   "execution_count": null,
   "metadata": {},
   "outputs": [],
   "source": [
    "# B to A の行列の積\n",
    "D = np.dot(B,A)"
   ]
  },
  {
   "cell_type": "code",
   "execution_count": null,
   "metadata": {},
   "outputs": [],
   "source": [
    "# D は C と異なることに注意\n",
    "D"
   ]
  },
  {
   "attachments": {},
   "cell_type": "markdown",
   "metadata": {},
   "source": [
    "### 18. 練習問題\n",
    "- 効果量としてよく用いられる Cohen's d を求める関数 cohen_d() を作成しましょう\n",
    "- Cohen's d は以下で規定されます\n",
    "    - $n_1$: Group 1 のサンプルサイズ\n",
    "    - $m_1$: Group 1 の平均\n",
    "    - $s_1$: Group 1 の標準偏差\n",
    "    - $n_2$: Group 2 のサンプルサイズ\n",
    "    - $m_2$: Group 2 の平均\n",
    "    - $s_2$: Group 2 の標準偏差\n",
    "\n",
    "$$\n",
    "   Cohen's \\ d = \\frac{| m_1 - m_2 |}{s_c}\n",
    "$$\n",
    "\n",
    "$$\n",
    "s_c = \\sqrt{\\frac{(n_1 - 1)s_1^2 + (n_2 - 1)s_2^2}{n_1 + n_2 - 2}}\n",
    "$$\n",
    "\n",
    "- 以下を意識しながら関数を作成してみてください\n",
    "    - 入力されるリストをまずNumPy形式に変換します\n",
    "    - その後、サンプルサイズ、平均、標準偏差をNumPyの様々な関数、メソッド、属性を用いて求めます\n",
    "    - return で効果量を返します\n",
    "\n",
    "- 以下のリストを引数に使ってCohen's dを求めてください。\n",
    "\n",
    "```\n",
    "class1 = [95, 45, 60, 75, 80, 74, 98, 40, 67, 85]\n",
    "class2 = [75, 55, 40, 85, 50, 64, 68, 50, 47, 65, 50]\n",
    "```\n"
   ]
  },
  {
   "cell_type": "code",
   "execution_count": null,
   "metadata": {},
   "outputs": [],
   "source": [
    "### ヒント\n",
    "# g1, g2, n1, n2, m1, m2, をそれぞれ丁寧に記載していくことで求められます\n",
    "# g1: a を numpy配列に変換したもの (np.array())\n",
    "# n1: g1 の要素の数 (len() もしくは g1.size)\n",
    "# m1: g1 の平均 (g1.mean())\n",
    "# s1: g1 の標準偏差 (g1.std())\n",
    "# 平方根は np.sqrt(), 絶対値は np.abs()\n",
    "\n",
    "###\n",
    "def cohen_d(a,b):\n",
    "    #ここに関数が来ます(インデントを忘れずに！)\n",
    "    \n",
    "###\n",
    "\n",
    "class1 = [95, 45, 60, 75, 80, 74, 98, 40, 67, 85]\n",
    "class2 = [75, 55, 40, 85, 50, 64, 68, 50, 47, 65, 50]\n",
    "\n",
    "d = cohen_d(class1,class2)\n",
    "print(f\"Cohen's d: {d}\")\n",
    "# 0.819... となったら正解です"
   ]
  }
 ],
 "metadata": {
  "kernelspec": {
   "display_name": "Python 3",
   "language": "python",
   "name": "python3"
  },
  "language_info": {
   "codemirror_mode": {
    "name": "ipython",
    "version": 3
   },
   "file_extension": ".py",
   "mimetype": "text/x-python",
   "name": "python",
   "nbconvert_exporter": "python",
   "pygments_lexer": "ipython3",
   "version": "3.10.12"
  }
 },
 "nbformat": 4,
 "nbformat_minor": 4
}
