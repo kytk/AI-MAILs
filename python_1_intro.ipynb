{
 "cells": [
  {
   "attachments": {},
   "cell_type": "markdown",
   "metadata": {},
   "source": [
    "<a href=\"https://colab.research.google.com/github/kytk/AI-MAILs/blob/main/python_1-1_intro.ipynb?hl=ja\" target=\"_blank\"><img src=\"https://colab.research.google.com/assets/colab-badge.svg\" alt=\"Open In Colab\"/></a>"
   ]
  },
  {
   "attachments": {},
   "cell_type": "markdown",
   "metadata": {},
   "source": [
    "# 医療従事者のためのPython入門\n",
    "\n",
    "Ver.20240613"
   ]
  },
  {
   "attachments": {},
   "cell_type": "markdown",
   "metadata": {},
   "source": [
    "## 本セクションの作成に参考にした書籍\n",
    "\n",
    "| 斎藤 康毅 | リブロワークス |\n",
    "| :--: | :--: |\n",
    "| ゼロから作る Deep Learning | スラスラ読める Pythonふりがなプログラミング |\n",
    "| <img src=\"https://www.nemotos.net/nb/img/dl_from_scratch_cover.png\" width=\"100\"> | <img src=\"https://www.nemotos.net/nb/img/surasura.jpg\" width=\"100\"> |"
   ]
  },
  {
   "attachments": {},
   "cell_type": "markdown",
   "metadata": {},
   "source": [
    "## 本セクションの目標\n",
    "- プログラマーとしてではなく、データ解析などを行うユーザーとしてPythonに触れる\n",
    "- Pythonを学ぶにあたり、よく使う用語に慣れる\n",
    "- 関数、メソッドに触れる\n",
    "- データの様々な型を知る。特にリスト型に慣れる\n",
    "- インデックスとスライシングについて理解する"
   ]
  },
  {
   "attachments": {},
   "cell_type": "markdown",
   "metadata": {},
   "source": [
    "## 目次\n",
    "01. Pythonとは?\n",
    "02. なぜPython?\n",
    "03. Pythonの特徴\n",
    "04. 算術計算\n",
    "05. データ型\n",
    "06. f文字列\n",
    "07. 変数\n",
    "08. リスト （配列）\n",
    "09. タプル\n",
    "10. ディクショナリ\n",
    "11. ブーリアン\n",
    "12. if文による条件分岐\n",
    "13. 関数 function\n",
    "14. for文によるループ処理\n",
    "- 練習問題"
   ]
  },
  {
   "attachments": {},
   "cell_type": "markdown",
   "metadata": {},
   "source": [
    "## 1. Pythonとは?\n",
    "- プログラミング言語\n",
    "- データサイエンス分野で頻用される\n",
    "- 機械学習や深層学習でもよく用いられる"
   ]
  },
  {
   "attachments": {},
   "cell_type": "markdown",
   "metadata": {},
   "source": [
    "## 2. なぜPython?\n",
    "- Pythonそのものは、枠組み、土台というイメージ\n",
    "- 土台のうえに、自分が使いたい「部品」をいろいろ追加（インポート）していくことで、自分の目的を果たすことができる\n",
    "    - 四則演算よりも複雑な数学の計算を行う (標準ライブラリにある math モジュール)\n",
    "    - 表を扱う (外部ライブラリにある pandas パッケージ)\n",
    "    - 行列を扱う (外部ライブラリにある numpy パッケージ)\n",
    "    - データ分析や機械学習を行う (外部ライブラリにある scikit-learn パッケージ)\n",
    "- 機械学習、深層学習を含むデータサイエンス領域においては、ほぼデファクトスタンダードになっている\n",
    "- 言語を比較的習得しやすい\n",
    "- リソースが充実している"
   ]
  },
  {
   "attachments": {},
   "cell_type": "markdown",
   "metadata": {},
   "source": [
    "## 3. Pythonの特徴\n",
    "### ライブラリ\n",
    "- 最小限のフレームワークに、「**ライブラリ**」にある「**パッケージ**や**モジュール**」を「**インポート**」 することで、機能を拡張していく\n",
    "    - ライブラリは、Pythonに付属している「標準ライブラリ」と、ダウンロードが必要な「外部ライブラリ」に大別される\n",
    "        - イメージ: Pythonは学校、ライブラリは図書館、標準ライブラリにあるモジュールは、図書館に常備されている本、外部ライブラリにあるパッケージは、取り寄せた本\n",
    "    - パッケージは多くのモジュールで構成されているディレクトリである\n",
    "        - パッケージの中にある「**モジュール**」を使用する\n",
    "\n"
   ]
  },
  {
   "attachments": {},
   "cell_type": "markdown",
   "metadata": {},
   "source": [
    "#### パッケージのインポート方法\n",
    "\n",
    "- `import モジュール名`\n",
    "- `import パッケージ名 as 別名`\n",
    "- `import パッケージ名.モジュール名 as 別名`                    \n",
    "- `from パッケージ名 import パッケージ内のモジュール名 as 別名`\n",
    "\n",
    "- 例\n",
    "    - `import math`\n",
    "        - 「mathモジュールをインポートしなさい」\n",
    "    - `import numpy as np`\n",
    "        - 「numpyパッケージ を np という名前でインポートしなさい」\n",
    "        - 以後は、numpyパッケージの中にある様々なモジュールは `np.モジュール` として使用する\n",
    "    - `import matplotlib.pyplot as plt`\n",
    "        - 「matplotlibのパッケージの中にある pyplot モジュールを plt という名前でインポートしなさい」\n",
    "        - 以後は、`plt` というコマンドで、pyplotを使用できる\n",
    "    - `from matplotlib import pyplot as plt`\n",
    "        - 「matplotlib のパッケージから、pyplot モジュールを、plt という名前でインポートしなさい」\n",
    "        - 上の `import matplotlib.pyplot as plt` と同義 (pyplotについては前者が使われることが多い)\n",
    "    \n"
   ]
  },
  {
   "cell_type": "code",
   "execution_count": 1,
   "metadata": {},
   "outputs": [],
   "source": [
    "# math モジュールをインポート\n",
    "import math"
   ]
  },
  {
   "cell_type": "code",
   "execution_count": 2,
   "metadata": {},
   "outputs": [
    {
     "data": {
      "text/plain": [
       "1.4142135623730951"
      ]
     },
     "execution_count": 2,
     "metadata": {},
     "output_type": "execute_result"
    }
   ],
   "source": [
    "# 2の平方根を計算する\n",
    "# mathモジュールの中の sqrt() 関数を使用する\n",
    "math.sqrt(2)"
   ]
  },
  {
   "cell_type": "code",
   "execution_count": 3,
   "metadata": {},
   "outputs": [],
   "source": [
    "# numpy パッケージを np としてインポート\n",
    "import numpy as np"
   ]
  },
  {
   "cell_type": "code",
   "execution_count": 5,
   "metadata": {},
   "outputs": [
    {
     "name": "stdout",
     "output_type": "stream",
     "text": [
      "[0.  0.1 0.2 0.3 0.4 0.5 0.6 0.7 0.8 0.9 1.  1.1 1.2 1.3 1.4 1.5 1.6 1.7\n",
      " 1.8 1.9 2.  2.1 2.2 2.3 2.4 2.5 2.6 2.7 2.8 2.9 3.  3.1 3.2 3.3 3.4 3.5\n",
      " 3.6 3.7 3.8 3.9 4.  4.1 4.2 4.3 4.4 4.5 4.6 4.7 4.8 4.9]\n"
     ]
    }
   ],
   "source": [
    "# numpy の中の arange() 関数を使用して、0 から 5 まで 0.1 刻みで x を準備する\n",
    "x = np.arange(0,5,0.1)\n",
    "print(x)"
   ]
  },
  {
   "cell_type": "code",
   "execution_count": 7,
   "metadata": {},
   "outputs": [],
   "source": [
    "# numpy の中の sin() 関数、および cos() 関数を使用して、先の x に対する sin と cos を計算して、それを y1, y2 に代入する\n",
    "y1 = np.sin(x)\n",
    "y2 = np.cos(x)\n"
   ]
  },
  {
   "cell_type": "code",
   "execution_count": 8,
   "metadata": {},
   "outputs": [
    {
     "name": "stdout",
     "output_type": "stream",
     "text": [
      "[ 0.          0.09983342  0.19866933  0.29552021  0.38941834  0.47942554\n",
      "  0.56464247  0.64421769  0.71735609  0.78332691  0.84147098  0.89120736\n",
      "  0.93203909  0.96355819  0.98544973  0.99749499  0.9995736   0.99166481\n",
      "  0.97384763  0.94630009  0.90929743  0.86320937  0.8084964   0.74570521\n",
      "  0.67546318  0.59847214  0.51550137  0.42737988  0.33498815  0.23924933\n",
      "  0.14112001  0.04158066 -0.05837414 -0.15774569 -0.2555411  -0.35078323\n",
      " -0.44252044 -0.52983614 -0.61185789 -0.68776616 -0.7568025  -0.81827711\n",
      " -0.87157577 -0.91616594 -0.95160207 -0.97753012 -0.993691   -0.99992326\n",
      " -0.99616461 -0.98245261]\n"
     ]
    }
   ],
   "source": [
    "# y1 を表示\n",
    "print(y1)"
   ]
  },
  {
   "cell_type": "code",
   "execution_count": 9,
   "metadata": {},
   "outputs": [
    {
     "name": "stdout",
     "output_type": "stream",
     "text": [
      "[ 1.          0.99500417  0.98006658  0.95533649  0.92106099  0.87758256\n",
      "  0.82533561  0.76484219  0.69670671  0.62160997  0.54030231  0.45359612\n",
      "  0.36235775  0.26749883  0.16996714  0.0707372  -0.02919952 -0.12884449\n",
      " -0.22720209 -0.32328957 -0.41614684 -0.5048461  -0.58850112 -0.66627602\n",
      " -0.73739372 -0.80114362 -0.85688875 -0.90407214 -0.94222234 -0.97095817\n",
      " -0.9899925  -0.99913515 -0.99829478 -0.98747977 -0.96679819 -0.93645669\n",
      " -0.89675842 -0.84810003 -0.79096771 -0.7259323  -0.65364362 -0.57482395\n",
      " -0.49026082 -0.40079917 -0.30733287 -0.2107958  -0.11215253 -0.01238866\n",
      "  0.08749898  0.18651237]\n"
     ]
    }
   ],
   "source": [
    "# y2 を表示\n",
    "print(y2)"
   ]
  },
  {
   "cell_type": "code",
   "execution_count": 10,
   "metadata": {},
   "outputs": [],
   "source": [
    "# matplotlib パッケージの中にある pyplot モジュールを plt としてインポートする\n",
    "import matplotlib.pyplot as plt"
   ]
  },
  {
   "cell_type": "code",
   "execution_count": 15,
   "metadata": {},
   "outputs": [
    {
     "data": {
      "image/png": "[encoded data removed]",
      "text/plain": [
       "<Figure size 640x480 with 1 Axes>"
      ]
     },
     "metadata": {},
     "output_type": "display_data"
    }
   ],
   "source": [
    "# pyplot モジュールの plot() 関数を使って x と y1, x と y2 をプロットする\n",
    "# ラベル名はそれぞれ \"sin(x)\", \"cos(x)\"とする\n",
    "plt.plot(x,y1, label='sin(x)')\n",
    "plt.plot(x,y2, label='cos(x)')\n",
    "\n",
    "# pyplot モジュールの legend() 関数を使って 凡例を準備する\n",
    "plt.legend()\n",
    "\n",
    "# pyplot モジュールの title() 関数を使って　タイトルを準備する\n",
    "plt.title('sin and cos function')\n",
    "\n",
    "# pyplot モジュールの show() 関数を使って、グラフを表示する\n",
    "plt.show()"
   ]
  },
  {
   "cell_type": "markdown",
   "metadata": {},
   "source": [
    "### 関数 function\n",
    "- Python では、様々な「関数 function」を使ってデータを処理する\n",
    "- 数学で扱う「関数」よりも広義であることに注意\n",
    "- 関数は、print() のように関数名の後に() をつけて表示することが多い\n",
    "- `print()`, `len()`, `input()` 関数を紹介"
   ]
  },
  {
   "cell_type": "code",
   "execution_count": 20,
   "metadata": {},
   "outputs": [],
   "source": [
    "# 変数 A に \"Medicine\" という文字列を代入\n",
    "A = 'Medicine'"
   ]
  },
  {
   "cell_type": "code",
   "execution_count": 21,
   "metadata": {},
   "outputs": [
    {
     "name": "stdout",
     "output_type": "stream",
     "text": [
      "Medicine\n"
     ]
    }
   ],
   "source": [
    "# print() 関数は、変数の内容を出力する\n",
    "print(A)"
   ]
  },
  {
   "cell_type": "code",
   "execution_count": 22,
   "metadata": {},
   "outputs": [
    {
     "data": {
      "text/plain": [
       "8"
      ]
     },
     "execution_count": 22,
     "metadata": {},
     "output_type": "execute_result"
    }
   ],
   "source": [
    "# len() 関数は、変数が文字列の場合、文字数を出力する\n",
    "len(A)"
   ]
  },
  {
   "cell_type": "code",
   "execution_count": 23,
   "metadata": {},
   "outputs": [
    {
     "name": "stdout",
     "output_type": "stream",
     "text": [
      "7\n"
     ]
    }
   ],
   "source": [
    "# input() 関数は、ユーザーの入力内容を変数に代入できる\n",
    "# '好きな数字は?'と表示し、その結果を変数 number に代入する\n",
    "number = input('好きな数字は?')\n",
    "\n",
    "# 入力内容を print() 関数で表示する\n",
    "print(number)"
   ]
  },
  {
   "attachments": {},
   "cell_type": "markdown",
   "metadata": {},
   "source": [
    "### メソッド\n",
    "- Pythonの特徴として、データに「値」だけではなく、そのデータの値に対していろいろな操作ができる **メソッド** が準備されている\n",
    "- メソッドは、データの後ろに ドットをつけて記載する\n",
    "- 使えるメソッドは、後ほど扱う「型」によって決まっている\n",
    "- 先程定義した変数A ('Medicine' という文字列が入っている) についているメソッドを試してみる"
   ]
  },
  {
   "cell_type": "code",
   "execution_count": 28,
   "metadata": {},
   "outputs": [
    {
     "data": {
      "text/plain": [
       "'MEDICINE'"
      ]
     },
     "execution_count": 28,
     "metadata": {},
     "output_type": "execute_result"
    }
   ],
   "source": [
    "# 文字列型の変数で使える upper() メソッドは、文字列をすべて大文字にする\n",
    "A.upper()"
   ]
  },
  {
   "cell_type": "code",
   "execution_count": 29,
   "metadata": {},
   "outputs": [
    {
     "data": {
      "text/plain": [
       "'Medzczne'"
      ]
     },
     "execution_count": 29,
     "metadata": {},
     "output_type": "execute_result"
    }
   ],
   "source": [
    "# replace() メソッドは、特定の文字を他の文字に置換する\n",
    "# i を z に置換する\n",
    "A.replace('i','z')"
   ]
  },
  {
   "cell_type": "code",
   "execution_count": 30,
   "metadata": {},
   "outputs": [
    {
     "name": "stdout",
     "output_type": "stream",
     "text": [
      "Medicine\n"
     ]
    }
   ],
   "source": [
    "# print() 関数は、変数（オブジェクト）の値を表示する\n",
    "print(A)"
   ]
  },
  {
   "attachments": {},
   "cell_type": "markdown",
   "metadata": {},
   "source": [
    "## 4. 算術計算\n",
    "- 四則演算は以下のように行う\n",
    "    - 足し算: + \n",
    "    - 引き算: -\n",
    "    - 掛け算: *\n",
    "    - 割り算: /\n",
    "    - 累乗: **\n",
    "    - 割り算の商: //\n",
    "    - 割り算の余り: %"
   ]
  },
  {
   "cell_type": "code",
   "execution_count": 35,
   "metadata": {},
   "outputs": [
    {
     "data": {
      "text/plain": [
       "1024"
      ]
     },
     "execution_count": 35,
     "metadata": {},
     "output_type": "execute_result"
    }
   ],
   "source": [
    "# 2の10乗\n",
    "2 ** 10"
   ]
  },
  {
   "cell_type": "code",
   "execution_count": 36,
   "metadata": {},
   "outputs": [
    {
     "data": {
      "text/plain": [
       "2"
      ]
     },
     "execution_count": 36,
     "metadata": {},
     "output_type": "execute_result"
    }
   ],
   "source": [
    "# 15を7で割った時の商\n",
    "15 // 7"
   ]
  },
  {
   "cell_type": "code",
   "execution_count": 37,
   "metadata": {},
   "outputs": [
    {
     "data": {
      "text/plain": [
       "4"
      ]
     },
     "execution_count": 37,
     "metadata": {},
     "output_type": "execute_result"
    }
   ],
   "source": [
    "# 256を7で割った時の余り\n",
    "# 余りは条件分岐でよく使用する\n",
    "# 4の倍数→4で割った余りが0\n",
    "256 % 7"
   ]
  },
  {
   "attachments": {},
   "cell_type": "markdown",
   "metadata": {},
   "source": [
    "## 5. 型 type\n",
    "- Pythonではデータの性質を表す様々な「**型 type**」が準備されている。それぞれの型に対してメソッドが準備されている\n",
    "- データの型は、`type()` 関数を使うことで知ることができる"
   ]
  },
  {
   "cell_type": "code",
   "execution_count": 38,
   "metadata": {},
   "outputs": [
    {
     "data": {
      "text/plain": [
       "int"
      ]
     },
     "execution_count": 38,
     "metadata": {},
     "output_type": "execute_result"
    }
   ],
   "source": [
    "# 整数は int型 (integer: 整数)\n",
    "type(10)"
   ]
  },
  {
   "cell_type": "code",
   "execution_count": 39,
   "metadata": {},
   "outputs": [
    {
     "data": {
      "text/plain": [
       "float"
      ]
     },
     "execution_count": 39,
     "metadata": {},
     "output_type": "execute_result"
    }
   ],
   "source": [
    "# 小数は float型 (floating point number: 浮動小数点数)\n",
    "type(3.14)"
   ]
  },
  {
   "cell_type": "code",
   "execution_count": 40,
   "metadata": {},
   "outputs": [
    {
     "data": {
      "text/plain": [
       "str"
      ]
     },
     "execution_count": 40,
     "metadata": {},
     "output_type": "execute_result"
    }
   ],
   "source": [
    "# 文字列は str型 (string: 文字列)\n",
    "type('Hello')"
   ]
  },
  {
   "attachments": {},
   "cell_type": "markdown",
   "metadata": {},
   "source": [
    "- 文字列は、\"+\" で結合できる。\n"
   ]
  },
  {
   "cell_type": "code",
   "execution_count": 41,
   "metadata": {},
   "outputs": [],
   "source": [
    "# MRI という文字列を str1 に代入\n",
    "str1 = 'MRI'"
   ]
  },
  {
   "cell_type": "code",
   "execution_count": 42,
   "metadata": {},
   "outputs": [
    {
     "name": "stdout",
     "output_type": "stream",
     "text": [
      "functional MRI\n"
     ]
    }
   ],
   "source": [
    "# functional という単語と str1 を結合\n",
    "print('functional ' + str1)"
   ]
  },
  {
   "cell_type": "markdown",
   "metadata": {},
   "source": [
    "- 異なる型を \"+\" で結合することはできない。\n",
    "- しかし、型は、オブジェクトを変換したい型でくくることにより簡単に変換できる"
   ]
  },
  {
   "cell_type": "code",
   "execution_count": 43,
   "metadata": {},
   "outputs": [
    {
     "ename": "TypeError",
     "evalue": "can only concatenate str (not \"int\") to str",
     "output_type": "error",
     "traceback": [
      "\u001b[0;31m---------------------------------------------------------------------------\u001b[0m",
      "\u001b[0;31mTypeError\u001b[0m                                 Traceback (most recent call last)",
      "Cell \u001b[0;32mIn[43], line 7\u001b[0m\n\u001b[1;32m      4\u001b[0m score \u001b[38;5;241m=\u001b[39m \u001b[38;5;241m85\u001b[39m\n\u001b[1;32m      6\u001b[0m \u001b[38;5;66;03m# 下のコマンドはうまく動かない。文字列は str型、scoreはint型だから。\u001b[39;00m\n\u001b[0;32m----> 7\u001b[0m \u001b[38;5;28mprint\u001b[39m(\u001b[38;5;124;43m'\u001b[39;49m\u001b[38;5;124;43mあなたの点数は\u001b[39;49m\u001b[38;5;124;43m'\u001b[39;49m\u001b[43m \u001b[49m\u001b[38;5;241;43m+\u001b[39;49m\u001b[43m \u001b[49m\u001b[43mscore\u001b[49m \u001b[38;5;241m+\u001b[39m \u001b[38;5;124m'\u001b[39m\u001b[38;5;124m点でした\u001b[39m\u001b[38;5;124m'\u001b[39m)\n",
      "\u001b[0;31mTypeError\u001b[0m: can only concatenate str (not \"int\") to str"
     ]
    }
   ],
   "source": [
    "# 試験の点数を自動で「あなたの点数は◯点でした」と表示したい\n",
    "\n",
    "# 85点を変数 score に代入する\n",
    "score = 85\n",
    "\n",
    "# 下のコマンドはうまく動かない。文字列は str型、scoreはint型だから。\n",
    "print('あなたの点数は' + score + '点でした')"
   ]
  },
  {
   "cell_type": "markdown",
   "metadata": {},
   "source": [
    "- errorの内容に着目\n",
    "TypeError: can only concatenate str (not \"int\") to str\n",
    "\n",
    "concatenate は「結合する」という意味\n",
    "str は str にだけ結合できる。intには結合できないと教えてくれている"
   ]
  },
  {
   "cell_type": "code",
   "execution_count": 44,
   "metadata": {},
   "outputs": [
    {
     "name": "stdout",
     "output_type": "stream",
     "text": [
      "あなたの点数は85点でした\n"
     ]
    }
   ],
   "source": [
    "# scoreを str(score) とすると、str型に簡単に変換できる\n",
    "print('あなたの点数は' + str(score) + '点でした')"
   ]
  },
  {
   "cell_type": "markdown",
   "metadata": {},
   "source": [
    "## 6. f文字列\n",
    "- Python3.6以降では、文字列を表示する時に、f文字列 (f-string) を使うことができるようになった\n",
    "- f文字列では変数を {} でくくるだけでよいため、型の変換が不要となる"
   ]
  },
  {
   "cell_type": "code",
   "execution_count": 45,
   "metadata": {},
   "outputs": [
    {
     "name": "stdout",
     "output_type": "stream",
     "text": [
      "あなたの点数は85点でした\n"
     ]
    }
   ],
   "source": [
    "# 試験の点数を自動で「あなたの点数は◯点でした」と表示したい\n",
    "score = 85\n",
    "\n",
    "# f文字列では、変数は {} でくくるだけ\n",
    "print(f'あなたの点数は{score}点でした')"
   ]
  },
  {
   "attachments": {},
   "cell_type": "markdown",
   "metadata": {},
   "source": [
    "## 7. 変数\n",
    "- x や y などのアルファベットを使って「**変数**」を定義できる。変数は、= を使って値を代入する\n",
    "    - プログラミング言語では、**= は等式ではなく、代入の記号である**ことに注意\n",
    "- 変数の型は、変数に代入される値に応じて自動で設定される\n",
    "- Pythonでは、一行で複数の変数を代入することができる"
   ]
  },
  {
   "cell_type": "code",
   "execution_count": 47,
   "metadata": {},
   "outputs": [],
   "source": [
    "# x に 100, y に 3.14 を代入する\n",
    "x, y = 100, 3.14\n",
    "\n",
    "# x * y を z に代入する\n",
    "z = x * y"
   ]
  },
  {
   "cell_type": "code",
   "execution_count": 48,
   "metadata": {},
   "outputs": [
    {
     "name": "stdout",
     "output_type": "stream",
     "text": [
      "314.0\n"
     ]
    }
   ],
   "source": [
    "# zの内容を表示する\n",
    "# 変数だけをタイプするとその変数の内容が表示される\n",
    "# 整数型 int に 浮動小数点型 float をかけると、float になる\n",
    "print(z)"
   ]
  },
  {
   "cell_type": "code",
   "execution_count": 50,
   "metadata": {},
   "outputs": [
    {
     "data": {
      "text/plain": [
       "float"
      ]
     },
     "execution_count": 50,
     "metadata": {},
     "output_type": "execute_result"
    }
   ],
   "source": [
    "# z のデータ型を確認する\n",
    "type(z)"
   ]
  },
  {
   "cell_type": "code",
   "execution_count": 51,
   "metadata": {},
   "outputs": [
    {
     "name": "stdout",
     "output_type": "stream",
     "text": [
      "150\n",
      "200\n"
     ]
    }
   ],
   "source": [
    "# プログラミング言語の多くは、ある変数に作業をしたものを、同じ変数に代入するということができる\n",
    "# x に 50 を足したものを 新たな x とする\n",
    "# = は等号ではなく、代入の記号であることに注意！\n",
    "x = x + 50\n",
    "print(x) # もともと xは100だったので、今、xは150になっているはず\n",
    "\n",
    "# 同じことを以下の表示でも行える\n",
    "\n",
    "x += 50 # x = x + 50 と同義　これを「加算代入」という\n",
    "print(x) # 200 になっているはず"
   ]
  },
  {
   "attachments": {},
   "cell_type": "markdown",
   "metadata": {},
   "source": [
    "## 8. リスト型\n",
    "- Pythonでは、変数に単一の値だけでなく、複数の値をまとめて入れることができる\n",
    "- 複数の値を入れられるものに「リスト型」「タプル型」「辞書型」の3つがある\n",
    "    - 違いは後ほど説明\n",
    "- リスト型は、[ ] を使って記載する\n",
    "- Pythonでは、複数の要素を記載する際は必ずカンマを利用する\n",
    "- リスト型は、あらゆるところで出てくるので、これに慣れておくことは大事"
   ]
  },
  {
   "cell_type": "code",
   "execution_count": 53,
   "metadata": {},
   "outputs": [],
   "source": [
    "# リストの作成\n",
    "a = [1, 2, 3, 4, 5]"
   ]
  },
  {
   "cell_type": "code",
   "execution_count": 54,
   "metadata": {},
   "outputs": [
    {
     "name": "stdout",
     "output_type": "stream",
     "text": [
      "[1, 2, 3, 4, 5]\n"
     ]
    }
   ],
   "source": [
    "# print() 関数を使ってリストを表示する\n",
    "print(a)"
   ]
  },
  {
   "cell_type": "code",
   "execution_count": 55,
   "metadata": {},
   "outputs": [
    {
     "data": {
      "text/plain": [
       "list"
      ]
     },
     "execution_count": 55,
     "metadata": {},
     "output_type": "execute_result"
    }
   ],
   "source": [
    "# type() 関数を使って型を確認する\n",
    "type(a)"
   ]
  },
  {
   "cell_type": "code",
   "execution_count": null,
   "metadata": {},
   "outputs": [],
   "source": [
    "# len() 関数を使って、リストの要素数を表示する\n",
    "len(a)"
   ]
  },
  {
   "cell_type": "code",
   "execution_count": null,
   "metadata": {},
   "outputs": [],
   "source": [
    "# appendメソッド を使うと、リストに値を追加できる\n",
    "a.append(6) # リストに6を追加\n",
    "print(a)"
   ]
  },
  {
   "attachments": {},
   "cell_type": "markdown",
   "metadata": {},
   "source": [
    "### インデックス\n",
    "- リストの要素にアクセスするには、インデックスを使用する\n",
    "- Pythonでは、**インデックスは 0 から始まる**\n",
    "- `a[1]` は、リスト a の2番めの要素を意味する\n",
    "- インデックス -1 は、最後の値を示す\n",
    "- インデックスを使用すると、個別に要素を変更できる。このように要素を変更できることを「**ミュータブル**」という"
   ]
  },
  {
   "cell_type": "code",
   "execution_count": null,
   "metadata": {},
   "outputs": [],
   "source": [
    "a[1]"
   ]
  },
  {
   "cell_type": "code",
   "execution_count": null,
   "metadata": {},
   "outputs": [],
   "source": [
    "# a[-1] は、今の場合、a[5] と同じ意味\n",
    "a[-1]"
   ]
  },
  {
   "cell_type": "code",
   "execution_count": null,
   "metadata": {},
   "outputs": [],
   "source": [
    "# リストa の5番目の要素を99に変更する\n",
    "a[4] = 99"
   ]
  },
  {
   "cell_type": "code",
   "execution_count": null,
   "metadata": {},
   "outputs": [],
   "source": [
    "# a を表示する\n",
    "print(a)"
   ]
  },
  {
   "attachments": {},
   "cell_type": "markdown",
   "metadata": {},
   "source": [
    "### スライシング\n",
    "- Pythonでは、スライシングという方法を使って、リストの中の複数の値を取り出すことができる\n",
    "- スライシングは[最初のインデックス:最後のインデックス]のように表現し、その間の要素が表示される\n",
    "- スライシングは以下のように、インデックスを見るとわかりやすい\n",
    "\n",
    "```\n",
    "       | n | e | u | r | o | n | \n",
    "       +   +   +   +   +   +   + \n",
    "index  0   1   2   3   4   5   6    \n",
    "      -6  -5  -4  -3  -2  -1    　\n",
    " ```\n",
    " \n",
    " - [0:3] はインデックス0**以上**3**未満**と覚えるのもひとつ"
   ]
  },
  {
   "cell_type": "code",
   "execution_count": null,
   "metadata": {},
   "outputs": [],
   "source": [
    "# n e u r o n をリストとして変数 b に代入\n",
    "b = ['n', 'e', 'u', 'r', 'o', 'n']\n",
    "# bを表示\n",
    "b"
   ]
  },
  {
   "cell_type": "code",
   "execution_count": null,
   "metadata": {},
   "outputs": [],
   "source": [
    "# b[0:2] は、インデックス0とインデックス2の間にある要素が表示される\n",
    "# インデックス0以上2未満と考えると0と1\n",
    "# 今の場合は n と e になる\n",
    "b[0:2]"
   ]
  },
  {
   "cell_type": "code",
   "execution_count": null,
   "metadata": {},
   "outputs": [],
   "source": [
    "# b[1:] のように、最初のインデックスだけ指定すると、そこから最後まで表示される\n",
    "# 今の場合は e u r o n となる\n",
    "b[1:]"
   ]
  },
  {
   "cell_type": "code",
   "execution_count": null,
   "metadata": {},
   "outputs": [],
   "source": [
    "# b[:3] のように、最後のインデックスだけ指定すると、最初からそのインデックスの前まで表示される\n",
    "# インデックスが3未満なので 0, 1, 2 の3つ\n",
    "# 今の場合は n e u となる\n",
    "b[:3]"
   ]
  },
  {
   "cell_type": "code",
   "execution_count": null,
   "metadata": {},
   "outputs": [],
   "source": [
    "# b[:-1] は、今の場合は、b[:5] と同義\n",
    "b[:-1]"
   ]
  },
  {
   "cell_type": "code",
   "execution_count": null,
   "metadata": {},
   "outputs": [],
   "source": [
    "# b[:-2] は、今の場合は、b[:4] と同義\n",
    "b[:-2]"
   ]
  },
  {
   "attachments": {},
   "cell_type": "markdown",
   "metadata": {},
   "source": [
    "- 以上のスライシングは、str型に対しても行うことができる\n",
    "- 文字列の一部を抜き出したい時などに便利である"
   ]
  },
  {
   "cell_type": "code",
   "execution_count": null,
   "metadata": {},
   "outputs": [],
   "source": [
    "# 文字列として neuron を 変数 c に代入\n",
    "c = 'neuron'\n",
    "# 変数 c　のインデックス0以上3未満、すなわち0,1,2を表示\n",
    "c[0:3]"
   ]
  },
  {
   "attachments": {},
   "cell_type": "markdown",
   "metadata": {},
   "source": [
    "### ミニテスト\n",
    "- Python3.0は2008年12月3日にリリースされました。\n",
    "- 変数 py3date に 2008-12-03 という値が入っています。ここから、インデックスを使って変数 year, month, day を作ってください"
   ]
  },
  {
   "cell_type": "code",
   "execution_count": null,
   "metadata": {},
   "outputs": [],
   "source": [
    "date = '2008-12-03'\n",
    "### 以下に解答を書いてください\n",
    "year = \n",
    "month = \n",
    "day = "
   ]
  },
  {
   "cell_type": "code",
   "execution_count": null,
   "metadata": {},
   "outputs": [],
   "source": [
    "# 2008 12 03 となったら正解\n",
    "print(year, month, day)"
   ]
  },
  {
   "cell_type": "code",
   "execution_count": null,
   "metadata": {},
   "outputs": [],
   "source": [
    "# 正解\n",
    "py3date = '2008-12-03'\n",
    "# 2008-12-03 の year は4文字なので、インデックスは 0-3 0以上4未満となる\n",
    "year = py3date[0:4]\n",
    "# month のインデックスは、5と6なので、5以上7未満となる\n",
    "month = py3date[5:7]\n",
    "# date のインデックスは、8と9なので、8以上10未満となる\n",
    "day = py3date[8:10]\n",
    "\n",
    "print(year, month, day)"
   ]
  },
  {
   "attachments": {},
   "cell_type": "markdown",
   "metadata": {},
   "source": [
    "## I. タプル型\n",
    "- タプル型はリスト型とほとんど同じだがひとつ異なる\n",
    "- タプル型はミュータブルではない。つまり、タプルの要素も、要素の数も変更不可能\n",
    "- 値を変更したくない場合などに有用\n",
    "- タプルは ( ) を使って記載する"
   ]
  },
  {
   "cell_type": "code",
   "execution_count": null,
   "metadata": {},
   "outputs": [],
   "source": [
    "# 変数 a をタプルとして設定\n",
    "a = (1, 2, 3, 4, 5)"
   ]
  },
  {
   "cell_type": "code",
   "execution_count": null,
   "metadata": {},
   "outputs": [],
   "source": [
    "# タプルはリストと同様、インデックスを指定して取り出せる\n",
    "# インデックスは [] で指定する\n",
    "a[0]"
   ]
  },
  {
   "cell_type": "code",
   "execution_count": null,
   "metadata": {},
   "outputs": [],
   "source": [
    "# タプルは要素の内容を変更できない\n",
    "# 以下はエラーとなる\n",
    "a[4] = 99"
   ]
  },
  {
   "attachments": {},
   "cell_type": "markdown",
   "metadata": {},
   "source": [
    "## J. 辞書型\n",
    "- 辞書型は「**キー**」と「**値**」をペアにしてデータを格納する\n",
    "- 値は数値だけでなく、文字列なども格納できる\n",
    "- 辞書は、{キー:値} のように代入する\n",
    "- `変数名['キー']` で値を取り出すことができる"
   ]
  },
  {
   "cell_type": "code",
   "execution_count": null,
   "metadata": {},
   "outputs": [],
   "source": [
    "# 変数 liver_func に AST = 30, ALT = 38 を登録する\n",
    "liver_func = {'AST':30, 'ALT':38}"
   ]
  },
  {
   "cell_type": "code",
   "execution_count": null,
   "metadata": {},
   "outputs": [],
   "source": [
    "# 変数 liver_func の型を type() 関数で確認する\n",
    "print(type(liver_func))"
   ]
  },
  {
   "cell_type": "code",
   "execution_count": null,
   "metadata": {},
   "outputs": [],
   "source": [
    "# キー TR の値を抽出する\n",
    "liver_func['AST']"
   ]
  },
  {
   "cell_type": "code",
   "execution_count": null,
   "metadata": {},
   "outputs": [],
   "source": [
    "# キーと値のペアを追加する\n",
    "# γGTP 60　を追加する\n",
    "liver_func['gGTP'] = 60"
   ]
  },
  {
   "cell_type": "code",
   "execution_count": null,
   "metadata": {},
   "outputs": [],
   "source": [
    "# 追加されたかどうかを確認する\n",
    "liver_func"
   ]
  },
  {
   "cell_type": "code",
   "execution_count": null,
   "metadata": {},
   "outputs": [],
   "source": [
    "# キーと値の一覧は、メソッド items() で取得できる\n",
    "liver_func.items()"
   ]
  },
  {
   "cell_type": "code",
   "execution_count": null,
   "metadata": {},
   "outputs": [],
   "source": [
    "#キー一覧は、メソッド keys() で取得できる\n",
    "liver_func.keys()"
   ]
  },
  {
   "cell_type": "code",
   "execution_count": null,
   "metadata": {},
   "outputs": [],
   "source": [
    "#値一覧は、メソッド values() で取得できる\n",
    "liver_func.values()"
   ]
  },
  {
   "attachments": {},
   "cell_type": "markdown",
   "metadata": {},
   "source": [
    "## K. ブーリアン\n",
    "- ブーリアンは True と False をとる特殊な型。bool型と言われる\n",
    "- bool型は、and, or, not が使える"
   ]
  },
  {
   "cell_type": "code",
   "execution_count": null,
   "metadata": {},
   "outputs": [],
   "source": [
    "MRI = True   # MRIは撮像した\n",
    "SPECT = False  # SPECTは撮像していない"
   ]
  },
  {
   "cell_type": "code",
   "execution_count": null,
   "metadata": {},
   "outputs": [],
   "source": [
    "# 型は bool型\n",
    "print(type(MRI))"
   ]
  },
  {
   "cell_type": "code",
   "execution_count": null,
   "metadata": {},
   "outputs": [],
   "source": [
    "# True の反対は False\n",
    "print(not MRI)"
   ]
  },
  {
   "cell_type": "code",
   "execution_count": null,
   "metadata": {},
   "outputs": [],
   "source": [
    "# and はどちらも True のときだけ True\n",
    "print(MRI and SPECT)"
   ]
  },
  {
   "cell_type": "code",
   "execution_count": null,
   "metadata": {},
   "outputs": [],
   "source": [
    "# or はどちらかが True ならば True (両方 True でも True)\n",
    "print(MRI or SPECT)"
   ]
  },
  {
   "attachments": {},
   "cell_type": "markdown",
   "metadata": {},
   "source": [
    "## L. if文による条件分岐\n",
    "- 条件に応じて分岐するには、ifを使う\n",
    "- 書式は以下\n",
    "\n",
    "```\n",
    "if 条件1:\n",
    "    条件1が真の時のブロック文1\n",
    "elif 条件2:\n",
    "    条件2が真の時のブロック文2\n",
    "else:\n",
    "    条件が偽の時のブロック文3\n",
    "```\n",
    "\n",
    "- 条件の最後に必ず `:` をつける\n",
    "- 条件の後のブロック文には、必ずインデント(半角スペース4文字もしくは2文字)を入れる\n",
    "    - インデント: 文章の行頭に空白を挿入して先頭の文字を右にずらすこと"
   ]
  },
  {
   "cell_type": "code",
   "execution_count": null,
   "metadata": {},
   "outputs": [],
   "source": [
    "# 条件によって成績をつけるプログラム\n",
    "# 80点以上はA, 70点以上はB, 60点以上はC, それ以外はD\n",
    "# print文は format() メソッドを使うと上手に表示できる\n",
    "\n",
    "score = 75\n",
    "\n",
    "if score >= 80:\n",
    "    grade = 'A'\n",
    "elif score >= 70:\n",
    "    grade = 'B'\n",
    "elif score >= 60:\n",
    "    grade = 'C'\n",
    "else:\n",
    "    grade = 'D'\n",
    "print(f'あなたの成績は {grade} です')"
   ]
  },
  {
   "attachments": {},
   "cell_type": "markdown",
   "metadata": {},
   "source": [
    "## M. 関数 function\n",
    "- 上記の内容は その都度、`score = 75` を書き換えないといけない\n",
    "- このような時、関数を定義することができる\n",
    "- 関数は英語では function というように、「機能」\n",
    "- ここでの関数は、「自分の行いたい機能を実装する」というような意味として考えるとよい\n",
    "- `def 自作関数名(引数):` の後に行いたい処理を記載すれば関数となる\n",
    "- return で関数の戻り値を指定する\n",
    "- なお、関数の中で定義する変数は、関数の外では使うことはできない"
   ]
  },
  {
   "cell_type": "code",
   "execution_count": null,
   "metadata": {},
   "outputs": [],
   "source": [
    "def grading(score):\n",
    "    # スコアによって成績を変数 g に代入\n",
    "    if score >= 80:\n",
    "        g = 'A'\n",
    "    elif score >= 70:\n",
    "        g = 'B'\n",
    "    elif score >= 60:\n",
    "        g = 'C'\n",
    "    else:\n",
    "        g = 'D'\n",
    "    # return g によってこの関数を実行すると、変数 g が戻り値となる\n",
    "    return g\n",
    "\n",
    "def display_grade(grade):\n",
    "    # 表示だけがメインの関数ならば戻り値は必要ないので、return は不要\n",
    "    print(f'あなたの成績は {grade} です')\n",
    "    "
   ]
  },
  {
   "cell_type": "code",
   "execution_count": null,
   "metadata": {
    "scrolled": true
   },
   "outputs": [],
   "source": [
    "# 自作のgrading関数の戻り値を変数 grade に代入する\n",
    "s = int(input('得点は?: '))\n",
    "grade = grading(s)"
   ]
  },
  {
   "cell_type": "code",
   "execution_count": null,
   "metadata": {},
   "outputs": [],
   "source": [
    "# 変数 grade の内容を表示\n",
    "print(grade)"
   ]
  },
  {
   "cell_type": "code",
   "execution_count": null,
   "metadata": {},
   "outputs": [],
   "source": [
    "# この結果を自作の dispaly_grade 関数に代入する\n",
    "display_grade(grade)"
   ]
  },
  {
   "cell_type": "code",
   "execution_count": null,
   "metadata": {},
   "outputs": [],
   "source": [
    "# 関数を組み合わせれば一行で表現可能\n",
    "s = int(input('得点は?: '))\n",
    "display_grade(grading(s))"
   ]
  },
  {
   "attachments": {},
   "cell_type": "markdown",
   "metadata": {},
   "source": [
    "## N. for文によるループ処理\n",
    "- Pythonでは様々な方法を使ってループ処理をすることができる\n",
    "    - range() 関数を使った一定回数の繰り返し\n",
    "    - リストを使ったリストの要素に対する繰り返し\n",
    "    - ディクショナリを使ったディクショナリの要素に対する繰り返し\n",
    "- 書式は以下\n",
    "\n",
    "```\n",
    "for 変数 in range/リスト/ディクショナリ:\n",
    "    ブロック文\n",
    "```"
   ]
  },
  {
   "cell_type": "code",
   "execution_count": null,
   "metadata": {},
   "outputs": [],
   "source": [
    "# range() 関数を使った一定回数の繰り返し\n",
    "# range(5) は 0,1,2,3,4 と同じ 「0以上5未満」\n",
    "# formatメソッドを使うと、int型をstr型に変えるといった煩わしさがなくなる\n",
    "\n",
    "for i in range(5):\n",
    "    print(f'Hello World {i}')\n",
    "    "
   ]
  },
  {
   "cell_type": "code",
   "execution_count": null,
   "metadata": {},
   "outputs": [],
   "source": [
    "# リストを使った繰り返し\n",
    "# テストの結果を リスト result に代入し、\n",
    "# 先程定義した display_grade(grading()) にループで代入する\n",
    "\n",
    "result = [95, 76, 56, 92, 62, 65, 74]\n",
    "\n",
    "for i in result:\n",
    "    display_grade(grading(i))"
   ]
  },
  {
   "cell_type": "code",
   "execution_count": null,
   "metadata": {},
   "outputs": [],
   "source": [
    "# ディクショナリを使った繰り返し\n",
    "# 先程使った liver_func の情報を出力する\n",
    "\n",
    "for key, value in liver_func.items():\n",
    "    print(f'{key} is {value}')"
   ]
  },
  {
   "attachments": {},
   "cell_type": "markdown",
   "metadata": {},
   "source": [
    "## 練習問題\n",
    "- あなたは神経性やせ症の患者さんの受け持ちになりました。毎週、BMIを計算して指導医に報告する必要があります。\n",
    "\n",
    "- 以下を行ってください。\n",
    "    - def を使って、身長(cm) と 体重(kg) が与えられた時に、BMIを算出する関数 calc_bmi を定義してください。\n",
    "        - return に b を指定してください\n",
    "        - BMI は 体重(kg) / (身長(m)の2乗) で求められます\n",
    "\n",
    "- input 関数を使って、身長を cm で入力させ、プログラムで m に変換させてください\n",
    "- 同様に input 関数を使って、体重を kg で入力させてください\n",
    "- 「BMIは ○○ です」と表示させてください\n"
   ]
  },
  {
   "cell_type": "code",
   "execution_count": null,
   "metadata": {},
   "outputs": [],
   "source": [
    "# ヒント\n",
    "# 関数の定義\n",
    "#   def calc_bmi(ht,bw):  で、身長と体重からBMIを求める関数を定義します\n",
    "#   BMIを bmi とすると、bmi = bw / (ht ** 2) と表示されます\n",
    "# \n",
    "\n",
    "#### 以下に関数 calc_bmi を3行で記載してください ####\n",
    "def \n",
    "  \n",
    "  \n",
    "#### 関数ここまで ##############\n",
    "\n",
    "\n",
    "# 以下で、身長と体重をキーボードから入力できるようにしてください\n",
    "# 以下のように表示しましょう。\n",
    "# 身長をcmで入力してください:\n",
    "# 体重をkgで入力してください:\n",
    "ht = input()\n",
    "bw = input()\n",
    "\n",
    "# 以下で、ht と bw を float に変換し、htは cm → m に変換してください\n",
    "ht = \n",
    "bw = \n",
    "\n",
    "# 以下で、 bmi を算出し、BMIを表示してください。\n",
    "bmi = \n",
    "print()    \n",
    "#################################\n",
    "\n"
   ]
  },
  {
   "cell_type": "code",
   "execution_count": null,
   "metadata": {},
   "outputs": [],
   "source": [
    "# 正解例\n",
    "\n",
    "#### 以下に関数 calc_bmi を3行で記載してください ####\n",
    "def calc_bmi(ht, bw):\n",
    "    bmi = bw / (ht ** 2)\n",
    "    return bmi\n",
    "#### 関数ここまで ##############\n",
    "\n",
    "# 以下で、身長と体重をキーボードから入力できるようにしてください\n",
    "# 以下のように表示しましょう。\n",
    "# 身長をcmで入力してください:\n",
    "# 体重をkgで入力してください:\n",
    "ht = input('身長をcmで入力してください:')\n",
    "bw = input('体重をkgで入力してください:')\n",
    "\n",
    "# 以下で、ht と bw を float に変換し、htは cm → m に変換してください\n",
    "ht = float(ht)/100\n",
    "bw = float(bw)\n",
    "\n",
    "# 以下で、 bmi を算出し、BMIを表示してください。\n",
    "bmi = calc_bmi(ht, bw)\n",
    "print(f'BMIは{bmi}です')    \n",
    "#################################"
   ]
  }
 ],
 "metadata": {
  "kernelspec": {
   "display_name": "Python 3 (ipykernel)",
   "language": "python",
   "name": "python3"
  },
  "language_info": {
   "codemirror_mode": {
    "name": "ipython",
    "version": 3
   },
   "file_extension": ".py",
   "mimetype": "text/x-python",
   "name": "python",
   "nbconvert_exporter": "python",
   "pygments_lexer": "ipython3",
   "version": "3.10.12"
  }
 },
 "nbformat": 4,
 "nbformat_minor": 4
}
