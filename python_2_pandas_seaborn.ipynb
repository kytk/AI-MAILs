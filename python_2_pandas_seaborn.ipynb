{
  "cells": [
    {
      "cell_type": "markdown",
      "metadata": {},
      "source": [
        "<a href=\"https://colab.research.google.com/github/kytk/AI-MAILs/blob/main/python_2_pandas_seaborn.ipynb?hl=ja\" target=\"_blank\"><img src=\"https://colab.research.google.com/assets/colab-badge.svg\" alt=\"Open In Colab\"/></a>"
      ]
    },
    {
      "cell_type": "markdown",
      "metadata": {
        "id": "YoSBiFrTqj9e"
      },
      "source": [
        "# 医療従事者のためのPython: PandasとSeaborn\n",
        "\n",
        "根本清貴 (筑波大学医学医療系精神医学)\n",
        "\n",
        "Ver.20240703"
      ]
    },
    {
      "cell_type": "markdown",
      "metadata": {
        "id": "SUNPeJViyEYm"
      },
      "source": [
        "## 参考にした資料\n",
        "- [Pandas公式ドキュメント(英語)](https://pandas.pydata.org/docs/index.html)\n",
        "- [Seaborn公式ドキュメント(英語)](https://seaborn.pydata.org/tutorial/introduction)\n",
        "\n",
        "## 本日使用するデータ\n",
        "- 糖尿病データセット https://www4.stat.ncsu.edu/~boos/var.select/diabetes.html\n",
        "- 配布されているファイルの列名だけ編集し、2つに分割してExcelファイルに変換\n",
        "- diabetes_demographics.xlsx: 年齢、性別、BMI、平均血圧\n",
        "- diabetes_data.xlsx: T-Cho, LDL, HDL, T-Cho/HDL, TGの対数, 血糖, Y(1年間での進行度)\n",
        "\n",
        "## 本セクションの目標\n",
        "- Pandasを使ってExcelファイルを読み込むことができるようになる\n",
        "- Pandasを使って任意の列や行を抽出できるようになる\n",
        "- Pandasを使って2つのファイルを結合することができるようになる\n",
        "- Seabronを使って様々なグラフが描けるようになる"
      ]
    },
    {
      "cell_type": "markdown",
      "metadata": {},
      "source": [
        "## 本日の内容\n",
        "1. PandasとSeabornの概要\n",
        "2. Pandasの基礎\n",
        "   - データの読み込み\n",
        "   - データの表示\n",
        "   - データの操作\n",
        "   - データの結合\n",
        "   - 欠損値の扱い\n",
        "3. Seabornの基礎\n",
        "   - 基本的なグラフ\n",
        "   - カスタマイズ\n",
        "4. 練習問題\n"
      ]
    },
    {
      "cell_type": "markdown",
      "metadata": {
        "id": "BO_Iii-JyEYm"
      },
      "source": [
        "## 1. Pandas と Seaborn の概要\n",
        "- Pandas\n",
        "    - Pythonでデータ分析およびデータ操作をするためのツール \n",
        "    - \"Pandas is a fast, powerful, flexible and easy to use open source data analysis and manipulation tool, built on top of the Python programming language.\"\n",
        "- Seaborn\n",
        "    - Pythonで統計データからグラフを簡便に作成するためのツール \n",
        "    - \"Seaborn is a library for making statistical graphics in Python.\""
      ]
    },
    {
      "cell_type": "markdown",
      "metadata": {},
      "source": [
        "### 1.0. Pandas と Seaborn のインストール (今回は不要)\n",
        "- 自分でPython環境を整える際は、以下で Pandas と Seaborn をインストールする\n",
        "\n",
        "    ```\n",
        "    pip install pandas seaborn\n",
        "    ```"
      ]
    },
    {
      "cell_type": "markdown",
      "metadata": {
        "id": "oakypyoGyEYp"
      },
      "source": [
        "### 1.1. Pandas と Seaborn, および os のインポート\n",
        "- pandas は pd としてインポートされることが多い\n",
        "- seaborn は sns としてインポートされることが多い\n",
        "- ファイルを確認するために、os モジュールもインポートする\n"
      ]
    },
    {
      "cell_type": "code",
      "execution_count": null,
      "metadata": {},
      "outputs": [],
      "source": [
        "# pandas は pd としてインポートされることが多い\n",
        "import pandas as pd\n",
        "\n",
        "# seaborn は sns (seaborn name space) としてインポートされることが多い\n",
        "import seaborn as sns\n",
        "\n",
        "# ファイルを確認するのは、os モジュールをインポートする\n",
        "import os"
      ]
    },
    {
      "cell_type": "markdown",
      "metadata": {},
      "source": [
        "### 1.2. Google colaboratory へのデータの読み込み\n",
        "- Google colaboratoryで作業をする時、通常は、左にある「ファイル」の下にデータをドラッグ & ドロップする\n",
        "- そうすると、'ファイル名' でアクセスできる\n",
        "- 今は、データをダウンロードして使用する\n",
        "- 下のセルを実行すると、3つのxlsxファイルがダウンロードされる\n",
        "- **注意**: Google colaboratoryでの作業内容は一定時間で消える。データを保存するためには、適宜作業結果のダウンロードなどが必要\n",
        "\n",
        "<img src=\"https://www.nemotos.net/nb/img/colabo_files.png\" width=300>"
      ]
    },
    {
      "cell_type": "code",
      "execution_count": null,
      "metadata": {
        "id": "JmkGrITrtVp7"
      },
      "outputs": [],
      "source": [
        "# 本日使うデータをダウンロードする\n",
        "# ファイル名は diabetes_demographics.xlsx, diabetes_demographics_short.xlsx, diabetes_data.xlsx\n",
        "# \n",
        "# (参考: 本講義においては本質的な事柄ではないのでわからなくても特に気にしなくて大丈夫です)\n",
        "# ! はPythonからシェルで動かすプログラムを実行したい時につける\n",
        "# [[ -f diabetes_demographics.xlsx ]] は、「diabetes_demographics.xlsx というファイルがあるか？」というシェルスクリプトのテスト文\n",
        "# || は、戻り値が False ならば…　というコマンド\n",
        "# wget はダウンロードするLinuxのプログラム\n",
        "\n",
        "![[ -f diabetes_demographics.xlsx ]] || wget https://raw.githubusercontent.com/kytk/AI-MAILs/main/data/diabetes_demographics.xlsx\n",
        "![[ -f diabetes_data.xlsx ]] || wget https://raw.githubusercontent.com/kytk/AI-MAILs/main/data/diabetes_data.xlsx\n",
        "![[ -f diabetes_data_short.xlsx ]] || wget https://raw.githubusercontent.com/kytk/AI-MAILs/main/data/diabetes_data_short.xlsx\n"
      ]
    },
    {
      "cell_type": "code",
      "execution_count": null,
      "metadata": {},
      "outputs": [],
      "source": [
        "# osモジュールの中にある listdir() 関数で今のディレクトリの下にあるファイル一覧を表示できる\n",
        "# 以下の3つのファイルがあることを確認\n",
        "#   diabetes_demographics.xlsx\n",
        "#   diabetes_data.xlsx\n",
        "#   diabetes_data_short.xlsx\n",
        "\n",
        "os.listdir()"
      ]
    },
    {
      "cell_type": "markdown",
      "metadata": {},
      "source": [
        "## 2. Pandasの基礎\n",
        "\n",
        "### 2.1. Pandasでできることの例\n",
        "- 表を扱う\n",
        "- 表の記述統計量を出力する\n",
        "- 表の一部を抽出する\n",
        "- 複数の表を結合する\n",
        "- 複数の列の情報から新しい列を生成する\n",
        "- PandasのデータフレームはSeabornでのグラフ作成にそのまま使用できる\n",
        "\n",
        "### 2.2. Pandasの必要性: データの前処理とクリーニング\n",
        "- データの前処理は、データ解析において重要なステップ\n",
        "- Pandasを使用すると、欠損値の処理、データ型の変換、重複データの削除などを行うことができる"
      ]
    },
    {
      "cell_type": "markdown",
      "metadata": {
        "id": "M4TXVBpNvegz"
      },
      "source": [
        "### 2.3. Pandas の用語: 「データフレーム Data Frame」\n",
        "- 一般的な表をイメージすればよい\n",
        "- Pandasでは、ひとつの表を「データフレーム」と呼ぶ\n",
        "- 行: row; 列: column\n",
        "- dataframe という名前を略して、 'df' という変数に代入することが多い\n",
        "\n",
        "<img src=\"https://www.nemotos.net/nb/img/pandas_01.png\" width=400>\n",
        "図: pandas の公式ドキュメントから引用"
      ]
    },
    {
      "cell_type": "markdown",
      "metadata": {
        "id": "jLzeT1vssiXB"
      },
      "source": [
        "### 2.4. Pandas へのデータの読み込み\n",
        "- Pandas は、excelファイルやcsvファイルを読み込むことができる\n",
        "- Excel は、`pd.read_excel('excelファイル')` で読み込むことができる\n",
        "- CSVは、`pd.read_csv('csvファイル')` で読み込むことができる\n",
        "- IDなどは、インデックスとして指定すると取り回しが楽になる"
      ]
    },
    {
      "cell_type": "markdown",
      "metadata": {},
      "source": [
        "- diabetes_demographics.xlsx\n",
        "\n",
        "    <img src=\"https://www.nemotos.net/nb/img/diabetes_demographics_screenshot.png\" width=300>\n",
        "\n",
        "- diabetes_data.xlsx\n",
        "\n",
        "    <img src=\"https://www.nemotos.net/nb/img/diabetes_data_screenshot.png\" width=450>\n"
      ]
    },
    {
      "cell_type": "code",
      "execution_count": null,
      "metadata": {
        "id": "pp5cLOsYyEYq"
      },
      "outputs": [],
      "source": [
        "# diabetes_demographics.xlsx を df_demographics として読み込む。第0列をインデックス列とする\n",
        "df_demographics = pd.read_excel('diabetes_demographics.xlsx',index_col=0)\n",
        "\n",
        "# diabetes_data.xlsx を df_data として読み込む。第0列をインデックス列とする\n",
        "df_data = pd.read_excel('diabetes_data.xlsx',index_col=0)\n",
        "\n",
        "# diabetes_data_short.xlsx を df_data_short として読み込む。第0列をインデックス列とする\n",
        "df_data_short = pd.read_excel('diabetes_data_short.xlsx',index_col=0)"
      ]
    },
    {
      "cell_type": "markdown",
      "metadata": {},
      "source": [
        "#### データフレームの概要を確認\n",
        "- データフレームにどのような情報が入っているかは pandasデータフレームのメソッド、info() で知ることができる"
      ]
    },
    {
      "cell_type": "code",
      "execution_count": null,
      "metadata": {},
      "outputs": [],
      "source": [
        "# df_demographics についての概要を知る\n",
        "df_demographics.info()"
      ]
    },
    {
      "cell_type": "markdown",
      "metadata": {},
      "source": [
        "#### カテゴリカルデータの扱い\n",
        "- 今、SEXは int64 と整数型となっている。\n",
        "- これを以下のようにカテゴリカルデータと変更する方法もある\n",
        "    ```\n",
        "    # データ型の変換\n",
        "    df_demographics['SEX'] = df_demographics['SEX'].astype('category')\n",
        "    ```\n",
        "- しかし、この場合、その後エラーが出やすいので、ここでは意図的に変更しない\n",
        "- この後出てくる記述統計量は注意が必要\n"
      ]
    },
    {
      "cell_type": "markdown",
      "metadata": {},
      "source": [
        "#### Pandasデータフレームの型\n",
        "- pandasのデータフレームは独自の型で定義されている\n",
        "- pandasデータフレームの型は `type()` 関数でわかる"
      ]
    },
    {
      "cell_type": "code",
      "execution_count": null,
      "metadata": {},
      "outputs": [],
      "source": [
        "# データフレームの型\n",
        "# pandas.core.frame.DataFrame型\n",
        "type(df_demographics)"
      ]
    },
    {
      "cell_type": "markdown",
      "metadata": {
        "id": "D9xs4wJG0ls1"
      },
      "source": [
        "### 2.5. データの表示\n",
        "- 読み込んだデータフレームを df とすると、メソッド head() を使うことで、最初の5行を表示できる\n",
        "    - head(10)とすると、10行が表示される\n",
        "- 表の大きさは、df.shape で確認できる"
      ]
    },
    {
      "cell_type": "code",
      "execution_count": null,
      "metadata": {
        "id": "50du2zW2yEYq"
      },
      "outputs": [],
      "source": [
        "# df_demographics の最初の5行を確認\n",
        "\n",
        "# 今、ID列がインデックス列になっているので、IDだけ段がひとつずれていることに注意\n",
        "df_demographics.head()"
      ]
    },
    {
      "cell_type": "code",
      "execution_count": null,
      "metadata": {},
      "outputs": [],
      "source": [
        "# インデックス列として指定しないとどうなるかも確認\n",
        "# IDがひとつの変数として読み込まれる\n",
        "# インデックスは一番左の 0, 1, 2 ...\n",
        "\n",
        "df_demo_without_index = pd.read_excel('diabetes_demographics.xlsx')\n",
        "df_demo_without_index.head()"
      ]
    },
    {
      "cell_type": "code",
      "execution_count": null,
      "metadata": {
        "id": "HfKt9tzeyEYq"
      },
      "outputs": [],
      "source": [
        "# df_demographics の表の大きさを確認\n",
        "# インデックス(ID)以外は442行4列\n",
        "df_demographics.shape"
      ]
    },
    {
      "cell_type": "code",
      "execution_count": null,
      "metadata": {},
      "outputs": [],
      "source": [
        "# df_data の最初の5行を確認\n",
        "df_data.head()"
      ]
    },
    {
      "cell_type": "code",
      "execution_count": null,
      "metadata": {},
      "outputs": [],
      "source": [
        "# df_data の表の大きさを確認\n",
        "# インデックス(ID)以外は442行7列\n",
        "df_data.shape"
      ]
    },
    {
      "cell_type": "code",
      "execution_count": null,
      "metadata": {
        "id": "HpKCr05C1DoT"
      },
      "outputs": [],
      "source": [
        "# df_data_short の最初の5行を確認\n",
        "# IDが連番になっていないデータ\n",
        "df_data_short.head()"
      ]
    },
    {
      "cell_type": "code",
      "execution_count": null,
      "metadata": {
        "id": "z5l3p7_r1DbI"
      },
      "outputs": [],
      "source": [
        "# df_data_short の表の大きさを確認\n",
        "# インデックス(ID)以外は252行7列\n",
        "df_data_short.shape"
      ]
    },
    {
      "cell_type": "markdown",
      "metadata": {
        "id": "rL5ES_rMCa1p"
      },
      "source": [
        "### 2.6. データの記述統計量\n",
        "- Pandasはデータ解析ツールとうたっているだけあり、記述統計量は簡単に求められる\n"
      ]
    },
    {
      "cell_type": "code",
      "execution_count": null,
      "metadata": {
        "id": "PHwh4o8OCpLX"
      },
      "outputs": [],
      "source": [
        "# df.describe() で各項目の記述統計量が求められる\n",
        "# 連続値の n数、平均、標準偏差、最小値、25パーセンタイル、50パーセンタイル、75パーセンタイル、最大値が一覧で出力される\n",
        "df_demographics.describe()"
      ]
    },
    {
      "cell_type": "markdown",
      "metadata": {
        "id": "fcd97NLpJLbi"
      },
      "source": [
        "- groupby() メソッドを使うと、群毎の記述統計量を計算できる"
      ]
    },
    {
      "cell_type": "code",
      "execution_count": null,
      "metadata": {
        "id": "3PFO9gwrJS0z"
      },
      "outputs": [],
      "source": [
        "# groupby メソッドで、性別毎の平均を計算する\n",
        "df_demographics.groupby(by='SEX').mean()"
      ]
    },
    {
      "cell_type": "markdown",
      "metadata": {},
      "source": [
        "- corr() メソッドを使うと、相関係数を計算できる"
      ]
    },
    {
      "cell_type": "code",
      "execution_count": null,
      "metadata": {},
      "outputs": [],
      "source": [
        "# データの相関も corr() メソッドで簡単に求められる\n",
        "# df_data の各列の相関を求める\n",
        "\n",
        "# df_data の3行を表示する\n",
        "df_data.head(3)"
      ]
    },
    {
      "cell_type": "code",
      "execution_count": null,
      "metadata": {},
      "outputs": [],
      "source": [
        "# 相関を求める\n",
        "df_data.corr()"
      ]
    },
    {
      "cell_type": "markdown",
      "metadata": {
        "id": "YpA9rUua3su1"
      },
      "source": [
        "### 2.7. データの操作 (1)\n",
        "#### 列の抽出\n",
        "- Pandas では、カラム名を使って、データから特定の列を抽出できる\n",
        "- Pythonは要素を取り出したい時は、[] を使う。この原則に従って、df['列名'] とすることで、特定の列を取り出せる"
      ]
    },
    {
      "cell_type": "code",
      "execution_count": null,
      "metadata": {},
      "outputs": [],
      "source": [
        "# df_data の列名は、df_data.columns　で求められる\n",
        "df_data.columns"
      ]
    },
    {
      "cell_type": "code",
      "execution_count": null,
      "metadata": {
        "id": "a4ZYW4y130Gi"
      },
      "outputs": [],
      "source": [
        "# 'T-Cho' の列だけを抽出したかったら、df_demographics['T-Cho']とする\n",
        "df_data['T-Cho']"
      ]
    },
    {
      "cell_type": "code",
      "execution_count": null,
      "metadata": {
        "id": "bVFaAIXlDXYg"
      },
      "outputs": [],
      "source": [
        "# 取り出した列だけの平均を求めることもできる\n",
        "df_data['T-Cho'].mean()"
      ]
    },
    {
      "cell_type": "markdown",
      "metadata": {
        "id": "J6tbH3nq4HBg"
      },
      "source": [
        "- 複数のカラムを取り出したい時は、カラム名をリストで作成し、それをdf[[リスト]]とする\n",
        "- リストはもともと [] でくくっており、それを、要素を抽出する [] でくくるので、結果的に [[]] となっていることに注意"
      ]
    },
    {
      "cell_type": "code",
      "execution_count": null,
      "metadata": {
        "id": "Wj0o-k8-4Ro8"
      },
      "outputs": [],
      "source": [
        "# T-Cho, LDL, HDL, Glu, Y を取り出したい\n",
        "# 考え方として、まず、リストを作成する\n",
        "# そのリストを df_data[] の中に入れる\n",
        "# ['T-Cho', 'LDL', 'HDL', 'Glu', 'Y']\n",
        "df_data[['T-Cho', 'LDL', 'HDL', 'Glu', 'Y']]"
      ]
    },
    {
      "cell_type": "code",
      "execution_count": null,
      "metadata": {
        "id": "brS7ezYGDzoW"
      },
      "outputs": [],
      "source": [
        "# ここでも同じように平均値を求められる\n",
        "# 連続値のみ平均値が計算される\n",
        "df_data[['T-Cho', 'LDL', 'HDL', 'Glu', 'Y']].mean()"
      ]
    },
    {
      "cell_type": "markdown",
      "metadata": {
        "id": "gV3e3q3MPcWF"
      },
      "source": [
        "#### 演習 1\n",
        "- pandasで複数のカラムを抽出したい時、リストを使うことの意義を感じてもらうために以下を実行してください\n",
        "- 'T-Cho', 'LDL', 'Glu' の3項目を a というリストに代入してください\n",
        "- df_data[a] を実行してみてください\n"
      ]
    },
    {
      "cell_type": "code",
      "execution_count": null,
      "metadata": {
        "id": "ehjKM2YqQE8q"
      },
      "outputs": [],
      "source": [
        "# あなたの回答\n",
        "# 'T-Cho', 'LDL', 'Glu' を a というリストに代入\n",
        "a =\n",
        "# a を表示\n",
        "# ['T-Cho', 'LDL', 'Glu'] と表示されれば正解\n",
        "print(a)"
      ]
    },
    {
      "cell_type": "code",
      "execution_count": null,
      "metadata": {
        "id": "g5COC7oTQODJ"
      },
      "outputs": [],
      "source": [
        "# df_data[a] を実行\n",
        "df_data[a]"
      ]
    },
    {
      "cell_type": "code",
      "execution_count": null,
      "metadata": {
        "id": "ogxu4vtfVJDl"
      },
      "outputs": [],
      "source": [
        "# 回答例\n",
        "a = ['T-Cho', 'LDL', 'Glu']\n",
        "print(a)\n",
        "df_data[a]\n",
        "# a そのものが [] でくくられているので、df[a] は df[['Age', 'Subject_Type', 'CSF']] と同義\n",
        "# 慣れるまでは、まず、リストを作成して、それをdf[]に入れるように意識するのがよいかもしれない"
      ]
    },
    {
      "cell_type": "markdown",
      "metadata": {
        "id": "Vfu7VEQ76tX3"
      },
      "source": [
        "#### 行の抽出\n",
        "- 行を抽出したい場合には、loc (**loc**ation) やiloc (**i**nteger **loc**ation)を使う\n",
        "- loc の後には、取り出したいインデックスの値を記載する\n",
        "- iloc の後には、取り出したい行番号を記載する。スライシングで複数行を指定できる"
      ]
    },
    {
      "cell_type": "code",
      "execution_count": null,
      "metadata": {
        "id": "gqJv9X_h6rWz"
      },
      "outputs": [],
      "source": [
        "# loc は 特定のインデックスの行を取り出せる\n",
        "# 今、インデックスはID\n",
        "# ID sub400 を取り出す\n",
        "df_data.loc['sub400']\n"
      ]
    },
    {
      "cell_type": "code",
      "execution_count": null,
      "metadata": {},
      "outputs": [],
      "source": [
        "# IDをリストで指定すると、複数行取り出せる\n",
        "df_data.loc[['sub400', 'sub410']]"
      ]
    },
    {
      "cell_type": "code",
      "execution_count": null,
      "metadata": {
        "id": "Ak7PBfkkFaS7"
      },
      "outputs": [],
      "source": [
        "# iloc は 行番号で指定した行を取り出せる\n",
        "# スライシングはPythonの基本と同じ\n",
        "# 最初の行の行番号は0\n",
        "# 行が1行目からはじまるとして、3行目から5行目を取り出したい時、\n",
        "# 行番号が0から始まるとすると、行番号の2から4を取り出すということなので、\n",
        "# 2行以上5行未満と考える\n",
        "df_data.iloc[2:5]"
      ]
    },
    {
      "cell_type": "code",
      "execution_count": null,
      "metadata": {
        "id": "sbpHNWuBGRJ-"
      },
      "outputs": [],
      "source": [
        "# df_data.head() で最初の5行を表示することで確認\n",
        "df_data.head()"
      ]
    },
    {
      "cell_type": "markdown",
      "metadata": {},
      "source": [
        "### 2.8. データの結合\n",
        "#### データフレームの横方向への結合\n",
        "- pandasの得意なことに、表を結合することがある\n",
        "- 2つの表でIDが完全に一致しない時に、Excelではかなり手間がかかる\n",
        "- pd.merge() 関数を使うことで、表（データフレーム）を横方向に結合できる\n",
        "- 2つのデータフレームに共通するキーを `on='キー'` を使って指定する\n",
        "\n",
        "### 内部結合と外部結合\n",
        "- merge には内部結合と外部結合がある\n",
        "    - *正確には外部結合には、左側、右側、完全の3つがあるが今回は完全外部結合のみ説明\n",
        "- 内部結合は2つのデータに共通するもののみ結合する(下図ではID04, ID05, ID06のみが結合される)\n",
        "- 外部結合は2つのデータのすべてが結合する\n",
        "- 数学で言えば、2つのグループA, B に対し\n",
        "    - 内部結合は積集合: A∩B\n",
        "    - 外部結合は和集合: A∪B\n",
        "\n",
        "<img src=\"https://www.nemotos.net/nb/img/pandas_02.png\" width=300>\n",
        "\n",
        "\n",
        "- デフォルトは、共通するキーがある行だけが結合される(内部結合)\n",
        "\n",
        "- 今、df_demographics は 442行あるのに対し、df_data は 442行、df_data_short は254行ある (研究データで一部のデータがとれていないイメージ)\n",
        "\n",
        "- 3つのことを行う\n",
        "    - df_demographics (442行) と df_data (442行) を結合する（Excelでも簡単にできる）\n",
        "    - df_demographics (442行) と df_data_short (254行) を内部結合する（Excelだと大変）\n",
        "    - df_demographics (442行) と df_data_short (254行) を外部結合する (Excelだと大変)\n",
        "\n"
      ]
    },
    {
      "cell_type": "code",
      "execution_count": null,
      "metadata": {},
      "outputs": [],
      "source": [
        "# df_demographics と df_data を 'ID' キーを使って連結し、df というデータフレームを生成する\n",
        "df = pd.merge(df_demographics, df_data, on='ID')"
      ]
    },
    {
      "cell_type": "code",
      "execution_count": null,
      "metadata": {},
      "outputs": [],
      "source": [
        "# df の最初の5行だけ表示する\n",
        "# demographics の列と data の列が結合したことに着目\n",
        "df.head()"
      ]
    },
    {
      "cell_type": "code",
      "execution_count": null,
      "metadata": {},
      "outputs": [],
      "source": [
        "# df の大きさを確認する\n",
        "# 442行11列\n",
        "df.shape"
      ]
    },
    {
      "cell_type": "code",
      "execution_count": null,
      "metadata": {},
      "outputs": [],
      "source": [
        "# df_demographics と df_data_short を 'ID' キーを使って連結し、df_short というデータフレームを生成する\n",
        "df_short = pd.merge(df_demographics, df_data_short, on='ID')"
      ]
    },
    {
      "cell_type": "code",
      "execution_count": null,
      "metadata": {},
      "outputs": [],
      "source": [
        "# df_short の大きさを確認\n",
        "# 254行11列\n",
        "df_short.shape"
      ]
    },
    {
      "cell_type": "code",
      "execution_count": null,
      "metadata": {},
      "outputs": [],
      "source": [
        "# df_short の最初の5行だけ表示する\n",
        "# IDが少なくなっていることに着目\n",
        "df_short.head()"
      ]
    },
    {
      "cell_type": "code",
      "execution_count": null,
      "metadata": {},
      "outputs": [],
      "source": [
        "# df_demographics と df_data_short に対して 外部結合を行い、df_short_outer というデータフレームを生成する\n",
        "# 外部結合には、how='outer' と記載する\n",
        "df_short_outer = pd.merge(df_demographics, df_data_short, how='outer', on='ID')"
      ]
    },
    {
      "cell_type": "code",
      "execution_count": null,
      "metadata": {},
      "outputs": [],
      "source": [
        "# df_short_outer の大きさを確認\n",
        "# 442行11列\n",
        "df_short_outer.shape"
      ]
    },
    {
      "cell_type": "code",
      "execution_count": null,
      "metadata": {},
      "outputs": [],
      "source": [
        "# df_outer の最初の5行を確認する\n",
        "# 血液データがないものについては、血液データの項目が NaN となっていることに着目\n",
        "df_short_outer.head()"
      ]
    },
    {
      "cell_type": "markdown",
      "metadata": {},
      "source": [
        "### 2.9. 欠損値の扱い\n",
        "- df_short_outer を使って欠損値の扱いを学ぶ\n",
        "- データフレームのメソッド isnull() は値がないところを True に それ以外は False とする"
      ]
    },
    {
      "cell_type": "code",
      "execution_count": null,
      "metadata": {},
      "outputs": [],
      "source": [
        "df_short_outer.isnull()"
      ]
    },
    {
      "cell_type": "code",
      "execution_count": null,
      "metadata": {},
      "outputs": [],
      "source": [
        "# df_short_outer.isnull() にさらに メソッド sum() を使うことで、値がない個数を知ることができる\n",
        "\n",
        "# 今、血液データは 各項目190個欠損値があることがわかる\n",
        "df_short_outer.isnull().sum()"
      ]
    },
    {
      "cell_type": "code",
      "execution_count": null,
      "metadata": {},
      "outputs": [],
      "source": [
        "# 欠損値に対しては、「ドロップする」か「補完する」の2つ\n",
        "\n",
        "# まずはドロップする場合\n",
        "# メソッド dropna() を引数なしで実行する\n",
        "df_dropped = df_short_outer.dropna()"
      ]
    },
    {
      "cell_type": "code",
      "execution_count": null,
      "metadata": {},
      "outputs": [],
      "source": [
        "# もともと442あったものが、NaN (Not a Number) が 190あったので 442 - 190 = 252 となる\n",
        "df_dropped.shape"
      ]
    },
    {
      "cell_type": "code",
      "execution_count": null,
      "metadata": {},
      "outputs": [],
      "source": [
        "# 補完する場合は メソッド dropna() 引数に 平均値などを指定する\n",
        "df_filled = df_short_outer.fillna(df_short_outer.mean())"
      ]
    },
    {
      "cell_type": "code",
      "execution_count": null,
      "metadata": {},
      "outputs": [],
      "source": [
        "# NaN がなくなる\n",
        "df_filled.head()"
      ]
    },
    {
      "cell_type": "code",
      "execution_count": null,
      "metadata": {},
      "outputs": [],
      "source": [
        "# 元のものと比較すると、NaN が各列の平均値で均一に埋められているのがわかる\n",
        "# もちろん、現実には、こんなにも欠損値があったらこの方法は不適切だが、ここは例として紹介\n",
        "df_short_outer.head()"
      ]
    },
    {
      "cell_type": "markdown",
      "metadata": {},
      "source": [
        "### 2.10. データの操作 (2)\n",
        "#### 条件抽出\n",
        "- 条件に合致するものだけを抽出することもできる\n",
        "- df['AGE']>40 は、年齢が40歳よりも大きい人をTrueかFalseで返す\n",
        "- これを df[] の中にいれることでこの条件に合致する人の一覧を作成できる"
      ]
    },
    {
      "cell_type": "code",
      "execution_count": null,
      "metadata": {
        "id": "EKP8UKNU886H"
      },
      "outputs": [],
      "source": [
        "# df['AGE'] > 40 は True か False を返す\n",
        "df['AGE'] > 40"
      ]
    },
    {
      "cell_type": "code",
      "execution_count": null,
      "metadata": {
        "id": "pWSHmm2R-oNo"
      },
      "outputs": [],
      "source": [
        "# 上記を dfのインデックス の中に入れてあげることで、Trueのものだけ抽出できる\n",
        "df[df['AGE'] > 40]"
      ]
    },
    {
      "cell_type": "code",
      "execution_count": null,
      "metadata": {
        "id": "BTyQ3404_TiB"
      },
      "outputs": [],
      "source": [
        "# &, |, ~ を使うことで、複数条件を作れる\n",
        "# ルール\n",
        "#   &, |, ~ のどれかを使わなければいけない。and, or, notは使えない\n",
        "#  ひとつひとつの条件をそれぞれ () でくくらないといけない\n",
        "\n",
        "# 50歳より大きく女性\n",
        "(df['AGE'] > 50) & (df['SEX'] == 2)"
      ]
    },
    {
      "cell_type": "code",
      "execution_count": null,
      "metadata": {
        "id": "tM6s2LsC_eS6"
      },
      "outputs": [],
      "source": [
        "# この条件をdf[] の中に入れてみる\n",
        "df[(df['AGE'] > 50) & (df['SEX'] == 2)]"
      ]
    },
    {
      "cell_type": "markdown",
      "metadata": {
        "id": "_O6TNbExQwHk"
      },
      "source": [
        "#### 演習 2\n",
        "- 'AGE' が 40歳以上、かつ、'BMI' が30以上のデータを抽出したいと思います。理解を深めるために以下を実行してください\n",
        "    - 'AGE' が 40歳以上 という条件式を作って、condition1 に代入してください \n",
        "    - 'BMI' が 30以上 という条件式を作って、 condition2 に代入してください\n",
        "    - condition1 かつ condition2 という条件式を作って、 b に代入してください\n",
        "    - df[b] を実行し、df_b というデータフレームを作成してみてください\n",
        "    - df_b の最初の10行を表示してください\n",
        "    - df_b の記述統計量を計算してください"
      ]
    },
    {
      "cell_type": "code",
      "execution_count": null,
      "metadata": {
        "id": "f6Cvai7JRTNl"
      },
      "outputs": [],
      "source": [
        "# 'AGE' が40歳以上 かつ 'BMI' が 30以上\n",
        "# ヒント: 40以上は　 >= 40\n",
        "# ヒント: かつ　は &\n",
        "\n",
        "# condition1: 'AGE' が40歳以上\n",
        "condition1 =\n",
        "\n",
        "# condition1を表示\n",
        "condition1.head()"
      ]
    },
    {
      "cell_type": "code",
      "execution_count": null,
      "metadata": {},
      "outputs": [],
      "source": [
        "# condition2: 'BMI' が30以上\n",
        "condition2 =\n",
        "# condition2を表示\n",
        "condition2.head()"
      ]
    },
    {
      "cell_type": "code",
      "execution_count": null,
      "metadata": {},
      "outputs": [],
      "source": [
        "# b: condition1 かつ condition2\n",
        "b =\n",
        "\n",
        "# b を表示\n",
        "b"
      ]
    },
    {
      "cell_type": "code",
      "execution_count": null,
      "metadata": {},
      "outputs": [],
      "source": [
        "# df[b] を実行し、df_b というデータフレームを作成\n",
        "df_b = df[b]\n",
        "\n",
        "# df_b の最初の10行を表示\n",
        "# 以下に記載してください (ヒント head)\n"
      ]
    },
    {
      "cell_type": "code",
      "execution_count": null,
      "metadata": {},
      "outputs": [],
      "source": [
        "# df_bの記述統計量を計算\n",
        "# 以下に記載してください (ヒント describe)\n"
      ]
    },
    {
      "cell_type": "code",
      "execution_count": null,
      "metadata": {
        "id": "FDO7HzaTVwIt"
      },
      "outputs": [],
      "source": [
        "# 回答例\n",
        "condition1 = df['AGE'] >= 40\n",
        "print('condition1')\n",
        "print(condition1.head())\n",
        "\n",
        "condition2 = df['BMI'] >= 30\n",
        "print('condition2')\n",
        "print(condition2.head())\n",
        "\n",
        "b = condition1 & condition2\n",
        "print('b')\n",
        "print(b.head())\n",
        "\n",
        "df_b = df[b]\n",
        "df_b.head(10)"
      ]
    },
    {
      "cell_type": "code",
      "execution_count": null,
      "metadata": {},
      "outputs": [],
      "source": [
        "# 回答例\n",
        "# 記述統計量を計算\n",
        "df_b.describe()"
      ]
    },
    {
      "cell_type": "markdown",
      "metadata": {
        "id": "gKPVgdiuKlAo"
      },
      "source": [
        "#### 計算したものを新たな列に追加\n",
        "- Pandas では、項目を計算して新たな列を生成することが簡単にできる\n",
        "- 計算だけでなく、Bool値なども追加できる"
      ]
    },
    {
      "cell_type": "code",
      "execution_count": null,
      "metadata": {
        "id": "lP2N29HVFCFq"
      },
      "outputs": [],
      "source": [
        "# GlucoseのZ値を計算\n",
        "# (Glu - Gluの平均) / Gluの標準偏差\n",
        "df['Glu_Z'] = (df['Glu'] - df['Glu'].mean())/df['Glu'].std()"
      ]
    },
    {
      "cell_type": "code",
      "execution_count": null,
      "metadata": {},
      "outputs": [],
      "source": [
        "df.head()"
      ]
    },
    {
      "cell_type": "code",
      "execution_count": null,
      "metadata": {},
      "outputs": [],
      "source": [
        "# T-choが220より大きいか否かをHCという列に作成する\n",
        "df['HC'] = df['T-Cho']>220"
      ]
    },
    {
      "cell_type": "code",
      "execution_count": null,
      "metadata": {
        "id": "c8AOpN6oFyMH"
      },
      "outputs": [],
      "source": [
        "# 最後の列に HC ができていることに着目\n",
        "df.head()"
      ]
    },
    {
      "cell_type": "markdown",
      "metadata": {
        "id": "ZHgWuyNqLJnV"
      },
      "source": [
        "#### ファイルの書き出し\n",
        "- pandas は csv や excel に簡単に保存できる\n",
        "- メソッド 'to_ファイルの種類' を使う\n",
        "- df.to_csv('ファイル名')\n",
        "- df.to_excel('ファイル名')\n"
      ]
    },
    {
      "cell_type": "code",
      "execution_count": null,
      "metadata": {
        "id": "Lc5VxsplLdV6"
      },
      "outputs": [],
      "source": [
        "# 今の df を 'diabetes.xlsx' というファイル名で出力する\n",
        "# Google colaboratory の中に生成される。それはダウンロードできる\n",
        "df.to_excel('diabetes.xlsx')"
      ]
    },
    {
      "cell_type": "markdown",
      "metadata": {
        "id": "rouvdtdIMHlR"
      },
      "source": [
        "## 3. Seabornの基礎\n",
        "- Seaborn は様々なグラフを簡単なコマンドで描ける\n",
        "- これにより、データの関係性を図示できる\n"
      ]
    },
    {
      "cell_type": "code",
      "execution_count": null,
      "metadata": {
        "id": "hKXGHNxtGkW6"
      },
      "outputs": [],
      "source": [
        "# seaborn のテーマを使うには、次のコマンドを実行する\n",
        "sns.set_theme()"
      ]
    },
    {
      "cell_type": "markdown",
      "metadata": {},
      "source": [
        "#### Seabronの一般的なルール\n",
        "- snsの後にグラフごとに準備されているメソッドを記載する\n",
        "    - sns.scatterplot()\n",
        "- 引数として、以下を指定する\n",
        "    - data=データフレーム\n",
        "    - x='X軸に使いたい項目'\n",
        "    - y='Y軸に使いたい項目'\n",
        "    - hue='色分けしたい項目'\n",
        "    - style='プロットの形を分けたい項目'"
      ]
    },
    {
      "cell_type": "markdown",
      "metadata": {},
      "source": [
        "### 3.1. 基本的なグラフ"
      ]
    },
    {
      "cell_type": "code",
      "execution_count": null,
      "metadata": {},
      "outputs": [],
      "source": [
        "# df のおさらい\n",
        "df.head()"
      ]
    },
    {
      "cell_type": "markdown",
      "metadata": {},
      "source": [
        "#### A. scatterplot (散布図)\n",
        "- グラフの目的: 2つの連続変数間の関係性を視覚化する\n"
      ]
    },
    {
      "cell_type": "code",
      "execution_count": null,
      "metadata": {},
      "outputs": [],
      "source": [
        "sns.scatterplot(data=df, x='AGE', y='BMI', hue='SEX')"
      ]
    },
    {
      "cell_type": "code",
      "execution_count": null,
      "metadata": {},
      "outputs": [],
      "source": [
        "# 色を指定したい場合、変数と色の対応表を辞書型で作成し、それを palette で指定する\n",
        "color_dict = {1: 'blue', 2: 'orange'}  # 1 は男性、2 は女性の例\n",
        "sns.scatterplot(data=df, x='AGE', y='BMI', hue='SEX', palette=color_dict)"
      ]
    },
    {
      "cell_type": "markdown",
      "metadata": {},
      "source": [
        "#### B. regplot (回帰直線付き散布図)\n",
        "- グラフの目的: 2つの連続変数間の関係性とその回帰直線を視覚化する"
      ]
    },
    {
      "cell_type": "code",
      "execution_count": null,
      "metadata": {},
      "outputs": [],
      "source": [
        "sns.regplot(data=df, x='AGE', y='BMI')"
      ]
    },
    {
      "cell_type": "code",
      "execution_count": null,
      "metadata": {},
      "outputs": [],
      "source": [
        "# 信頼区間はデフォルトでは 95%\n",
        "# 99%に変えたい場合は ci=99 と指定する\n",
        "# 信頼区間が不要な場合は ci=None\n",
        "sns.regplot(data=df, x='BMI', y='Glu', ci=99)"
      ]
    },
    {
      "cell_type": "markdown",
      "metadata": {},
      "source": [
        "#### C. histplot (ヒストグラム)\n",
        "- グラフの目的: 変数の分布を視覚化する。カーネル密度推定（KDE）も追加できる\n"
      ]
    },
    {
      "cell_type": "code",
      "execution_count": null,
      "metadata": {},
      "outputs": [],
      "source": [
        "# 複数のヒストグラムを同時に描くことができる\n",
        "sns.histplot(df[['T-Cho','LDL']])"
      ]
    },
    {
      "cell_type": "code",
      "execution_count": null,
      "metadata": {},
      "outputs": [],
      "source": [
        "# カーネル密度推定を追加\n",
        "sns.histplot(data=df, x='Glu', kde=True)"
      ]
    },
    {
      "cell_type": "code",
      "execution_count": null,
      "metadata": {},
      "outputs": [],
      "source": [
        "# (参考)\n",
        "# 正規分布曲線をプロットするのは、Seabornだけでは残念ながらできない\n",
        "# 以下のようにMatplotlibを使用する\n",
        "\n",
        "import seaborn as sns\n",
        "import matplotlib.pyplot as plt\n",
        "import numpy as np\n",
        "from scipy.stats import norm\n",
        "\n",
        "# ヒストグラムをプロット\n",
        "sns.histplot(data=df, x='Glu', stat='density', bins=20)\n",
        "\n",
        "# 正規分布曲線を計算\n",
        "mean = df['Glu'].mean()\n",
        "std = df['Glu'].std()\n",
        "x = np.linspace(df['Glu'].min(), df['Glu'].max(), 100)\n",
        "p = norm.pdf(x, mean, std)\n",
        "\n",
        "# 正規分布曲線をプロット\n",
        "plt.plot(x, p, 'k', linewidth=1)\n",
        "plt.title('Histogram and Normal Distribution Curve')\n",
        "plt.show()\n"
      ]
    },
    {
      "cell_type": "markdown",
      "metadata": {},
      "source": [
        "#### D. boxplot (箱ひげ図)\n",
        "- グラフの目的: データの分散や異常値を確認する\n",
        "   "
      ]
    },
    {
      "cell_type": "code",
      "execution_count": null,
      "metadata": {},
      "outputs": [],
      "source": [
        "sns.boxplot(df[['T-Cho', 'LDL', 'HDL', 'Glu']])"
      ]
    },
    {
      "cell_type": "markdown",
      "metadata": {},
      "source": [
        "#### E. violinplot (バイオリンプロット)\n",
        "- グラフの目的: データの分布と密度を確認する"
      ]
    },
    {
      "cell_type": "code",
      "execution_count": null,
      "metadata": {},
      "outputs": [],
      "source": [
        "sns.violinplot(df[['T-Cho', 'LDL', 'HDL', 'Glu']])"
      ]
    },
    {
      "cell_type": "markdown",
      "metadata": {},
      "source": [
        "#### F. swarmplot (スウォームプロット/ビースウォームプロット)\n",
        "- グラフの目的: データの分布を個別の点として視覚化し、データポイントの重なりを回避する際に使用する"
      ]
    },
    {
      "cell_type": "code",
      "execution_count": null,
      "metadata": {},
      "outputs": [],
      "source": [
        "sns.swarmplot(data=df, x='SEX', y='BMI', hue='HC')"
      ]
    },
    {
      "cell_type": "markdown",
      "metadata": {},
      "source": [
        "#### G. pairplot (ペアプロット)\n",
        "- グラフの目的: 複数の変数間の関係を一度に可視化する"
      ]
    },
    {
      "cell_type": "code",
      "execution_count": null,
      "metadata": {},
      "outputs": [],
      "source": [
        "sns.pairplot(df[['AGE','BMI','T-Cho','LDL','Glu']])"
      ]
    },
    {
      "cell_type": "markdown",
      "metadata": {},
      "source": [
        "#### H. heatmap (ヒートマップ)\n",
        "- グラフの目的: 相関行列を視覚化し、変数間の相関を理解する際に使用する"
      ]
    },
    {
      "cell_type": "code",
      "execution_count": null,
      "metadata": {},
      "outputs": [],
      "source": [
        "# まず、変数同士の相関係数を計算し、correlationという変数に代入する\n",
        "correlation = df[['AGE','BMI','T-Cho','LDL','Glu']].corr()\n",
        "# correlationの内容を確認する\n",
        "correlation"
      ]
    },
    {
      "cell_type": "code",
      "execution_count": null,
      "metadata": {},
      "outputs": [],
      "source": [
        "# correlation をヒートマップで表示する\n",
        "# annot=True で数値を表示できる\n",
        "# fmt='.2f' は小数点第2位までという意味\n",
        "sns.heatmap(correlation, annot=True, fmt='.2f')"
      ]
    },
    {
      "cell_type": "markdown",
      "metadata": {},
      "source": [
        "#### I. countplot (カウントプロット)\n",
        "- グラフの目的: カテゴリデータの分布を視覚化する"
      ]
    },
    {
      "cell_type": "code",
      "execution_count": null,
      "metadata": {},
      "outputs": [],
      "source": [
        "sns.countplot(data=df, x='SEX')"
      ]
    },
    {
      "cell_type": "markdown",
      "metadata": {},
      "source": [
        "#### J. clustermap (クラスターマップ)\n",
        "- グラフの目的: データのクラスターを視覚化し、データのパターンや類似性を探る"
      ]
    },
    {
      "cell_type": "code",
      "execution_count": null,
      "metadata": {},
      "outputs": [],
      "source": [
        "sns.clustermap(df.corr(), annot=True, cmap='coolwarm')"
      ]
    },
    {
      "cell_type": "markdown",
      "metadata": {},
      "source": [
        "#### K. インタラクティブなプロット\n",
        "- グラフの目的: インタラクティブにプロットを操作し、データの関係性を探索する\n"
      ]
    },
    {
      "cell_type": "code",
      "execution_count": null,
      "metadata": {},
      "outputs": [],
      "source": [
        "from ipywidgets import interact\n",
        "\n",
        "def plot_scatter(x, y):\n",
        "    sns.scatterplot(data=df, x=x, y=y)\n",
        "\n",
        "interact(plot_scatter, x=df.columns, y=df.columns)"
      ]
    },
    {
      "cell_type": "markdown",
      "metadata": {
        "id": "lMGVTNetNXYM"
      },
      "source": [
        "#### L. relplot (リレーションプロット)\n",
        "- グラフの目的: 複数の変数を同時に視覚化し、変数間の関係性を包括的に理解する際に使用する。色 (hue),形 (style), サイズ (size)でグループ分けが可能\n",
        "\n",
        "    ```\n",
        "    sns.relplot(data=データフレーム,\n",
        "                x=x軸に使いたいカラム,\n",
        "                y=y軸に使いたいカラム,\n",
        "                hue=色を変えたいカラム,\n",
        "                style=グラフのプロットの形状を変えたいカラム\n",
        "                size=プロットの大きさを反映したいカラム)\n",
        "    ```"
      ]
    },
    {
      "cell_type": "code",
      "execution_count": null,
      "metadata": {
        "id": "0LeR7YBUIlKh"
      },
      "outputs": [],
      "source": [
        "# シンプルに、BMI と 血糖 (Glu)の関係を図示する\n",
        "sns.relplot(data=df, x='BMI',y='Glu')"
      ]
    },
    {
      "cell_type": "code",
      "execution_count": null,
      "metadata": {
        "id": "3xQqnS4QI2yD"
      },
      "outputs": [],
      "source": [
        "# hue を使うと、グループを色分けできる\n",
        "# 今、高コレステロール血症の有無 でグループを色分けする\n",
        "sns.relplot(data=df, x='BMI',y='Glu', hue='HC')"
      ]
    },
    {
      "cell_type": "code",
      "execution_count": null,
      "metadata": {
        "id": "Y_ew07fKJKY7"
      },
      "outputs": [],
      "source": [
        "# style を使うと、グループをプロットの形で判別できる\n",
        "# 今、男性と女性の形状を変えたい\n",
        "sns.relplot(data=df, x='BMI',y='Glu', hue='HC', style='SEX')"
      ]
    },
    {
      "cell_type": "code",
      "execution_count": null,
      "metadata": {
        "id": "pqyn85U2FA_C"
      },
      "outputs": [],
      "source": [
        "# sizeを使うと、ひとつひとつのプロットの大きさを変えられる\n",
        "# プロットに 年齢を反映させたい\n",
        "sns.relplot(data=df, x=\"BMI\", y=\"Glu\",hue=\"HC\",style=\"SEX\",size=\"AGE\")"
      ]
    },
    {
      "cell_type": "markdown",
      "metadata": {},
      "source": [
        "## 4. 練習問題\n",
        "1. dfデータフレームの'AGE'列の平均を計算してください\n",
        "2. dfデータフレームの'BMI'列の最大値を求めてください\n",
        "3. dfデータフレーム中で、'SEX'が1のデータのみ抽出してください\n",
        "4. dfデータフレームから、AGE（年齢）とBMIの関係を示す散布図を作成してください。\n",
        "5. 問4で作成した散布図に対して、SEX（性別）で色分けしてください。\n",
        "6. dfデータフレームから、SEX（性別）ごとにBMIの分布を示す箱ひげ図を作成してください。\n",
        "7. dfデータフレームから、SEX（性別）ごとにBMIの分布を示すバイオリンプロットを作成してください。\n",
        "8. dfデータフレームのAGE, BMI, T-Cho, LDL, Gluの相関行列を計算してください。\n",
        "9. 問8で作成した相関行列をヒートマップで視覚化し、各セルに相関係数を表示してください。\n"
      ]
    },
    {
      "cell_type": "code",
      "execution_count": null,
      "metadata": {},
      "outputs": [],
      "source": [
        "# 問1\n",
        "# ヒント: 2.6. 記述統計量\n"
      ]
    },
    {
      "cell_type": "code",
      "execution_count": null,
      "metadata": {},
      "outputs": [],
      "source": [
        "# 問2\n",
        "# ヒント: 2.6. 記述統計量"
      ]
    },
    {
      "cell_type": "code",
      "execution_count": null,
      "metadata": {},
      "outputs": [],
      "source": [
        "# 問3\n",
        "# ヒント: 2.7. データの操作\n"
      ]
    },
    {
      "cell_type": "code",
      "execution_count": null,
      "metadata": {},
      "outputs": [],
      "source": [
        "# 問4\n",
        "# ヒント: 3.1.A\n",
        "  "
      ]
    },
    {
      "cell_type": "code",
      "execution_count": null,
      "metadata": {},
      "outputs": [],
      "source": [
        "# 問5\n",
        "# ヒント: 3.1.A\n"
      ]
    },
    {
      "cell_type": "code",
      "execution_count": null,
      "metadata": {},
      "outputs": [],
      "source": [
        "# 問6\n",
        "# ヒント: 3.1.D\n"
      ]
    },
    {
      "cell_type": "code",
      "execution_count": null,
      "metadata": {},
      "outputs": [],
      "source": [
        "# 問7\n",
        "# ヒント: 3.1.E\n"
      ]
    },
    {
      "cell_type": "code",
      "execution_count": null,
      "metadata": {},
      "outputs": [],
      "source": [
        "# 問8\n",
        "# ヒント: 2.6\n"
      ]
    },
    {
      "cell_type": "code",
      "execution_count": null,
      "metadata": {},
      "outputs": [],
      "source": [
        "# 問9\n",
        "# ヒント: 3.1.H\n"
      ]
    },
    {
      "cell_type": "code",
      "execution_count": null,
      "metadata": {},
      "outputs": [],
      "source": [
        "#### 解答例\n",
        "# 問1\n",
        "df['AGE'].mean()"
      ]
    },
    {
      "cell_type": "code",
      "execution_count": null,
      "metadata": {},
      "outputs": [],
      "source": [
        "# 問2\n",
        "df[df['SEX'] == 1]"
      ]
    },
    {
      "cell_type": "code",
      "execution_count": null,
      "metadata": {},
      "outputs": [],
      "source": [
        "# 問3\n",
        "df['BMI'].max()"
      ]
    },
    {
      "cell_type": "code",
      "execution_count": null,
      "metadata": {},
      "outputs": [],
      "source": [
        "# 問4\n",
        "sns.scatterplot(data=df, x='AGE', y='BMI')"
      ]
    },
    {
      "cell_type": "code",
      "execution_count": null,
      "metadata": {},
      "outputs": [],
      "source": [
        "# 問5\n",
        "sns.scatterplot(data=df, x='AGE', y='BMI', hue='SEX')"
      ]
    },
    {
      "cell_type": "code",
      "execution_count": null,
      "metadata": {},
      "outputs": [],
      "source": [
        "# 問6\n",
        "sns.boxplot(data=df, x='SEX', y='BMI')"
      ]
    },
    {
      "cell_type": "code",
      "execution_count": null,
      "metadata": {},
      "outputs": [],
      "source": [
        "# 問7\n",
        "sns.violinplot(data=df, x='SEX', y='BMI')"
      ]
    },
    {
      "cell_type": "code",
      "execution_count": null,
      "metadata": {},
      "outputs": [],
      "source": [
        "# 問8\n",
        "correlation = df[['AGE', 'BMI', 'T-Cho', 'LDL', 'Glu']].corr()\n",
        "correlation"
      ]
    },
    {
      "cell_type": "code",
      "execution_count": null,
      "metadata": {},
      "outputs": [],
      "source": [
        "# 問9\n",
        "sns.heatmap(correlation, annot=True, fmt='.2f', cmap='coolwarm')"
      ]
    }
  ],
  "metadata": {
    "colab": {
      "include_colab_link": true,
      "provenance": []
    },
    "kernelspec": {
      "display_name": "Python 3",
      "name": "python3"
    },
    "language_info": {
      "codemirror_mode": {
        "name": "ipython",
        "version": 3
      },
      "file_extension": ".py",
      "mimetype": "text/x-python",
      "name": "python",
      "nbconvert_exporter": "python",
      "pygments_lexer": "ipython3",
      "version": "3.10.12"
    }
  },
  "nbformat": 4,
  "nbformat_minor": 0
}
