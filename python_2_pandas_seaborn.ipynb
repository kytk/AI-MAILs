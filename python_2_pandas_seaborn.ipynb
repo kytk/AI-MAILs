{
  "cells": [
    {
      "cell_type": "markdown",
      "metadata": {
        "id": "YoSBiFrTqj9e"
      },
      "source": [
        "# AI-MAILs\n",
        "# 医療従事者のためのPython: PandasとSeaborn\n",
        "Ver.202340629\n"
      ]
    },
    {
      "cell_type": "markdown",
      "metadata": {
        "id": "SUNPeJViyEYm"
      },
      "source": [
        "## 参考にした資料\n",
        "- [Pandas公式ドキュメント(英語)](https://pandas.pydata.org/docs/index.html)\n",
        "- [Seaborn公式ドキュメント(英語)](https://seaborn.pydata.org/tutorial/introduction)\n",
        "\n",
        "## 本日使用したデータ\n",
        "- COBREデータセット http://fcon_1000.projects.nitrc.org/indi/retro/cobre.html\n",
        "- 背景情報は配布されているcsvファイルの列名だけ編集\n",
        "- MRI解析情報は独自で解析したもの"
      ]
    },
    {
      "cell_type": "markdown",
      "metadata": {
        "id": "BO_Iii-JyEYm"
      },
      "source": [
        "## Pandas と Seaborn\n",
        "- Pandas: Pythonでデータ分析およびデータ操作をするためのツール \"Pandas is a fast, powerful, flexible and easy to use open source data analysis and manipulation tool, built on top of the Python programming language.\"\n",
        "- Seaborn: Pythonで統計データからグラフを簡便に作成するためのツール \"Seaborn is a library for making statistical graphics in Python.\""
      ]
    },
    {
      "cell_type": "markdown",
      "metadata": {
        "id": "fdpa77-DOvha"
      },
      "source": [
        "## Pandasでできることの例\n",
        "- 表を扱う\n",
        "- 表の記述統計量を出力する\n",
        "- 表の一部を抽出する\n",
        "- 複数の列の情報から新しい列を生成する\n",
        "- PandasのデータフレームはSeabornでのグラフ作成にそのまま使用できる\n"
      ]
    },
    {
      "cell_type": "markdown",
      "metadata": {
        "id": "M2FROO5dyEYn"
      },
      "source": [
        "## PandasとSeabornを使った一例 (本日の目標)\n",
        "- 2つの表 (被験者の背景情報と被験者のMRI解析結果)から、同じIDがあるものを結合\n",
        "- 背景情報に、性別、年齢、健常者/患者 の情報が、MRI解析結果には灰白質容積、白質容積、脳脊髄液容積の情報があるため、年齢と灰白質容積の散布図を、性別、健常者/被験者、脳脊髄液容積の情報を付加して図示したい\n",
        "- 上記2つが、10行未満で達成できる\n",
        "- 下のコードの意味を今日の講義で説明する\n",
        "- まずは実行してみる"
      ]
    },
    {
      "cell_type": "code",
      "execution_count": 1,
      "metadata": {
        "id": "Wr60skzfyEYn"
      },
      "outputs": [
        {
          "name": "stdout",
          "output_type": "stream",
          "text": [
            "--2024-06-29 01:03:23--  https://raw.githubusercontent.com/kytk/AI-MAILs/main/COBRE_phenotypic_data.csv\n",
            "raw.githubusercontent.com (raw.githubusercontent.com) をDNSに問いあわせています... 2606:50c0:8003::154, 2606:50c0:8001::154, 2606:50c0:8000::154, ...\n",
            "raw.githubusercontent.com (raw.githubusercontent.com)|2606:50c0:8003::154|:443 に接続しています... 接続しました。\n",
            "HTTP による接続要求を送信しました、応答を待っています... 404 Not Found\n",
            "2024-06-29 01:03:23 エラー 404: Not Found。\n",
            "\n",
            "--2024-06-29 01:03:23--  https://raw.githubusercontent.com/kytk/AI-MAILs/main/COBRE_t1.csv\n",
            "raw.githubusercontent.com (raw.githubusercontent.com) をDNSに問いあわせています... 2606:50c0:8001::154, 2606:50c0:8000::154, 2606:50c0:8003::154, ...\n",
            "raw.githubusercontent.com (raw.githubusercontent.com)|2606:50c0:8001::154|:443 に接続しています... 接続しました。\n",
            "HTTP による接続要求を送信しました、応答を待っています... 404 Not Found\n",
            "2024-06-29 01:03:24 エラー 404: Not Found。\n",
            "\n"
          ]
        },
        {
          "ename": "FileNotFoundError",
          "evalue": "[Errno 2] No such file or directory: '/content/COBRE_phenotypic_data.csv'",
          "output_type": "error",
          "traceback": [
            "\u001b[0;31m---------------------------------------------------------------------------\u001b[0m",
            "\u001b[0;31mFileNotFoundError\u001b[0m                         Traceback (most recent call last)",
            "Cell \u001b[0;32mIn[1], line 12\u001b[0m\n\u001b[1;32m     10\u001b[0m get_ipython()\u001b[38;5;241m.\u001b[39msystem(\u001b[38;5;124m'\u001b[39m\u001b[38;5;124m[[ -f COBRE_phenotypic_data.csv ]] || wget https://raw.githubusercontent.com/kytk/AI-MAILs/main/COBRE_phenotypic_data.csv\u001b[39m\u001b[38;5;124m'\u001b[39m)\n\u001b[1;32m     11\u001b[0m get_ipython()\u001b[38;5;241m.\u001b[39msystem(\u001b[38;5;124m'\u001b[39m\u001b[38;5;124m[[ -f COBRE_t1.csv ]] || wget https://raw.githubusercontent.com/kytk/AI-MAILs/main/COBRE_t1.csv\u001b[39m\u001b[38;5;124m'\u001b[39m)\n\u001b[0;32m---> 12\u001b[0m df_demographics \u001b[38;5;241m=\u001b[39m \u001b[43mpd\u001b[49m\u001b[38;5;241;43m.\u001b[39;49m\u001b[43mread_csv\u001b[49m\u001b[43m(\u001b[49m\u001b[38;5;124;43m'\u001b[39;49m\u001b[38;5;124;43m/content/COBRE_phenotypic_data.csv\u001b[39;49m\u001b[38;5;124;43m'\u001b[39;49m\u001b[43m)\u001b[49m\n\u001b[1;32m     13\u001b[0m df_mri \u001b[38;5;241m=\u001b[39m pd\u001b[38;5;241m.\u001b[39mread_csv(\u001b[38;5;124m'\u001b[39m\u001b[38;5;124m/content/COBRE_t1.csv\u001b[39m\u001b[38;5;124m'\u001b[39m)\n\u001b[1;32m     15\u001b[0m \u001b[38;5;66;03m# df_demographics と df_mri を 'ID' で結合し、df というデータフレームを生成\u001b[39;00m\n",
            "File \u001b[0;32m~/.local/lib/python3.10/site-packages/pandas/io/parsers/readers.py:948\u001b[0m, in \u001b[0;36mread_csv\u001b[0;34m(filepath_or_buffer, sep, delimiter, header, names, index_col, usecols, dtype, engine, converters, true_values, false_values, skipinitialspace, skiprows, skipfooter, nrows, na_values, keep_default_na, na_filter, verbose, skip_blank_lines, parse_dates, infer_datetime_format, keep_date_col, date_parser, date_format, dayfirst, cache_dates, iterator, chunksize, compression, thousands, decimal, lineterminator, quotechar, quoting, doublequote, escapechar, comment, encoding, encoding_errors, dialect, on_bad_lines, delim_whitespace, low_memory, memory_map, float_precision, storage_options, dtype_backend)\u001b[0m\n\u001b[1;32m    935\u001b[0m kwds_defaults \u001b[38;5;241m=\u001b[39m _refine_defaults_read(\n\u001b[1;32m    936\u001b[0m     dialect,\n\u001b[1;32m    937\u001b[0m     delimiter,\n\u001b[0;32m   (...)\u001b[0m\n\u001b[1;32m    944\u001b[0m     dtype_backend\u001b[38;5;241m=\u001b[39mdtype_backend,\n\u001b[1;32m    945\u001b[0m )\n\u001b[1;32m    946\u001b[0m kwds\u001b[38;5;241m.\u001b[39mupdate(kwds_defaults)\n\u001b[0;32m--> 948\u001b[0m \u001b[38;5;28;01mreturn\u001b[39;00m \u001b[43m_read\u001b[49m\u001b[43m(\u001b[49m\u001b[43mfilepath_or_buffer\u001b[49m\u001b[43m,\u001b[49m\u001b[43m \u001b[49m\u001b[43mkwds\u001b[49m\u001b[43m)\u001b[49m\n",
            "File \u001b[0;32m~/.local/lib/python3.10/site-packages/pandas/io/parsers/readers.py:611\u001b[0m, in \u001b[0;36m_read\u001b[0;34m(filepath_or_buffer, kwds)\u001b[0m\n\u001b[1;32m    608\u001b[0m _validate_names(kwds\u001b[38;5;241m.\u001b[39mget(\u001b[38;5;124m\"\u001b[39m\u001b[38;5;124mnames\u001b[39m\u001b[38;5;124m\"\u001b[39m, \u001b[38;5;28;01mNone\u001b[39;00m))\n\u001b[1;32m    610\u001b[0m \u001b[38;5;66;03m# Create the parser.\u001b[39;00m\n\u001b[0;32m--> 611\u001b[0m parser \u001b[38;5;241m=\u001b[39m \u001b[43mTextFileReader\u001b[49m\u001b[43m(\u001b[49m\u001b[43mfilepath_or_buffer\u001b[49m\u001b[43m,\u001b[49m\u001b[43m \u001b[49m\u001b[38;5;241;43m*\u001b[39;49m\u001b[38;5;241;43m*\u001b[39;49m\u001b[43mkwds\u001b[49m\u001b[43m)\u001b[49m\n\u001b[1;32m    613\u001b[0m \u001b[38;5;28;01mif\u001b[39;00m chunksize \u001b[38;5;129;01mor\u001b[39;00m iterator:\n\u001b[1;32m    614\u001b[0m     \u001b[38;5;28;01mreturn\u001b[39;00m parser\n",
            "File \u001b[0;32m~/.local/lib/python3.10/site-packages/pandas/io/parsers/readers.py:1448\u001b[0m, in \u001b[0;36mTextFileReader.__init__\u001b[0;34m(self, f, engine, **kwds)\u001b[0m\n\u001b[1;32m   1445\u001b[0m     \u001b[38;5;28mself\u001b[39m\u001b[38;5;241m.\u001b[39moptions[\u001b[38;5;124m\"\u001b[39m\u001b[38;5;124mhas_index_names\u001b[39m\u001b[38;5;124m\"\u001b[39m] \u001b[38;5;241m=\u001b[39m kwds[\u001b[38;5;124m\"\u001b[39m\u001b[38;5;124mhas_index_names\u001b[39m\u001b[38;5;124m\"\u001b[39m]\n\u001b[1;32m   1447\u001b[0m \u001b[38;5;28mself\u001b[39m\u001b[38;5;241m.\u001b[39mhandles: IOHandles \u001b[38;5;241m|\u001b[39m \u001b[38;5;28;01mNone\u001b[39;00m \u001b[38;5;241m=\u001b[39m \u001b[38;5;28;01mNone\u001b[39;00m\n\u001b[0;32m-> 1448\u001b[0m \u001b[38;5;28mself\u001b[39m\u001b[38;5;241m.\u001b[39m_engine \u001b[38;5;241m=\u001b[39m \u001b[38;5;28;43mself\u001b[39;49m\u001b[38;5;241;43m.\u001b[39;49m\u001b[43m_make_engine\u001b[49m\u001b[43m(\u001b[49m\u001b[43mf\u001b[49m\u001b[43m,\u001b[49m\u001b[43m \u001b[49m\u001b[38;5;28;43mself\u001b[39;49m\u001b[38;5;241;43m.\u001b[39;49m\u001b[43mengine\u001b[49m\u001b[43m)\u001b[49m\n",
            "File \u001b[0;32m~/.local/lib/python3.10/site-packages/pandas/io/parsers/readers.py:1705\u001b[0m, in \u001b[0;36mTextFileReader._make_engine\u001b[0;34m(self, f, engine)\u001b[0m\n\u001b[1;32m   1703\u001b[0m     \u001b[38;5;28;01mif\u001b[39;00m \u001b[38;5;124m\"\u001b[39m\u001b[38;5;124mb\u001b[39m\u001b[38;5;124m\"\u001b[39m \u001b[38;5;129;01mnot\u001b[39;00m \u001b[38;5;129;01min\u001b[39;00m mode:\n\u001b[1;32m   1704\u001b[0m         mode \u001b[38;5;241m+\u001b[39m\u001b[38;5;241m=\u001b[39m \u001b[38;5;124m\"\u001b[39m\u001b[38;5;124mb\u001b[39m\u001b[38;5;124m\"\u001b[39m\n\u001b[0;32m-> 1705\u001b[0m \u001b[38;5;28mself\u001b[39m\u001b[38;5;241m.\u001b[39mhandles \u001b[38;5;241m=\u001b[39m \u001b[43mget_handle\u001b[49m\u001b[43m(\u001b[49m\n\u001b[1;32m   1706\u001b[0m \u001b[43m    \u001b[49m\u001b[43mf\u001b[49m\u001b[43m,\u001b[49m\n\u001b[1;32m   1707\u001b[0m \u001b[43m    \u001b[49m\u001b[43mmode\u001b[49m\u001b[43m,\u001b[49m\n\u001b[1;32m   1708\u001b[0m \u001b[43m    \u001b[49m\u001b[43mencoding\u001b[49m\u001b[38;5;241;43m=\u001b[39;49m\u001b[38;5;28;43mself\u001b[39;49m\u001b[38;5;241;43m.\u001b[39;49m\u001b[43moptions\u001b[49m\u001b[38;5;241;43m.\u001b[39;49m\u001b[43mget\u001b[49m\u001b[43m(\u001b[49m\u001b[38;5;124;43m\"\u001b[39;49m\u001b[38;5;124;43mencoding\u001b[39;49m\u001b[38;5;124;43m\"\u001b[39;49m\u001b[43m,\u001b[49m\u001b[43m \u001b[49m\u001b[38;5;28;43;01mNone\u001b[39;49;00m\u001b[43m)\u001b[49m\u001b[43m,\u001b[49m\n\u001b[1;32m   1709\u001b[0m \u001b[43m    \u001b[49m\u001b[43mcompression\u001b[49m\u001b[38;5;241;43m=\u001b[39;49m\u001b[38;5;28;43mself\u001b[39;49m\u001b[38;5;241;43m.\u001b[39;49m\u001b[43moptions\u001b[49m\u001b[38;5;241;43m.\u001b[39;49m\u001b[43mget\u001b[49m\u001b[43m(\u001b[49m\u001b[38;5;124;43m\"\u001b[39;49m\u001b[38;5;124;43mcompression\u001b[39;49m\u001b[38;5;124;43m\"\u001b[39;49m\u001b[43m,\u001b[49m\u001b[43m \u001b[49m\u001b[38;5;28;43;01mNone\u001b[39;49;00m\u001b[43m)\u001b[49m\u001b[43m,\u001b[49m\n\u001b[1;32m   1710\u001b[0m \u001b[43m    \u001b[49m\u001b[43mmemory_map\u001b[49m\u001b[38;5;241;43m=\u001b[39;49m\u001b[38;5;28;43mself\u001b[39;49m\u001b[38;5;241;43m.\u001b[39;49m\u001b[43moptions\u001b[49m\u001b[38;5;241;43m.\u001b[39;49m\u001b[43mget\u001b[49m\u001b[43m(\u001b[49m\u001b[38;5;124;43m\"\u001b[39;49m\u001b[38;5;124;43mmemory_map\u001b[39;49m\u001b[38;5;124;43m\"\u001b[39;49m\u001b[43m,\u001b[49m\u001b[43m \u001b[49m\u001b[38;5;28;43;01mFalse\u001b[39;49;00m\u001b[43m)\u001b[49m\u001b[43m,\u001b[49m\n\u001b[1;32m   1711\u001b[0m \u001b[43m    \u001b[49m\u001b[43mis_text\u001b[49m\u001b[38;5;241;43m=\u001b[39;49m\u001b[43mis_text\u001b[49m\u001b[43m,\u001b[49m\n\u001b[1;32m   1712\u001b[0m \u001b[43m    \u001b[49m\u001b[43merrors\u001b[49m\u001b[38;5;241;43m=\u001b[39;49m\u001b[38;5;28;43mself\u001b[39;49m\u001b[38;5;241;43m.\u001b[39;49m\u001b[43moptions\u001b[49m\u001b[38;5;241;43m.\u001b[39;49m\u001b[43mget\u001b[49m\u001b[43m(\u001b[49m\u001b[38;5;124;43m\"\u001b[39;49m\u001b[38;5;124;43mencoding_errors\u001b[39;49m\u001b[38;5;124;43m\"\u001b[39;49m\u001b[43m,\u001b[49m\u001b[43m \u001b[49m\u001b[38;5;124;43m\"\u001b[39;49m\u001b[38;5;124;43mstrict\u001b[39;49m\u001b[38;5;124;43m\"\u001b[39;49m\u001b[43m)\u001b[49m\u001b[43m,\u001b[49m\n\u001b[1;32m   1713\u001b[0m \u001b[43m    \u001b[49m\u001b[43mstorage_options\u001b[49m\u001b[38;5;241;43m=\u001b[39;49m\u001b[38;5;28;43mself\u001b[39;49m\u001b[38;5;241;43m.\u001b[39;49m\u001b[43moptions\u001b[49m\u001b[38;5;241;43m.\u001b[39;49m\u001b[43mget\u001b[49m\u001b[43m(\u001b[49m\u001b[38;5;124;43m\"\u001b[39;49m\u001b[38;5;124;43mstorage_options\u001b[39;49m\u001b[38;5;124;43m\"\u001b[39;49m\u001b[43m,\u001b[49m\u001b[43m \u001b[49m\u001b[38;5;28;43;01mNone\u001b[39;49;00m\u001b[43m)\u001b[49m\u001b[43m,\u001b[49m\n\u001b[1;32m   1714\u001b[0m \u001b[43m\u001b[49m\u001b[43m)\u001b[49m\n\u001b[1;32m   1715\u001b[0m \u001b[38;5;28;01massert\u001b[39;00m \u001b[38;5;28mself\u001b[39m\u001b[38;5;241m.\u001b[39mhandles \u001b[38;5;129;01mis\u001b[39;00m \u001b[38;5;129;01mnot\u001b[39;00m \u001b[38;5;28;01mNone\u001b[39;00m\n\u001b[1;32m   1716\u001b[0m f \u001b[38;5;241m=\u001b[39m \u001b[38;5;28mself\u001b[39m\u001b[38;5;241m.\u001b[39mhandles\u001b[38;5;241m.\u001b[39mhandle\n",
            "File \u001b[0;32m~/.local/lib/python3.10/site-packages/pandas/io/common.py:863\u001b[0m, in \u001b[0;36mget_handle\u001b[0;34m(path_or_buf, mode, encoding, compression, memory_map, is_text, errors, storage_options)\u001b[0m\n\u001b[1;32m    858\u001b[0m \u001b[38;5;28;01melif\u001b[39;00m \u001b[38;5;28misinstance\u001b[39m(handle, \u001b[38;5;28mstr\u001b[39m):\n\u001b[1;32m    859\u001b[0m     \u001b[38;5;66;03m# Check whether the filename is to be opened in binary mode.\u001b[39;00m\n\u001b[1;32m    860\u001b[0m     \u001b[38;5;66;03m# Binary mode does not support 'encoding' and 'newline'.\u001b[39;00m\n\u001b[1;32m    861\u001b[0m     \u001b[38;5;28;01mif\u001b[39;00m ioargs\u001b[38;5;241m.\u001b[39mencoding \u001b[38;5;129;01mand\u001b[39;00m \u001b[38;5;124m\"\u001b[39m\u001b[38;5;124mb\u001b[39m\u001b[38;5;124m\"\u001b[39m \u001b[38;5;129;01mnot\u001b[39;00m \u001b[38;5;129;01min\u001b[39;00m ioargs\u001b[38;5;241m.\u001b[39mmode:\n\u001b[1;32m    862\u001b[0m         \u001b[38;5;66;03m# Encoding\u001b[39;00m\n\u001b[0;32m--> 863\u001b[0m         handle \u001b[38;5;241m=\u001b[39m \u001b[38;5;28;43mopen\u001b[39;49m\u001b[43m(\u001b[49m\n\u001b[1;32m    864\u001b[0m \u001b[43m            \u001b[49m\u001b[43mhandle\u001b[49m\u001b[43m,\u001b[49m\n\u001b[1;32m    865\u001b[0m \u001b[43m            \u001b[49m\u001b[43mioargs\u001b[49m\u001b[38;5;241;43m.\u001b[39;49m\u001b[43mmode\u001b[49m\u001b[43m,\u001b[49m\n\u001b[1;32m    866\u001b[0m \u001b[43m            \u001b[49m\u001b[43mencoding\u001b[49m\u001b[38;5;241;43m=\u001b[39;49m\u001b[43mioargs\u001b[49m\u001b[38;5;241;43m.\u001b[39;49m\u001b[43mencoding\u001b[49m\u001b[43m,\u001b[49m\n\u001b[1;32m    867\u001b[0m \u001b[43m            \u001b[49m\u001b[43merrors\u001b[49m\u001b[38;5;241;43m=\u001b[39;49m\u001b[43merrors\u001b[49m\u001b[43m,\u001b[49m\n\u001b[1;32m    868\u001b[0m \u001b[43m            \u001b[49m\u001b[43mnewline\u001b[49m\u001b[38;5;241;43m=\u001b[39;49m\u001b[38;5;124;43m\"\u001b[39;49m\u001b[38;5;124;43m\"\u001b[39;49m\u001b[43m,\u001b[49m\n\u001b[1;32m    869\u001b[0m \u001b[43m        \u001b[49m\u001b[43m)\u001b[49m\n\u001b[1;32m    870\u001b[0m     \u001b[38;5;28;01melse\u001b[39;00m:\n\u001b[1;32m    871\u001b[0m         \u001b[38;5;66;03m# Binary mode\u001b[39;00m\n\u001b[1;32m    872\u001b[0m         handle \u001b[38;5;241m=\u001b[39m \u001b[38;5;28mopen\u001b[39m(handle, ioargs\u001b[38;5;241m.\u001b[39mmode)\n",
            "\u001b[0;31mFileNotFoundError\u001b[0m: [Errno 2] No such file or directory: '/content/COBRE_phenotypic_data.csv'"
          ]
        }
      ],
      "source": [
        "# pandas と seaborn をインポート\n",
        "import pandas as pd\n",
        "import seaborn as sns\n",
        "\n",
        "# seaborn のテーマを設定\n",
        "sns.set_theme()\n",
        "\n",
        "# 背景情報の CSV を df_demographics として読み込み\n",
        "# MRI解析情報の CSV を df_mri として読み込み\n",
        "![[ -f COBRE_phenotypic_data.csv ]] || wget https://raw.githubusercontent.com/kytk/AI-MAILs/main/COBRE_phenotypic_data.csv\n",
        "![[ -f COBRE_t1.csv ]] || wget https://raw.githubusercontent.com/kytk/AI-MAILs/main/COBRE_t1.csv\n",
        "df_demographics = pd.read_csv('/content/COBRE_phenotypic_data.csv')\n",
        "df_mri = pd.read_csv('/content/COBRE_t1.csv')\n",
        "\n",
        "# df_demographics と df_mri を 'ID' で結合し、df というデータフレームを生成\n",
        "df = pd.merge(df_demographics,df_mri,on='ID')\n",
        "\n",
        "# seaborn で、df を読み込み、x軸に年齢、y軸にGMVを設定し、健常者/患者を色で分け、性別を形で分けて表示\n",
        "# さらに脳脊髄液によってプロットの大きさを変える\n",
        "sns.relplot(df,x='Age',y='GMV',hue='Subject_Type',style='Gender',size='CSF')"
      ]
    },
    {
      "cell_type": "markdown",
      "metadata": {
        "id": "oakypyoGyEYp"
      },
      "source": [
        "## Pandas と Seaborn のインポート\n",
        "- pandas は pd としてインポートされることが多い\n",
        "- seaborn は sns としてインポートされることが多い"
      ]
    },
    {
      "cell_type": "code",
      "execution_count": null,
      "metadata": {
        "id": "IenfZamDpnc5"
      },
      "outputs": [],
      "source": [
        "# pandas は pd としてインポートされることが多い\n",
        "import pandas as pd\n",
        "\n",
        "# seaborn は sns (seaborn name space) としてインポートされることが多い\n",
        "import seaborn as sns"
      ]
    },
    {
      "cell_type": "markdown",
      "metadata": {
        "id": "Oe9brFsjs5Rz"
      },
      "source": [
        "## Google colaboratory でのデータの読み込み\n",
        "- Google colaboratoryで作業をする時、通常は、左にある「ファイル」の下にデータをドラッグ & ドロップする\n",
        "- そうすると、'/content/ファイル名' でアクセスできる\n",
        "- 今は、データをダウンロードして使用する\n",
        "- 下のセルを実行すると、2つのcsvファイルがダウンロードされる\n",
        "\n",
        "<img src=\"https://www.nemotos.net/nb/img/colaboratory_file.png\" width=300>"
      ]
    },
    {
      "cell_type": "code",
      "execution_count": null,
      "metadata": {
        "id": "JmkGrITrtVp7"
      },
      "outputs": [],
      "source": [
        "# 本日使うデータをダウンロードする\n",
        "# ファイル名は COBRE_phenotypic_data.csv と COBRE_t1.csv\n",
        "\n",
        "# (参考: 本講義においては本質的な事柄ではないのでわからなくても特に気にしなくて大丈夫です)\n",
        "# ! はPythonからシェルで動かすプログラムを実行したい時につける\n",
        "# [[ -f COBRE_phenotypic_data.csv ]] は、「COBRE_phenotypic_data.csv というファイルがあるか？」というシェルスクリプトのテスト文\n",
        "# || は、戻り値が False ならば…　というコマンド\n",
        "# wget はダウンロードするLinuxのプログラム\n",
        "\n",
        "![[ -f COBRE_phenotypic_data.csv ]] || wget https://raw.githubusercontent.com/kytk/AI-MAILs/main/COBRE_phenotypic_data.csv\n",
        "![[ -f COBRE_t1.csv ]] || wget https://raw.githubusercontent.com/kytk/AI-MAILs/main/COBRE_t1.csv"
      ]
    },
    {
      "cell_type": "markdown",
      "metadata": {
        "id": "M4TXVBpNvegz"
      },
      "source": [
        "## Pandas の用語: 「データフレーム Data Frame」\n",
        "- 一般的な表をイメージすればよい\n",
        "- Pandasでは、ひとつの表を「データフレーム」と呼ぶ\n",
        "- 行: row; 列: column\n",
        "- dataframe という名前を略して、 'df' という変数に代入することが多い\n",
        "\n",
        "<img src=\"https://www.nemotos.net/nb/img/pandas_01.png\" width=400>\n",
        "図: pandas の公式ドキュメントから引用"
      ]
    },
    {
      "cell_type": "markdown",
      "metadata": {
        "id": "jLzeT1vssiXB"
      },
      "source": [
        "## Pandas へのデータの読み込み\n",
        "- Pandas は、csvファイルやexcelファイルを読み込むことができる\n",
        "- Excelファイルはいくつか追加パッケージが必要なことがあるため、csvファイルがおすすめ\n",
        "- Excel は、`pd.read_excel('excelファイル')` で読み込むことができる\n",
        "- CSVは、`pd.read_csv('csvファイル')` で読み込むことができる\n",
        "- IDなどは、インデックスとして指定すると取り回しが楽になる"
      ]
    },
    {
      "cell_type": "code",
      "execution_count": null,
      "metadata": {
        "id": "pp5cLOsYyEYq"
      },
      "outputs": [],
      "source": [
        "# COBRE_phenotypic_data.csv を df_demographics として読み込み 第0列がインデックス\n",
        "df_demographics = pd.read_csv('/content/COBRE_phenotypic_data.csv',index_col=0)\n",
        "\n",
        "# COBRE_t1.csv を df_mri として読み込み 第0列がインデックス\n",
        "df_mri = pd.read_csv('/content/COBRE_t1.csv',index_col=0)"
      ]
    },
    {
      "cell_type": "markdown",
      "metadata": {
        "id": "D9xs4wJG0ls1"
      },
      "source": [
        "## Pandas のデータの表示\n",
        "- 読み込んだデータフレームを df とすると、最初の5行を df.head() で表示できる\n",
        "- 表の大きさは、df.shape で確認できる"
      ]
    },
    {
      "cell_type": "code",
      "execution_count": null,
      "metadata": {
        "id": "50du2zW2yEYq"
      },
      "outputs": [],
      "source": [
        "# df_demographics の最初の5行を確認\n",
        "df_demographics.head()"
      ]
    },
    {
      "cell_type": "code",
      "execution_count": null,
      "metadata": {
        "id": "HfKt9tzeyEYq"
      },
      "outputs": [],
      "source": [
        "# df_demographics の表の大きさを確認\n",
        "# インデックス(ID)以外は146行5列\n",
        "df_demographics.shape"
      ]
    },
    {
      "cell_type": "code",
      "execution_count": null,
      "metadata": {
        "id": "HpKCr05C1DoT"
      },
      "outputs": [],
      "source": [
        "# df_mri の最初の5行を確認\n",
        "df_mri.head()"
      ]
    },
    {
      "cell_type": "code",
      "execution_count": null,
      "metadata": {
        "id": "z5l3p7_r1DbI"
      },
      "outputs": [],
      "source": [
        "# df_mri の表の大きさを確認\n",
        "# インデックス(ID)以外は142行3列\n",
        "df_mri.shape"
      ]
    },
    {
      "cell_type": "markdown",
      "metadata": {
        "id": "E07CFbmyIJqX"
      },
      "source": [
        "### データフレームにおけるインデックス\n",
        "- 今、列 \"ID\" の要素は、各行における「インデックス」となっている\n",
        "- このインデックスを指定することで、行の内容を取り出すことができる\n",
        "- 読み込む際にインデックスを指定しないときはインデックスは0からの連番になる\n",
        "- インデックスに使われた列は特殊な扱いになるため、列名が他のものと比べて1段下がる"
      ]
    },
    {
      "cell_type": "code",
      "execution_count": null,
      "metadata": {
        "id": "A24j8acBJSQH"
      },
      "outputs": [],
      "source": [
        "# COBRE_t1.csv を df_mri_without_index として読み込む\n",
        "df_mri_without_index = pd.read_csv('/content/COBRE_t1.csv')\n",
        "\n",
        "# df_mri_without_index の最初の5行を表示\n",
        "df_mri_without_index.head()\n",
        "\n",
        "#上の表と下の表を比べてみてください\n",
        "\n",
        "# この場合のインデックスはIDではなく、0, 1, 2, 3, 4..."
      ]
    },
    {
      "cell_type": "markdown",
      "metadata": {
        "id": "Sebocu5n1rO5"
      },
      "source": [
        "## データフレームの横方向への結合\n",
        "- データフレームは、pd.merge() 関数を使って横方向に結合できる\n",
        "- 共通するキーを `on='キー'` を使って指定する\n",
        "\n",
        "### 内部結合と外部結合\n",
        "- merge には内部結合と外部結合がある\n",
        "    - *正確には外部結合には、左側、右側、完全の3つがあるが今回は完全外部結合のみ説明\n",
        "- 内部結合は2つのデータに共通するもののみ結合する(下図ではID04, ID05, ID06のみが結合される)\n",
        "- 外部結合は2つのデータのすべてが結合する\n",
        "- 数学で言えば、2つのグループA, B に対し\n",
        "    - 内部結合は積集合: A∩B\n",
        "    - 外部結合は和集合: A∪B\n",
        "\n",
        "<img src=\"https://www.nemotos.net/nb/img/pandas_02.png\" width=300>\n",
        "\n",
        "\n",
        "\n",
        "- デフォルトは、共通するキーがある行だけが結合される(内部結合)\n",
        "    - 今の場合、df_demographicsは146行、df_mriは142行なので、共通する142行のみ残る\n"
      ]
    },
    {
      "cell_type": "code",
      "execution_count": null,
      "metadata": {
        "id": "_wEJcGrSyEYq"
      },
      "outputs": [],
      "source": [
        "# df_demographics と df_mri を 'ID' キーを使って連結し、df というデータフレームを生成する\n",
        "df = pd.merge(df_demographics, df_mri, on='ID')"
      ]
    },
    {
      "cell_type": "code",
      "execution_count": null,
      "metadata": {
        "id": "sU-HdLKnyEYq"
      },
      "outputs": [],
      "source": [
        "# df の最初の5行だけ表示する\n",
        "df.head()"
      ]
    },
    {
      "cell_type": "code",
      "execution_count": null,
      "metadata": {
        "id": "RHgm38LEyEYr"
      },
      "outputs": [],
      "source": [
        "# df の大きさを確認する\n",
        "# 142行8列\n",
        "# MRI解析情報がないものは結合されない\n",
        "df.shape"
      ]
    },
    {
      "cell_type": "code",
      "execution_count": null,
      "metadata": {
        "id": "fOxNCY7sBqqH"
      },
      "outputs": [],
      "source": [
        "# すべてを結合したい場合は、外部結合というものを行う\n",
        "# 外部結合には、how='outer' と記載する\n",
        "df_all = pd.merge(df_demographics, df_mri, on='ID',how='outer')"
      ]
    },
    {
      "cell_type": "code",
      "execution_count": null,
      "metadata": {
        "id": "icQrTjPECL9c"
      },
      "outputs": [],
      "source": [
        "# df_all.shape で146行8列となる\n",
        "df_all.shape"
      ]
    },
    {
      "cell_type": "markdown",
      "metadata": {
        "id": "rL5ES_rMCa1p"
      },
      "source": [
        "## データの記述統計量\n",
        "- Pandasはデータ解析ツールとうたっているだけあり、簡単な記述統計量は簡単に求められる\n"
      ]
    },
    {
      "cell_type": "code",
      "execution_count": null,
      "metadata": {
        "id": "PHwh4o8OCpLX"
      },
      "outputs": [],
      "source": [
        "# df.describe() で各項目の記述統計量が求められる\n",
        "# 連続値の n数、平均、標準偏差、最小値、25パーセンタイル、50パーセンタイル、75パーセンタイル、最大値が一覧で出力される\n",
        "df.describe()"
      ]
    },
    {
      "cell_type": "code",
      "execution_count": null,
      "metadata": {
        "id": "F8RqeNsVKC3N"
      },
      "outputs": [],
      "source": [
        "# describe() は全部だが、mean(), std(), min(), median(), max() もある\n",
        "# 中央値を求める\n",
        "df.median()"
      ]
    },
    {
      "cell_type": "markdown",
      "metadata": {
        "id": "fcd97NLpJLbi"
      },
      "source": [
        "- groupby メソッドを使うと、群毎の記述統計量を計算できる"
      ]
    },
    {
      "cell_type": "code",
      "execution_count": null,
      "metadata": {
        "id": "3PFO9gwrJS0z"
      },
      "outputs": [],
      "source": [
        "# groupby メソッドで、Subject_Typeのグループ毎の平均を計算する\n",
        "df.groupby(by='Subject_Type').mean()"
      ]
    },
    {
      "cell_type": "markdown",
      "metadata": {
        "id": "YpA9rUua3su1"
      },
      "source": [
        "## データの抽出\n",
        "- Pandas では、カラム名を使って、データの一部を抽出できる"
      ]
    },
    {
      "cell_type": "code",
      "execution_count": null,
      "metadata": {
        "id": "4mBvy9tfE9Gb"
      },
      "outputs": [],
      "source": [
        "# 改めて、df の概要をdf.head() で出力する\n",
        "# デフォルトは5行だが、df.head(3) で3行だけ出力できる\n",
        "df.head(3)"
      ]
    },
    {
      "cell_type": "code",
      "execution_count": null,
      "metadata": {
        "id": "a4ZYW4y130Gi"
      },
      "outputs": [],
      "source": [
        "# 'GMV' の列だけを抽出したかったら、df['GMV']とする\n",
        "df['GMV']"
      ]
    },
    {
      "cell_type": "code",
      "execution_count": null,
      "metadata": {
        "id": "bVFaAIXlDXYg"
      },
      "outputs": [],
      "source": [
        "# 取り出した列だけの平均を求めることもできる\n",
        "df['GMV'].mean()"
      ]
    },
    {
      "cell_type": "markdown",
      "metadata": {
        "id": "J6tbH3nq4HBg"
      },
      "source": [
        "- 複数のカラムを取り出したい時は、カラム名をリストで作成し、それをdf[[リスト]]とする"
      ]
    },
    {
      "cell_type": "code",
      "execution_count": null,
      "metadata": {
        "id": "Wj0o-k8-4Ro8"
      },
      "outputs": [],
      "source": [
        "# Age, Gender, GMV を取り出したい\n",
        "# 考え方として、まず、リストを作成する\n",
        "# そのリストを df[] の中に入れる\n",
        "# ['Age', ’Gender’, 'GMV']\n",
        "df[['Age', 'Gender', 'GMV']]"
      ]
    },
    {
      "cell_type": "code",
      "execution_count": null,
      "metadata": {
        "id": "brS7ezYGDzoW"
      },
      "outputs": [],
      "source": [
        "# ここでも同じように平均値を求められる\n",
        "# 連続値のみ平均値が計算される\n",
        "df[['Age', 'Gender', 'GMV']].mean()"
      ]
    },
    {
      "cell_type": "markdown",
      "metadata": {
        "id": "gV3e3q3MPcWF"
      },
      "source": [
        "### 練習問題 1\n",
        "- pandasで複数のカラムを抽出したい時、リストを使うことの意義を感じてもらうために以下を実行してください\n",
        "- 'Age', 'Subject_Type', 'CSF' の3項目を a というリストに代入してください\n",
        "- df[a] を実行してみてください\n"
      ]
    },
    {
      "cell_type": "code",
      "execution_count": null,
      "metadata": {
        "id": "ehjKM2YqQE8q"
      },
      "outputs": [],
      "source": [
        "# あなたの回答\n",
        "# 'Age' 'Subject_Type' 'CSF' を a というリストに代入\n",
        "a =\n",
        "# a を表示\n",
        "# ['Age', 'Subject_Type', 'CSF'] と表示されれば正解\n",
        "print(a)"
      ]
    },
    {
      "cell_type": "code",
      "execution_count": null,
      "metadata": {
        "id": "g5COC7oTQODJ"
      },
      "outputs": [],
      "source": [
        "# df[a] を実行\n",
        "df[a]"
      ]
    },
    {
      "cell_type": "code",
      "execution_count": null,
      "metadata": {
        "id": "ogxu4vtfVJDl"
      },
      "outputs": [],
      "source": [
        "# 回答例\n",
        "a = ['Age', 'Subject_Type', 'CSF']\n",
        "df[a]\n",
        "# a そのものが [] でくくられているので、df[a] は df[['Age', 'Subject_Type', 'CSF']] と同義\n",
        "# 慣れるまでは、まず、リストを作成して、それをdf[]に入れるように意識するのがよいかもしれない"
      ]
    },
    {
      "cell_type": "markdown",
      "metadata": {
        "id": "Vfu7VEQ76tX3"
      },
      "source": [
        "## 行の抽出\n",
        "- 行を抽出したい場合には、loc (**loc**ation) やiloc (**i**nteger **loc**ation)を使う\n",
        "- loc の後には、取り出したいIDを記載する\n",
        "- iloc の後には、取り出したい行数を記載する"
      ]
    },
    {
      "cell_type": "code",
      "execution_count": null,
      "metadata": {
        "id": "gqJv9X_h6rWz"
      },
      "outputs": [],
      "source": [
        "# loc は 特定のIDの行を取り出せる\n",
        "# ID 40003 を取り出す\n",
        "df.loc[40003]\n"
      ]
    },
    {
      "cell_type": "code",
      "execution_count": null,
      "metadata": {
        "id": "Ak7PBfkkFaS7"
      },
      "outputs": [],
      "source": [
        "# iloc は 行番号で指定した行を取り出せる\n",
        "# スライシングはPythonの基本と同じ\n",
        "# 最初の行は0行\n",
        "# 3行目から5行目を取り出したい時、0から始まるとすると、第2行から第4行を取り出すということなので、\n",
        "# 2行以上5行未満と考える\n",
        "df.iloc[2:5]"
      ]
    },
    {
      "cell_type": "code",
      "execution_count": null,
      "metadata": {
        "id": "sbpHNWuBGRJ-"
      },
      "outputs": [],
      "source": [
        "# df.head() で最初の5行を表示することで確認\n",
        "df.head()"
      ]
    },
    {
      "cell_type": "markdown",
      "metadata": {
        "id": "CeVGQAB08ZuS"
      },
      "source": [
        "## 条件抽出\n",
        "- 条件に合致するものだけを抽出することもできる\n",
        "- df['Age']>20 は、年齢が20歳よりも大きい人をTrueかFalseで返す\n",
        "- これを df[] の中にいれることでこの条件に合致する人の一覧を作成できる"
      ]
    },
    {
      "cell_type": "code",
      "execution_count": null,
      "metadata": {
        "id": "EKP8UKNU886H"
      },
      "outputs": [],
      "source": [
        "# df['Age']>20 は True か False を返す\n",
        "df['Age'] > 20"
      ]
    },
    {
      "cell_type": "code",
      "execution_count": null,
      "metadata": {
        "id": "pWSHmm2R-oNo"
      },
      "outputs": [],
      "source": [
        "# 上記を df の中に入れてあげることで、Trueのものだけ抽出できる\n",
        "df[df['Age'] >20]"
      ]
    },
    {
      "cell_type": "code",
      "execution_count": null,
      "metadata": {
        "id": "BTyQ3404_TiB"
      },
      "outputs": [],
      "source": [
        "# &, |, ~ を使うことで、複数条件を作れる\n",
        "# ルール\n",
        "#   &, |, ~ のどれかを使わなければいけない。and, or, notは使えない\n",
        "#  ひとつひとつの条件をそれぞれ () でくくらないといけない\n",
        "\n",
        "# 20歳より大きく健常者\n",
        "(df['Age'] > 20) & (df['Subject_Type'] == 'Control')"
      ]
    },
    {
      "cell_type": "code",
      "execution_count": null,
      "metadata": {
        "id": "tM6s2LsC_eS6"
      },
      "outputs": [],
      "source": [
        "# この条件をdf[] の中に入れてみる\n",
        "df[(df['Age'] > 20) & (df['Subject_Type'] == 'Control')]"
      ]
    },
    {
      "cell_type": "markdown",
      "metadata": {
        "id": "_O6TNbExQwHk"
      },
      "source": [
        "### 練習問題 2\n",
        "- 'Age' が40歳以上 または 'Gender' が 女性 という条件式を作って b に代入してください\n",
        "- df[b] を実行してみてください"
      ]
    },
    {
      "cell_type": "code",
      "execution_count": null,
      "metadata": {
        "id": "f6Cvai7JRTNl"
      },
      "outputs": [],
      "source": [
        "# 'Age' が40歳以上または 'Gender' が女性\n",
        "# ヒント: 40以上は　 >= 40\n",
        "# ヒント: または　は |\n",
        "b =\n",
        "df[b]"
      ]
    },
    {
      "cell_type": "code",
      "execution_count": null,
      "metadata": {
        "id": "FDO7HzaTVwIt"
      },
      "outputs": [],
      "source": [
        "#回答例\n",
        "b = (df['Age'] >= 40) | (df['Gender'] == 'Female')\n",
        "df[b]"
      ]
    },
    {
      "cell_type": "markdown",
      "metadata": {
        "id": "gKPVgdiuKlAo"
      },
      "source": [
        "## 表計算\n",
        "- Pandas では、項目を計算して新たな列を生成することが簡単にできる"
      ]
    },
    {
      "cell_type": "code",
      "execution_count": null,
      "metadata": {
        "id": "lP2N29HVFCFq"
      },
      "outputs": [],
      "source": [
        "# 灰白質容積 'GMV', 白質容積 'WMV', 脳脊髄液容積 'CSF' を足して新たに 頭蓋内容積 'ICV' という項目を生成する\n",
        "df['ICV'] = df['GMV'] + df['WMV'] + df['CSF']"
      ]
    },
    {
      "cell_type": "code",
      "execution_count": null,
      "metadata": {
        "id": "c8AOpN6oFyMH"
      },
      "outputs": [],
      "source": [
        "# 最後の列に ICV ができていることに着目\n",
        "df.head()"
      ]
    },
    {
      "cell_type": "markdown",
      "metadata": {
        "id": "ZHgWuyNqLJnV"
      },
      "source": [
        "## ファイルの書き出し\n",
        "- pandas は csv や excel に簡単に保存できる\n",
        "- メソッド 'to_ファイルの種類' を使う\n",
        "- df.to_csv('ファイル名')\n",
        "- df.to_excel('ファイル名')\n"
      ]
    },
    {
      "cell_type": "code",
      "execution_count": null,
      "metadata": {
        "id": "Lc5VxsplLdV6"
      },
      "outputs": [],
      "source": [
        "# 今の df を 'COBRE.xlsx' というファイル名で出力する\n",
        "# Google colaboratory の中に生成される。それはダウンロードできる\n",
        "df.to_excel('COBRE.xlsx')"
      ]
    },
    {
      "cell_type": "markdown",
      "metadata": {
        "id": "rouvdtdIMHlR"
      },
      "source": [
        "## Seaborn での可視化\n",
        "- Seaborn は様々なことができるが、relplot が便利なのでこれを紹介する\n",
        "- これはデータの関係性を図示するものである\n",
        "- 今、年齢と灰白質容積(GMV) の関係を図示したい\n",
        "- そこには性別と病気であるか否かが影響すると考えられるのでそれらを考慮したグラフを作成したい\n",
        "- さらに、CSFの容積も組み入れてみたい"
      ]
    },
    {
      "cell_type": "code",
      "execution_count": null,
      "metadata": {
        "id": "hKXGHNxtGkW6"
      },
      "outputs": [],
      "source": [
        "# seaborn のテーマを使うには、次のコマンドを実行する\n",
        "sns.set_theme()"
      ]
    },
    {
      "cell_type": "markdown",
      "metadata": {
        "id": "lMGVTNetNXYM"
      },
      "source": [
        "- relplot の使い方は比較的簡単\n",
        "```\n",
        "sns.relplot(data=データフレーム,\n",
        "            x=x軸に使いたいカラム,\n",
        "            y=y軸に使いたいカラム,\n",
        "            hue=色を変えたいカラム,\n",
        "            style=グラフのプロットの形状を変えたいカラム\n",
        "            size=プロットの大きさを反映したいカラム)\n",
        "```"
      ]
    },
    {
      "cell_type": "code",
      "execution_count": null,
      "metadata": {
        "id": "0LeR7YBUIlKh"
      },
      "outputs": [],
      "source": [
        "# シンプルに、AgeとGMVの関係を図示する\n",
        "sns.relplot(data=df, x='Age',y='GMV')"
      ]
    },
    {
      "cell_type": "code",
      "execution_count": null,
      "metadata": {
        "id": "3xQqnS4QI2yD"
      },
      "outputs": [],
      "source": [
        "# hue を使うと、グループを色分けできる\n",
        "# 今、Subject_Typeで健常者と患者を色分けする\n",
        "sns.relplot(data=df, x='Age',y='GMV', hue='Subject_Type')"
      ]
    },
    {
      "cell_type": "code",
      "execution_count": null,
      "metadata": {
        "id": "Y_ew07fKJKY7"
      },
      "outputs": [],
      "source": [
        "# style を使うと、グループをプロットの形で判別できる\n",
        "# 今、Gender で 男性と女性の形状を変えたい\n",
        "sns.relplot(data=df, x='Age',y='GMV', hue='Subject_Type', style='Gender')"
      ]
    },
    {
      "cell_type": "code",
      "execution_count": null,
      "metadata": {
        "id": "pqyn85U2FA_C"
      },
      "outputs": [],
      "source": [
        "# sizeを使うと、ひとつひとつのプロットの大きさを変えられる\n",
        "# プロットに 脳脊髄液容積の値を反映させたい\n",
        "# CSF の数値をプロットの大きさに反映する\n",
        "sns.relplot(data=df, x=\"Age\", y=\"GMV\",hue=\"Subject_Type\",style=\"Gender\",size=\"CSF\")"
      ]
    },
    {
      "cell_type": "markdown",
      "metadata": {
        "id": "9qhKHbdnM6Ix"
      },
      "source": [
        "### 練習問題 3\n",
        "- 加齢と脳脊髄液(CSF)容積の関係をプロットしたいと思います。\n",
        "- その際、以下の項目を色・形状で分けたいと思います\n",
        "    - 性別: 色\n",
        "    - 健常者/患者: 形状\n",
        "- 上記を参考に以下のようにしてください\n",
        "- data: df\n",
        "- x軸: Age\n",
        "- y軸: CSF\n",
        "- hue: Gender\n",
        "- style: Subject_Type\n",
        "- (sizeは使いません)"
      ]
    },
    {
      "cell_type": "code",
      "execution_count": null,
      "metadata": {
        "id": "55MrZJVDTrN8"
      },
      "outputs": [],
      "source": [
        "# あなたの回答\n",
        "sns.relplot(ここにパラメータを記載してください)"
      ]
    },
    {
      "cell_type": "code",
      "execution_count": null,
      "metadata": {
        "id": "rEg7Obp1OrwC"
      },
      "outputs": [],
      "source": [
        "# 回答例\n",
        "sns.relplot(data=df, x=\"Age\", y=\"CSF\",hue=\"Gender\",style=\"Subject_Type\",)"
      ]
    }
  ],
  "metadata": {
    "colab": {
      "include_colab_link": true,
      "provenance": []
    },
    "kernelspec": {
      "display_name": "Python 3",
      "name": "python3"
    },
    "language_info": {
      "codemirror_mode": {
        "name": "ipython",
        "version": 3
      },
      "file_extension": ".py",
      "mimetype": "text/x-python",
      "name": "python",
      "nbconvert_exporter": "python",
      "pygments_lexer": "ipython3",
      "version": "3.10.12"
    }
  },
  "nbformat": 4,
  "nbformat_minor": 0
}
