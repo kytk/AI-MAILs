{
 "cells": [
  {
   "attachments": {},
   "cell_type": "markdown",
   "metadata": {},
   "source": [
    "# Introduction to Python for Healthcare Professionals\n",
    "\n",
    "Kiyotaka Nemoto, M.D., Ph.D.\n",
    "Department of Psychiatry, University of Tsukuba\n",
    "\n",
    "Ver.20240702"
   ]
  },
  {
   "attachments": {},
   "cell_type": "markdown",
   "metadata": {},
   "source": [
    "## Goals of This Section\n",
    "- Get acquainted with Python as a user for data analysis, not as a programmer\n",
    "- Get familiar with commonly used terms in Python\n",
    "- Learn about functions and methods\n",
    "- Understand various data types, especially lists\n",
    "- Understand indexing and slicing\n",
    "- Learn about conditional statements\n",
    "- Try defining your own functions"
   ]
  },
  {
   "attachments": {},
   "cell_type": "markdown",
   "metadata": {},
   "source": [
    "## Table of Contents\n",
    "01. What is Python?\n",
    "02. Why Python?\n",
    "03. Features of Python\n",
    "04. Arithmetic Operations\n",
    "05. Data Types\n",
    "06. f-Strings\n",
    "07. Variables\n",
    "08. Lists\n",
    "09. Tuples\n",
    "10. Dictionaries\n",
    "11. Boolean Type\n",
    "12. Conditional Statements with if\n",
    "13. Functions\n",
    "14. Loops with for\n",
    "15. Practice Problems"
   ]
  },
  {
   "attachments": {},
   "cell_type": "markdown",
   "metadata": {},
   "source": [
    "## 1. What is Python?\n",
    "- A programming language\n",
    "- Frequently used in the field of data science\n",
    "- Commonly used for machine learning and deep learning"
   ]
  },
  {
   "attachments": {},
   "cell_type": "markdown",
   "metadata": {},
   "source": [
    "## 2. Why Python?\n",
    "- Python itself is like a framework or foundation\n",
    "- On top of this foundation, you can add various 'parts' (import) to fulfill your purposes\n",
    "    - Perform more complex mathematical calculations than basic arithmetic (math module in the standard library)\n",
    "    - Handle tables (pandas package in external libraries)\n",
    "    - Handle matrices (numpy package in external libraries)\n",
    "    - Perform data analysis and machine learning (scikit-learn package in external libraries)\n",
    "- In the field of data science, including machine learning and deep learning, Python has become almost a de facto standard\n",
    "- Relatively easy to learn\n",
    "- Abundant resources are available"
   ]
  },
  {
   "attachments": {},
   "cell_type": "markdown",
   "metadata": {},
   "source": [
    "## 3. Features of Python\n",
    "### Libraries\n",
    "- Extend functionality by importing 'packages' and 'modules' from 'libraries' into the minimal framework\n",
    "    - Libraries are divided into 'standard libraries' included with Python and 'external libraries' that need to be downloaded\n",
    "        - Example: Python is a school, libraries are libraries, modules in the standard library are books always available in the library, packages in external libraries are books ordered in\n",
    "    - Packages are directories consisting of many modules\n",
    "        - Use 'modules' within packages\n"
   ]
  },
  {
   "attachments": {},
   "cell_type": "markdown",
   "metadata": {},
   "source": [
    "#### How to Import Packages\n",
    "\n",
    "- `import module_name`\n",
    "- `import package_name as alias`\n",
    "- `import package_name.module_name as alias`                    \n",
    "- `from package_name import module_name_in_package as alias`\n",
    "\n",
    "- Examples\n",
    "    - `import math`\n",
    "        - 'Import the math module'\n",
    "    - `import numpy as np`\n",
    "        - 'Import the numpy package as np'\n",
    "        - From now on, use various modules in the numpy package as `np.module`\n",
    "    - `import matplotlib.pyplot as plt`\n",
    "        - 'Import the pyplot module in the matplotlib package as plt'\n",
    "        - From now on, use pyplot as `plt`\n",
    "    - `from matplotlib import pyplot as plt`\n",
    "        - 'Import the pyplot module from the matplotlib package as plt'\n",
    "        - Equivalent to `import matplotlib.pyplot as plt` (the latter is often used for pyplot)\n",
    "    \n"
   ]
  },
  {
   "cell_type": "code",
   "execution_count": null,
   "metadata": {},
   "outputs": [],
   "source": [
    "# Import the math module\n",
    "import math"
   ]
  },
  {
   "cell_type": "code",
   "execution_count": null,
   "metadata": {},
   "outputs": [],
   "source": [
    "# Calculate the square root of 2\n",
    "# Use the sqrt() function from the math module\n",
    "math.sqrt(2)"
   ]
  },
  {
   "cell_type": "code",
   "execution_count": null,
   "metadata": {},
   "outputs": [],
   "source": [
    "# Import the numpy package as np\n",
    "import numpy as np"
   ]
  },
  {
   "cell_type": "code",
   "execution_count": null,
   "metadata": {},
   "outputs": [],
   "source": [
    "# Use the arange() function from numpy to prepare x from 0 to 5 in steps of 0.1\n",
    "x = np.arange(0,5,0.1)\n",
    "print(x)"
   ]
  },
  {
   "cell_type": "code",
   "execution_count": null,
   "metadata": {},
   "outputs": [],
   "source": [
    "# Use the sin() and cos() functions from numpy to calculate sin and cos for the previous x and assign them to y1 and y2 respectively\n",
    "y1 = np.sin(x)\n",
    "y2 = np.cos(x)\n"
   ]
  },
  {
   "cell_type": "code",
   "execution_count": null,
   "metadata": {},
   "outputs": [],
   "source": [
    "# Display y1\n",
    "print(y1)"
   ]
  },
  {
   "cell_type": "code",
   "execution_count": null,
   "metadata": {},
   "outputs": [],
   "source": [
    "# Display y2\n",
    "print(y2)"
   ]
  },
  {
   "cell_type": "code",
   "execution_count": null,
   "metadata": {},
   "outputs": [],
   "source": [
    "# Import the pyplot module from the matplotlib package as plt\n",
    "import matplotlib.pyplot as plt"
   ]
  },
  {
   "cell_type": "code",
   "execution_count": null,
   "metadata": {},
   "outputs": [],
   "source": [
    "# Use the plot() function from the pyplot module to plot x and y1, and x and y2\n",
    "# Label them 'sin(x)' and 'cos(x)' respectively\n",
    "plt.plot(x,y1, label='sin(x)')\n",
    "plt.plot(x,y2, label='cos(x)')\n",
    "\n",
    "# Use the legend() function from the pyplot module to prepare a legend\n",
    "plt.legend()\n",
    "\n",
    "# Use the title() function from the pyplot module to set the title\n",
    "plt.title('sin and cos function')\n",
    "\n",
    "# Use the show() function from the pyplot module to display the graph\n",
    "plt.show()"
   ]
  },
  {
   "cell_type": "markdown",
   "metadata": {},
   "source": [
    "### Functions\n",
    "- In Python, various 'functions' are used to process data\n",
    "- Note that functions in Python are more broadly defined than mathematical functions\n",
    "- Functions are often displayed with () after the function name, like print()\n",
    "- Introducing functions like `print()`, `len()`, `input()`"
   ]
  },
  {
   "cell_type": "code",
   "execution_count": null,
   "metadata": {},
   "outputs": [],
   "source": [
    "# Assign the string 'Medicine' to the variable A\n",
    "A = 'Medicine'"
   ]
  },
  {
   "cell_type": "code",
   "execution_count": null,
   "metadata": {},
   "outputs": [],
   "source": [
    "# The print() function outputs the content of the variable\n",
    "print(A)"
   ]
  },
  {
   "cell_type": "code",
   "execution_count": null,
   "metadata": {},
   "outputs": [],
   "source": [
    "# The len() function outputs the number of characters if the variable is a string\n",
    "len(A)"
   ]
  },
  {
   "cell_type": "code",
   "execution_count": null,
   "metadata": {},
   "outputs": [],
   "source": [
    "# The input() function can assign the user's input to a variable\n",
    "# Display 'What is your favorite number?' and assign the result to the variable number\n",
    "number = input('What is your favorite number?')\n",
    "\n",
    "# Display the input content with the print() function\n",
    "print(number)"
   ]
  },
  {
   "attachments": {},
   "cell_type": "markdown",
   "metadata": {},
   "source": [
    "### Methods\n",
    "- One of Python's features is that data comes with **methods** that can perform various operations on the data\n",
    "- Methods are written after the data with a dot\n",
    "- Available methods depend on the 'type' which will be discussed later\n",
    "- Try using methods on the variable A (which contains the string 'Medicine') defined earlier"
   ]
  },
  {
   "cell_type": "code",
   "execution_count": null,
   "metadata": {},
   "outputs": [],
   "source": [
    "# The upper() method for string type variables converts the string to uppercase\n",
    "A.upper()"
   ]
  },
  {
   "cell_type": "code",
   "execution_count": null,
   "metadata": {},
   "outputs": [],
   "source": [
    "# The replace() method replaces specific characters with other characters\n",
    "# Replace 'i' with 'z'\n",
    "A.replace('i','z')"
   ]
  },
  {
   "attachments": {},
   "cell_type": "markdown",
   "metadata": {},
   "source": [
    "## 4. Arithmetic Operations\n",
    "- Perform arithmetic operations as follows\n",
    "    - Addition: + \n",
    "    - Subtraction: -\n",
    "    - Multiplication: *\n",
    "    - Division: /\n",
    "    - Exponentiation: **\n",
    "    - Floor division: //\n",
    "    - Modulus: %"
   ]
  },
  {
   "cell_type": "code",
   "execution_count": null,
   "metadata": {},
   "outputs": [],
   "source": [
    "# 2 to the power of 10\n",
    "2 ** 10"
   ]
  },
  {
   "cell_type": "code",
   "execution_count": null,
   "metadata": {},
   "outputs": [],
   "source": [
    "# The quotient when 15 is divided by 7\n",
    "15 // 7"
   ]
  },
  {
   "cell_type": "code",
   "execution_count": null,
   "metadata": {},
   "outputs": [],
   "source": [
    "# The remainder when 256 is divided by 7\n",
    "# Remainders are often used in conditional statements\n",
    "# Multiple of 4 → remainder when divided by 4 is 0\n",
    "256 % 7"
   ]
  },
  {
   "attachments": {},
   "cell_type": "markdown",
   "metadata": {},
   "source": [
    "## 5. Data Types\n",
    "- Python provides various '**types**' to represent data characteristics. Each type has associated methods\n",
    "- The type of data can be found using the `type()` function"
   ]
  },
  {
   "cell_type": "code",
   "execution_count": null,
   "metadata": {},
   "outputs": [],
   "source": [
    "# Integers are of type int (integer)\n",
    "type(10)"
   ]
  },
  {
   "cell_type": "code",
   "execution_count": null,
   "metadata": {},
   "outputs": [],
   "source": [
    "# Floating point numbers are of type float (floating point number)\n",
    "type(3.14)"
   ]
  },
  {
   "cell_type": "code",
   "execution_count": null,
   "metadata": {},
   "outputs": [],
   "source": [
    "# Strings are of type str (string)\n",
    "type('Hello')"
   ]
  },
  {
   "attachments": {},
   "cell_type": "markdown",
   "metadata": {},
   "source": [
    "- Strings can be concatenated with \"+\".\n"
   ]
  },
  {
   "cell_type": "code",
   "execution_count": null,
   "metadata": {},
   "outputs": [],
   "source": [
    "# Assign the string 'MRI' to str1\n",
    "str1 = 'MRI'"
   ]
  },
  {
   "cell_type": "code",
   "execution_count": null,
   "metadata": {},
   "outputs": [],
   "source": [
    "# Concatenate the word 'functional' with str1\n",
    "print('functional ' + str1)"
   ]
  },
  {
   "cell_type": "markdown",
   "metadata": {},
   "source": [
    "- Different types cannot be concatenated with \"+\".\n",
    "- However, types can be easily converted by enclosing the object in the desired type"
   ]
  },
  {
   "cell_type": "code",
   "execution_count": null,
   "metadata": {},
   "outputs": [],
   "source": [
    "# Automatically display 'Your score is ◯ points' for test scores\n",
    "\n",
    "# Assign 85 points to the variable score\n",
    "score = 85\n",
    "\n",
    "# The command below does not work. The string is of type str, and score is of type int.\n",
    "print('Your score is ' + score + ' points')"
   ]
  },
  {
   "cell_type": "markdown",
   "metadata": {},
   "source": [
    "- Pay attention to the error content\n",
    "TypeError: can only concatenate str (not \"int\") to str\n",
    "\n",
    "concatenate means 'to join together'\n",
    "str can only be concatenated to str. It cannot be concatenated to int, as it tells us"
   ]
  },
  {
   "cell_type": "code",
   "execution_count": null,
   "metadata": {},
   "outputs": [],
   "source": [
    "# Converting score to str(score) easily converts it to a string type\n",
    "print('Your score is ' + str(score) + ' points')"
   ]
  },
  {
   "cell_type": "markdown",
   "metadata": {},
   "source": [
    "## 6. f-Strings\n",
    "- From Python 3.6 onwards, f-strings can be used to display strings\n",
    "- In f-strings, just enclose the variable in {} without needing to convert the type"
   ]
  },
  {
   "cell_type": "code",
   "execution_count": null,
   "metadata": {},
   "outputs": [],
   "source": [
    "# Automatically display 'Your score is ◯ points' for test scores\n",
    "score = 85\n",
    "\n",
    "# In f-strings, just enclose the variable in {}\n",
    "print(f'Your score is {score} points')"
   ]
  },
  {
   "attachments": {},
   "cell_type": "markdown",
   "metadata": {},
   "source": [
    "## 7. Variables\n",
    "- Variables can be defined using alphabets like x or y. Use = to assign values to variables\n",
    "    - In programming languages, **= is an assignment operator, not an equality operator**\n",
    "- The type of a variable is automatically set according to the value assigned to it\n",
    "- In Python, you can assign multiple variables in a single line"
   ]
  },
  {
   "cell_type": "code",
   "execution_count": null,
   "metadata": {},
   "outputs": [],
   "source": [
    "# Assign 100 to x and 3.14 to y\n",
    "x, y = 100, 3.14\n",
    "\n",
    "# Assign x * y to z\n",
    "z = x * y"
   ]
  },
  {
   "cell_type": "code",
   "execution_count": null,
   "metadata": {},
   "outputs": [],
   "source": [
    "# Display the content of z\n",
    "# Typing only the variable displays its content\n",
    "# Multiplying an integer int by a floating point number float results in float\n",
    "print(z)"
   ]
  },
  {
   "cell_type": "code",
   "execution_count": null,
   "metadata": {},
   "outputs": [],
   "source": [
    "# Check the data type of z\n",
    "type(z)"
   ]
  },
  {
   "cell_type": "code",
   "execution_count": null,
   "metadata": {},
   "outputs": [],
   "source": [
    "# In many programming languages, you can assign the result of an operation on a variable to the same variable\n",
    "# Add 50 to x and assign it as the new x\n",
    "# Note that = is an assignment operator, not an equality operator!\n",
    "x = x + 50\n",
    "print(x) # Originally, x was 100, so now it should be 150\n",
    "\n",
    "# The same can be done with the following notation\n",
    "\n",
    "x += 50 # Equivalent to x = x + 50, called 'addition assignment'\n",
    "print(x) # It should be 200"
   ]
  },
  {
   "attachments": {},
   "cell_type": "markdown",
   "metadata": {},
   "source": [
    "## 8. Lists\n",
    "- In Python, variables can hold multiple values together, not just a single value\n",
    "- There are three types that can hold multiple values: 'list', 'tuple', and 'dictionary'\n",
    "    - Differences will be explained later\n",
    "- Lists are written using [ ]\n",
    "- Always use commas to separate multiple elements in Python\n",
    "- Lists appear everywhere, so getting familiar with them is important"
   ]
  },
  {
   "cell_type": "code",
   "execution_count": null,
   "metadata": {},
   "outputs": [],
   "source": [
    "# Create a list\n",
    "a = [1, 2, 3, 4, 5]"
   ]
  },
  {
   "cell_type": "code",
   "execution_count": null,
   "metadata": {},
   "outputs": [],
   "source": [
    "# Display the list using the print() function\n",
    "print(a)"
   ]
  },
  {
   "cell_type": "code",
   "execution_count": null,
   "metadata": {},
   "outputs": [],
   "source": [
    "# Check the type using the type() function\n",
    "type(a)"
   ]
  },
  {
   "cell_type": "code",
   "execution_count": null,
   "metadata": {},
   "outputs": [],
   "source": [
    "# Display the number of elements in the list using the len() function\n",
    "len(a)"
   ]
  },
  {
   "cell_type": "code",
   "execution_count": null,
   "metadata": {},
   "outputs": [],
   "source": [
    "# Use the append method to add a value to the list\n",
    "a.append(6) # Add 6 to the list\n",
    "print(a)"
   ]
  },
  {
   "attachments": {},
   "cell_type": "markdown",
   "metadata": {},
   "source": [
    "### Indexing\n",
    "- Use indices to access elements in the list\n",
    "- In Python, **indices start from 0**\n",
    "- To access an element, use [] after the variable (this is a general principle in Python, not just for lists)\n",
    "- `a[1]` means the second element in list a\n",
    "- Index -1 indicates the last value\n",
    "- Using indices, individual elements can be changed. The ability to change elements is called '**mutable**'"
   ]
  },
  {
   "cell_type": "code",
   "execution_count": null,
   "metadata": {},
   "outputs": [],
   "source": [
    "a[1]"
   ]
  },
  {
   "cell_type": "code",
   "execution_count": null,
   "metadata": {},
   "outputs": [],
   "source": [
    "# a[-1] means the same as a[5] in this case\n",
    "a[-1]"
   ]
  },
  {
   "cell_type": "code",
   "execution_count": null,
   "metadata": {},
   "outputs": [],
   "source": [
    "# Change the fifth element of list a to 99\n",
    "a[4] = 99"
   ]
  },
  {
   "cell_type": "code",
   "execution_count": null,
   "metadata": {},
   "outputs": [],
   "source": [
    "# Display a\n",
    "print(a)"
   ]
  },
  {
   "attachments": {},
   "cell_type": "markdown",
   "metadata": {},
   "source": [
    "### Slicing\n",
    "- In Python, you can extract multiple values from a list using a method called slicing\n",
    "- Slicing is expressed as [start index:end index] and displays the elements in between\n",
    "- The concept of slicing becomes clearer when looking at indices\n",
    "\n",
    "```\n",
    "       | n | e | u | r | o | n | \n",
    "       +   +   +   +   +   +   + \n",
    "index  0   1   2   3   4   5   6    \n",
    "      -6  -5  -4  -3  -2  -1    　\n",
    " ```\n",
    " \n",
    " - Remember that [0:3] means index 0 **inclusive** to index 3 **exclusive**"
   ]
  },
  {
   "cell_type": "code",
   "execution_count": null,
   "metadata": {},
   "outputs": [],
   "source": [
    "# Assign n e u r o n as a list to the variable b\n",
    "b = ['n', 'e', 'u', 'r', 'o', 'n']\n",
    "# Display b\n",
    "b"
   ]
  },
  {
   "cell_type": "code",
   "execution_count": null,
   "metadata": {},
   "outputs": [],
   "source": [
    "# b[0:2] displays the elements between index 0 and 2\n",
    "# Consider it as 0 and 1 for index 0 inclusive and 2 exclusive\n",
    "# In this case, it becomes n and e\n",
    "b[0:2]"
   ]
  },
  {
   "cell_type": "code",
   "execution_count": null,
   "metadata": {},
   "outputs": [],
   "source": [
    "# Specifying only the start index as b[1:] displays from there to the end\n",
    "# In this case, it becomes e u r o n\n",
    "b[1:]"
   ]
  },
  {
   "cell_type": "code",
   "execution_count": null,
   "metadata": {},
   "outputs": [],
   "source": [
    "# Specifying only the end index as b[:3] displays from the start to that index exclusive\n",
    "# Index 3 exclusive means indices 0, 1, 2\n",
    "# In this case, it becomes n e u\n",
    "b[:3]"
   ]
  },
  {
   "cell_type": "code",
   "execution_count": null,
   "metadata": {},
   "outputs": [],
   "source": [
    "# b[:-1] means the same as b[:5] in this case\n",
    "b[:-1]"
   ]
  },
  {
   "cell_type": "code",
   "execution_count": null,
   "metadata": {},
   "outputs": [],
   "source": [
    "# b[:-2] means the same as b[:4] in this case\n",
    "b[:-2]"
   ]
  },
  {
   "attachments": {},
   "cell_type": "markdown",
   "metadata": {},
   "source": [
    "- The above slicing can also be done with str type\n",
    "- Convenient for extracting parts of a string"
   ]
  },
  {
   "cell_type": "code",
   "execution_count": null,
   "metadata": {},
   "outputs": [],
   "source": [
    "# Assign the string neuron to the variable c\n",
    "c = 'neuron'\n",
    "# Display indices 0 to 2 of the variable c, i.e., 0, 1, 2\n",
    "c[0:3]"
   ]
  },
  {
   "attachments": {},
   "cell_type": "markdown",
   "metadata": {},
   "source": [
    "### Mini Test\n",
    "- Python 3.0 was released on December 3, 2008.\n",
    "- The variable py3date contains the value 2008-12-03. Use indices to create the variables year, month, and day from this"
   ]
  },
  {
   "cell_type": "code",
   "execution_count": null,
   "metadata": {},
   "outputs": [],
   "source": [
    "py3date = '2008-12-03'\n",
    "### Write your answers below\n",
    "year = \n",
    "month = \n",
    "day = "
   ]
  },
  {
   "cell_type": "code",
   "execution_count": null,
   "metadata": {},
   "outputs": [],
   "source": [
    "# The correct answer should be 2008 12 03\n",
    "print(year, month, day)"
   ]
  },
  {
   "cell_type": "code",
   "execution_count": null,
   "metadata": {},
   "outputs": [],
   "source": [
    "# Correct answer\n",
    "py3date = '2008-12-03'\n",
    "# The year is 4 characters, so the index is 0-3, 0 inclusive and 4 exclusive\n",
    "year = py3date[0:4]\n",
    "# The month index is 5 and 6, so it is 5 inclusive and 7 exclusive\n",
    "month = py3date[5:7]\n",
    "# The day index is 8 and 9, so it is 8 inclusive and 10 exclusive\n",
    "day = py3date[8:10]\n",
    "\n",
    "print(year, month, day)"
   ]
  },
  {
   "attachments": {},
   "cell_type": "markdown",
   "metadata": {},
   "source": [
    "## 9. Tuples\n",
    "- Tuples are almost the same as lists but with one difference\n",
    "- Tuples are not mutable, meaning neither the elements nor the number of elements can be changed\n",
    "- Useful when you don't want to change the values\n",
    "- Tuples are written using ( )"
   ]
  },
  {
   "cell_type": "code",
   "execution_count": null,
   "metadata": {},
   "outputs": [],
   "source": [
    "# Define the variable a as a tuple\n",
    "a = (1, 2, 3, 4, 5)"
   ]
  },
  {
   "cell_type": "code",
   "execution_count": null,
   "metadata": {},
   "outputs": [],
   "source": [
    "# Like lists, elements can be accessed using indices\n",
    "# Indices are specified using []\n",
    "a[0]"
   ]
  },
  {
   "cell_type": "code",
   "execution_count": null,
   "metadata": {},
   "outputs": [],
   "source": [
    "# Tuples cannot have their contents changed\n",
    "# The following will cause an error\n",
    "a[4] = 99"
   ]
  },
  {
   "attachments": {},
   "cell_type": "markdown",
   "metadata": {},
   "source": [
    "## 10. Dictionaries\n",
    "- Dictionaries store data in pairs of '**keys**' and '**values**'\n",
    "- Values can include numbers, strings, etc.\n",
    "- Dictionaries are assigned using {key:value}\n",
    "- Values can be accessed with `variable_name['key']`"
   ]
  },
  {
   "cell_type": "code",
   "execution_count": null,
   "metadata": {},
   "outputs": [],
   "source": [
    "# Register AST = 30, ALT = 38 in the variable liver_func\n",
    "liver_func = {'AST':30, 'ALT':38}"
   ]
  },
  {
   "cell_type": "code",
   "execution_count": null,
   "metadata": {},
   "outputs": [],
   "source": [
    "# Check the type of the variable liver_func with the type() function\n",
    "print(type(liver_func))"
   ]
  },
  {
   "cell_type": "code",
   "execution_count": null,
   "metadata": {},
   "outputs": [],
   "source": [
    "# Extract the value of the key AST\n",
    "liver_func['AST']"
   ]
  },
  {
   "cell_type": "code",
   "execution_count": null,
   "metadata": {},
   "outputs": [],
   "source": [
    "# Add a key-value pair\n",
    "# Add γGTP 60\n",
    "liver_func['gGTP'] = 60"
   ]
  },
  {
   "cell_type": "code",
   "execution_count": null,
   "metadata": {},
   "outputs": [],
   "source": [
    "# Check if it was added\n",
    "liver_func"
   ]
  },
  {
   "cell_type": "code",
   "execution_count": null,
   "metadata": {},
   "outputs": [],
   "source": [
    "# The method items() retrieves the list of key-value pairs\n",
    "liver_func.items()"
   ]
  },
  {
   "cell_type": "code",
   "execution_count": null,
   "metadata": {},
   "outputs": [],
   "source": [
    "# The method keys() retrieves the list of keys\n",
    "liver_func.keys()"
   ]
  },
  {
   "cell_type": "code",
   "execution_count": null,
   "metadata": {},
   "outputs": [],
   "source": [
    "# The method values() retrieves the list of values\n",
    "liver_func.values()"
   ]
  },
  {
   "attachments": {},
   "cell_type": "markdown",
   "metadata": {},
   "source": [
    "## 11. Boolean Type\n",
    "- Boolean is a special type that takes True and False. It is called bool type\n",
    "- bool type can use and, or, not"
   ]
  },
  {
   "cell_type": "code",
   "execution_count": null,
   "metadata": {},
   "outputs": [],
   "source": [
    "MRI = True   # MRI was taken\n",
    "SPECT = False  # SPECT was not taken"
   ]
  },
  {
   "cell_type": "code",
   "execution_count": null,
   "metadata": {},
   "outputs": [],
   "source": [
    "# The type is bool\n",
    "print(type(MRI))"
   ]
  },
  {
   "cell_type": "code",
   "execution_count": null,
   "metadata": {},
   "outputs": [],
   "source": [
    "# The opposite of True is False\n",
    "print(not MRI)"
   ]
  },
  {
   "cell_type": "code",
   "execution_count": null,
   "metadata": {},
   "outputs": [],
   "source": [
    "# and is True only when both are True\n",
    "print(MRI and SPECT)"
   ]
  },
  {
   "cell_type": "code",
   "execution_count": null,
   "metadata": {},
   "outputs": [],
   "source": [
    "# or is True if either is True (True if both are True as well)\n",
    "print(MRI or SPECT)"
   ]
  },
  {
   "attachments": {},
   "cell_type": "markdown",
   "metadata": {},
   "source": [
    "## 12. Conditional Statements with if\n",
    "- Use if to branch based on conditions\n",
    "- The format is as follows\n",
    "\n",
    "    ```\n",
    "    if condition1:\n",
    "        block statement1 if condition1 is true\n",
    "    elif condition2:\n",
    "        block statement2 if condition2 is true\n",
    "    else:\n",
    "        block statement3 if condition is false\n",
    "    ```\n",
    "\n",
    "- Always add `:` at the end of the condition\n",
    "- Always indent the block statement (4 or 2 spaces) after the condition\n",
    "    - Indentation: Insert spaces at the beginning of a line to move the first character to the right"
   ]
  },
  {
   "cell_type": "code",
   "execution_count": null,
   "metadata": {},
   "outputs": [],
   "source": [
    "# Program to grade based on score\n",
    "# A for 80 points or more, B for 70 points or more, C for 60 points or more, D for the rest\n",
    "# The print statement can be displayed nicely using the format() method\n",
    "\n",
    "score = 75\n",
    "\n",
    "if score >= 80:\n",
    "    grade = 'A'\n",
    "elif score >= 70:\n",
    "    grade = 'B'\n",
    "elif score >= 60:\n",
    "    grade = 'C'\n",
    "else:\n",
    "    grade = 'D'\n",
    "print(f'Your grade is {grade}')"
   ]
  },
  {
   "attachments": {},
   "cell_type": "markdown",
   "metadata": {},
   "source": [
    "## 13. Functions\n",
    "- The above content requires changing `score = 75` each time\n",
    "- In such cases, you can define a function\n",
    "- A function is called 'function' in English, meaning 'feature'\n",
    "- Here, it is good to think of a function as 'implementing the feature you want to perform'\n",
    "- After `def custom_function_name(argument):`, write the process you want to perform to create a function\n",
    "- Specify the return value of the function with return\n",
    "    - Return value: The result obtained from executing the function\n",
    "- Note that variables defined within a function cannot be used outside the function"
   ]
  },
  {
   "cell_type": "code",
   "execution_count": null,
   "metadata": {},
   "outputs": [],
   "source": [
    "def grading(score):\n",
    "    # Assign grade to variable g based on score\n",
    "    if score >= 80:\n",
    "        g = 'A'\n",
    "    elif score >= 70:\n",
    "        g = 'B'\n",
    "    elif score >= 60:\n",
    "        g = 'C'\n",
    "    else:\n",
    "        g = 'D'\n",
    "    # Return g as the return value when this function is executed\n",
    "    return g\n",
    "\n",
    "def display_grade(grade):\n",
    "    # If the function's main purpose is display, a return value is not needed\n",
    "    print(f'Your grade is {grade}')\n",
    "    "
   ]
  },
  {
   "cell_type": "code",
   "execution_count": null,
   "metadata": {
    "scrolled": true
   },
   "outputs": [],
   "source": [
    "# Assign the return value of the custom grading function to the variable grade\n",
    "s = int(input('What is your score?: '))\n",
    "grade = grading(s)"
   ]
  },
  {
   "cell_type": "code",
   "execution_count": null,
   "metadata": {},
   "outputs": [],
   "source": [
    "# Display the content of the variable grade\n",
    "print(grade)"
   ]
  },
  {
   "cell_type": "code",
   "execution_count": null,
   "metadata": {},
   "outputs": [],
   "source": [
    "# Assign this result to the custom display_grade function\n",
    "display_grade(grade)"
   ]
  },
  {
   "cell_type": "code",
   "execution_count": null,
   "metadata": {},
   "outputs": [],
   "source": [
    "# Combining functions allows expression in a single line\n",
    "s = int(input('What is your score?: '))\n",
    "display_grade(grading(s))"
   ]
  },
  {
   "attachments": {},
   "cell_type": "markdown",
   "metadata": {},
   "source": [
    "## 14. Loops with for\n",
    "- Python allows looping in various ways\n",
    "    - Repeat a fixed number of times using the range() function\n",
    "    - Loop through elements of a list\n",
    "    - Loop through elements of a dictionary\n",
    "- The format is as follows\n",
    "\n",
    "    ```\n",
    "    for variable in range/list/dictionary:\n",
    "        block statement\n",
    "    ```"
   ]
  },
  {
   "cell_type": "code",
   "execution_count": null,
   "metadata": {},
   "outputs": [],
   "source": [
    "# Repeat a fixed number of times using the range() function\n",
    "# range(5) is the same as 0,1,2,3,4 '0 inclusive, 5 exclusive'\n",
    "\n",
    "for i in range(5):\n",
    "    print(f'Hello World {i}')\n",
    "    "
   ]
  },
  {
   "cell_type": "code",
   "execution_count": null,
   "metadata": {},
   "outputs": [],
   "source": [
    "# Loop using a list\n",
    "# Assign test results to the list result,\n",
    "# and loop through display_grade(grading()) defined earlier\n",
    "\n",
    "result = [95, 76, 56, 92, 62, 65, 74]\n",
    "\n",
    "for i in result:\n",
    "    display_grade(grading(i))"
   ]
  },
  {
   "cell_type": "code",
   "execution_count": null,
   "metadata": {},
   "outputs": [],
   "source": [
    "# Loop using a dictionary\n",
    "# Output the information of liver_func used earlier\n",
    "\n",
    "for key, value in liver_func.items():\n",
    "    print(f'{key} is {value}')"
   ]
  },
  {
   "attachments": {},
   "cell_type": "markdown",
   "metadata": {},
   "source": [
    "## 15. Practice Problems\n",
    "- You are in charge of a patient with anorexia nervosa. You need to calculate BMI weekly and report to your supervising physician.\n",
    "\n",
    "- Do the following.\n",
    "    - Use def to define a function calc_bmi that calculates BMI given height (cm) and weight (kg).\n",
    "        - Specify bmi as the return value\n",
    "        - BMI is calculated as weight (kg) / (height (m) squared)\n",
    "\n",
    "- Use the input function to enter height in cm and convert it to m in the program\n",
    "- Similarly, use the input function to enter weight in kg\n",
    "- Display BMI as 'Your BMI is ○○' with one decimal place\n",
    "    - f-strings display one decimal place with {bmi:.1f}\n"
   ]
  },
  {
   "cell_type": "code",
   "execution_count": null,
   "metadata": {},
   "outputs": [],
   "source": [
    "# Hint\n",
    "# Define the function\n",
    "#   def calc_bmi(ht,bw):  to define a function that calculates BMI from height and weight\n",
    "#   BMI as bmi can be written as bmi = bw / (ht ** 2)\n",
    "# \n",
    "\n",
    "#### Write the calc_bmi function in 3 lines below ####\n",
    "def \n",
    "  \n",
    "  \n",
    "#### Function ends here ##############\n",
    "\n",
    "\n",
    "# Below, make height and weight input from the keyboard\n",
    "# Let's display it as follows.\n",
    "# Enter your height in cm:\n",
    "# Enter your weight in kg:\n",
    "ht = input()\n",
    "bw = input()\n",
    "\n",
    "# Below, convert ht and bw to float, and convert ht from cm to m\n",
    "ht = \n",
    "bw = \n",
    "\n",
    "# Below, calculate bmi and display BMI.\n",
    "bmi = \n",
    "print()    \n",
    "#################################\n",
    "\n"
   ]
  },
  {
   "cell_type": "code",
   "execution_count": null,
   "metadata": {},
   "outputs": [],
   "source": [
    "# Example answer\n",
    "\n",
    "#### Write the calc_bmi function in 3 lines below ####\n",
    "def calc_bmi(ht, bw):\n",
    "    bmi = bw / (ht ** 2)\n",
    "    return bmi\n",
    "#### Function ends here ##############\n",
    "\n",
    "# Below, make height and weight input from the keyboard\n",
    "# Let's display it as follows.\n",
    "# Enter your height in cm:\n",
    "# Enter your weight in kg:\n",
    "ht = input('Enter your height in cm:')\n",
    "bw = input('Enter your weight in kg:')\n",
    "\n",
    "# Below, convert ht and bw to float, and convert ht from cm to m\n",
    "ht = float(ht)/100\n",
    "bw = float(bw)\n",
    "\n",
    "# Below, calculate bmi and display BMI.\n",
    "bmi = calc_bmi(ht, bw)\n",
    "print(f'Your BMI is {bmi:.1f}')    \n",
    "#################################"
   ]
  }
 ],
 "metadata": {
  "kernelspec": {
   "display_name": "Python 3 (ipykernel)",
   "language": "python",
   "name": "python3"
  },
  "language_info": {
   "codemirror_mode": {
    "name": "ipython",
    "version": 3
   },
   "file_extension": ".py",
   "mimetype": "text/x-python",
   "name": "python",
   "nbconvert_exporter": "python",
   "pygments_lexer": "ipython3",
   "version": "3.10.12"
  }
 },
 "nbformat": 4,
 "nbformat_minor": 4
}
