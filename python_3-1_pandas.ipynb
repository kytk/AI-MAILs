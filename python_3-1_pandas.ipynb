{
  "cells": [
    {
      "cell_type": "markdown",
      "source": [
        "# Pandas で 表を扱い、Seaborn で可視化する\n",
        "- Pandas: \"Pandas is a fast, powerful, flexible and easy to use open source data analysis and manipulation tool,\n",
        "built on top of the Python programming language.\" https://pandas.pydata.org/docs/index.html\n",
        "- Seaborn: \"Seaborn is a library for making statistical graphics in Python.\" https://seaborn.pydata.org/tutorial/introduction"
      ],
      "metadata": {
        "id": "YoSBiFrTqj9e"
      }
    },
    {
      "cell_type": "code",
      "execution_count": null,
      "metadata": {
        "id": "IenfZamDpnc5"
      },
      "outputs": [],
      "source": [
        "# pandas は pd としてインポートされることが多い\n",
        "import pandas as pd\n",
        "\n",
        "# seaborn は sns (seaborn name space) としてインポートされることが多い\n",
        "import seaborn as sns\n"
      ]
    },
    {
      "cell_type": "markdown",
      "source": [
        "## Google colaboratory でのデータの読み込み\n",
        "- 通常は、左にある「ファイル」の下にデータをドラッグ & ドロップする\n",
        "- そうすると、/content/ファイル名 でアクセスできる\n",
        "- 今は、データをダウンロードして使用する"
      ],
      "metadata": {
        "id": "Oe9brFsjs5Rz"
      }
    },
    {
      "cell_type": "code",
      "source": [
        "# 本日使うデータをダウンロードする\n",
        "# ファイル名は cobre_142.csv\n",
        "# ! はPythonからシェルで動かすプログラムを実行したい時につける\n",
        "# [[ -f cobre_142.csv ]] は、「cobre_142.csv というファイルがあるか？」というテスト文\n",
        "# || は、戻り値が False ならば…　というコマンド\n",
        "# wget はダウンロードするLinuxのプログラム\n",
        "\n",
        "![[ -f cobre_142.csv ]] || wget https://raw.githubusercontent.com/kytk/AI-MAILs/main/cobre_142.csv\n"
      ],
      "metadata": {
        "id": "JmkGrITrtVp7"
      },
      "execution_count": null,
      "outputs": []
    },
    {
      "cell_type": "markdown",
      "source": [
        "## Pandas の用語: 「データフレーム Data Frame」\n",
        "- 一般的な表をイメージすればよい\n",
        "- Pandasでは、ひとつの表を「データフレーム」と呼ぶ\n",
        "- 行: row; 列: column\n",
        "- dataframe から df という変数に代入されることが多い"
      ],
      "metadata": {
        "id": "M4TXVBpNvegz"
      }
    },
    {
      "cell_type": "markdown",
      "source": [
        "## Pandas へのデータの読み込み\n",
        "- Pandas は、csvファイルやexcelファイルを読み込むことができる\n",
        "- Excelファイルはいくつか追加パッケージが必要なことがあるため、csvファイルがおすすめ\n",
        "- csvファイルに日本語が入っている場合、文字コードをUTF-8にすることがおすすめ\n",
        "- Excel は、`pd.read_excel('excelファイル')` で読み込むことができる\n",
        "- CSVは、`pd.read_csv('csvファイル')` で読み込むことができる"
      ],
      "metadata": {
        "id": "jLzeT1vssiXB"
      }
    },
    {
      "cell_type": "code",
      "execution_count": null,
      "metadata": {
        "id": "9U2kPRVKpqKa"
      },
      "outputs": [],
      "source": [
        "# pd.read_csv を使用する\n",
        "# 1列目はIDのようなインデックスの場合、'index_col=0' と指定する\n",
        "df = pd.read_csv('/content/cobre_142.csv', index_col=0)"
      ]
    },
    {
      "cell_type": "code",
      "source": [
        "import pandas as pd\n",
        "import seaborn as sns\n",
        "df = pd.read_csv('/content/cobre_142.csv', index_col=0)\n",
        "sns.set_theme()\n",
        "sns.relplot(data=df, x=\"Age\", y=\"GMV\", hue=\"Sex\",style=\"Dx\")"
      ],
      "metadata": {
        "id": "8iWxtI_vELWA"
      },
      "execution_count": null,
      "outputs": []
    },
    {
      "cell_type": "code",
      "source": [
        "df.head()"
      ],
      "metadata": {
        "id": "lP2N29HVFCFq"
      },
      "execution_count": null,
      "outputs": []
    },
    {
      "cell_type": "code",
      "source": [
        "df.loc['sub-40037','CSF']=408.3\n"
      ],
      "metadata": {
        "id": "c8AOpN6oFyMH"
      },
      "execution_count": null,
      "outputs": []
    },
    {
      "cell_type": "code",
      "source": [
        "df.loc['sub-40037','ICV'] -= 1000"
      ],
      "metadata": {
        "id": "g-sNvH8nH6f0"
      },
      "execution_count": null,
      "outputs": []
    },
    {
      "cell_type": "code",
      "source": [
        "df.loc['sub-40037']['ICV']"
      ],
      "metadata": {
        "id": "hKXGHNxtGkW6"
      },
      "execution_count": null,
      "outputs": []
    },
    {
      "cell_type": "code",
      "source": [
        "sns.relplot(data=df, x=\"ICV\", y=\"CSF\",hue=\"Sex\",style=\"Dx\")"
      ],
      "metadata": {
        "id": "pqyn85U2FA_C"
      },
      "execution_count": null,
      "outputs": []
    },
    {
      "cell_type": "code",
      "source": [
        "sns.pairplot(df)"
      ],
      "metadata": {
        "id": "ff5lvc00EgSn"
      },
      "execution_count": null,
      "outputs": []
    },
    {
      "cell_type": "code",
      "execution_count": null,
      "metadata": {
        "id": "4MJigtAHqUaP"
      },
      "outputs": [],
      "source": [
        "# df.head() でデータの最初の5行を確認できる\n",
        "df.head()"
      ]
    },
    {
      "cell_type": "code",
      "source": [
        "df.shape"
      ],
      "metadata": {
        "id": "r4AzRupFJgCq"
      },
      "execution_count": null,
      "outputs": []
    },
    {
      "cell_type": "code",
      "source": [
        "df.index"
      ],
      "metadata": {
        "id": "cYLeH8ywJo9w"
      },
      "execution_count": null,
      "outputs": []
    },
    {
      "cell_type": "code",
      "source": [
        "# カラム名を使ってデータの一部を抽出できる\n",
        "# Age のみ抜き出したかったら df['Age']\n",
        "df['Age']"
      ],
      "metadata": {
        "id": "tErReE5Y3o1X"
      },
      "execution_count": null,
      "outputs": []
    },
    {
      "cell_type": "code",
      "source": [
        "# 複数の項目を抜き出したかったら、まず、項目をリストとして作成して、\n",
        "# df[リスト] とすればよい\n",
        "# Age と GMV を抜き出したかったら、まず、['Age', 'GMV'] というリストを作る\n",
        "# そのリストを df[] の中に入れる\n",
        "# a = ['Age','GMV']\n",
        "# df[a]\n",
        "\n",
        "df[['Age','GMV']]"
      ],
      "metadata": {
        "id": "8-xXWRxd4aMG"
      },
      "execution_count": null,
      "outputs": []
    },
    {
      "cell_type": "markdown",
      "source": [],
      "metadata": {
        "id": "Td-XCHfdwBvE"
      }
    },
    {
      "cell_type": "code",
      "source": [
        "# データフレームの記述統計は、describe() で求められる\n",
        "df.describe()"
      ],
      "metadata": {
        "id": "kpOJ0Ews6-Pz"
      },
      "execution_count": null,
      "outputs": []
    },
    {
      "cell_type": "code",
      "source": [
        "# データフレームの平均は mean() メソッドで簡単に求められる\n",
        "df.mean()"
      ],
      "metadata": {
        "id": "Gp45W2CU6nEX"
      },
      "execution_count": null,
      "outputs": []
    },
    {
      "cell_type": "code",
      "source": [
        "df.median()"
      ],
      "metadata": {
        "id": "Ln4TWAhc6uLH"
      },
      "execution_count": null,
      "outputs": []
    },
    {
      "cell_type": "code",
      "execution_count": null,
      "metadata": {
        "id": "U14K3qrhq3LQ"
      },
      "outputs": [],
      "source": [
        "# ある列の平均は、その列だけ取り出して mean() メソッドで簡単に求められる\n",
        "df['Age'].mean()"
      ]
    },
    {
      "cell_type": "code",
      "execution_count": null,
      "metadata": {
        "id": "cEHor12vqqmz"
      },
      "outputs": [],
      "source": [
        "# 複数の列の平均も一度に求められる\n",
        "df[['Age','GMV']].mean()"
      ]
    },
    {
      "cell_type": "code",
      "execution_count": null,
      "metadata": {
        "id": "cULx6m-7rYd-"
      },
      "outputs": [],
      "source": [
        "df.mean()"
      ]
    },
    {
      "cell_type": "code",
      "execution_count": null,
      "metadata": {
        "id": "0ONNmU0zrd6b"
      },
      "outputs": [],
      "source": [
        "df.std()"
      ]
    },
    {
      "cell_type": "code",
      "source": [
        "df.describe()\n"
      ],
      "metadata": {
        "id": "QirYocQP-y2-"
      },
      "execution_count": null,
      "outputs": []
    },
    {
      "cell_type": "code",
      "source": [
        "# 年齢が40歳より上を取り出したい\n",
        "#df[df['Age'] >40]\n",
        "df['Age']>40\n"
      ],
      "metadata": {
        "id": "j3rOIXpL_zNH"
      },
      "execution_count": null,
      "outputs": []
    },
    {
      "cell_type": "code",
      "source": [
        "df[df['Age']>40]"
      ],
      "metadata": {
        "id": "DS9p63U5AUx6"
      },
      "execution_count": null,
      "outputs": []
    },
    {
      "cell_type": "code",
      "execution_count": null,
      "metadata": {
        "id": "mRvQOBrSrfEW"
      },
      "outputs": [],
      "source": [
        "#行を取り出したいときはloc/ilocを使う location based indexer\n",
        "# 2行目を取り出したい時\n",
        "df.iloc[1,:]"
      ]
    },
    {
      "cell_type": "code",
      "execution_count": null,
      "metadata": {
        "id": "DyhWi5VzrojE"
      },
      "outputs": [],
      "source": [
        "# 3行目から5行目を取り出したい\n",
        "df.iloc[2:5,:]"
      ]
    },
    {
      "cell_type": "code",
      "execution_count": null,
      "metadata": {
        "id": "knsYNkfuAcoP"
      },
      "outputs": [],
      "source": [
        "# groupby メソッドで、グループ毎の統計量を簡単に見られる。\n",
        "df.groupby(by='Sex').describe()['Age']"
      ]
    },
    {
      "cell_type": "code",
      "execution_count": null,
      "metadata": {
        "id": "0jPFeXh6BDHx"
      },
      "outputs": [],
      "source": [
        "df.groupby(by=['Sex','Dx']).mean()['ICV']"
      ]
    },
    {
      "cell_type": "code",
      "execution_count": null,
      "metadata": {
        "id": "Yc8Hwu9kCDtk"
      },
      "outputs": [],
      "source": [
        "df.groupby(by=['Sex','Dx']).size()"
      ]
    },
    {
      "cell_type": "code",
      "execution_count": null,
      "metadata": {
        "id": "7t6qvJVNCbWR"
      },
      "outputs": [],
      "source": [
        "sns.set_theme()\n",
        "sns.relplot(\n",
        "    data=df,\n",
        "    x=\"Age\", y=\"GMV\", hue=\"Sex\",style=\"Dx\")"
      ]
    },
    {
      "cell_type": "code",
      "source": [
        "sns.relplot(\n",
        "    data=df,\n",
        "    x=\"Age\", y=\"GMV\", hue=\"Dx\",style=\"Sex\")"
      ],
      "metadata": {
        "id": "pxzSPzWjBnp-"
      },
      "execution_count": null,
      "outputs": []
    },
    {
      "cell_type": "code",
      "source": [
        "df['GMV']+df['WMV']"
      ],
      "metadata": {
        "id": "n3bJsyBsDw94"
      },
      "execution_count": null,
      "outputs": []
    },
    {
      "cell_type": "code",
      "source": [
        "df['TBV']=df['GMV']+df['WMV']"
      ],
      "metadata": {
        "id": "udJHSiNyMaUi"
      },
      "execution_count": null,
      "outputs": []
    },
    {
      "cell_type": "code",
      "source": [
        "df.head()"
      ],
      "metadata": {
        "id": "reDbghgNMgO4"
      },
      "execution_count": null,
      "outputs": []
    },
    {
      "cell_type": "markdown",
      "source": [
        "## Pandasでできることの例\n",
        "- 表を扱う\n",
        "- 表の記述統計量\n",
        "- 表の一部を抽出する\n",
        "- 複数の列の情報から新しい列を生成する\n",
        "- PandasのデータフレームはSeabornでのグラフ作成にそのまま使用できる\n"
      ],
      "metadata": {
        "id": "9qhKHbdnM6Ix"
      }
    },
    {
      "cell_type": "markdown",
      "source": [],
      "metadata": {
        "id": "nDZdV5DZNPpJ"
      }
    }
  ],
  "metadata": {
    "colab": {
      "provenance": []
    },
    "kernelspec": {
      "display_name": "Python 3",
      "name": "python3"
    },
    "language_info": {
      "name": "python"
    }
  },
  "nbformat": 4,
  "nbformat_minor": 0
}