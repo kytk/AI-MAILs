{
  "cells": [
    {
      "cell_type": "markdown",
      "source": [
        "<a href=\"https://colab.research.google.com/github/kytk/AI-MAILs/blob/main/python_3-1_pandas.ipynb?hl=ja\" target=\"_blank\"><img src=\"https://colab.research.google.com/assets/colab-badge.svg\" alt=\"Open In Colab\"/></a>"
      ],
      "metadata": {
        "id": "4p63uaEFW42X"
      }
    },
    {
      "cell_type": "markdown",
      "metadata": {
        "id": "YoSBiFrTqj9e"
      },
      "source": [
        "# AI-MAILs\n",
        "# 脳画像解析のためのPython入門: Pandas で 表を扱い、Seaborn で可視化する\n",
        "Ver.20230811\n"
      ]
    },
    {
      "cell_type": "markdown",
      "metadata": {
        "id": "SUNPeJViyEYm"
      },
      "source": [
        "## 参考にした資料\n",
        "- [Pandas公式ドキュメント(英語)](https://pandas.pydata.org/docs/index.html)\n",
        "- [Seaborn公式ドキュメント(英語)](https://seaborn.pydata.org/tutorial/introduction)\n",
        "\n",
        "## 本日使用したデータ\n",
        "- COBREデータセット http://fcon_1000.projects.nitrc.org/indi/retro/cobre.html\n",
        "- 背景情報は配布されているものそのまま\n",
        "- MRI解析情報は独自で解析したもの"
      ]
    },
    {
      "cell_type": "markdown",
      "metadata": {
        "id": "BO_Iii-JyEYm"
      },
      "source": [
        "## Pandas と Seaborn\n",
        "- Pandas: Pythonでデータ分析およびデータ操作をするためのツール \"Pandas is a fast, powerful, flexible and easy to use open source data analysis and manipulation tool, built on top of the Python programming language.\"\n",
        "- Seaborn: Pythonで統計データを簡便に作成するためのツール \"Seaborn is a library for making statistical graphics in Python.\""
      ]
    },
    {
      "cell_type": "markdown",
      "source": [
        "## Pandasでできることの例\n",
        "- 表を扱う\n",
        "- 表の記述統計量を出力する\n",
        "- 表の一部を抽出する\n",
        "- 複数の列の情報から新しい列を生成する\n",
        "- PandasのデータフレームはSeabornでのグラフ作成にそのまま使用できる\n"
      ],
      "metadata": {
        "id": "fdpa77-DOvha"
      }
    },
    {
      "cell_type": "markdown",
      "metadata": {
        "id": "M2FROO5dyEYn"
      },
      "source": [
        "## PandasとSeabornを使った一例\n",
        "- 2つの表 (被験者の背景情報と被験者のMRI解析結果)から、同じIDがあるものを結合\n",
        "- 背景情報に、性別、年齢、健常者/患者 の情報が、MRI解析結果には灰白質容積、白質容積、脳脊髄液容積の情報があるため、年齢と灰白質容積の散布図を、性別、健常者/被験者、脳脊髄液容積の情報を付加して図示したい\n",
        "- 上記2つが、10行未満で達成できる\n",
        "- 詳細はこの後で説明するので、まずは実行してみる"
      ]
    },
    {
      "cell_type": "code",
      "execution_count": null,
      "metadata": {
        "id": "Wr60skzfyEYn"
      },
      "outputs": [],
      "source": [
        "# pandas と seaborn をインポート\n",
        "import pandas as pd\n",
        "import seaborn as sns\n",
        "\n",
        "# seaborn のテーマを設定\n",
        "sns.set_theme()\n",
        "\n",
        "# 背景情報の CSV を df_demographics として読み込み\n",
        "# MRI解析情報の CSV を df_mri として読み込み\n",
        "![[ -f COBRE_phenotypic_data.csv ]] || wget https://raw.githubusercontent.com/kytk/AI-MAILs/main/COBRE_phenotypic_data.csv\n",
        "![[ -f COBRE_t1.csv ]] || wget https://raw.githubusercontent.com/kytk/AI-MAILs/main/COBRE_t1.csv\n",
        "df_demographics = pd.read_csv('/content/COBRE_phenotypic_data.csv')\n",
        "df_mri = pd.read_csv('/content/COBRE_t1.csv')\n",
        "\n",
        "# df_demographics と df_mri を 'ID' で結合し、df というデータフレームを生成\n",
        "df = pd.merge(df_demographics,df_mri,on='ID')\n",
        "\n",
        "# seaborn で、df を読み込み、x軸に年齢、y軸にGMVを設定し、健常者/患者を色で分け、性別を形で分けて表示\n",
        "# さらに脳脊髄液によってプロットの大きさを変える\n",
        "sns.relplot(df,x='Age',y='GMV',hue='Subject_Type',style='Gender',size='CSF')"
      ]
    },
    {
      "cell_type": "markdown",
      "metadata": {
        "id": "oakypyoGyEYp"
      },
      "source": [
        "## Pandas と Seaborn のインポート\n",
        "- pandas は pd としてインポートされることが多い\n",
        "- seaborn は sns としてインポートされることが多い"
      ]
    },
    {
      "cell_type": "code",
      "execution_count": null,
      "metadata": {
        "id": "IenfZamDpnc5"
      },
      "outputs": [],
      "source": [
        "# pandas は pd としてインポートされることが多い\n",
        "import pandas as pd\n",
        "\n",
        "# seaborn は sns (seaborn name space) としてインポートされることが多い\n",
        "import seaborn as sns"
      ]
    },
    {
      "cell_type": "markdown",
      "metadata": {
        "id": "Oe9brFsjs5Rz"
      },
      "source": [
        "## Google colaboratory でのデータの読み込み\n",
        "- Google colaboratoryで作業をする時、通常は、左にある「ファイル」の下にデータをドラッグ & ドロップする\n",
        "- そうすると、'/content/ファイル名' でアクセスできる\n",
        "- 今は、データをダウンロードして使用する"
      ]
    },
    {
      "cell_type": "code",
      "execution_count": null,
      "metadata": {
        "id": "JmkGrITrtVp7"
      },
      "outputs": [],
      "source": [
        "# 本日使うデータをダウンロードする\n",
        "# ファイル名は COBRE_phenotypic_data.csv と COBRE_t1.csv\n",
        "# ! はPythonからシェルで動かすプログラムを実行したい時につける\n",
        "# [[ -f COBRE_phenotypic_data.csv ]] は、「COBRE_phenotypic_data.csv というファイルがあるか？」というテスト文\n",
        "# || は、戻り値が False ならば…　というコマンド\n",
        "# wget はダウンロードするLinuxのプログラム\n",
        "\n",
        "![[ -f COBRE_phenotypic_data.csv ]] || wget https://raw.githubusercontent.com/kytk/AI-MAILs/main/COBRE_phenotypic_data.csv\n",
        "![[ -f COBRE_t1.csv ]] || wget https://raw.githubusercontent.com/kytk/AI-MAILs/main/COBRE_t1.csv"
      ]
    },
    {
      "cell_type": "markdown",
      "metadata": {
        "id": "M4TXVBpNvegz"
      },
      "source": [
        "## Pandas の用語: 「データフレーム Data Frame」\n",
        "- 一般的な表をイメージすればよい\n",
        "- Pandasでは、ひとつの表を「データフレーム」と呼ぶ\n",
        "- 行: row; 列: column\n",
        "- dataframe という名前を略して、 'df' という変数に代入されることが多い\n",
        "\n",
        "<img src=\"https://www.nemotos.net/nb/img/pandas_01.png\" width=400>\n",
        "図: pandas の公式ドキュメントから引用"
      ]
    },
    {
      "cell_type": "markdown",
      "metadata": {
        "id": "jLzeT1vssiXB"
      },
      "source": [
        "## Pandas へのデータの読み込み\n",
        "- Pandas は、csvファイルやexcelファイルを読み込むことができる\n",
        "- Excelファイルはいくつか追加パッケージが必要なことがあるため、csvファイルがおすすめ\n",
        "- Excel は、`pd.read_excel('excelファイル')` で読み込むことができる\n",
        "- CSVは、`pd.read_csv('csvファイル')` で読み込むことができる\n",
        "- IDなどは、インデックスとして指定すると取り回しが楽になる"
      ]
    },
    {
      "cell_type": "code",
      "execution_count": null,
      "metadata": {
        "id": "pp5cLOsYyEYq"
      },
      "outputs": [],
      "source": [
        "# COBRE_phenotypic_data.csv を df_demographics として読み込み 第0列がインデックス\n",
        "df_demographics = pd.read_csv('/content/COBRE_phenotypic_data.csv',index_col=0)\n",
        "\n",
        "# COBRE_t1.csv を df_mri として読み込み 第0列がインデックス\n",
        "df_mri = pd.read_csv('/content/COBRE_t1.csv',index_col=0)"
      ]
    },
    {
      "cell_type": "markdown",
      "source": [
        "## Pandas のデータの表示\n",
        "- 読み込んだデータフレームを df とすると、最初の5行は df.head() で表示できる\n",
        "- 表の大きさは、df.shape で確認できる"
      ],
      "metadata": {
        "id": "D9xs4wJG0ls1"
      }
    },
    {
      "cell_type": "code",
      "execution_count": null,
      "metadata": {
        "id": "50du2zW2yEYq"
      },
      "outputs": [],
      "source": [
        "# df_demographics の最初の5行を確認\n",
        "df_demographics.head()"
      ]
    },
    {
      "cell_type": "code",
      "execution_count": null,
      "metadata": {
        "id": "HfKt9tzeyEYq"
      },
      "outputs": [],
      "source": [
        "# df_demographics の表の大きさを確認\n",
        "# インデックス(ID)以外は146行5列\n",
        "df_demographics.shape"
      ]
    },
    {
      "cell_type": "code",
      "source": [
        "# df_mri の最初の5行を確認\n",
        "df_mri.head()"
      ],
      "metadata": {
        "id": "HpKCr05C1DoT"
      },
      "execution_count": null,
      "outputs": []
    },
    {
      "cell_type": "code",
      "source": [
        "# df_mri の表の大きさを確認\n",
        "# インデックス(ID)以外は142行3列\n",
        "df_mri.shape"
      ],
      "metadata": {
        "id": "z5l3p7_r1DbI"
      },
      "execution_count": null,
      "outputs": []
    },
    {
      "cell_type": "markdown",
      "source": [
        "## データフレームの結合\n",
        "- データフレームは、pd.merge() 関数を使って結合できる\n",
        "- 共通するキーを `on='キー'` を使って指定する\n",
        "- デフォルトは、共通するキーがある行だけが結合される(内部結合)\n",
        "    - 今の場合、df_demographicsは146行、df_mriは142行なので、142行のみ残る\n"
      ],
      "metadata": {
        "id": "Sebocu5n1rO5"
      }
    },
    {
      "cell_type": "code",
      "execution_count": null,
      "metadata": {
        "id": "_wEJcGrSyEYq"
      },
      "outputs": [],
      "source": [
        "# df_demographics と df_mri を 'ID' キーを使って連結し、df というデータフレームを生成する\n",
        "df = pd.merge(df_demographics, df_mri, on='ID')"
      ]
    },
    {
      "cell_type": "code",
      "execution_count": null,
      "metadata": {
        "id": "sU-HdLKnyEYq"
      },
      "outputs": [],
      "source": [
        "# df の最初の5行だけ表示する\n",
        "df.head()"
      ]
    },
    {
      "cell_type": "code",
      "execution_count": null,
      "metadata": {
        "id": "RHgm38LEyEYr"
      },
      "outputs": [],
      "source": [
        "# df の大きさを確認する\n",
        "# 142行8列\n",
        "# MRI解析情報がないものは結合されない\n",
        "df.shape"
      ]
    },
    {
      "cell_type": "code",
      "source": [
        "# すべてを結合したい場合は、外部結合というものを行う\n",
        "df_all = pd.merge(df_demographics, df_mri, on='ID',how='outer')"
      ],
      "metadata": {
        "id": "fOxNCY7sBqqH"
      },
      "execution_count": null,
      "outputs": []
    },
    {
      "cell_type": "code",
      "source": [
        "# df_all.shape で146行8列となる\n",
        "df_all.shape"
      ],
      "metadata": {
        "id": "icQrTjPECL9c"
      },
      "execution_count": null,
      "outputs": []
    },
    {
      "cell_type": "markdown",
      "source": [
        "## データの記述統計量\n",
        "- Pandasはデータ解析ツールとうたっているだけあり、簡単な記述統計量は簡単に求められる\n"
      ],
      "metadata": {
        "id": "rL5ES_rMCa1p"
      }
    },
    {
      "cell_type": "code",
      "source": [
        "# df.describe() で各項目の記述統計量が求められる\n",
        "# 連続値の n数、平均、標準偏差、最小値、25パーセンタイル、50パーセンタイル、75パーセンタイル、最大値が一覧で出力される\n",
        "df.describe()"
      ],
      "metadata": {
        "id": "PHwh4o8OCpLX"
      },
      "execution_count": null,
      "outputs": []
    },
    {
      "cell_type": "code",
      "source": [
        "# describe() は全部だが、mean(), std(), min(), median(), max() もある\n",
        "# 中央値を求める\n",
        "df.median()"
      ],
      "metadata": {
        "id": "F8RqeNsVKC3N"
      },
      "execution_count": null,
      "outputs": []
    },
    {
      "cell_type": "markdown",
      "source": [
        "- groupby メソッドを使うと、群毎の記述統計量を計算できる"
      ],
      "metadata": {
        "id": "fcd97NLpJLbi"
      }
    },
    {
      "cell_type": "code",
      "source": [
        "# groupby メソッドで、Subject_Typeのグループ毎の平均を計算する\n",
        "df.groupby(by='Subject_Type').mean()"
      ],
      "metadata": {
        "id": "3PFO9gwrJS0z"
      },
      "execution_count": null,
      "outputs": []
    },
    {
      "cell_type": "markdown",
      "source": [
        "## データの抽出\n",
        "- Pandas では、カラム名を使って、データの一部を抽出できる"
      ],
      "metadata": {
        "id": "YpA9rUua3su1"
      }
    },
    {
      "cell_type": "code",
      "source": [
        "# 'GMV' の列だけを抽出したかったら、df['GMV']とする\n",
        "df['GMV']"
      ],
      "metadata": {
        "id": "a4ZYW4y130Gi"
      },
      "execution_count": null,
      "outputs": []
    },
    {
      "cell_type": "code",
      "source": [
        "# 取り出した列だけの平均を求めることもできる\n",
        "df['GMV'].mean()"
      ],
      "metadata": {
        "id": "bVFaAIXlDXYg"
      },
      "execution_count": null,
      "outputs": []
    },
    {
      "cell_type": "markdown",
      "source": [
        "- 複数のカラムを取り出したい時は、カラム名をリストで作成し、それをdf[[リスト]]とする"
      ],
      "metadata": {
        "id": "J6tbH3nq4HBg"
      }
    },
    {
      "cell_type": "code",
      "source": [
        "# Age, Gender, GMV を取り出したい\n",
        "# 考え方として、まず、リストを作成する\n",
        "# そのリストを df[] の中に入れる\n",
        "# ['Age', ’Gender’, 'GMV']\n",
        "df[['Age', 'Gender', 'GMV']]"
      ],
      "metadata": {
        "id": "Wj0o-k8-4Ro8"
      },
      "execution_count": null,
      "outputs": []
    },
    {
      "cell_type": "code",
      "source": [
        "# ここでも同じように平均値を求められる\n",
        "df[['Age', 'Gender', 'GMV']].mean()"
      ],
      "metadata": {
        "id": "brS7ezYGDzoW"
      },
      "execution_count": null,
      "outputs": []
    },
    {
      "cell_type": "markdown",
      "source": [
        "## 練習問題\n",
        "- pandasで複数のカラムを抽出したい時、リストを使うことの意義を感じてもらうために以下を実行してください\n",
        "- 'Age', 'Subject_Type', 'CSF' の3項目を a というリストに代入してください\n",
        "- df[a] を実行してみてください\n"
      ],
      "metadata": {
        "id": "gV3e3q3MPcWF"
      }
    },
    {
      "cell_type": "code",
      "source": [
        "# 'Age' 'Subject_Type' 'CSF' を a というリストに代入\n",
        "a =\n",
        "print(a)"
      ],
      "metadata": {
        "id": "ehjKM2YqQE8q"
      },
      "execution_count": null,
      "outputs": []
    },
    {
      "cell_type": "code",
      "source": [
        "# df[a] を実行\n",
        "df[a]"
      ],
      "metadata": {
        "id": "g5COC7oTQODJ"
      },
      "execution_count": null,
      "outputs": []
    },
    {
      "cell_type": "code",
      "source": [
        "# 回答例\n",
        "a = ['Age', 'Subject_Type', 'CSF']\n",
        "df[a]\n",
        "# a そのものが [] でくくられているので、df[a] は df[['Age', 'Subject_Type', 'CSF']] と同義"
      ],
      "metadata": {
        "id": "ogxu4vtfVJDl"
      },
      "execution_count": null,
      "outputs": []
    },
    {
      "cell_type": "markdown",
      "source": [
        "## 行の抽出\n",
        "- 行を抽出したい場合には、locやilocを使う\n",
        "- loc の後には、取り出したいIDを記載する\n",
        "- iloc の後には、取り出したい行数を記載する"
      ],
      "metadata": {
        "id": "Vfu7VEQ76tX3"
      }
    },
    {
      "cell_type": "code",
      "source": [
        "# loc は 特定のIDの行を取り出せる\n",
        "# ID 40003 を取り出す\n",
        "df.loc[40003]\n"
      ],
      "metadata": {
        "id": "gqJv9X_h6rWz"
      },
      "execution_count": null,
      "outputs": []
    },
    {
      "cell_type": "code",
      "source": [
        "# iloc は 行番号で指定した行を取り出せる\n",
        "# スライシングはPythonの基本と同じ\n",
        "# 最初の行は0行\n",
        "# 3行目から5行目を取り出したい時、0から始まるとすると、戴2行から第4行を取り出すということなので、\n",
        "# 2行以上5行未満と考える\n",
        "df.iloc[2:5]"
      ],
      "metadata": {
        "id": "Ak7PBfkkFaS7"
      },
      "execution_count": null,
      "outputs": []
    },
    {
      "cell_type": "code",
      "source": [
        "# df.head() で最初の5行を表示することで確認\n",
        "df.head()"
      ],
      "metadata": {
        "id": "sbpHNWuBGRJ-"
      },
      "execution_count": null,
      "outputs": []
    },
    {
      "cell_type": "markdown",
      "source": [
        "## 条件抽出\n",
        "- 条件に合致するものだけを抽出することもできる\n",
        "- df['Age']>20 は、年齢が20歳よりも大きい人をTrueかFalseで返す\n",
        "- これを df[] の中にいれることでこの条件に合致する人の一覧を作成できる"
      ],
      "metadata": {
        "id": "CeVGQAB08ZuS"
      }
    },
    {
      "cell_type": "code",
      "source": [
        "# df['Age']>20 は True か False を返す\n",
        "df['Age'] > 20"
      ],
      "metadata": {
        "id": "EKP8UKNU886H"
      },
      "execution_count": null,
      "outputs": []
    },
    {
      "cell_type": "code",
      "source": [
        "# 上記を df の中に入れてあげることで、Trueのものだけ抽出できる\n",
        "df[df['Age'] >20]"
      ],
      "metadata": {
        "id": "pWSHmm2R-oNo"
      },
      "execution_count": null,
      "outputs": []
    },
    {
      "cell_type": "code",
      "source": [
        "# & と | を使うことで、複数条件を作れる\n",
        "# ルール\n",
        "#   &, |, ~ のどれかを使わなければいけない。and, or, notは使えない\n",
        "#  ひとつひとつの条件をそれぞれ () でくくらないといけない\n",
        "\n",
        "# 20歳より大きく健常者\n",
        "(df['Age'] > 20) & (df['Subject_Type'] == 'Control')"
      ],
      "metadata": {
        "id": "BTyQ3404_TiB"
      },
      "execution_count": null,
      "outputs": []
    },
    {
      "cell_type": "code",
      "source": [
        "# この条件をdf[] の中に入れてみる\n",
        "df[(df['Age'] > 20) & (df['Subject_Type'] == 'Control')]"
      ],
      "metadata": {
        "id": "tM6s2LsC_eS6"
      },
      "execution_count": null,
      "outputs": []
    },
    {
      "cell_type": "markdown",
      "source": [
        "## 練習問題\n",
        "- 'Age' が40歳以上 または 'Gender' が 女性 という条件式を作って b に代入してください\n",
        "- df[b] を実行してみてください"
      ],
      "metadata": {
        "id": "_O6TNbExQwHk"
      }
    },
    {
      "cell_type": "code",
      "source": [
        "# 'Age' が40歳以上または 'Gender' が女性\n",
        "# ヒント: 40以上は　 >= 40\n",
        "# ヒント: または　は |\n",
        "b =\n",
        "df[b]"
      ],
      "metadata": {
        "id": "f6Cvai7JRTNl"
      },
      "execution_count": null,
      "outputs": []
    },
    {
      "cell_type": "code",
      "source": [
        "#回答例\n",
        "b = (df['Age'] >= 40) | (df['Gender'] == 'Female')\n",
        "df[b]"
      ],
      "metadata": {
        "id": "FDO7HzaTVwIt"
      },
      "execution_count": null,
      "outputs": []
    },
    {
      "cell_type": "markdown",
      "source": [
        "## 表計算\n",
        "- Pandas では、項目を計算して新たな列を生成することが簡単にできる"
      ],
      "metadata": {
        "id": "gKPVgdiuKlAo"
      }
    },
    {
      "cell_type": "code",
      "execution_count": null,
      "metadata": {
        "id": "lP2N29HVFCFq"
      },
      "outputs": [],
      "source": [
        "# GMV, WMV, CSF を足して新たに 'ICV' という項目を生成する\n",
        "df['ICV'] = df['GMV'] + df['WMV'] + df['CSF']"
      ]
    },
    {
      "cell_type": "code",
      "execution_count": null,
      "metadata": {
        "id": "c8AOpN6oFyMH"
      },
      "outputs": [],
      "source": [
        "# 最後の列に ICV ができていることに着目\n",
        "df.head()"
      ]
    },
    {
      "cell_type": "markdown",
      "source": [
        "## ファイルの書き出し\n",
        "- pandas は csv や excel に簡単に保存できる\n",
        "- メソッド to_ファイルの種類 を使う\n",
        "- df.to_csv('ファイル名')\n",
        "- df.to_excel('ファイル名')\n"
      ],
      "metadata": {
        "id": "ZHgWuyNqLJnV"
      }
    },
    {
      "cell_type": "code",
      "source": [
        "# 今の df を 'COBRE.xlsx' というファイル名で出力する\n",
        "# Google colaboratory の中に生成される。それはダウンロードできる\n",
        "df.to_excel('COBRE.xlsx')"
      ],
      "metadata": {
        "id": "Lc5VxsplLdV6"
      },
      "execution_count": null,
      "outputs": []
    },
    {
      "cell_type": "markdown",
      "source": [
        "## Seaborn での可視化\n",
        "- Seaborn は様々なことができるが、relplot が便利なのでこれを紹介する\n",
        "- これはデータの関係性を図示するものである\n",
        "- 今、年齢と灰白質容積(GMV) の関係を図示したい\n",
        "- そこには性別と病気であるか否かが影響すると考えられるのでそれらを考慮したグラフを作成したい\n",
        "- さらに、CSFの容積も組み入れてみたい"
      ],
      "metadata": {
        "id": "rouvdtdIMHlR"
      }
    },
    {
      "cell_type": "code",
      "execution_count": null,
      "metadata": {
        "id": "hKXGHNxtGkW6"
      },
      "outputs": [],
      "source": [
        "# seaborn のテーマを使うには、次のコマンドを実行する\n",
        "sns.set_theme()"
      ]
    },
    {
      "cell_type": "markdown",
      "source": [
        "- relplot の使い方は比較的簡単\n",
        "```\n",
        "sns.relplot(data=データフレーム,\n",
        "            x=x軸に使いたいカラム,\n",
        "            y=y軸に使いたいカラム,\n",
        "            hue=色を変えたいカラム,\n",
        "            style=グラフのプロットを変えたいカラム\n",
        "            size=プロットの大きさを反映したいカラム)\n",
        "```"
      ],
      "metadata": {
        "id": "lMGVTNetNXYM"
      }
    },
    {
      "cell_type": "code",
      "execution_count": null,
      "metadata": {
        "id": "pqyn85U2FA_C"
      },
      "outputs": [],
      "source": [
        "# 今使うもの\n",
        "# data: df\n",
        "# x軸: 'Age'\n",
        "# y軸: 'GMV'\n",
        "# hue: 'Subject_Type' (ControlかPatientか)\n",
        "# style: 'Gender' (男か女か)\n",
        "# size: 'CSF'\n",
        "sns.relplot(data=df, x=\"Age\", y=\"GMV\",hue=\"Subject_Type\",style=\"Gender\",size=\"CSF\")"
      ]
    },
    {
      "cell_type": "markdown",
      "metadata": {
        "id": "9qhKHbdnM6Ix"
      },
      "source": [
        "## 練習問題\n",
        "- 加齢と脳脊髄液(CSF)容積の関係をプロットしたいと思います。\n",
        "- 上記を参考に以下のようにしてください\n",
        "- data: df\n",
        "- x軸: Age\n",
        "- y軸: CSF\n",
        "- hue: Gender\n",
        "- style: Subject_Type\n",
        "- (sizeは使いません)"
      ]
    },
    {
      "cell_type": "code",
      "source": [
        "#sns.relplot(#ここにパラメータを記載してください)"
      ],
      "metadata": {
        "id": "55MrZJVDTrN8"
      },
      "execution_count": null,
      "outputs": []
    },
    {
      "cell_type": "code",
      "source": [
        "#回答例\n",
        "sns.relplot(data=df, x=\"Age\", y=\"CSF\",hue=\"Gender\",style=\"Subject_Type\",)"
      ],
      "metadata": {
        "id": "rEg7Obp1OrwC"
      },
      "execution_count": null,
      "outputs": []
    },
    {
      "cell_type": "markdown",
      "metadata": {
        "id": "nDZdV5DZNPpJ"
      },
      "source": []
    }
  ],
  "metadata": {
    "colab": {
      "provenance": []
    },
    "kernelspec": {
      "display_name": "Python 3",
      "name": "python3"
    },
    "language_info": {
      "codemirror_mode": {
        "name": "ipython",
        "version": 3
      },
      "file_extension": ".py",
      "mimetype": "text/x-python",
      "name": "python",
      "nbconvert_exporter": "python",
      "pygments_lexer": "ipython3",
      "version": "3.8.10"
    }
  },
  "nbformat": 4,
  "nbformat_minor": 0
}