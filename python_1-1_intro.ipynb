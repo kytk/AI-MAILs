{
 "cells": [
  {
   "attachments": {},
   "cell_type": "markdown",
   "metadata": {},
   "source": [
    "<a href=\"https://colab.research.google.com/github/kytk/AI-MAILs/blob/main/python_1-1_intro.ipynb?hl=ja\" target=\"_blank\"><img src=\"https://colab.research.google.com/assets/colab-badge.svg\" alt=\"Open In Colab\"/></a>"
   ]
  },
  {
   "attachments": {},
   "cell_type": "markdown",
   "metadata": {},
   "source": [
    "# AI-MAILs\n",
    "## 脳画像解析のためのPython入門\n",
    "\n",
    "Ver.20240609"
   ]
  },
  {
   "attachments": {},
   "cell_type": "markdown",
   "metadata": {},
   "source": [
    "## 本セクションの作成に参考にした書籍\n",
    "\n",
    "| 斎藤 康毅 | リブロワークス |\n",
    "| :--: | :--: |\n",
    "| ゼロから作る Deep Learning | スラスラ読める Pythonふりがなプログラミング |\n",
    "| <img src=\"https://www.nemotos.net/nb/img/dl_from_scratch_cover.png\" width=\"100\"> | <img src=\"https://www.nemotos.net/nb/img/surasura.jpg\" width=\"100\"> |"
   ]
  },
  {
   "attachments": {},
   "cell_type": "markdown",
   "metadata": {},
   "source": [
    "## 本セクションの目標\n",
    "- プログラマーとしてではなく、データ解析などを行うユーザーとしてPythonに触れる\n",
    "- Pythonを学ぶにあたり、よく使う用語に慣れる\n",
    "- 関数、メソッドに触れる\n",
    "- データの様々な型を知る。特にリスト型に慣れる\n",
    "- インデックスとスライシングについて理解する"
   ]
  },
  {
   "attachments": {},
   "cell_type": "markdown",
   "metadata": {},
   "source": [
    "## 目次 (は授業で扱う)\n",
    "- A. Pythonとは?\n",
    "- B. なぜPython?\n",
    "- C. Pythonの特徴\n",
    "- D. 算術計算\n",
    "- E. データ型\n",
    "- F. f文字列\n",
    "- G. 変数\n",
    "- H. リスト （配列）\n",
    "- I. タプル\n",
    "- J. ディクショナリ\n",
    "- K. ブーリアン\n",
    "- L. if文による条件分岐\n",
    "- M. 関数 function\n",
    "- N. for文によるループ処理\n",
    "- 練習問題"
   ]
  },
  {
   "attachments": {},
   "cell_type": "markdown",
   "metadata": {},
   "source": [
    "## A. Pythonとは?\n",
    "- プログラミング言語\n",
    "- データサイエンス分野で頻用される\n",
    "- 機械学習や深層学習でもよく用いられる"
   ]
  },
  {
   "attachments": {},
   "cell_type": "markdown",
   "metadata": {},
   "source": [
    "## B. なぜPython?\n",
    "- Pythonそのものは、枠組み、土台というイメージ\n",
    "- 土台のうえに、自分が使いたい「部品」を様々追加していくことで、自分の目的を果たすことができる\n",
    "    - 四則演算よりも複雑な数学の計算を行う (標準ライブラリ: math)\n",
    "    - 表を扱う (外部ライブラリ: pandas)\n",
    "    - 行列を扱う (外部ライブラリ: numpy)\n",
    "    - データ分析や機械学習を行う (外部ライブラリ: scikit-learn)\n",
    "- 機械学習、深層学習を含むデータサイエンス領域においては、ほぼデファクトスタンダードになっている\n",
    "- 言語を比較的習得しやすい\n",
    "- リソースが充実している"
   ]
  },
  {
   "attachments": {},
   "cell_type": "markdown",
   "metadata": {},
   "source": [
    "## C. Pythonの特徴\n",
    "### ライブラリ\n",
    "- 最小限のフレームワークに、「**ライブラリ**」にある「**パッケージ**」を「**インポート**」 することで、機能を拡張していく\n",
    "    - ライブラリは、Pythonに付属している「標準ライブラリ」と、ダウンロードが必要な「外部ライブラリ」に大別される\n",
    "        - イメージ: Pythonは学校、ライブラリは図書館、標準ライブラリにあるパッケージは、図書館に常備されている本、外部ライブラリにあるパッケージは、取り寄せた本\n",
    "    - パッケージの中にある「**モジュール**」を使用する\n",
    "\n",
    "- 概念図 (https://ai-inter1.com/python-module_package_library/ より引用）\n",
    "    <img src=\"https://www.nemotos.net/nb/img/library_01.png\" width=400>\n"
   ]
  },
  {
   "attachments": {},
   "cell_type": "markdown",
   "metadata": {},
   "source": [
    "#### パッケージのインポート方法\n",
    "\n",
    "- `import パッケージ名 as 別名`\n",
    "- `import パッケージ名.モジュール名 as 別名`                    \n",
    "- `from パッケージ名 import パッケージ内のモジュール名 as 別名`\n",
    "\n",
    "- 例\n",
    "    - `import numpy as np`\n",
    "        - 「numpyパッケージ を np という名前でインポートしなさい」\n",
    "        - 以後は、numpyパッケージの様々なモジュールは np.モジュール として使用する\n",
    "    - `import matplotlib.pyplot as plt`\n",
    "        - 「matplotlibのパッケージに入っている pyplot モジュールを plt という名前でインポートしなさい」\n",
    "        - 以後は、plt というコマンドで、pyplotを使用できる\n",
    "    - `from matplotlib import pyplot as plt`\n",
    "        - 「matplotlib のパッケージから、pyplot モジュールを、plt という名前でインポートしなさい」\n",
    "        - 上の `import matplotlib.pyplot as plt` と同義 (pyplotについては前者が使われることが多い)\n",
    "    \n",
    "#### パッケージを見てみる\n",
    "- 外部ライブラリにあるパッケージ、\"matplotlib\" の中身を見てみる\n",
    "\n",
    "- 注: セルの中にある # ではじまるところはコメントとなり、プログラムの実行に関与しない"
   ]
  },
  {
   "cell_type": "code",
   "execution_count": null,
   "metadata": {},
   "outputs": [],
   "source": [
    "# matplotlib をインポート\n",
    "import matplotlib"
   ]
  },
  {
   "cell_type": "code",
   "execution_count": null,
   "metadata": {},
   "outputs": [],
   "source": [
    "# matplotlib にどのようなモジュールが入っているかは help を見ることでわかる\n",
    "help('matplotlib')"
   ]
  },
  {
   "cell_type": "code",
   "execution_count": null,
   "metadata": {},
   "outputs": [],
   "source": [
    "# matplotlibの中のモジュール 'pyplot' の使い方も help で見ることができる\n",
    "help('matplotlib.pyplot')"
   ]
  },
  {
   "cell_type": "code",
   "execution_count": null,
   "metadata": {},
   "outputs": [],
   "source": [
    "# Helpにあるコマンドを実際に実行してみる\n",
    "\n",
    "# Jupyter Notebook内にグラフを表示するには、以下の一文を記す\n",
    "%matplotlib inline \n",
    "\n",
    "import numpy as np\n",
    "import matplotlib.pyplot as plt\n",
    "\n",
    "x = np.arange(0, 5, 0.1)\n",
    "y = np.sin(x)\n",
    "plt.plot(x, y)\n",
    "plt.show()"
   ]
  },
  {
   "cell_type": "markdown",
   "metadata": {},
   "source": [
    "### オブジェクト\n",
    "- Python では、データや関数はすべて「オブジェクト = もの」として扱う\n",
    "- オブジェクトの定義: データを抽象的に表したもの\n",
    "- オブジェクトには3つの要素から構成される\n",
    "    - 同一性、ID (identity)\n",
    "    - 型 (type)\n",
    "    - 値 (value)\n",
    "- 最初はわからなくてもOK。勉強するとじわじわとこの事の意味がわかってくる\n",
    "\n",
    "- IDは `id()` 関数でわかる\n",
    "- 型は `type()` 関数でわかる\n",
    "- 値は `print()` 関数でわかる"
   ]
  },
  {
   "cell_type": "code",
   "execution_count": null,
   "metadata": {},
   "outputs": [],
   "source": [
    "# 「山田太郎」という名前がひとつのオブジェクトとして扱われることを確認する\n",
    "# ID\n",
    "id('山田太郎') #結果は人によって異なる。このIDはメモリ上の位置を指す"
   ]
  },
  {
   "cell_type": "code",
   "execution_count": null,
   "metadata": {},
   "outputs": [],
   "source": [
    "# 型\n",
    "type('山田太郎') # str は文字型という意味(あとで出てくる)"
   ]
  },
  {
   "cell_type": "code",
   "execution_count": null,
   "metadata": {},
   "outputs": [],
   "source": [
    "# 値\n",
    "print('山田太郎')"
   ]
  },
  {
   "attachments": {},
   "cell_type": "markdown",
   "metadata": {},
   "source": [
    "### 関数オブジェクト と 型についているメソッド\n",
    "- Pythonでは、単独で使える「**関数**」に加えて、オブジェクトの型ごとに様々な「**メソッド**」が準備されている\n",
    "- メソッドを使うことで、データ（オブジェクト）に対してなんらかの処理を行うことができる\n",
    "- メソッドは、データの後ろに ドットをつけて記載する"
   ]
  },
  {
   "cell_type": "code",
   "execution_count": null,
   "metadata": {},
   "outputs": [],
   "source": [
    "# \"Python\" という文字列に A というラベルをつけたオブジェクトを生成する (Python という文字列を A という変数に代入する)\n",
    "A = 'Python'"
   ]
  },
  {
   "cell_type": "code",
   "execution_count": null,
   "metadata": {},
   "outputs": [],
   "source": [
    "# type() 関数は、変数（オブジェクト）の型を表示する\n",
    "type(A)"
   ]
  },
  {
   "cell_type": "code",
   "execution_count": null,
   "metadata": {},
   "outputs": [],
   "source": [
    "# print() 関数は、変数（オブジェクト）の値を表示する\n",
    "print(A)"
   ]
  },
  {
   "cell_type": "code",
   "execution_count": null,
   "metadata": {},
   "outputs": [],
   "source": [
    "# len() 関数は、変数（オブジェクト）の長さを表示する\n",
    "len(A)"
   ]
  },
  {
   "cell_type": "code",
   "execution_count": null,
   "metadata": {},
   "outputs": [],
   "source": [
    "# 文字列型のオブジェクトに準備されているメソッドのひとつ、 lower() は、文字列をすべて小文字にする\n",
    "# 大文字は upper()\n",
    "A.lower()"
   ]
  },
  {
   "cell_type": "code",
   "execution_count": null,
   "metadata": {},
   "outputs": [],
   "source": [
    "# 文字列型のオブジェクトに準備されているメソッドのひとつ、 replace() は、特定の文字を別の文字に置換する\n",
    "A.replace('y','Y')"
   ]
  },
  {
   "cell_type": "code",
   "execution_count": null,
   "metadata": {},
   "outputs": [],
   "source": [
    "# input() 関数は、キーボードから入力させることができる\n",
    "month_of_birth = input('あなたの生まれた月は?: ')\n",
    "# キーボードで入力した値が表示される\n",
    "print(month_of_birth)"
   ]
  },
  {
   "attachments": {},
   "cell_type": "markdown",
   "metadata": {},
   "source": [
    "### print() 関数についての注意\n",
    "- Jupyter NotebookやPythonのインタラクティブシェルでは、変数（オブジェクト）だけ入力するとその内容を表示する\n",
    "- さっと確認したい時は便利\n",
    "- しかし、表示されるのはJupyter Notebookでは、ひとつのセル内の最後の1行のみ\n",
    "- print()を使うと、いずれも表示できる\n",
    "- スクリプトを書く際には、画面に出力したい内容は必ず print() で記載する"
   ]
  },
  {
   "cell_type": "code",
   "execution_count": null,
   "metadata": {},
   "outputs": [],
   "source": [
    "# 変数 A と B に値を代入する\n",
    "A = 'Hello'\n",
    "B = 'World'"
   ]
  },
  {
   "cell_type": "code",
   "execution_count": null,
   "metadata": {},
   "outputs": [],
   "source": [
    "# A と B を行を変えて記載すると、最後の行しか表示されない\n",
    "A\n",
    "B"
   ]
  },
  {
   "cell_type": "code",
   "execution_count": null,
   "metadata": {},
   "outputs": [],
   "source": [
    "# print() を使うと表示される\n",
    "print(A)\n",
    "print(B)"
   ]
  },
  {
   "cell_type": "code",
   "execution_count": null,
   "metadata": {},
   "outputs": [],
   "source": [
    "# カンマで区切って1行で表示すると表示できる\n",
    "A, B"
   ]
  },
  {
   "cell_type": "code",
   "execution_count": null,
   "metadata": {},
   "outputs": [],
   "source": [
    "# print()関数内でも、カンマで区切って表示することができる\n",
    "print(A, B)"
   ]
  },
  {
   "attachments": {},
   "cell_type": "markdown",
   "metadata": {},
   "source": [
    "## D. 算術計算\n",
    "- 四則演算は以下のように行う\n",
    "    - 足し算: + \n",
    "    - 引き算: -\n",
    "    - 掛け算: *\n",
    "    - 割り算: /\n",
    "    - 累乗: **\n",
    "    - 割り算の商: //\n",
    "    - 割り算の余り: %"
   ]
  },
  {
   "cell_type": "code",
   "execution_count": null,
   "metadata": {},
   "outputs": [],
   "source": [
    "# 2の10乗\n",
    "2 ** 10"
   ]
  },
  {
   "cell_type": "code",
   "execution_count": null,
   "metadata": {},
   "outputs": [],
   "source": [
    "# 15を7で割った時の商\n",
    "15 // 7"
   ]
  },
  {
   "cell_type": "code",
   "execution_count": null,
   "metadata": {},
   "outputs": [],
   "source": [
    "# 256を7で割った時の余り\n",
    "# 余りは条件分岐でよく使用する\n",
    "# 4の倍数→4で割った余りが0\n",
    "256 % 7"
   ]
  },
  {
   "attachments": {},
   "cell_type": "markdown",
   "metadata": {},
   "source": [
    "## E. 型\n",
    "- Pythonではオブジェクトの性質を表す様々な「型」が準備されている。それぞれの型に対してメソッドが準備されている\n",
    "- 型は、type() 関数を使うことで知ることができる"
   ]
  },
  {
   "cell_type": "code",
   "execution_count": null,
   "metadata": {},
   "outputs": [],
   "source": [
    "# 整数は int型 (integer: 整数)\n",
    "print(type(10))"
   ]
  },
  {
   "cell_type": "code",
   "execution_count": null,
   "metadata": {},
   "outputs": [],
   "source": [
    "# 小数は float型 (floating point number: 浮動小数点数)\n",
    "print(type(3.14))"
   ]
  },
  {
   "cell_type": "code",
   "execution_count": null,
   "metadata": {},
   "outputs": [],
   "source": [
    "# 文字列は str型 (string: 文字列)\n",
    "print(type('Hello'))"
   ]
  },
  {
   "attachments": {},
   "cell_type": "markdown",
   "metadata": {},
   "source": [
    "- 文字列は、\"+\" で結合できる。\n"
   ]
  },
  {
   "cell_type": "code",
   "execution_count": null,
   "metadata": {},
   "outputs": [],
   "source": [
    "# MRI という文字列を str1 に代入\n",
    "str1 = 'MRI'"
   ]
  },
  {
   "cell_type": "code",
   "execution_count": null,
   "metadata": {},
   "outputs": [],
   "source": [
    "# functional という単語と str1 を結合\n",
    "print('functional ' + str1)"
   ]
  },
  {
   "cell_type": "markdown",
   "metadata": {},
   "source": [
    "- 異なる型を \"+\" で結合することはできない。\n",
    "- しかし、型は、オブジェクトを変換したい型でくくることにより簡単に変換できる"
   ]
  },
  {
   "cell_type": "code",
   "execution_count": null,
   "metadata": {},
   "outputs": [],
   "source": [
    "# 試験の点数を自動で「あなたの点数は◯点でした」と表示したい\n",
    "score = 85\n",
    "\n",
    "# 下のコマンドはうまく動かない。文字列は str型、scoreはint型だから。\n",
    "print('あなたの点数は' + score + '点でした')"
   ]
  },
  {
   "cell_type": "markdown",
   "metadata": {},
   "source": [
    "- errorの内容に着目\n",
    "TypeError: can only concatenate str (not \"int\") to str\n",
    "\n",
    "concatenate は「結合する」という意味\n",
    "str は str にだけ結合できる。intには結合できないと教えてくれている"
   ]
  },
  {
   "cell_type": "code",
   "execution_count": null,
   "metadata": {},
   "outputs": [],
   "source": [
    "# scoreを str(score) とすると、str型に簡単に変換できる\n",
    "print('あなたの点数は' + str(score) + '点でした')"
   ]
  },
  {
   "cell_type": "markdown",
   "metadata": {},
   "source": [
    "## F. f文字列\n",
    "- Python3.6以降では、文字列を表示する時に、f文字列 (f-string) を使うことが推奨されるようになった\n",
    "- f文字列では変数を {} でくくるだけでよいため、型の変換が不要となる"
   ]
  },
  {
   "cell_type": "code",
   "execution_count": null,
   "metadata": {},
   "outputs": [],
   "source": [
    "# 試験の点数を自動で「あなたの点数は◯点でした」と表示したい\n",
    "score = 85\n",
    "\n",
    "# f文字列では、変数は {} でくくるだけ\n",
    "print(f'あなたの点数は{score}点でした')"
   ]
  },
  {
   "attachments": {},
   "cell_type": "markdown",
   "metadata": {},
   "source": [
    "## G. 変数\n",
    "- x や y などのアルファベットを使って「**変数**」を定義できる。変数は、= を使って値を代入する\n",
    "    - プログラミング言語では、**= は等式ではなく、代入の記号である**ことに注意\n",
    "- 変数の型は、変数に代入される値に応じて自動で設定される\n",
    "- Pythonでは、一行で複数の変数を代入することができる"
   ]
  },
  {
   "cell_type": "code",
   "execution_count": null,
   "metadata": {},
   "outputs": [],
   "source": [
    "# x に 100, y に 3.14 を代入する\n",
    "x, y = 100, 3.14\n",
    "\n",
    "# x * y を z に代入する\n",
    "z = x * y"
   ]
  },
  {
   "cell_type": "code",
   "execution_count": null,
   "metadata": {},
   "outputs": [],
   "source": [
    "# zの内容を表示する\n",
    "# 変数だけをタイプするとその変数の内容が表示される\n",
    "# 整数型 int に 浮動小数点型 float をかけると、float になる\n",
    "z"
   ]
  },
  {
   "cell_type": "code",
   "execution_count": null,
   "metadata": {},
   "outputs": [],
   "source": [
    "# z のデータ型を確認する\n",
    "# print() を使わないと、型のみ表示される\n",
    "type(z)"
   ]
  },
  {
   "cell_type": "code",
   "execution_count": null,
   "metadata": {},
   "outputs": [],
   "source": [
    "# プログラミング言語の多くは、ある変数に作業をしたものを、同じ変数に代入するということができる\n",
    "# x に 50 を足したものを 新たな x とする\n",
    "# = は等号ではなく、代入の記号であることに注意！\n",
    "x = x + 50\n",
    "print(x) # もともと xは100だったので、今、xは150になっているはず\n",
    "\n",
    "# 同じことを以下の表示でも行える\n",
    "\n",
    "x += 50 # x = x + 50 と同義　これを「加算代入」という\n",
    "print(x) # 200 になっているはず"
   ]
  },
  {
   "attachments": {},
   "cell_type": "markdown",
   "metadata": {},
   "source": [
    "## H. リスト型\n",
    "- Pythonでは、変数に単一の数値だけでなく、リストとしてデータをまとめることができる\n",
    "- リスト型は、[ ] を使って記載する\n",
    "- Pythonでは、複数の要素を記載する際は必ずカンマを利用する\n",
    "- リスト型は、あらゆるところで出てくるので、これに慣れておくことは大事"
   ]
  },
  {
   "cell_type": "code",
   "execution_count": null,
   "metadata": {},
   "outputs": [],
   "source": [
    "# リストの作成\n",
    "a = [1, 2, 3, 4, 5]"
   ]
  },
  {
   "cell_type": "code",
   "execution_count": null,
   "metadata": {},
   "outputs": [],
   "source": [
    "# リストを表示する\n",
    "a"
   ]
  },
  {
   "cell_type": "code",
   "execution_count": null,
   "metadata": {},
   "outputs": [],
   "source": [
    "# type() 関数を使って型を確認する\n",
    "type(a)"
   ]
  },
  {
   "cell_type": "code",
   "execution_count": null,
   "metadata": {},
   "outputs": [],
   "source": [
    "# len() 関数を使って、リストの要素数を表示する\n",
    "len(a)"
   ]
  },
  {
   "cell_type": "code",
   "execution_count": null,
   "metadata": {},
   "outputs": [],
   "source": [
    "# appendメソッド を使うと、リストに値を追加できる\n",
    "a.append(6) # リストに6を追加\n",
    "print(a)"
   ]
  },
  {
   "attachments": {},
   "cell_type": "markdown",
   "metadata": {},
   "source": [
    "### インデックス\n",
    "- リストの要素にアクセスするには、インデックスを使用する\n",
    "- Pythonでは、**インデックスは 0 から始まる**\n",
    "- `a[1]` は、リスト a の2番めの要素を意味する\n",
    "- インデックス -1 は、最後の値を示す\n",
    "- インデックスを使用すると、個別に要素を変更できる。このように要素を変更できることを「**ミュータブル**」という"
   ]
  },
  {
   "cell_type": "code",
   "execution_count": null,
   "metadata": {},
   "outputs": [],
   "source": [
    "a[1]"
   ]
  },
  {
   "cell_type": "code",
   "execution_count": null,
   "metadata": {},
   "outputs": [],
   "source": [
    "# a[-1] は、今の場合、a[5] と同じ意味\n",
    "a[-1]"
   ]
  },
  {
   "cell_type": "code",
   "execution_count": null,
   "metadata": {},
   "outputs": [],
   "source": [
    "# リストa の5番目の要素を99に変更する\n",
    "a[4] = 99"
   ]
  },
  {
   "cell_type": "code",
   "execution_count": null,
   "metadata": {},
   "outputs": [],
   "source": [
    "# a を表示する\n",
    "print(a)"
   ]
  },
  {
   "attachments": {},
   "cell_type": "markdown",
   "metadata": {},
   "source": [
    "### スライシング\n",
    "- Pythonでは、スライシングという方法を使って、リストの中の複数の値を取り出すことができる\n",
    "- スライシングは[最初のインデックス:最後のインデックス]のように表現し、その間の要素が表示される\n",
    "- スライシングは以下のように、インデックスを見るとわかりやすい\n",
    "\n",
    "```\n",
    "       | n | e | u | r | o | n | \n",
    "       +   +   +   +   +   +   + \n",
    "index  0   1   2   3   4   5   6    \n",
    "      -6  -5  -4  -3  -2  -1    　\n",
    " ```\n",
    " \n",
    " - [0:3] はインデックス0**以上**3**未満**と覚えるのもひとつ"
   ]
  },
  {
   "cell_type": "code",
   "execution_count": null,
   "metadata": {},
   "outputs": [],
   "source": [
    "# n e u r o n をリストとして変数 b に代入\n",
    "b = ['n', 'e', 'u', 'r', 'o', 'n']\n",
    "# bを表示\n",
    "b"
   ]
  },
  {
   "cell_type": "code",
   "execution_count": null,
   "metadata": {},
   "outputs": [],
   "source": [
    "# b[0:2] は、インデックス0とインデックス2の間にある要素が表示される\n",
    "# インデックス0以上2未満と考えると0と1\n",
    "# 今の場合は n と e になる\n",
    "b[0:2]"
   ]
  },
  {
   "cell_type": "code",
   "execution_count": null,
   "metadata": {},
   "outputs": [],
   "source": [
    "# b[1:] のように、最初のインデックスだけ指定すると、そこから最後まで表示される\n",
    "# 今の場合は e u r o n となる\n",
    "b[1:]"
   ]
  },
  {
   "cell_type": "code",
   "execution_count": null,
   "metadata": {},
   "outputs": [],
   "source": [
    "# b[:3] のように、最後のインデックスだけ指定すると、最初からそのインデックスの前まで表示される\n",
    "# インデックスが3未満なので 0, 1, 2 の3つ\n",
    "# 今の場合は n e u となる\n",
    "b[:3]"
   ]
  },
  {
   "cell_type": "code",
   "execution_count": null,
   "metadata": {},
   "outputs": [],
   "source": [
    "# b[:-1] は、今の場合は、b[:5] と同義\n",
    "b[:-1]"
   ]
  },
  {
   "cell_type": "code",
   "execution_count": null,
   "metadata": {},
   "outputs": [],
   "source": [
    "# b[:-2] は、今の場合は、b[:4] と同義\n",
    "b[:-2]"
   ]
  },
  {
   "attachments": {},
   "cell_type": "markdown",
   "metadata": {},
   "source": [
    "- 以上のスライシングは、str型に対しても行うことができる\n",
    "- 文字列の一部を抜き出したい時などに便利である"
   ]
  },
  {
   "cell_type": "code",
   "execution_count": null,
   "metadata": {},
   "outputs": [],
   "source": [
    "# 文字列として neuron を 変数 c に代入\n",
    "c = 'neuron'\n",
    "# 変数 c　のインデックス0以上3未満、すなわち0,1,2を表示\n",
    "c[0:3]"
   ]
  },
  {
   "attachments": {},
   "cell_type": "markdown",
   "metadata": {},
   "source": [
    "### ミニテスト\n",
    "- Python3.0は2008年12月3日にリリースされました。\n",
    "- 変数 py3date に 2008-12-03 という値が入っています。ここから、インデックスを使って変数 year, month, day を作ってください"
   ]
  },
  {
   "cell_type": "code",
   "execution_count": null,
   "metadata": {},
   "outputs": [],
   "source": [
    "date = '2008-12-03'\n",
    "### 以下に解答を書いてください\n",
    "year = \n",
    "month = \n",
    "day = "
   ]
  },
  {
   "cell_type": "code",
   "execution_count": null,
   "metadata": {},
   "outputs": [],
   "source": [
    "# 2008 12 03 となったら正解\n",
    "print(year, month, day)"
   ]
  },
  {
   "cell_type": "code",
   "execution_count": null,
   "metadata": {},
   "outputs": [],
   "source": [
    "# 正解\n",
    "py3date = '2008-12-03'\n",
    "# 2008-12-03 の year は4文字なので、インデックスは 0-3 0以上4未満となる\n",
    "year = py3date[0:4]\n",
    "# month のインデックスは、5と6なので、5以上7未満となる\n",
    "month = py3date[5:7]\n",
    "# date のインデックスは、8と9なので、8以上10未満となる\n",
    "day = py3date[8:10]\n",
    "\n",
    "print(year, month, day)"
   ]
  },
  {
   "attachments": {},
   "cell_type": "markdown",
   "metadata": {},
   "source": [
    "## I. タプル型\n",
    "- タプル型はリスト型とほとんど同じだがひとつ異なる\n",
    "- タプル型はミュータブルではない。つまり、タプルの要素も、要素の数も変更不可能\n",
    "- 値を変更したくない場合などに有用\n",
    "- タプルは ( ) を使って記載する"
   ]
  },
  {
   "cell_type": "code",
   "execution_count": null,
   "metadata": {},
   "outputs": [],
   "source": [
    "# 変数 a をタプルとして設定\n",
    "a = (1, 2, 3, 4, 5)"
   ]
  },
  {
   "cell_type": "code",
   "execution_count": null,
   "metadata": {},
   "outputs": [],
   "source": [
    "# タプルはリストと同様、インデックスを指定して取り出せる\n",
    "# インデックスは [] で指定する\n",
    "a[0]"
   ]
  },
  {
   "cell_type": "code",
   "execution_count": null,
   "metadata": {},
   "outputs": [],
   "source": [
    "# タプルは要素の内容を変更できない\n",
    "# 以下はエラーとなる\n",
    "a[4] = 99"
   ]
  },
  {
   "attachments": {},
   "cell_type": "markdown",
   "metadata": {},
   "source": [
    "## J. 辞書型\n",
    "- 辞書型は「**キー**」と「**値**」をペアにしてデータを格納する\n",
    "- 値は数値だけでなく、文字列なども格納できる\n",
    "- 辞書は、{キー:値} のように代入する\n",
    "- `変数名['キー']` で値を取り出すことができる"
   ]
  },
  {
   "cell_type": "code",
   "execution_count": null,
   "metadata": {},
   "outputs": [],
   "source": [
    "# 変数 liver_func に AST = 30, ALT = 38 を登録する\n",
    "liver_func = {'AST':30, 'ALT':38}"
   ]
  },
  {
   "cell_type": "code",
   "execution_count": null,
   "metadata": {},
   "outputs": [],
   "source": [
    "# 変数 liver_func の型を type() 関数で確認する\n",
    "print(type(liver_func))"
   ]
  },
  {
   "cell_type": "code",
   "execution_count": null,
   "metadata": {},
   "outputs": [],
   "source": [
    "# キー TR の値を抽出する\n",
    "liver_func['AST']"
   ]
  },
  {
   "cell_type": "code",
   "execution_count": null,
   "metadata": {},
   "outputs": [],
   "source": [
    "# キーと値のペアを追加する\n",
    "# γGTP 60　を追加する\n",
    "liver_func['gGTP'] = 60"
   ]
  },
  {
   "cell_type": "code",
   "execution_count": null,
   "metadata": {},
   "outputs": [],
   "source": [
    "# 追加されたかどうかを確認する\n",
    "liver_func"
   ]
  },
  {
   "cell_type": "code",
   "execution_count": null,
   "metadata": {},
   "outputs": [],
   "source": [
    "# キーと値の一覧は、メソッド items() で取得できる\n",
    "liver_func.items()"
   ]
  },
  {
   "cell_type": "code",
   "execution_count": null,
   "metadata": {},
   "outputs": [],
   "source": [
    "#キー一覧は、メソッド keys() で取得できる\n",
    "liver_func.keys()"
   ]
  },
  {
   "cell_type": "code",
   "execution_count": null,
   "metadata": {},
   "outputs": [],
   "source": [
    "#値一覧は、メソッド values() で取得できる\n",
    "liver_func.values()"
   ]
  },
  {
   "attachments": {},
   "cell_type": "markdown",
   "metadata": {},
   "source": [
    "## K. ブーリアン\n",
    "- ブーリアンは True と False をとる特殊な型。bool型と言われる\n",
    "- bool型は、and, or, not が使える"
   ]
  },
  {
   "cell_type": "code",
   "execution_count": null,
   "metadata": {},
   "outputs": [],
   "source": [
    "MRI = True   # MRIは撮像した\n",
    "SPECT = False  # SPECTは撮像していない"
   ]
  },
  {
   "cell_type": "code",
   "execution_count": null,
   "metadata": {},
   "outputs": [],
   "source": [
    "# 型は bool型\n",
    "print(type(MRI))"
   ]
  },
  {
   "cell_type": "code",
   "execution_count": null,
   "metadata": {},
   "outputs": [],
   "source": [
    "# True の反対は False\n",
    "print(not MRI)"
   ]
  },
  {
   "cell_type": "code",
   "execution_count": null,
   "metadata": {},
   "outputs": [],
   "source": [
    "# and はどちらも True のときだけ True\n",
    "print(MRI and SPECT)"
   ]
  },
  {
   "cell_type": "code",
   "execution_count": null,
   "metadata": {},
   "outputs": [],
   "source": [
    "# or はどちらかが True ならば True (両方 True でも True)\n",
    "print(MRI or SPECT)"
   ]
  },
  {
   "attachments": {},
   "cell_type": "markdown",
   "metadata": {},
   "source": [
    "## L. if文による条件分岐\n",
    "- 条件に応じて分岐するには、ifを使う\n",
    "- 書式は以下\n",
    "\n",
    "```\n",
    "if 条件1:\n",
    "    条件1が真の時のブロック文1\n",
    "elif 条件2:\n",
    "    条件2が真の時のブロック文2\n",
    "else:\n",
    "    条件が偽の時のブロック文3\n",
    "```\n",
    "\n",
    "- 条件の最後に必ず `:` をつける\n",
    "- 条件の後のブロック文には、必ずインデント(半角スペース4文字もしくは2文字)を入れる\n",
    "    - インデント: 文章の行頭に空白を挿入して先頭の文字を右にずらすこと"
   ]
  },
  {
   "cell_type": "code",
   "execution_count": null,
   "metadata": {},
   "outputs": [],
   "source": [
    "# 条件によって成績をつけるプログラム\n",
    "# 80点以上はA, 70点以上はB, 60点以上はC, それ以外はD\n",
    "# print文は format() メソッドを使うと上手に表示できる\n",
    "\n",
    "score = 75\n",
    "\n",
    "if score >= 80:\n",
    "    grade = 'A'\n",
    "elif score >= 70:\n",
    "    grade = 'B'\n",
    "elif score >= 60:\n",
    "    grade = 'C'\n",
    "else:\n",
    "    grade = 'D'\n",
    "print(f'あなたの成績は {grade} です')"
   ]
  },
  {
   "attachments": {},
   "cell_type": "markdown",
   "metadata": {},
   "source": [
    "## M. 関数 function\n",
    "- 上記の内容は その都度、`score = 75` を書き換えないといけない\n",
    "- このような時、関数を定義することができる\n",
    "- 関数は英語では function というように、「機能」\n",
    "- ここでの関数は、「自分の行いたい機能を実装する」というような意味として考えるとよい\n",
    "- `def 自作関数名(引数):` の後に行いたい処理を記載すれば関数となる\n",
    "- return で関数の戻り値を指定する\n",
    "- なお、関数の中で定義する変数は、関数の外では使うことはできない"
   ]
  },
  {
   "cell_type": "code",
   "execution_count": null,
   "metadata": {},
   "outputs": [],
   "source": [
    "def grading(score):\n",
    "    # スコアによって成績を変数 g に代入\n",
    "    if score >= 80:\n",
    "        g = 'A'\n",
    "    elif score >= 70:\n",
    "        g = 'B'\n",
    "    elif score >= 60:\n",
    "        g = 'C'\n",
    "    else:\n",
    "        g = 'D'\n",
    "    # return g によってこの関数を実行すると、変数 g が戻り値となる\n",
    "    return g\n",
    "\n",
    "def display_grade(grade):\n",
    "    # 表示だけがメインの関数ならば戻り値は必要ないので、return は不要\n",
    "    print(f'あなたの成績は {grade} です')\n",
    "    "
   ]
  },
  {
   "cell_type": "code",
   "execution_count": null,
   "metadata": {
    "scrolled": true
   },
   "outputs": [],
   "source": [
    "# 自作のgrading関数の戻り値を変数 grade に代入する\n",
    "s = int(input('得点は?: '))\n",
    "grade = grading(s)"
   ]
  },
  {
   "cell_type": "code",
   "execution_count": null,
   "metadata": {},
   "outputs": [],
   "source": [
    "# 変数 grade の内容を表示\n",
    "print(grade)"
   ]
  },
  {
   "cell_type": "code",
   "execution_count": null,
   "metadata": {},
   "outputs": [],
   "source": [
    "# この結果を自作の dispaly_grade 関数に代入する\n",
    "display_grade(grade)"
   ]
  },
  {
   "cell_type": "code",
   "execution_count": null,
   "metadata": {},
   "outputs": [],
   "source": [
    "# 関数を組み合わせれば一行で表現可能\n",
    "s = int(input('得点は?: '))\n",
    "display_grade(grading(s))"
   ]
  },
  {
   "attachments": {},
   "cell_type": "markdown",
   "metadata": {},
   "source": [
    "## N. for文によるループ処理\n",
    "- Pythonでは様々な方法を使ってループ処理をすることができる\n",
    "    - range() 関数を使った一定回数の繰り返し\n",
    "    - リストを使ったリストの要素に対する繰り返し\n",
    "    - ディクショナリを使ったディクショナリの要素に対する繰り返し\n",
    "- 書式は以下\n",
    "\n",
    "```\n",
    "for 変数 in range/リスト/ディクショナリ:\n",
    "    ブロック文\n",
    "```"
   ]
  },
  {
   "cell_type": "code",
   "execution_count": null,
   "metadata": {},
   "outputs": [],
   "source": [
    "# range() 関数を使った一定回数の繰り返し\n",
    "# range(5) は 0,1,2,3,4 と同じ 「0以上5未満」\n",
    "# formatメソッドを使うと、int型をstr型に変えるといった煩わしさがなくなる\n",
    "\n",
    "for i in range(5):\n",
    "    print(f'Hello World {i}')\n",
    "    "
   ]
  },
  {
   "cell_type": "code",
   "execution_count": null,
   "metadata": {},
   "outputs": [],
   "source": [
    "# リストを使った繰り返し\n",
    "# テストの結果を リスト result に代入し、\n",
    "# 先程定義した display_grade(grading()) にループで代入する\n",
    "\n",
    "result = [95, 76, 56, 92, 62, 65, 74]\n",
    "\n",
    "for i in result:\n",
    "    display_grade(grading(i))"
   ]
  },
  {
   "cell_type": "code",
   "execution_count": null,
   "metadata": {},
   "outputs": [],
   "source": [
    "# ディクショナリを使った繰り返し\n",
    "# 先程使った liver_func の情報を出力する\n",
    "\n",
    "for key, value in liver_func.items():\n",
    "    print(f'{key} is {value}')"
   ]
  },
  {
   "attachments": {},
   "cell_type": "markdown",
   "metadata": {},
   "source": [
    "## 練習問題\n",
    "- あなたは神経性やせ症の患者さんの受け持ちになりました。毎週、BMIを計算して指導医に報告する必要があります。\n",
    "\n",
    "- 以下を行ってください。\n",
    "    - def を使って、身長(cm) と 体重(kg) が与えられた時に、BMIを算出する関数 calc_bmi を定義してください。\n",
    "        - return に b を指定してください\n",
    "        - BMI は 体重(kg) / (身長(m)の2乗) で求められます\n",
    "\n",
    "- input 関数を使って、身長を cm で入力させ、プログラムで m に変換させてください\n",
    "- 同様に input 関数を使って、体重を kg で入力させてください\n",
    "- 「BMIは ○○ です」と表示させてください\n"
   ]
  },
  {
   "cell_type": "code",
   "execution_count": null,
   "metadata": {},
   "outputs": [],
   "source": [
    "# ヒント\n",
    "# 関数の定義\n",
    "#   def calc_bmi(ht,bw):  で、身長と体重からBMIを求める関数を定義します\n",
    "#   BMIを bmi とすると、bmi = bw / (ht ** 2) と表示されます\n",
    "# \n",
    "\n",
    "#### 以下に関数 calc_bmi を3行で記載してください ####\n",
    "def \n",
    "  \n",
    "  \n",
    "#### 関数ここまで ##############\n",
    "\n",
    "\n",
    "# 以下で、身長と体重をキーボードから入力できるようにしてください\n",
    "# 以下のように表示しましょう。\n",
    "# 身長をcmで入力してください:\n",
    "# 体重をkgで入力してください:\n",
    "ht = input()\n",
    "bw = input()\n",
    "\n",
    "# 以下で、ht と bw を float に変換し、htは cm → m に変換してください\n",
    "ht = \n",
    "bw = \n",
    "\n",
    "# 以下で、 bmi を算出し、BMIを表示してください。\n",
    "bmi = \n",
    "print()    \n",
    "#################################\n",
    "\n"
   ]
  },
  {
   "cell_type": "code",
   "execution_count": null,
   "metadata": {},
   "outputs": [],
   "source": [
    "# 正解例\n",
    "\n",
    "#### 以下に関数 calc_bmi を3行で記載してください ####\n",
    "def calc_bmi(ht, bw):\n",
    "    bmi = bw / (ht ** 2)\n",
    "    return bmi\n",
    "#### 関数ここまで ##############\n",
    "\n",
    "# 以下で、身長と体重をキーボードから入力できるようにしてください\n",
    "# 以下のように表示しましょう。\n",
    "# 身長をcmで入力してください:\n",
    "# 体重をkgで入力してください:\n",
    "ht = input('身長をcmで入力してください:')\n",
    "bw = input('体重をkgで入力してください:')\n",
    "\n",
    "# 以下で、ht と bw を float に変換し、htは cm → m に変換してください\n",
    "ht = float(ht)/100\n",
    "bw = float(bw)\n",
    "\n",
    "# 以下で、 bmi を算出し、BMIを表示してください。\n",
    "bmi = calc_bmi(ht, bw)\n",
    "print(f'BMIは{bmi}です')    \n",
    "#################################"
   ]
  }
 ],
 "metadata": {
  "kernelspec": {
   "display_name": "Python 3 (ipykernel)",
   "language": "python",
   "name": "python3"
  },
  "language_info": {
   "codemirror_mode": {
    "name": "ipython",
    "version": 3
   },
   "file_extension": ".py",
   "mimetype": "text/x-python",
   "name": "python",
   "nbconvert_exporter": "python",
   "pygments_lexer": "ipython3",
   "version": "3.10.12"
  }
 },
 "nbformat": 4,
 "nbformat_minor": 4
}
